{
 "cells": [
  {
   "cell_type": "code",
   "execution_count": 1,
   "metadata": {},
   "outputs": [],
   "source": [
    "import pandas as pd\n",
    "import numpy as np\n",
    "import ast\n",
    "import matplotlib.pyplot as plt\n",
    "import plotly.express as px\n",
    "import plotly.graph_objects as go\n",
    "from scipy.stats import pearsonr, ttest_rel\n"
   ]
  },
  {
   "cell_type": "code",
   "execution_count": 2,
   "metadata": {},
   "outputs": [
    {
     "data": {
      "text/html": [
       "<div>\n",
       "<style scoped>\n",
       "    .dataframe tbody tr th:only-of-type {\n",
       "        vertical-align: middle;\n",
       "    }\n",
       "\n",
       "    .dataframe tbody tr th {\n",
       "        vertical-align: top;\n",
       "    }\n",
       "\n",
       "    .dataframe thead th {\n",
       "        text-align: right;\n",
       "    }\n",
       "</style>\n",
       "<table border=\"1\" class=\"dataframe\">\n",
       "  <thead>\n",
       "    <tr style=\"text-align: right;\">\n",
       "      <th></th>\n",
       "      <th>index</th>\n",
       "      <th>project_name</th>\n",
       "      <th>votes</th>\n",
       "      <th>number_of_votes</th>\n",
       "      <th>base_vote</th>\n",
       "      <th>base_vote_round</th>\n",
       "      <th>median</th>\n",
       "      <th>mean</th>\n",
       "    </tr>\n",
       "  </thead>\n",
       "  <tbody>\n",
       "    <tr>\n",
       "      <th>0</th>\n",
       "      <td>11</td>\n",
       "      <td>AW House/Komorebi's Hacker House</td>\n",
       "      <td>[77000.0, 77000.0, 50000.0, 4000000.0, 50000.0...</td>\n",
       "      <td>46</td>\n",
       "      <td>76923.0</td>\n",
       "      <td>77000.0</td>\n",
       "      <td>77000.0</td>\n",
       "      <td>239371.739130</td>\n",
       "    </tr>\n",
       "    <tr>\n",
       "      <th>1</th>\n",
       "      <td>14</td>\n",
       "      <td>Across Protocol</td>\n",
       "      <td>[50000.0, 25000.0, 39000.0, 200000.0, 32000.0,...</td>\n",
       "      <td>42</td>\n",
       "      <td>38462.0</td>\n",
       "      <td>39000.0</td>\n",
       "      <td>39000.0</td>\n",
       "      <td>105635.714286</td>\n",
       "    </tr>\n",
       "    <tr>\n",
       "      <th>2</th>\n",
       "      <td>16</td>\n",
       "      <td>Aerodrome Finance</td>\n",
       "      <td>[100000.0, 100000.0, 25000.0, 25000.0, 50000.0...</td>\n",
       "      <td>51</td>\n",
       "      <td>615385.0</td>\n",
       "      <td>620000.0</td>\n",
       "      <td>110000.0</td>\n",
       "      <td>428627.450980</td>\n",
       "    </tr>\n",
       "    <tr>\n",
       "      <th>3</th>\n",
       "      <td>19</td>\n",
       "      <td>Airstack</td>\n",
       "      <td>[77000.0, 150000.0, 77000.0, 25000.0, 10000.0,...</td>\n",
       "      <td>34</td>\n",
       "      <td>76923.0</td>\n",
       "      <td>77000.0</td>\n",
       "      <td>48500.0</td>\n",
       "      <td>47794.117647</td>\n",
       "    </tr>\n",
       "    <tr>\n",
       "      <th>4</th>\n",
       "      <td>20</td>\n",
       "      <td>Alchemy</td>\n",
       "      <td>[100.0, 77000.0, 1900.0, 50000.0, 75000.0, 770...</td>\n",
       "      <td>59</td>\n",
       "      <td>76923.0</td>\n",
       "      <td>77000.0</td>\n",
       "      <td>75000.0</td>\n",
       "      <td>102255.949153</td>\n",
       "    </tr>\n",
       "  </tbody>\n",
       "</table>\n",
       "</div>"
      ],
      "text/plain": [
       "   index                      project_name  \\\n",
       "0     11  AW House/Komorebi's Hacker House   \n",
       "1     14                   Across Protocol   \n",
       "2     16                 Aerodrome Finance   \n",
       "3     19                          Airstack   \n",
       "4     20                           Alchemy   \n",
       "\n",
       "                                               votes  number_of_votes  \\\n",
       "0  [77000.0, 77000.0, 50000.0, 4000000.0, 50000.0...               46   \n",
       "1  [50000.0, 25000.0, 39000.0, 200000.0, 32000.0,...               42   \n",
       "2  [100000.0, 100000.0, 25000.0, 25000.0, 50000.0...               51   \n",
       "3  [77000.0, 150000.0, 77000.0, 25000.0, 10000.0,...               34   \n",
       "4  [100.0, 77000.0, 1900.0, 50000.0, 75000.0, 770...               59   \n",
       "\n",
       "   base_vote  base_vote_round    median           mean  \n",
       "0    76923.0          77000.0   77000.0  239371.739130  \n",
       "1    38462.0          39000.0   39000.0  105635.714286  \n",
       "2   615385.0         620000.0  110000.0  428627.450980  \n",
       "3    76923.0          77000.0   48500.0   47794.117647  \n",
       "4    76923.0          77000.0   75000.0  102255.949153  "
      ]
     },
     "execution_count": 2,
     "metadata": {},
     "output_type": "execute_result"
    }
   ],
   "source": [
    "df = pd.read_csv(\"data/output.csv\", engine=\"pyarrow\")\n",
    "df['votes'] = df['votes'].apply(ast.literal_eval)\n",
    "df = df[df[\"base_vote\"]!=0].reset_index()\n",
    "\n",
    "df[\"median\"] = [np.median(v) for v in df[\"votes\"]]\n",
    "df[\"mean\"] = [np.mean(v) for v in df[\"votes\"]]\n",
    "\n",
    "df.head()"
   ]
  },
  {
   "cell_type": "code",
   "execution_count": 3,
   "metadata": {},
   "outputs": [],
   "source": [
    "# get all data and check result without zero votes\n",
    "median_without_0 = []\n",
    "mean_without_0 = []\n",
    "n_0 = []\n",
    "for i, row in df.iterrows():\n",
    "    votes = [v for v in row[\"votes\"] if v!=0]\n",
    "    n_0.append(len([v for v in row[\"votes\"] if v==0]))\n",
    "    median_without_0.append(np.median(votes))\n",
    "    mean_without_0.append(np.mean(votes))\n",
    "    \n",
    "    \n",
    "df[\"median_without_0\"] = median_without_0\n",
    "df[\"mean_without_0\"] = mean_without_0\n",
    "df[\"n_0\"] = n_0\n"
   ]
  },
  {
   "cell_type": "code",
   "execution_count": 4,
   "metadata": {},
   "outputs": [
    {
     "data": {
      "text/html": [
       "<div>\n",
       "<style scoped>\n",
       "    .dataframe tbody tr th:only-of-type {\n",
       "        vertical-align: middle;\n",
       "    }\n",
       "\n",
       "    .dataframe tbody tr th {\n",
       "        vertical-align: top;\n",
       "    }\n",
       "\n",
       "    .dataframe thead th {\n",
       "        text-align: right;\n",
       "    }\n",
       "</style>\n",
       "<table border=\"1\" class=\"dataframe\">\n",
       "  <thead>\n",
       "    <tr style=\"text-align: right;\">\n",
       "      <th></th>\n",
       "      <th>project_name</th>\n",
       "      <th>n_0</th>\n",
       "      <th>number_of_votes</th>\n",
       "    </tr>\n",
       "  </thead>\n",
       "  <tbody>\n",
       "    <tr>\n",
       "      <th>4</th>\n",
       "      <td>Alchemy</td>\n",
       "      <td>12</td>\n",
       "      <td>59</td>\n",
       "    </tr>\n",
       "    <tr>\n",
       "      <th>35</th>\n",
       "      <td>Messari</td>\n",
       "      <td>8</td>\n",
       "      <td>39</td>\n",
       "    </tr>\n",
       "    <tr>\n",
       "      <th>55</th>\n",
       "      <td>Tenderly</td>\n",
       "      <td>7</td>\n",
       "      <td>74</td>\n",
       "    </tr>\n",
       "    <tr>\n",
       "      <th>19</th>\n",
       "      <td>Flipside Crypto</td>\n",
       "      <td>5</td>\n",
       "      <td>47</td>\n",
       "    </tr>\n",
       "    <tr>\n",
       "      <th>10</th>\n",
       "      <td>Covalent</td>\n",
       "      <td>5</td>\n",
       "      <td>39</td>\n",
       "    </tr>\n",
       "    <tr>\n",
       "      <th>...</th>\n",
       "      <td>...</td>\n",
       "      <td>...</td>\n",
       "      <td>...</td>\n",
       "    </tr>\n",
       "    <tr>\n",
       "      <th>52</th>\n",
       "      <td>Superscan</td>\n",
       "      <td>0</td>\n",
       "      <td>45</td>\n",
       "    </tr>\n",
       "    <tr>\n",
       "      <th>53</th>\n",
       "      <td>Surreal</td>\n",
       "      <td>0</td>\n",
       "      <td>28</td>\n",
       "    </tr>\n",
       "    <tr>\n",
       "      <th>56</th>\n",
       "      <td>Test in Prod</td>\n",
       "      <td>0</td>\n",
       "      <td>70</td>\n",
       "    </tr>\n",
       "    <tr>\n",
       "      <th>59</th>\n",
       "      <td>Vectorized</td>\n",
       "      <td>0</td>\n",
       "      <td>72</td>\n",
       "    </tr>\n",
       "    <tr>\n",
       "      <th>0</th>\n",
       "      <td>AW House/Komorebi's Hacker House</td>\n",
       "      <td>0</td>\n",
       "      <td>46</td>\n",
       "    </tr>\n",
       "  </tbody>\n",
       "</table>\n",
       "<p>69 rows × 3 columns</p>\n",
       "</div>"
      ],
      "text/plain": [
       "                        project_name  n_0  number_of_votes\n",
       "4                            Alchemy   12               59\n",
       "35                           Messari    8               39\n",
       "55                          Tenderly    7               74\n",
       "19                   Flipside Crypto    5               47\n",
       "10                          Covalent    5               39\n",
       "..                               ...  ...              ...\n",
       "52                         Superscan    0               45\n",
       "53                           Surreal    0               28\n",
       "56                      Test in Prod    0               70\n",
       "59                        Vectorized    0               72\n",
       "0   AW House/Komorebi's Hacker House    0               46\n",
       "\n",
       "[69 rows x 3 columns]"
      ]
     },
     "execution_count": 4,
     "metadata": {},
     "output_type": "execute_result"
    }
   ],
   "source": [
    "df.sort_values(\"n_0\", ascending=0)[[\"project_name\", 'n_0', 'number_of_votes']]"
   ]
  },
  {
   "cell_type": "code",
   "execution_count": 11,
   "metadata": {},
   "outputs": [
    {
     "data": {
      "application/vnd.plotly.v1+json": {
       "config": {
        "plotlyServerURL": "https://plot.ly"
       },
       "data": [
        {
         "hoverinfo": "label+percent",
         "labels": [
          "Alchemy",
          "NFTEarth",
          "The Graph",
          "ZORA",
          "Messari",
          "Bankless DAO",
          "Tenderly",
          "Synapse DAO",
          "Synapse Labs",
          "Immunefi",
          "Nacion Bankless",
          "Public Goods Grant Management",
          "Banklessadria",
          "BanklessUA",
          "BanklessDAO Turkish",
          "Synthetix",
          "Bankless DAO Magyar ( Hungarian )",
          "Arkham",
          "Bankless Africa",
          "Bankless Bengali"
         ],
         "marker": {
          "colors": [
           "gold",
           "mediumturquoise",
           "darkorange",
           "lightgreen"
          ],
          "line": {
           "color": "#000000",
           "width": 2
          }
         },
         "textfont": {
          "size": 20
         },
         "textinfo": "label+percent",
         "type": "pie",
         "values": [
          12,
          12,
          10,
          8,
          8,
          8,
          7,
          6,
          6,
          6,
          6,
          5,
          5,
          5,
          5,
          5,
          5,
          5,
          5,
          5
         ]
        }
       ],
       "layout": {
        "height": 780,
        "margin": {
         "b": 10,
         "t": 80
        },
        "showlegend": false,
        "template": {
         "data": {
          "bar": [
           {
            "error_x": {
             "color": "#f2f5fa"
            },
            "error_y": {
             "color": "#f2f5fa"
            },
            "marker": {
             "line": {
              "color": "rgb(17,17,17)",
              "width": 0.5
             },
             "pattern": {
              "fillmode": "overlay",
              "size": 10,
              "solidity": 0.2
             }
            },
            "type": "bar"
           }
          ],
          "barpolar": [
           {
            "marker": {
             "line": {
              "color": "rgb(17,17,17)",
              "width": 0.5
             },
             "pattern": {
              "fillmode": "overlay",
              "size": 10,
              "solidity": 0.2
             }
            },
            "type": "barpolar"
           }
          ],
          "carpet": [
           {
            "aaxis": {
             "endlinecolor": "#A2B1C6",
             "gridcolor": "#506784",
             "linecolor": "#506784",
             "minorgridcolor": "#506784",
             "startlinecolor": "#A2B1C6"
            },
            "baxis": {
             "endlinecolor": "#A2B1C6",
             "gridcolor": "#506784",
             "linecolor": "#506784",
             "minorgridcolor": "#506784",
             "startlinecolor": "#A2B1C6"
            },
            "type": "carpet"
           }
          ],
          "choropleth": [
           {
            "colorbar": {
             "outlinewidth": 0,
             "ticks": ""
            },
            "type": "choropleth"
           }
          ],
          "contour": [
           {
            "colorbar": {
             "outlinewidth": 0,
             "ticks": ""
            },
            "colorscale": [
             [
              0,
              "#0d0887"
             ],
             [
              0.1111111111111111,
              "#46039f"
             ],
             [
              0.2222222222222222,
              "#7201a8"
             ],
             [
              0.3333333333333333,
              "#9c179e"
             ],
             [
              0.4444444444444444,
              "#bd3786"
             ],
             [
              0.5555555555555556,
              "#d8576b"
             ],
             [
              0.6666666666666666,
              "#ed7953"
             ],
             [
              0.7777777777777778,
              "#fb9f3a"
             ],
             [
              0.8888888888888888,
              "#fdca26"
             ],
             [
              1,
              "#f0f921"
             ]
            ],
            "type": "contour"
           }
          ],
          "contourcarpet": [
           {
            "colorbar": {
             "outlinewidth": 0,
             "ticks": ""
            },
            "type": "contourcarpet"
           }
          ],
          "heatmap": [
           {
            "colorbar": {
             "outlinewidth": 0,
             "ticks": ""
            },
            "colorscale": [
             [
              0,
              "#0d0887"
             ],
             [
              0.1111111111111111,
              "#46039f"
             ],
             [
              0.2222222222222222,
              "#7201a8"
             ],
             [
              0.3333333333333333,
              "#9c179e"
             ],
             [
              0.4444444444444444,
              "#bd3786"
             ],
             [
              0.5555555555555556,
              "#d8576b"
             ],
             [
              0.6666666666666666,
              "#ed7953"
             ],
             [
              0.7777777777777778,
              "#fb9f3a"
             ],
             [
              0.8888888888888888,
              "#fdca26"
             ],
             [
              1,
              "#f0f921"
             ]
            ],
            "type": "heatmap"
           }
          ],
          "heatmapgl": [
           {
            "colorbar": {
             "outlinewidth": 0,
             "ticks": ""
            },
            "colorscale": [
             [
              0,
              "#0d0887"
             ],
             [
              0.1111111111111111,
              "#46039f"
             ],
             [
              0.2222222222222222,
              "#7201a8"
             ],
             [
              0.3333333333333333,
              "#9c179e"
             ],
             [
              0.4444444444444444,
              "#bd3786"
             ],
             [
              0.5555555555555556,
              "#d8576b"
             ],
             [
              0.6666666666666666,
              "#ed7953"
             ],
             [
              0.7777777777777778,
              "#fb9f3a"
             ],
             [
              0.8888888888888888,
              "#fdca26"
             ],
             [
              1,
              "#f0f921"
             ]
            ],
            "type": "heatmapgl"
           }
          ],
          "histogram": [
           {
            "marker": {
             "pattern": {
              "fillmode": "overlay",
              "size": 10,
              "solidity": 0.2
             }
            },
            "type": "histogram"
           }
          ],
          "histogram2d": [
           {
            "colorbar": {
             "outlinewidth": 0,
             "ticks": ""
            },
            "colorscale": [
             [
              0,
              "#0d0887"
             ],
             [
              0.1111111111111111,
              "#46039f"
             ],
             [
              0.2222222222222222,
              "#7201a8"
             ],
             [
              0.3333333333333333,
              "#9c179e"
             ],
             [
              0.4444444444444444,
              "#bd3786"
             ],
             [
              0.5555555555555556,
              "#d8576b"
             ],
             [
              0.6666666666666666,
              "#ed7953"
             ],
             [
              0.7777777777777778,
              "#fb9f3a"
             ],
             [
              0.8888888888888888,
              "#fdca26"
             ],
             [
              1,
              "#f0f921"
             ]
            ],
            "type": "histogram2d"
           }
          ],
          "histogram2dcontour": [
           {
            "colorbar": {
             "outlinewidth": 0,
             "ticks": ""
            },
            "colorscale": [
             [
              0,
              "#0d0887"
             ],
             [
              0.1111111111111111,
              "#46039f"
             ],
             [
              0.2222222222222222,
              "#7201a8"
             ],
             [
              0.3333333333333333,
              "#9c179e"
             ],
             [
              0.4444444444444444,
              "#bd3786"
             ],
             [
              0.5555555555555556,
              "#d8576b"
             ],
             [
              0.6666666666666666,
              "#ed7953"
             ],
             [
              0.7777777777777778,
              "#fb9f3a"
             ],
             [
              0.8888888888888888,
              "#fdca26"
             ],
             [
              1,
              "#f0f921"
             ]
            ],
            "type": "histogram2dcontour"
           }
          ],
          "mesh3d": [
           {
            "colorbar": {
             "outlinewidth": 0,
             "ticks": ""
            },
            "type": "mesh3d"
           }
          ],
          "parcoords": [
           {
            "line": {
             "colorbar": {
              "outlinewidth": 0,
              "ticks": ""
             }
            },
            "type": "parcoords"
           }
          ],
          "pie": [
           {
            "automargin": true,
            "type": "pie"
           }
          ],
          "scatter": [
           {
            "marker": {
             "line": {
              "color": "#283442"
             }
            },
            "type": "scatter"
           }
          ],
          "scatter3d": [
           {
            "line": {
             "colorbar": {
              "outlinewidth": 0,
              "ticks": ""
             }
            },
            "marker": {
             "colorbar": {
              "outlinewidth": 0,
              "ticks": ""
             }
            },
            "type": "scatter3d"
           }
          ],
          "scattercarpet": [
           {
            "marker": {
             "colorbar": {
              "outlinewidth": 0,
              "ticks": ""
             }
            },
            "type": "scattercarpet"
           }
          ],
          "scattergeo": [
           {
            "marker": {
             "colorbar": {
              "outlinewidth": 0,
              "ticks": ""
             }
            },
            "type": "scattergeo"
           }
          ],
          "scattergl": [
           {
            "marker": {
             "line": {
              "color": "#283442"
             }
            },
            "type": "scattergl"
           }
          ],
          "scattermapbox": [
           {
            "marker": {
             "colorbar": {
              "outlinewidth": 0,
              "ticks": ""
             }
            },
            "type": "scattermapbox"
           }
          ],
          "scatterpolar": [
           {
            "marker": {
             "colorbar": {
              "outlinewidth": 0,
              "ticks": ""
             }
            },
            "type": "scatterpolar"
           }
          ],
          "scatterpolargl": [
           {
            "marker": {
             "colorbar": {
              "outlinewidth": 0,
              "ticks": ""
             }
            },
            "type": "scatterpolargl"
           }
          ],
          "scatterternary": [
           {
            "marker": {
             "colorbar": {
              "outlinewidth": 0,
              "ticks": ""
             }
            },
            "type": "scatterternary"
           }
          ],
          "surface": [
           {
            "colorbar": {
             "outlinewidth": 0,
             "ticks": ""
            },
            "colorscale": [
             [
              0,
              "#0d0887"
             ],
             [
              0.1111111111111111,
              "#46039f"
             ],
             [
              0.2222222222222222,
              "#7201a8"
             ],
             [
              0.3333333333333333,
              "#9c179e"
             ],
             [
              0.4444444444444444,
              "#bd3786"
             ],
             [
              0.5555555555555556,
              "#d8576b"
             ],
             [
              0.6666666666666666,
              "#ed7953"
             ],
             [
              0.7777777777777778,
              "#fb9f3a"
             ],
             [
              0.8888888888888888,
              "#fdca26"
             ],
             [
              1,
              "#f0f921"
             ]
            ],
            "type": "surface"
           }
          ],
          "table": [
           {
            "cells": {
             "fill": {
              "color": "#506784"
             },
             "line": {
              "color": "rgb(17,17,17)"
             }
            },
            "header": {
             "fill": {
              "color": "#2a3f5f"
             },
             "line": {
              "color": "rgb(17,17,17)"
             }
            },
            "type": "table"
           }
          ]
         },
         "layout": {
          "annotationdefaults": {
           "arrowcolor": "#f2f5fa",
           "arrowhead": 0,
           "arrowwidth": 1
          },
          "autotypenumbers": "strict",
          "coloraxis": {
           "colorbar": {
            "outlinewidth": 0,
            "ticks": ""
           }
          },
          "colorscale": {
           "diverging": [
            [
             0,
             "#8e0152"
            ],
            [
             0.1,
             "#c51b7d"
            ],
            [
             0.2,
             "#de77ae"
            ],
            [
             0.3,
             "#f1b6da"
            ],
            [
             0.4,
             "#fde0ef"
            ],
            [
             0.5,
             "#f7f7f7"
            ],
            [
             0.6,
             "#e6f5d0"
            ],
            [
             0.7,
             "#b8e186"
            ],
            [
             0.8,
             "#7fbc41"
            ],
            [
             0.9,
             "#4d9221"
            ],
            [
             1,
             "#276419"
            ]
           ],
           "sequential": [
            [
             0,
             "#0d0887"
            ],
            [
             0.1111111111111111,
             "#46039f"
            ],
            [
             0.2222222222222222,
             "#7201a8"
            ],
            [
             0.3333333333333333,
             "#9c179e"
            ],
            [
             0.4444444444444444,
             "#bd3786"
            ],
            [
             0.5555555555555556,
             "#d8576b"
            ],
            [
             0.6666666666666666,
             "#ed7953"
            ],
            [
             0.7777777777777778,
             "#fb9f3a"
            ],
            [
             0.8888888888888888,
             "#fdca26"
            ],
            [
             1,
             "#f0f921"
            ]
           ],
           "sequentialminus": [
            [
             0,
             "#0d0887"
            ],
            [
             0.1111111111111111,
             "#46039f"
            ],
            [
             0.2222222222222222,
             "#7201a8"
            ],
            [
             0.3333333333333333,
             "#9c179e"
            ],
            [
             0.4444444444444444,
             "#bd3786"
            ],
            [
             0.5555555555555556,
             "#d8576b"
            ],
            [
             0.6666666666666666,
             "#ed7953"
            ],
            [
             0.7777777777777778,
             "#fb9f3a"
            ],
            [
             0.8888888888888888,
             "#fdca26"
            ],
            [
             1,
             "#f0f921"
            ]
           ]
          },
          "colorway": [
           "#636efa",
           "#EF553B",
           "#00cc96",
           "#ab63fa",
           "#FFA15A",
           "#19d3f3",
           "#FF6692",
           "#B6E880",
           "#FF97FF",
           "#FECB52"
          ],
          "font": {
           "color": "#f2f5fa"
          },
          "geo": {
           "bgcolor": "rgb(17,17,17)",
           "lakecolor": "rgb(17,17,17)",
           "landcolor": "rgb(17,17,17)",
           "showlakes": true,
           "showland": true,
           "subunitcolor": "#506784"
          },
          "hoverlabel": {
           "align": "left"
          },
          "hovermode": "closest",
          "mapbox": {
           "style": "dark"
          },
          "paper_bgcolor": "rgb(17,17,17)",
          "plot_bgcolor": "rgb(17,17,17)",
          "polar": {
           "angularaxis": {
            "gridcolor": "#506784",
            "linecolor": "#506784",
            "ticks": ""
           },
           "bgcolor": "rgb(17,17,17)",
           "radialaxis": {
            "gridcolor": "#506784",
            "linecolor": "#506784",
            "ticks": ""
           }
          },
          "scene": {
           "xaxis": {
            "backgroundcolor": "rgb(17,17,17)",
            "gridcolor": "#506784",
            "gridwidth": 2,
            "linecolor": "#506784",
            "showbackground": true,
            "ticks": "",
            "zerolinecolor": "#C8D4E3"
           },
           "yaxis": {
            "backgroundcolor": "rgb(17,17,17)",
            "gridcolor": "#506784",
            "gridwidth": 2,
            "linecolor": "#506784",
            "showbackground": true,
            "ticks": "",
            "zerolinecolor": "#C8D4E3"
           },
           "zaxis": {
            "backgroundcolor": "rgb(17,17,17)",
            "gridcolor": "#506784",
            "gridwidth": 2,
            "linecolor": "#506784",
            "showbackground": true,
            "ticks": "",
            "zerolinecolor": "#C8D4E3"
           }
          },
          "shapedefaults": {
           "line": {
            "color": "#f2f5fa"
           }
          },
          "sliderdefaults": {
           "bgcolor": "#C8D4E3",
           "bordercolor": "rgb(17,17,17)",
           "borderwidth": 1,
           "tickwidth": 0
          },
          "ternary": {
           "aaxis": {
            "gridcolor": "#506784",
            "linecolor": "#506784",
            "ticks": ""
           },
           "baxis": {
            "gridcolor": "#506784",
            "linecolor": "#506784",
            "ticks": ""
           },
           "bgcolor": "rgb(17,17,17)",
           "caxis": {
            "gridcolor": "#506784",
            "linecolor": "#506784",
            "ticks": ""
           }
          },
          "title": {
           "x": 0.05
          },
          "updatemenudefaults": {
           "bgcolor": "#506784",
           "borderwidth": 0
          },
          "xaxis": {
           "automargin": true,
           "gridcolor": "#283442",
           "linecolor": "#506784",
           "ticks": "",
           "title": {
            "standoff": 15
           },
           "zerolinecolor": "#283442",
           "zerolinewidth": 2
          },
          "yaxis": {
           "automargin": true,
           "gridcolor": "#283442",
           "linecolor": "#506784",
           "ticks": "",
           "title": {
            "standoff": 15
           },
           "zerolinecolor": "#283442",
           "zerolinewidth": 2
          }
         }
        },
        "title": {
         "font": {
          "size": 32
         },
         "text": "% 0 Vote for Dapps",
         "x": 0.5,
         "xanchor": "center",
         "y": 0.95,
         "yanchor": "top"
        },
        "width": 1020
       }
      }
     },
     "metadata": {},
     "output_type": "display_data"
    }
   ],
   "source": [
    "colors = ['gold', 'mediumturquoise', 'darkorange', 'lightgreen']\n",
    "n = 20\n",
    "fig = go.Figure(data=[go.Pie(labels=df.sort_values(\"n_0\", ascending=0)[\"project_name\"][:n],\n",
    "                             values=df.sort_values(\"n_0\", ascending=0)[\"n_0\"][:n])])\n",
    "fig.update_traces(hoverinfo='label+percent', textinfo='label+percent', textfont_size=20,\n",
    "                  marker=dict(colors=colors, line=dict(color='#000000', width=2)))\n",
    "fig.update(\n",
    "    # layout_title_text='Percent of 0 votes for ten Project',\n",
    "    layout_showlegend=False\n",
    ")\n",
    "\n",
    "# fig.update_layout(\n",
    "#     # xaxis=dict(title='Project Name'),\n",
    "#     # yaxis=dict(title='Difference in Median'),\n",
    "#     height=600,\n",
    "#     template='plotly_dark',\n",
    "#     margin={'t':0,'b':0,},\n",
    "# )\n",
    "fig.update_layout(\n",
    "    title={\n",
    "        'text': '% 0 Vote for Dapps',\n",
    "        'y': 0.95,\n",
    "        'x': 0.5,\n",
    "        'xanchor': 'center',\n",
    "        'yanchor': 'top',\n",
    "        'font': {'size': 32}\n",
    "    },\n",
    "    # xaxis=dict(title='Dapps'),\n",
    "    # yaxis=dict(title='Median - Median 0 votes'),\n",
    "    height=780, width=1020,\n",
    "    template='plotly_dark',\n",
    "    margin={'t':80,'b':10},\n",
    "    showlegend=False,\n",
    ")\n",
    "fig.write_image(\"data/perc_0_votes.png\", height=780, width=1020)\n",
    "fig.show()"
   ]
  },
  {
   "cell_type": "code",
   "execution_count": 5,
   "metadata": {},
   "outputs": [
    {
     "data": {
      "application/vnd.plotly.v1+json": {
       "config": {
        "plotlyServerURL": "https://plot.ly"
       },
       "data": [
        {
         "marker": {
          "color": "#ff0420"
         },
         "name": "",
         "textfont": {
          "size": 20
         },
         "type": "bar",
         "x": [
          "Synthetix",
          "Solidity",
          "ETHGlobal",
          "Messari",
          "Tenderly",
          "IPFS",
          "Week in Ethereum News",
          "Hop DAO",
          "Flipside Crypto",
          "Lore",
          "Xofee",
          "Galxe",
          "Token Terminal",
          "Tokepad",
          "Hardhat",
          "Alchemy",
          "WASD",
          "Equalizer",
          "Airstack",
          "Moonwell"
         ],
         "y": [
          -50000,
          -35000,
          -25000,
          -25000,
          -23000,
          -20000,
          -15000,
          -12500,
          -12000,
          -10000,
          -9000,
          -8000,
          -6500,
          -6000,
          -5000,
          -2000,
          -2000,
          -1500,
          -1500,
          -1000
         ]
        }
       ],
       "layout": {
        "height": 780,
        "margin": {
         "b": 10,
         "t": 80
        },
        "showlegend": false,
        "template": {
         "data": {
          "bar": [
           {
            "error_x": {
             "color": "#f2f5fa"
            },
            "error_y": {
             "color": "#f2f5fa"
            },
            "marker": {
             "line": {
              "color": "rgb(17,17,17)",
              "width": 0.5
             },
             "pattern": {
              "fillmode": "overlay",
              "size": 10,
              "solidity": 0.2
             }
            },
            "type": "bar"
           }
          ],
          "barpolar": [
           {
            "marker": {
             "line": {
              "color": "rgb(17,17,17)",
              "width": 0.5
             },
             "pattern": {
              "fillmode": "overlay",
              "size": 10,
              "solidity": 0.2
             }
            },
            "type": "barpolar"
           }
          ],
          "carpet": [
           {
            "aaxis": {
             "endlinecolor": "#A2B1C6",
             "gridcolor": "#506784",
             "linecolor": "#506784",
             "minorgridcolor": "#506784",
             "startlinecolor": "#A2B1C6"
            },
            "baxis": {
             "endlinecolor": "#A2B1C6",
             "gridcolor": "#506784",
             "linecolor": "#506784",
             "minorgridcolor": "#506784",
             "startlinecolor": "#A2B1C6"
            },
            "type": "carpet"
           }
          ],
          "choropleth": [
           {
            "colorbar": {
             "outlinewidth": 0,
             "ticks": ""
            },
            "type": "choropleth"
           }
          ],
          "contour": [
           {
            "colorbar": {
             "outlinewidth": 0,
             "ticks": ""
            },
            "colorscale": [
             [
              0,
              "#0d0887"
             ],
             [
              0.1111111111111111,
              "#46039f"
             ],
             [
              0.2222222222222222,
              "#7201a8"
             ],
             [
              0.3333333333333333,
              "#9c179e"
             ],
             [
              0.4444444444444444,
              "#bd3786"
             ],
             [
              0.5555555555555556,
              "#d8576b"
             ],
             [
              0.6666666666666666,
              "#ed7953"
             ],
             [
              0.7777777777777778,
              "#fb9f3a"
             ],
             [
              0.8888888888888888,
              "#fdca26"
             ],
             [
              1,
              "#f0f921"
             ]
            ],
            "type": "contour"
           }
          ],
          "contourcarpet": [
           {
            "colorbar": {
             "outlinewidth": 0,
             "ticks": ""
            },
            "type": "contourcarpet"
           }
          ],
          "heatmap": [
           {
            "colorbar": {
             "outlinewidth": 0,
             "ticks": ""
            },
            "colorscale": [
             [
              0,
              "#0d0887"
             ],
             [
              0.1111111111111111,
              "#46039f"
             ],
             [
              0.2222222222222222,
              "#7201a8"
             ],
             [
              0.3333333333333333,
              "#9c179e"
             ],
             [
              0.4444444444444444,
              "#bd3786"
             ],
             [
              0.5555555555555556,
              "#d8576b"
             ],
             [
              0.6666666666666666,
              "#ed7953"
             ],
             [
              0.7777777777777778,
              "#fb9f3a"
             ],
             [
              0.8888888888888888,
              "#fdca26"
             ],
             [
              1,
              "#f0f921"
             ]
            ],
            "type": "heatmap"
           }
          ],
          "heatmapgl": [
           {
            "colorbar": {
             "outlinewidth": 0,
             "ticks": ""
            },
            "colorscale": [
             [
              0,
              "#0d0887"
             ],
             [
              0.1111111111111111,
              "#46039f"
             ],
             [
              0.2222222222222222,
              "#7201a8"
             ],
             [
              0.3333333333333333,
              "#9c179e"
             ],
             [
              0.4444444444444444,
              "#bd3786"
             ],
             [
              0.5555555555555556,
              "#d8576b"
             ],
             [
              0.6666666666666666,
              "#ed7953"
             ],
             [
              0.7777777777777778,
              "#fb9f3a"
             ],
             [
              0.8888888888888888,
              "#fdca26"
             ],
             [
              1,
              "#f0f921"
             ]
            ],
            "type": "heatmapgl"
           }
          ],
          "histogram": [
           {
            "marker": {
             "pattern": {
              "fillmode": "overlay",
              "size": 10,
              "solidity": 0.2
             }
            },
            "type": "histogram"
           }
          ],
          "histogram2d": [
           {
            "colorbar": {
             "outlinewidth": 0,
             "ticks": ""
            },
            "colorscale": [
             [
              0,
              "#0d0887"
             ],
             [
              0.1111111111111111,
              "#46039f"
             ],
             [
              0.2222222222222222,
              "#7201a8"
             ],
             [
              0.3333333333333333,
              "#9c179e"
             ],
             [
              0.4444444444444444,
              "#bd3786"
             ],
             [
              0.5555555555555556,
              "#d8576b"
             ],
             [
              0.6666666666666666,
              "#ed7953"
             ],
             [
              0.7777777777777778,
              "#fb9f3a"
             ],
             [
              0.8888888888888888,
              "#fdca26"
             ],
             [
              1,
              "#f0f921"
             ]
            ],
            "type": "histogram2d"
           }
          ],
          "histogram2dcontour": [
           {
            "colorbar": {
             "outlinewidth": 0,
             "ticks": ""
            },
            "colorscale": [
             [
              0,
              "#0d0887"
             ],
             [
              0.1111111111111111,
              "#46039f"
             ],
             [
              0.2222222222222222,
              "#7201a8"
             ],
             [
              0.3333333333333333,
              "#9c179e"
             ],
             [
              0.4444444444444444,
              "#bd3786"
             ],
             [
              0.5555555555555556,
              "#d8576b"
             ],
             [
              0.6666666666666666,
              "#ed7953"
             ],
             [
              0.7777777777777778,
              "#fb9f3a"
             ],
             [
              0.8888888888888888,
              "#fdca26"
             ],
             [
              1,
              "#f0f921"
             ]
            ],
            "type": "histogram2dcontour"
           }
          ],
          "mesh3d": [
           {
            "colorbar": {
             "outlinewidth": 0,
             "ticks": ""
            },
            "type": "mesh3d"
           }
          ],
          "parcoords": [
           {
            "line": {
             "colorbar": {
              "outlinewidth": 0,
              "ticks": ""
             }
            },
            "type": "parcoords"
           }
          ],
          "pie": [
           {
            "automargin": true,
            "type": "pie"
           }
          ],
          "scatter": [
           {
            "marker": {
             "line": {
              "color": "#283442"
             }
            },
            "type": "scatter"
           }
          ],
          "scatter3d": [
           {
            "line": {
             "colorbar": {
              "outlinewidth": 0,
              "ticks": ""
             }
            },
            "marker": {
             "colorbar": {
              "outlinewidth": 0,
              "ticks": ""
             }
            },
            "type": "scatter3d"
           }
          ],
          "scattercarpet": [
           {
            "marker": {
             "colorbar": {
              "outlinewidth": 0,
              "ticks": ""
             }
            },
            "type": "scattercarpet"
           }
          ],
          "scattergeo": [
           {
            "marker": {
             "colorbar": {
              "outlinewidth": 0,
              "ticks": ""
             }
            },
            "type": "scattergeo"
           }
          ],
          "scattergl": [
           {
            "marker": {
             "line": {
              "color": "#283442"
             }
            },
            "type": "scattergl"
           }
          ],
          "scattermapbox": [
           {
            "marker": {
             "colorbar": {
              "outlinewidth": 0,
              "ticks": ""
             }
            },
            "type": "scattermapbox"
           }
          ],
          "scatterpolar": [
           {
            "marker": {
             "colorbar": {
              "outlinewidth": 0,
              "ticks": ""
             }
            },
            "type": "scatterpolar"
           }
          ],
          "scatterpolargl": [
           {
            "marker": {
             "colorbar": {
              "outlinewidth": 0,
              "ticks": ""
             }
            },
            "type": "scatterpolargl"
           }
          ],
          "scatterternary": [
           {
            "marker": {
             "colorbar": {
              "outlinewidth": 0,
              "ticks": ""
             }
            },
            "type": "scatterternary"
           }
          ],
          "surface": [
           {
            "colorbar": {
             "outlinewidth": 0,
             "ticks": ""
            },
            "colorscale": [
             [
              0,
              "#0d0887"
             ],
             [
              0.1111111111111111,
              "#46039f"
             ],
             [
              0.2222222222222222,
              "#7201a8"
             ],
             [
              0.3333333333333333,
              "#9c179e"
             ],
             [
              0.4444444444444444,
              "#bd3786"
             ],
             [
              0.5555555555555556,
              "#d8576b"
             ],
             [
              0.6666666666666666,
              "#ed7953"
             ],
             [
              0.7777777777777778,
              "#fb9f3a"
             ],
             [
              0.8888888888888888,
              "#fdca26"
             ],
             [
              1,
              "#f0f921"
             ]
            ],
            "type": "surface"
           }
          ],
          "table": [
           {
            "cells": {
             "fill": {
              "color": "#506784"
             },
             "line": {
              "color": "rgb(17,17,17)"
             }
            },
            "header": {
             "fill": {
              "color": "#2a3f5f"
             },
             "line": {
              "color": "rgb(17,17,17)"
             }
            },
            "type": "table"
           }
          ]
         },
         "layout": {
          "annotationdefaults": {
           "arrowcolor": "#f2f5fa",
           "arrowhead": 0,
           "arrowwidth": 1
          },
          "autotypenumbers": "strict",
          "coloraxis": {
           "colorbar": {
            "outlinewidth": 0,
            "ticks": ""
           }
          },
          "colorscale": {
           "diverging": [
            [
             0,
             "#8e0152"
            ],
            [
             0.1,
             "#c51b7d"
            ],
            [
             0.2,
             "#de77ae"
            ],
            [
             0.3,
             "#f1b6da"
            ],
            [
             0.4,
             "#fde0ef"
            ],
            [
             0.5,
             "#f7f7f7"
            ],
            [
             0.6,
             "#e6f5d0"
            ],
            [
             0.7,
             "#b8e186"
            ],
            [
             0.8,
             "#7fbc41"
            ],
            [
             0.9,
             "#4d9221"
            ],
            [
             1,
             "#276419"
            ]
           ],
           "sequential": [
            [
             0,
             "#0d0887"
            ],
            [
             0.1111111111111111,
             "#46039f"
            ],
            [
             0.2222222222222222,
             "#7201a8"
            ],
            [
             0.3333333333333333,
             "#9c179e"
            ],
            [
             0.4444444444444444,
             "#bd3786"
            ],
            [
             0.5555555555555556,
             "#d8576b"
            ],
            [
             0.6666666666666666,
             "#ed7953"
            ],
            [
             0.7777777777777778,
             "#fb9f3a"
            ],
            [
             0.8888888888888888,
             "#fdca26"
            ],
            [
             1,
             "#f0f921"
            ]
           ],
           "sequentialminus": [
            [
             0,
             "#0d0887"
            ],
            [
             0.1111111111111111,
             "#46039f"
            ],
            [
             0.2222222222222222,
             "#7201a8"
            ],
            [
             0.3333333333333333,
             "#9c179e"
            ],
            [
             0.4444444444444444,
             "#bd3786"
            ],
            [
             0.5555555555555556,
             "#d8576b"
            ],
            [
             0.6666666666666666,
             "#ed7953"
            ],
            [
             0.7777777777777778,
             "#fb9f3a"
            ],
            [
             0.8888888888888888,
             "#fdca26"
            ],
            [
             1,
             "#f0f921"
            ]
           ]
          },
          "colorway": [
           "#636efa",
           "#EF553B",
           "#00cc96",
           "#ab63fa",
           "#FFA15A",
           "#19d3f3",
           "#FF6692",
           "#B6E880",
           "#FF97FF",
           "#FECB52"
          ],
          "font": {
           "color": "#f2f5fa"
          },
          "geo": {
           "bgcolor": "rgb(17,17,17)",
           "lakecolor": "rgb(17,17,17)",
           "landcolor": "rgb(17,17,17)",
           "showlakes": true,
           "showland": true,
           "subunitcolor": "#506784"
          },
          "hoverlabel": {
           "align": "left"
          },
          "hovermode": "closest",
          "mapbox": {
           "style": "dark"
          },
          "paper_bgcolor": "rgb(17,17,17)",
          "plot_bgcolor": "rgb(17,17,17)",
          "polar": {
           "angularaxis": {
            "gridcolor": "#506784",
            "linecolor": "#506784",
            "ticks": ""
           },
           "bgcolor": "rgb(17,17,17)",
           "radialaxis": {
            "gridcolor": "#506784",
            "linecolor": "#506784",
            "ticks": ""
           }
          },
          "scene": {
           "xaxis": {
            "backgroundcolor": "rgb(17,17,17)",
            "gridcolor": "#506784",
            "gridwidth": 2,
            "linecolor": "#506784",
            "showbackground": true,
            "ticks": "",
            "zerolinecolor": "#C8D4E3"
           },
           "yaxis": {
            "backgroundcolor": "rgb(17,17,17)",
            "gridcolor": "#506784",
            "gridwidth": 2,
            "linecolor": "#506784",
            "showbackground": true,
            "ticks": "",
            "zerolinecolor": "#C8D4E3"
           },
           "zaxis": {
            "backgroundcolor": "rgb(17,17,17)",
            "gridcolor": "#506784",
            "gridwidth": 2,
            "linecolor": "#506784",
            "showbackground": true,
            "ticks": "",
            "zerolinecolor": "#C8D4E3"
           }
          },
          "shapedefaults": {
           "line": {
            "color": "#f2f5fa"
           }
          },
          "sliderdefaults": {
           "bgcolor": "#C8D4E3",
           "bordercolor": "rgb(17,17,17)",
           "borderwidth": 1,
           "tickwidth": 0
          },
          "ternary": {
           "aaxis": {
            "gridcolor": "#506784",
            "linecolor": "#506784",
            "ticks": ""
           },
           "baxis": {
            "gridcolor": "#506784",
            "linecolor": "#506784",
            "ticks": ""
           },
           "bgcolor": "rgb(17,17,17)",
           "caxis": {
            "gridcolor": "#506784",
            "linecolor": "#506784",
            "ticks": ""
           }
          },
          "title": {
           "x": 0.05
          },
          "updatemenudefaults": {
           "bgcolor": "#506784",
           "borderwidth": 0
          },
          "xaxis": {
           "automargin": true,
           "gridcolor": "#283442",
           "linecolor": "#506784",
           "ticks": "",
           "title": {
            "standoff": 15
           },
           "zerolinecolor": "#283442",
           "zerolinewidth": 2
          },
          "yaxis": {
           "automargin": true,
           "gridcolor": "#283442",
           "linecolor": "#506784",
           "ticks": "",
           "title": {
            "standoff": 15
           },
           "zerolinecolor": "#283442",
           "zerolinewidth": 2
          }
         }
        },
        "title": {
         "font": {
          "size": 32
         },
         "text": "Median vs Median without 0 Vote",
         "x": 0.5,
         "xanchor": "center",
         "y": 0.95,
         "yanchor": "top"
        },
        "width": 1020,
        "xaxis": {
         "tickfont": {
          "size": 20
         },
         "title": {
          "font": {
           "size": 20
          },
          "text": "Dapps"
         }
        },
        "yaxis": {
         "tickfont": {
          "size": 20
         },
         "title": {
          "font": {
           "size": 20
          },
          "text": "Median - Median 0 votes"
         }
        }
       }
      }
     },
     "metadata": {},
     "output_type": "display_data"
    }
   ],
   "source": [
    "df['difference_0'] = df['median'] - df['median_without_0']\n",
    "n = 20\n",
    "\n",
    "fig = go.Figure()\n",
    "\n",
    "fig.add_trace(go.Bar(\n",
    "    x=df.sort_values(\"difference_0\", ascending=1)['project_name'][:n],\n",
    "    y=df.sort_values(\"difference_0\", ascending=1)['difference_0'][:n],\n",
    "    name='',\n",
    "    marker_color='#ff0420'\n",
    "))\n",
    "\n",
    "# \n",
    "fig.update_traces(textfont_size=20)\n",
    "# fig.update(\n",
    "#     layout_showlegend=False\n",
    "# )\n",
    "\n",
    "fig.update_layout(\n",
    "    title={\n",
    "        'text': 'Median vs Median without 0 Vote',\n",
    "        'y': 0.95,\n",
    "        'x': 0.5,\n",
    "        'xanchor': 'center',\n",
    "        'yanchor': 'top',\n",
    "        'font': {'size': 32}\n",
    "    },\n",
    "    xaxis=dict(title='Dapps', title_font={'size': 20},\n",
    "        tickfont={'size': 20}),\n",
    "    yaxis=dict(title='Median - Median 0 votes', title_font={'size': 20},\n",
    "        tickfont={'size': 20}),\n",
    "    height=780, width=1020,\n",
    "    template='plotly_dark',\n",
    "    margin={'t':80,'b':10},\n",
    "    showlegend=False,\n",
    ")\n",
    "fig.write_image(\"data/median_0_votes.png\", height=780, width=1020)\n",
    "fig.show()"
   ]
  },
  {
   "cell_type": "code",
   "execution_count": 4,
   "metadata": {},
   "outputs": [
    {
     "name": "stdout",
     "output_type": "stream",
     "text": [
      "Mean difference: 2540.9253499222395\n",
      "Standard deviation of difference: 6685.710697468462\n",
      "Mean distance from median inf%\n"
     ]
    },
    {
     "data": {
      "application/vnd.plotly.v1+json": {
       "config": {
        "plotlyServerURL": "https://plot.ly"
       },
       "data": [
        {
         "marker": {
          "color": "#6d6df1"
         },
         "name": "Difference in Median",
         "type": "bar",
         "x": [
          "0xDeFiTH",
          "0xKhmer",
          "0xSalman",
          "0xs34n",
          "1W3",
          "6551 Studio",
          "ACryptoS",
          "APAC DAO",
          "API3 DAO",
          "ARPA Randcast",
          "ATK",
          "AW House/Komorebi's Hacker House",
          "Accessible Education for Web3 Public Goods Changemakers",
          "Account Abstraction - ERC-4337",
          "Across Protocol",
          "Admiano",
          "Aerodrome Finance",
          "Aestus Relay",
          "Agora",
          "Airstack",
          "Alchemy",
          "Alex Harley",
          "Alloy",
          "Alpha Insiders",
          "Andino - Talent in technology",
          "Andrew Hong (ilemi)",
          "Ankr",
          "Another World",
          "Antoine",
          "ApeWorX LTD",
          "Apetimism",
          "Apetimism Launchpad",
          "Arbiter",
          "Archly",
          "Arkham",
          "Artemis Analytics",
          "AsymmetricDefi",
          "Attest Fest",
          "Awesome Optimism",
          "AyaHQ",
          "AyohTunde",
          "BMX by Morphex",
          "Bankless Academy",
          "Bankless Africa",
          "Bankless Bengali",
          "Bankless DAO",
          "Bankless DAO Magyar ( Hungarian )",
          "Bankless Japan",
          "Bankless Malayalam",
          "Bankless Publishing",
          "BanklessDAO Turkish",
          "BanklessUA",
          "Banklessadria",
          "Base Punk",
          "BasePaint",
          "Based Nouns",
          "Baseswap",
          "Basic course in blockchain and crypto literacy",
          "Beam Wallet LLC",
          "Bedrock Contracts Architecture Diagram",
          "Bio.xyz",
          "BitcoinAddict Thailand",
          "Blobscan",
          "Blockchain na Escola",
          "BlockchainOAU",
          "Blockchain_Space",
          "Blockhead: track/visualize/explore all of crypto/DeFi/web3 in ONE interface!",
          "Blocknative | Web3 Onboard",
          "Blockscout Block Explorer",
          "Blocktorch",
          "Blocktrend (區塊勢)",
          "Blue Norva",
          "Boardroom",
          "Bob",
          "Bonding Curve Research Group",
          "Bored Town NFT art community",
          "Bress",
          "Brian Kim",
          "Brichis",
          "BrightID",
          "Builder Protocol",
          "Buildooor",
          "BunnyAI",
          "Bware Labs",
          "CII",
          "Candide",
          "Cannon",
          "Cannon-rs",
          "Cardo",
          "Carlos Melgar",
          "Castle Capital",
          "ChainList",
          "ChainPatrol - Real Time Security protecting the OP Collective",
          "Chaineye",
          "CharmVerse",
          "Chronicle Labs",
          "Cielo",
          "Clave (formerly Opclave)",
          "Client Side Proofs",
          "Clipper",
          "Clique",
          "Coinbold",
          "Coinpassport",
          "Collab.Land",
          "Commons Stack",
          "CompareNodes",
          "Conduit",
          "Coop Records Music",
          "Coordinape",
          "Copin.io",
          "Covalent",
          "Crew",
          "CrossAngle (“Xangle”)",
          "Crowdmuse",
          "Crust Network",
          "Crypto Commons Association",
          "Crypto Fundraising",
          "Crypto Sapiens",
          "CryptoConexión",
          "CryptoDuck",
          "CryptoMage",
          "CryptoStats & CryptoFees.info",
          "CryptoZombies",
          "Cryptoast",
          "Cryptola",
          "Cryptomind Research",
          "Cryptosquare",
          "Cryptotesters",
          "Cryptoversidad",
          "DAC on OP Stack",
          "DRAMA",
          "DackieSwap",
          "Dapp-Learning",
          "DappRadar",
          "Dappnode",
          "Dasy",
          "DeFI Saint",
          "DeFi Africa",
          "DeFi Declassified (OptiNauts NFT collection)",
          "DeFi France",
          "DeSchool",
          "Decent.xyz",
          "DecentrAgora",
          "Decentraclasses",
          "DeepDAO",
          "Defi-lab.xyz",
          "DefiLlama",
          "Defigourmet",
          "Definomics labs",
          "Defy Foundation",
          "Delegate",
          "Department of Decentralization",
          "DevRel Uni",
          "DexKit",
          "Diego",
          "Divergent",
          "Donate3",
          "Doris Protocol",
          "Downstream",
          "Duct Tape",
          "EGG 🥚 RECORDS",
          "EIP Fun",
          "EIP-4824/ DAOstar",
          "ERC-6551 Tooling",
          "ERC1155 Bridge",
          "ERC4337 Smart Accounts Dune Dashboard",
          "ETH Daily (OP News)",
          "ETHAccra",
          "ETHBarcelona",
          "ETHGlobal",
          "ETHSafari 2023",
          "EVM.Finance",
          "EZKL",
          "Edge & Node / The Graph",
          "Encriptados",
          "Endaoment",
          "Equalizer",
          "Erigon",
          "Espacio Cripto",
          "Eternal Garden: ORIGINS",
          "Eth-Volcano",
          "EthStaker",
          "Ether.actor",
          "EtherScore",
          "EthereansOS",
          "Ethereum Attestation Service",
          "Ethereum Cat Herders",
          "Ethereum Colombia",
          "Ethereum France",
          "Ethereum Lima",
          "Ethereum Mexico",
          "Ethereum on ARM",
          "EthereumETL",
          "EthernautDAO",
          "European Crypto Initiative",
          "Eventcaster",
          "FA40Ziv",
          "FOAM",
          "Faina",
          "Fe",
          "FilosofiaCodigo",
          "Findcaster",
          "Fire",
          "First NFT Agency",
          "Flexible Voting",
          "Flipside Crypto",
          "Forum",
          "Fractal Visions",
          "Frame",
          "Frens",
          "Fugu Works",
          "Funding the Commons",
          "Gadgeteer (nanobro)",
          "Gajesh Naik",
          "Galxe",
          "GasHawk",
          "Gaslite",
          "Gelato",
          "Geo Web",
          "Gitcoin",
          "Gitcoin Passport",
          "GiveStation (youbuidl)",
          "Giveth",
          "Giveth Web3 House",
          "GoPlus Security",
          "Golden Boys (GOLD)",
          "Gov",
          "Grandine",
          "Grappa Finance",
          "Grateful",
          "Gravity DAO",
          "GreenPill Network",
          "Greg's Farcaster Projects",
          "Guild.xyz",
          "HER LATAM _ Optimistas Brillando en Blockchain",
          "Hardhat",
          "Hardhat Tracer",
          "Hats Protocol",
          "Hedgey",
          "Hitasyurek",
          "Holograph",
          "Holonym",
          "Hop DAO",
          "Hope: A Curated AI Assistant for the Optimism Ecosystem",
          "Hummingbot",
          "Hypercerts Foundation",
          "IC3",
          "IDriss",
          "IPFS",
          "ITU Blockchain",
          "IceBreak-R",
          "Iggy Social - Web3 Social for DAOs",
          "Immunefi",
          "Impersonator",
          "Inbest Program",
          "Index Supply",
          "Infinity Wallet",
          "Interface",
          "International Media Nodes (IMN)",
          "Interport Finance",
          "IntoTheBlock Optimism Analytics",
          "Inverter Network",
          "Invest in Music",
          "Ipsilon",
          "Ivan Molto",
          "Ivan on Tech",
          "JEFE TOKEN",
          "Jessy's Hacker House",
          "JiffyScan",
          "JobStash",
          "Joe",
          "Josh | The Blockchain Socialist",
          "JustCause",
          "KManuS88",
          "Kairos Research",
          "Kaito/CoffeeTimes",
          "Karma",
          "Keccak hashing",
          "Kernel",
          "Keyring",
          "Kiwi News",
          "Kredeum NFTs Factory",
          "Kristoph Galland",
          "Kromatika Finance",
          "KryptoSpace",
          "KudasaiJP",
          "Kwenta",
          "L2 Planet",
          "L2BEAT 💗",
          "LATASHÁ",
          "LNRZ",
          "LXDAO",
          "LandTorn - Lorak",
          "Lattice (OPCraft & MUD)",
          "LauNaMu",
          "Launchcaster",
          "Layer 2 Weekly Roundup",
          "Layer2News",
          "Layer3",
          "LearnWeb3",
          "Learning about OP through Gitcoin Grants",
          "Lemon",
          "LexDAO",
          "Lighthouse",
          "Llama Risk",
          "LlamaFolio",
          "Lodestar",
          "Lore",
          "Lyra Finance",
          "Lyra Research Collective",
          "Mac Budkowski",
          "MaitreSarce",
          "MarcoV",
          "Marko",
          "Mechanism Institute",
          "Merkly",
          "MesoReefDAO",
          "Messari",
          "Metagals",
          "Metagov",
          "MetricsDAO",
          "Mike-Alphaday",
          "Mirror",
          "Mirror Curator DAO",
          "Modular Crypto",
          "Modular Media",
          "Moonwell",
          "Mosaic",
          "Moso",
          "MrCrypto Arabic",
          "Mrfti",
          "MultiBaas blockchain middleware",
          "MyFirstLayer2",
          "NFTEarth",
          "Nacion Bankless",
          "Namespace",
          "Nethermind",
          "Newtro Arts",
          "NiceNode",
          "Nimbus",
          "NingNing",
          "Node Guardians",
          "Nodies DLB",
          "NumbaNERDs",
          "ODTU Blockchain",
          "OP Friday Twitter Thread Translation Contest",
          "OP Governance Analytics Dashboard",
          "OP Reth",
          "OP Security Council Rehearsal Beta Testers",
          "OPChainList",
          "Odos",
          "Onboard en Perú Optimistas e Indexer",
          "Onchain Media Enthusiast",
          "Onchain Postcard",
          "Onchain Reads",
          "OpTracker",
          "Open Source Observer",
          "OpenOcean",
          "OpenZeppelin Contracts",
          "Opti.domains | Connecting Web2&3 with ENS + Attestation",
          "OptiChads",
          "OptiNames | ENS on Optimism 🔴",
          "Optiland Quests",
          "Optimism AI",
          "Optimism Ambassadors",
          "Optimism Community Governance Calls (Michael)",
          "Optimism Español",
          "Optimism Grant Analytics: Grant3",
          "Optimism Grants Changelog",
          "Optimism Grants Council Season 4",
          "Optimism Guide",
          "Optimism Prices Contracts",
          "Optimism Resource Center",
          "Optimism Translators",
          "Optimism Türkiye",
          "Optimism University",
          "Optimism Vision Reservoir",
          "OptimismArabia",
          "OptimismCIS",
          "OptimismGuru",
          "Optimism_CIS",
          "Optimistic Academy",
          "Optimistic Indexer",
          "Optimystics",
          "Ospace Project",
          "Otterscan",
          "OurNetwork",
          "P256Verifier",
          "PR0",
          "PWN DAO",
          "Paco Bytes",
          "Pairwise",
          "Parsec Finance",
          "Patrick Workman",
          "PatrickAlphaC",
          "Paul Burg",
          "Perelyn",
          "Peter Priew Sommon",
          "Pheasant Network",
          "Picodes",
          "Pidgin Parlour",
          "Pin Save - decentralized Pinterest",
          "Pocket Network",
          "Pods",
          "Polynomial Bytes",
          "Ponder",
          "Praise",
          "Prettier Solidity",
          "Private Retrieval Fund",
          "ProMint",
          "Proof of Integrity",
          "Proofivy",
          "Protocol Guild",
          "Protofire Blockchain Learning Path",
          "Public Assembly",
          "Public Goods Grant Management",
          "Public HAUS",
          "Public Nouns",
          "Pyth Network",
          "QuantumFair",
          "RADAR",
          "RabbitHole",
          "RadicalxChange Foundation",
          "Raiden",
          "Rainbow Wallet",
          "RainbowKit",
          "Rainie",
          "Randomness Ceremony",
          "RareSkills Book of Zero Knowledge Proofs",
          "ReFi Medellín",
          "Redacted Research",
          "Refi Phangan",
          "RegenScore",
          "Remix CC",
          "Remix Project",
          "Reno",
          "Republik Rupiah",
          "RetroPGF Community",
          "RetroPGF Hub",
          "Retrolist | RetroPGF Rubric-based List Creation UI",
          "Revelo Intel",
          "Revert",
          "Revoke.cash",
          "Revolte",
          "RoOptimism",
          "Rodrigo NuñΞz",
          "Rollup Economics Dune Spell",
          "Rollup.codes",
          "Ronan Sandford",
          "Ryan Berckmans",
          "SEED Latam",
          "Sassal.eth",
          "Seamless Protocol",
          "Secureum",
          "Seedle",
          "ShapeShift DAO",
          "Sinjun",
          "Slither",
          "Slugs",
          "Small Brain Games",
          "Smart Onboarding SDK",
          "Snapshot",
          "Socket",
          "Solidity",
          "Solow 🐽",
          "Sonne Finance",
          "Soul Wallet",
          "Sourcify",
          "SpaghettETH",
          "Spearbit",
          "Sphinx (formerly ChugSplash)",
          "Splits",
          "Spring Zhang",
          "Squirtle0x",
          "Stable.fish",
          "State Channels",
          "StreamETH",
          "Subli",
          "Summer of Protocols",
          "Superchain Eco",
          "Superscan",
          "Support NERDs",
          "SupraOracles",
          "Surreal",
          "Sushi",
          "Sweetman",
          "Syke",
          "Synapse DAO",
          "Synapse Labs",
          "Synpress",
          "Synthetix",
          "Synthetix IPFS Node",
          "T2LATAM",
          "Tally",
          "Taxman: The Web3 Income Tax Helper",
          "Taz",
          "TechNERD Program",
          "Tenderly",
          "Test in Prod",
          "Thank Optimism | by ThriveCoin",
          "The Blockchain Report",
          "The Ethernaut",
          "The Noun Square Media Collective",
          "The Open X Project",
          "The Opimist",
          "The Optimism Superchain Roundup",
          "The Red Guild",
          "The Rollup",
          "The Rug",
          "Thesleeper.eth Thai OP Educator",
          "Thumbs Up",
          "Titanoboa",
          "Tockable.xyz",
          "Token Engineering Academy",
          "Token Engineering Commons",
          "Token Terminal",
          "Tokepad",
          "Travenesia",
          "TrueBlocks / Unchained Index",
          "TypeChain / DethCode",
          "UNWA",
          "UTU",
          "UXUY",
          "Ultra Sound Money",
          "Ultra Sound Relay",
          "Umbra",
          "UniDex",
          "Unitap",
          "Unruggable Names",
          "Upnode Deploy | OP Stack Deployment UI",
          "UseDApp",
          "VMEX Finance",
          "Validato",
          "Vaults.fyi",
          "Vectorized",
          "Velocimeter",
          "Velodrome",
          "Venom & Fang",
          "Verso",
          "VitaDAO",
          "Vue Dapp",
          "Vyper",
          "WASD",
          "WOOFi",
          "WTF Academy",
          "Waffle",
          "Wagmi / Viem",
          "WakeUp Labs",
          "Wallet Abstraction",
          "Wallet Guard",
          "Web3ForGood",
          "Web3Native",
          "Web3bridge",
          "Web3js",
          "Web3xplorer",
          "Webacy",
          "Week in Ethereum News",
          "WhatsABI",
          "Wildcards Protocol",
          "Wonderland",
          "Woosh",
          "Xanny",
          "Xofee",
          "XomNFT",
          "Yearn",
          "Yoki Finance",
          "ZEFIRIUM",
          "ZORA",
          "ZachXBT",
          "Zengo: Decentralized Budget",
          "Zero Knowledge Podcast",
          "Zuzalu",
          "abi-to-sol",
          "anotherblock",
          "arabianhorses",
          "banterlytics",
          "beaconcha.in",
          "bh2smith",
          "blst Cryptography Library",
          "borderless",
          "c2ba",
          "coinman",
          "crate crypto",
          "criptomommy",
          "cryo",
          "cryptolawyer",
          "dForce",
          "daboyshine",
          "dm3 protocol.",
          "donnoh.eth",
          "draper",
          "dudedodut",
          "eth.limo",
          "ethOS",
          "ethers.js",
          "far.quest",
          "flink",
          "foundry",
          "gang",
          "geleeroyale",
          "ghostlinkz",
          "go-ethereum",
          "go-ethereum-hdwallet",
          "grapebaba",
          "growthepie",
          "herocast",
          "hildobby",
          "ilyessghz",
          "indexed.xyz",
          "jaxcoder",
          "joohhnnn",
          "jordanmmck",
          "libp2p",
          "markg85",
          "mehran @ castle",
          "monaditar",
          "polynya",
          "prego",
          "r72.fi",
          "raho & tnorm",
          "revm",
          "rhino.fi",
          "roll-op",
          "rotki",
          "ruslanklinkov",
          "satorrr",
          "simple-optimism-node (Maintaining my own fork)",
          "simple8720",
          "solidity-analyzer",
          "sorryvrerror",
          "sunce86",
          "supernova",
          "valio.xyz",
          "vrypan",
          "web3made",
          "webOfTrust",
          "wslyvh",
          "yAcademy/yAudit",
          "zenbit.eth",
          "zerokn0wledge",
          "⚡️ TurboETH",
          "🏰 BuidlGuidl",
          "🐍 snekmate"
         ],
         "y": [
          1100,
          0,
          0,
          0,
          0,
          0,
          7500,
          6000,
          8500,
          0,
          0,
          0,
          0,
          0,
          0,
          9250,
          0,
          2000,
          15000,
          1500,
          2000,
          0,
          0,
          0,
          2500,
          0,
          0,
          10000,
          0,
          0,
          1900,
          0,
          0,
          0,
          32000,
          0,
          2300,
          0,
          0,
          5000,
          0,
          4000,
          5000,
          6500,
          5000,
          1000,
          5000,
          1650,
          2400,
          11500,
          1300,
          2500,
          5000,
          0,
          0,
          0,
          0,
          450,
          0,
          0,
          0,
          0,
          0,
          3500,
          0,
          5000,
          0,
          0,
          0,
          11000,
          1500,
          0,
          0,
          750,
          0,
          2500,
          0,
          0,
          0,
          0,
          0,
          0,
          0,
          0,
          4000,
          0,
          0,
          1000,
          0,
          1500,
          0,
          0,
          0,
          0,
          5000,
          0,
          0,
          0,
          0,
          27000,
          0,
          0,
          15000,
          0,
          2500,
          0,
          0,
          2000,
          0,
          0,
          0,
          2500,
          0,
          0,
          0,
          5000,
          0,
          2000,
          2500,
          400,
          0,
          0,
          0,
          5000,
          1500,
          1000,
          0,
          0,
          0,
          0,
          2500,
          0,
          2500,
          3000,
          0,
          4000,
          0,
          4000,
          3700,
          400,
          0,
          4000,
          0,
          20000,
          0,
          9500,
          0,
          1250,
          2500,
          0,
          0,
          0,
          2500,
          0,
          0,
          0,
          0,
          0,
          0,
          0,
          0,
          12500,
          0,
          0,
          0,
          0,
          0,
          1000,
          0,
          25000,
          0,
          0,
          0,
          9500,
          1000,
          0,
          1500,
          0,
          0,
          0,
          0,
          7500,
          0,
          0,
          2500,
          0,
          0,
          2500,
          0,
          1500,
          0,
          0,
          0,
          0,
          0,
          0,
          4855,
          0,
          0,
          0,
          0,
          5000,
          0,
          0,
          0,
          12000,
          0,
          0,
          0,
          0,
          0,
          0,
          0,
          0,
          8000,
          0,
          0,
          0,
          7500,
          0,
          0,
          2500,
          0,
          20000,
          12500,
          12500,
          0,
          7500,
          1500,
          0,
          2500,
          12500,
          0,
          0,
          1500,
          5000,
          0,
          0,
          0,
          0,
          0,
          0,
          12500,
          0,
          3500,
          0,
          0,
          0,
          20000,
          0,
          14500,
          0,
          70000,
          0,
          0,
          2500,
          0,
          0,
          0,
          9500,
          0,
          0,
          2500,
          0,
          0,
          3100,
          10000,
          0,
          0,
          3000,
          1050,
          0,
          0,
          0,
          500,
          2500,
          0,
          0,
          0,
          7000,
          0,
          0,
          5000,
          10000,
          750,
          0,
          40000,
          0,
          0,
          0,
          0,
          2000,
          0,
          0,
          0,
          0,
          0,
          5000,
          0,
          0,
          2500,
          2250,
          4000,
          0,
          1500,
          6500,
          0,
          10000,
          0,
          0,
          10000,
          5000,
          0,
          2500,
          0,
          0,
          5000,
          25000,
          0,
          0,
          2500,
          0,
          0,
          2500,
          0,
          5000,
          1000,
          0,
          0,
          0,
          0,
          0,
          0,
          27500,
          10000,
          0,
          0,
          0,
          0,
          0,
          1650,
          0,
          0,
          0,
          0,
          2500,
          1000,
          0,
          7500,
          2000,
          0,
          0,
          13000,
          3200,
          2500,
          0,
          0,
          15000,
          0,
          2500,
          1500,
          0,
          0,
          4000,
          0,
          0,
          500,
          0,
          0,
          0,
          0,
          0,
          0,
          0,
          2000,
          0,
          0,
          0,
          750,
          19000,
          2500,
          0,
          0,
          5000,
          29750,
          0,
          0,
          0,
          9000,
          7500,
          0,
          3000,
          500,
          0,
          0,
          1600,
          0,
          2250,
          0,
          0,
          0,
          5000,
          0,
          0,
          2000,
          0,
          10000,
          0,
          13000,
          0,
          0,
          0,
          0,
          0,
          0,
          15500,
          0,
          25000,
          2000,
          2500,
          0,
          0,
          0,
          0,
          0,
          0,
          2500,
          5000,
          2000,
          2000,
          0,
          0,
          0,
          0,
          0,
          0,
          0,
          5000,
          0,
          0,
          0,
          0,
          0,
          0,
          0,
          0,
          0,
          0,
          0,
          2500,
          0,
          0,
          0,
          0,
          0,
          0,
          2100,
          0,
          0,
          0,
          0,
          0,
          0,
          35000,
          1000,
          10000,
          0,
          0,
          2500,
          0,
          0,
          0,
          0,
          4250,
          0,
          0,
          0,
          0,
          0,
          0,
          0,
          0,
          0,
          0,
          0,
          0,
          190,
          25000,
          50000,
          0,
          50000,
          0,
          0,
          15000,
          0,
          0,
          0,
          23000,
          0,
          0,
          270,
          0,
          0,
          0,
          0,
          2500,
          0,
          0,
          11500,
          0,
          5000,
          0,
          0,
          0,
          10000,
          6500,
          6000,
          4000,
          10000,
          0,
          7500,
          16500,
          6500,
          1000,
          0,
          0,
          0,
          0,
          0,
          2500,
          0,
          11000,
          8000,
          0,
          0,
          0,
          0,
          0,
          0,
          3000,
          0,
          10000,
          2000,
          0,
          0,
          0,
          0,
          0,
          0,
          0,
          0,
          2500,
          21000,
          0,
          0,
          0,
          15000,
          0,
          0,
          0,
          0,
          0,
          9000,
          200,
          0,
          0,
          0,
          50000,
          0,
          0,
          0,
          0,
          0,
          0,
          0,
          0,
          25000,
          0,
          0,
          3750,
          27500,
          7500,
          0,
          1500,
          0,
          0,
          8000,
          1500,
          0,
          0,
          0,
          0,
          0,
          0,
          0,
          0,
          0,
          0,
          0,
          0,
          5000,
          0,
          0,
          0,
          0,
          10000,
          0,
          0,
          0,
          0,
          0,
          0,
          0,
          0,
          17500,
          0,
          2500,
          0,
          0,
          0,
          0,
          0,
          0,
          0,
          0,
          0,
          0,
          2000,
          0,
          0,
          0,
          0,
          1500,
          0,
          0,
          0,
          0,
          0,
          0,
          0,
          0,
          0,
          0
         ]
        }
       ],
       "layout": {
        "height": 600,
        "margin": {
         "b": 0,
         "t": 0
        },
        "shapes": [
         {
          "line": {
           "color": "red"
          },
          "type": "line",
          "x0": 0,
          "x1": 1,
          "xref": "x domain",
          "y0": 2540.9253499222395,
          "y1": 2540.9253499222395,
          "yref": "y"
         }
        ],
        "template": {
         "data": {
          "bar": [
           {
            "error_x": {
             "color": "#f2f5fa"
            },
            "error_y": {
             "color": "#f2f5fa"
            },
            "marker": {
             "line": {
              "color": "rgb(17,17,17)",
              "width": 0.5
             },
             "pattern": {
              "fillmode": "overlay",
              "size": 10,
              "solidity": 0.2
             }
            },
            "type": "bar"
           }
          ],
          "barpolar": [
           {
            "marker": {
             "line": {
              "color": "rgb(17,17,17)",
              "width": 0.5
             },
             "pattern": {
              "fillmode": "overlay",
              "size": 10,
              "solidity": 0.2
             }
            },
            "type": "barpolar"
           }
          ],
          "carpet": [
           {
            "aaxis": {
             "endlinecolor": "#A2B1C6",
             "gridcolor": "#506784",
             "linecolor": "#506784",
             "minorgridcolor": "#506784",
             "startlinecolor": "#A2B1C6"
            },
            "baxis": {
             "endlinecolor": "#A2B1C6",
             "gridcolor": "#506784",
             "linecolor": "#506784",
             "minorgridcolor": "#506784",
             "startlinecolor": "#A2B1C6"
            },
            "type": "carpet"
           }
          ],
          "choropleth": [
           {
            "colorbar": {
             "outlinewidth": 0,
             "ticks": ""
            },
            "type": "choropleth"
           }
          ],
          "contour": [
           {
            "colorbar": {
             "outlinewidth": 0,
             "ticks": ""
            },
            "colorscale": [
             [
              0,
              "#0d0887"
             ],
             [
              0.1111111111111111,
              "#46039f"
             ],
             [
              0.2222222222222222,
              "#7201a8"
             ],
             [
              0.3333333333333333,
              "#9c179e"
             ],
             [
              0.4444444444444444,
              "#bd3786"
             ],
             [
              0.5555555555555556,
              "#d8576b"
             ],
             [
              0.6666666666666666,
              "#ed7953"
             ],
             [
              0.7777777777777778,
              "#fb9f3a"
             ],
             [
              0.8888888888888888,
              "#fdca26"
             ],
             [
              1,
              "#f0f921"
             ]
            ],
            "type": "contour"
           }
          ],
          "contourcarpet": [
           {
            "colorbar": {
             "outlinewidth": 0,
             "ticks": ""
            },
            "type": "contourcarpet"
           }
          ],
          "heatmap": [
           {
            "colorbar": {
             "outlinewidth": 0,
             "ticks": ""
            },
            "colorscale": [
             [
              0,
              "#0d0887"
             ],
             [
              0.1111111111111111,
              "#46039f"
             ],
             [
              0.2222222222222222,
              "#7201a8"
             ],
             [
              0.3333333333333333,
              "#9c179e"
             ],
             [
              0.4444444444444444,
              "#bd3786"
             ],
             [
              0.5555555555555556,
              "#d8576b"
             ],
             [
              0.6666666666666666,
              "#ed7953"
             ],
             [
              0.7777777777777778,
              "#fb9f3a"
             ],
             [
              0.8888888888888888,
              "#fdca26"
             ],
             [
              1,
              "#f0f921"
             ]
            ],
            "type": "heatmap"
           }
          ],
          "heatmapgl": [
           {
            "colorbar": {
             "outlinewidth": 0,
             "ticks": ""
            },
            "colorscale": [
             [
              0,
              "#0d0887"
             ],
             [
              0.1111111111111111,
              "#46039f"
             ],
             [
              0.2222222222222222,
              "#7201a8"
             ],
             [
              0.3333333333333333,
              "#9c179e"
             ],
             [
              0.4444444444444444,
              "#bd3786"
             ],
             [
              0.5555555555555556,
              "#d8576b"
             ],
             [
              0.6666666666666666,
              "#ed7953"
             ],
             [
              0.7777777777777778,
              "#fb9f3a"
             ],
             [
              0.8888888888888888,
              "#fdca26"
             ],
             [
              1,
              "#f0f921"
             ]
            ],
            "type": "heatmapgl"
           }
          ],
          "histogram": [
           {
            "marker": {
             "pattern": {
              "fillmode": "overlay",
              "size": 10,
              "solidity": 0.2
             }
            },
            "type": "histogram"
           }
          ],
          "histogram2d": [
           {
            "colorbar": {
             "outlinewidth": 0,
             "ticks": ""
            },
            "colorscale": [
             [
              0,
              "#0d0887"
             ],
             [
              0.1111111111111111,
              "#46039f"
             ],
             [
              0.2222222222222222,
              "#7201a8"
             ],
             [
              0.3333333333333333,
              "#9c179e"
             ],
             [
              0.4444444444444444,
              "#bd3786"
             ],
             [
              0.5555555555555556,
              "#d8576b"
             ],
             [
              0.6666666666666666,
              "#ed7953"
             ],
             [
              0.7777777777777778,
              "#fb9f3a"
             ],
             [
              0.8888888888888888,
              "#fdca26"
             ],
             [
              1,
              "#f0f921"
             ]
            ],
            "type": "histogram2d"
           }
          ],
          "histogram2dcontour": [
           {
            "colorbar": {
             "outlinewidth": 0,
             "ticks": ""
            },
            "colorscale": [
             [
              0,
              "#0d0887"
             ],
             [
              0.1111111111111111,
              "#46039f"
             ],
             [
              0.2222222222222222,
              "#7201a8"
             ],
             [
              0.3333333333333333,
              "#9c179e"
             ],
             [
              0.4444444444444444,
              "#bd3786"
             ],
             [
              0.5555555555555556,
              "#d8576b"
             ],
             [
              0.6666666666666666,
              "#ed7953"
             ],
             [
              0.7777777777777778,
              "#fb9f3a"
             ],
             [
              0.8888888888888888,
              "#fdca26"
             ],
             [
              1,
              "#f0f921"
             ]
            ],
            "type": "histogram2dcontour"
           }
          ],
          "mesh3d": [
           {
            "colorbar": {
             "outlinewidth": 0,
             "ticks": ""
            },
            "type": "mesh3d"
           }
          ],
          "parcoords": [
           {
            "line": {
             "colorbar": {
              "outlinewidth": 0,
              "ticks": ""
             }
            },
            "type": "parcoords"
           }
          ],
          "pie": [
           {
            "automargin": true,
            "type": "pie"
           }
          ],
          "scatter": [
           {
            "marker": {
             "line": {
              "color": "#283442"
             }
            },
            "type": "scatter"
           }
          ],
          "scatter3d": [
           {
            "line": {
             "colorbar": {
              "outlinewidth": 0,
              "ticks": ""
             }
            },
            "marker": {
             "colorbar": {
              "outlinewidth": 0,
              "ticks": ""
             }
            },
            "type": "scatter3d"
           }
          ],
          "scattercarpet": [
           {
            "marker": {
             "colorbar": {
              "outlinewidth": 0,
              "ticks": ""
             }
            },
            "type": "scattercarpet"
           }
          ],
          "scattergeo": [
           {
            "marker": {
             "colorbar": {
              "outlinewidth": 0,
              "ticks": ""
             }
            },
            "type": "scattergeo"
           }
          ],
          "scattergl": [
           {
            "marker": {
             "line": {
              "color": "#283442"
             }
            },
            "type": "scattergl"
           }
          ],
          "scattermapbox": [
           {
            "marker": {
             "colorbar": {
              "outlinewidth": 0,
              "ticks": ""
             }
            },
            "type": "scattermapbox"
           }
          ],
          "scatterpolar": [
           {
            "marker": {
             "colorbar": {
              "outlinewidth": 0,
              "ticks": ""
             }
            },
            "type": "scatterpolar"
           }
          ],
          "scatterpolargl": [
           {
            "marker": {
             "colorbar": {
              "outlinewidth": 0,
              "ticks": ""
             }
            },
            "type": "scatterpolargl"
           }
          ],
          "scatterternary": [
           {
            "marker": {
             "colorbar": {
              "outlinewidth": 0,
              "ticks": ""
             }
            },
            "type": "scatterternary"
           }
          ],
          "surface": [
           {
            "colorbar": {
             "outlinewidth": 0,
             "ticks": ""
            },
            "colorscale": [
             [
              0,
              "#0d0887"
             ],
             [
              0.1111111111111111,
              "#46039f"
             ],
             [
              0.2222222222222222,
              "#7201a8"
             ],
             [
              0.3333333333333333,
              "#9c179e"
             ],
             [
              0.4444444444444444,
              "#bd3786"
             ],
             [
              0.5555555555555556,
              "#d8576b"
             ],
             [
              0.6666666666666666,
              "#ed7953"
             ],
             [
              0.7777777777777778,
              "#fb9f3a"
             ],
             [
              0.8888888888888888,
              "#fdca26"
             ],
             [
              1,
              "#f0f921"
             ]
            ],
            "type": "surface"
           }
          ],
          "table": [
           {
            "cells": {
             "fill": {
              "color": "#506784"
             },
             "line": {
              "color": "rgb(17,17,17)"
             }
            },
            "header": {
             "fill": {
              "color": "#2a3f5f"
             },
             "line": {
              "color": "rgb(17,17,17)"
             }
            },
            "type": "table"
           }
          ]
         },
         "layout": {
          "annotationdefaults": {
           "arrowcolor": "#f2f5fa",
           "arrowhead": 0,
           "arrowwidth": 1
          },
          "autotypenumbers": "strict",
          "coloraxis": {
           "colorbar": {
            "outlinewidth": 0,
            "ticks": ""
           }
          },
          "colorscale": {
           "diverging": [
            [
             0,
             "#8e0152"
            ],
            [
             0.1,
             "#c51b7d"
            ],
            [
             0.2,
             "#de77ae"
            ],
            [
             0.3,
             "#f1b6da"
            ],
            [
             0.4,
             "#fde0ef"
            ],
            [
             0.5,
             "#f7f7f7"
            ],
            [
             0.6,
             "#e6f5d0"
            ],
            [
             0.7,
             "#b8e186"
            ],
            [
             0.8,
             "#7fbc41"
            ],
            [
             0.9,
             "#4d9221"
            ],
            [
             1,
             "#276419"
            ]
           ],
           "sequential": [
            [
             0,
             "#0d0887"
            ],
            [
             0.1111111111111111,
             "#46039f"
            ],
            [
             0.2222222222222222,
             "#7201a8"
            ],
            [
             0.3333333333333333,
             "#9c179e"
            ],
            [
             0.4444444444444444,
             "#bd3786"
            ],
            [
             0.5555555555555556,
             "#d8576b"
            ],
            [
             0.6666666666666666,
             "#ed7953"
            ],
            [
             0.7777777777777778,
             "#fb9f3a"
            ],
            [
             0.8888888888888888,
             "#fdca26"
            ],
            [
             1,
             "#f0f921"
            ]
           ],
           "sequentialminus": [
            [
             0,
             "#0d0887"
            ],
            [
             0.1111111111111111,
             "#46039f"
            ],
            [
             0.2222222222222222,
             "#7201a8"
            ],
            [
             0.3333333333333333,
             "#9c179e"
            ],
            [
             0.4444444444444444,
             "#bd3786"
            ],
            [
             0.5555555555555556,
             "#d8576b"
            ],
            [
             0.6666666666666666,
             "#ed7953"
            ],
            [
             0.7777777777777778,
             "#fb9f3a"
            ],
            [
             0.8888888888888888,
             "#fdca26"
            ],
            [
             1,
             "#f0f921"
            ]
           ]
          },
          "colorway": [
           "#636efa",
           "#EF553B",
           "#00cc96",
           "#ab63fa",
           "#FFA15A",
           "#19d3f3",
           "#FF6692",
           "#B6E880",
           "#FF97FF",
           "#FECB52"
          ],
          "font": {
           "color": "#f2f5fa"
          },
          "geo": {
           "bgcolor": "rgb(17,17,17)",
           "lakecolor": "rgb(17,17,17)",
           "landcolor": "rgb(17,17,17)",
           "showlakes": true,
           "showland": true,
           "subunitcolor": "#506784"
          },
          "hoverlabel": {
           "align": "left"
          },
          "hovermode": "closest",
          "mapbox": {
           "style": "dark"
          },
          "paper_bgcolor": "rgb(17,17,17)",
          "plot_bgcolor": "rgb(17,17,17)",
          "polar": {
           "angularaxis": {
            "gridcolor": "#506784",
            "linecolor": "#506784",
            "ticks": ""
           },
           "bgcolor": "rgb(17,17,17)",
           "radialaxis": {
            "gridcolor": "#506784",
            "linecolor": "#506784",
            "ticks": ""
           }
          },
          "scene": {
           "xaxis": {
            "backgroundcolor": "rgb(17,17,17)",
            "gridcolor": "#506784",
            "gridwidth": 2,
            "linecolor": "#506784",
            "showbackground": true,
            "ticks": "",
            "zerolinecolor": "#C8D4E3"
           },
           "yaxis": {
            "backgroundcolor": "rgb(17,17,17)",
            "gridcolor": "#506784",
            "gridwidth": 2,
            "linecolor": "#506784",
            "showbackground": true,
            "ticks": "",
            "zerolinecolor": "#C8D4E3"
           },
           "zaxis": {
            "backgroundcolor": "rgb(17,17,17)",
            "gridcolor": "#506784",
            "gridwidth": 2,
            "linecolor": "#506784",
            "showbackground": true,
            "ticks": "",
            "zerolinecolor": "#C8D4E3"
           }
          },
          "shapedefaults": {
           "line": {
            "color": "#f2f5fa"
           }
          },
          "sliderdefaults": {
           "bgcolor": "#C8D4E3",
           "bordercolor": "rgb(17,17,17)",
           "borderwidth": 1,
           "tickwidth": 0
          },
          "ternary": {
           "aaxis": {
            "gridcolor": "#506784",
            "linecolor": "#506784",
            "ticks": ""
           },
           "baxis": {
            "gridcolor": "#506784",
            "linecolor": "#506784",
            "ticks": ""
           },
           "bgcolor": "rgb(17,17,17)",
           "caxis": {
            "gridcolor": "#506784",
            "linecolor": "#506784",
            "ticks": ""
           }
          },
          "title": {
           "x": 0.05
          },
          "updatemenudefaults": {
           "bgcolor": "#506784",
           "borderwidth": 0
          },
          "xaxis": {
           "automargin": true,
           "gridcolor": "#283442",
           "linecolor": "#506784",
           "ticks": "",
           "title": {
            "standoff": 15
           },
           "zerolinecolor": "#283442",
           "zerolinewidth": 2
          },
          "yaxis": {
           "automargin": true,
           "gridcolor": "#283442",
           "linecolor": "#506784",
           "ticks": "",
           "title": {
            "standoff": 15
           },
           "zerolinecolor": "#283442",
           "zerolinewidth": 2
          }
         }
        },
        "title": {
         "text": "Difference in Median with and without 0 Vote"
        },
        "xaxis": {
         "title": {
          "text": "Project Name"
         }
        },
        "yaxis": {
         "title": {
          "text": "Difference in Median"
         }
        }
       }
      }
     },
     "metadata": {},
     "output_type": "display_data"
    }
   ],
   "source": [
    "df['difference_0'] = df['median_without_0'] - df['median']\n",
    "print(f\"Mean difference: {df['difference_0'].mean()}\")\n",
    "print(f\"Standard deviation of difference: {df['difference_0'].std()}\")\n",
    "\n",
    "print(f\"Mean distance from median {(df[\"difference_0\"]/df['median']).abs().mean():.2%}\")\n",
    "\n",
    "fig = go.Figure()\n",
    "\n",
    "fig.add_trace(go.Bar(\n",
    "    x=df['project_name'],\n",
    "    y=df['difference_0'],\n",
    "    name='Difference in Median',\n",
    "    marker_color='#6d6df1'\n",
    "))\n",
    "\n",
    "fig.add_hline(\n",
    "    # x=df['project_name'],\n",
    "    y=df['difference_0'].mean(),\n",
    "    line_color='red'\n",
    ")\n",
    "\n",
    "fig.update_layout(\n",
    "    title='Difference in Median with and without 0 Vote',\n",
    "    xaxis=dict(title='Project Name'),\n",
    "    yaxis=dict(title='Difference in Median'),\n",
    "    height=600,\n",
    "    template='plotly_dark',\n",
    "    margin={'t':0,'b':0,},\n",
    ")\n",
    "\n",
    "\n",
    "fig.show()\n",
    "# fig.write_image(\"data/median_0.svg\")"
   ]
  },
  {
   "cell_type": "code",
   "execution_count": 6,
   "metadata": {},
   "outputs": [],
   "source": [
    "median_without_base = []\n",
    "mean_without_base = []\n",
    "for i, row in df.iterrows():\n",
    "    if row[\"base_vote\"] != 0:\n",
    "        row[\"votes\"].remove(row[\"base_vote_round\"])\n",
    "        median_without_base.append(np.median(row[\"votes\"]))\n",
    "        mean_without_base.append(np.mean(row[\"votes\"]))\n",
    "    else:\n",
    "        median_without_base.append(np.median(row[\"votes\"]))\n",
    "        mean_without_base.append(np.mean(row[\"votes\"]))\n",
    "    \n",
    "    \n",
    "df[\"median_without_base\"] = median_without_base\n",
    "df[\"mean_without_base\"] = mean_without_base\n"
   ]
  },
  {
   "cell_type": "code",
   "execution_count": 7,
   "metadata": {},
   "outputs": [
    {
     "name": "stdout",
     "output_type": "stream",
     "text": [
      "Mean difference: 521.7391304347826\n",
      "Standard deviation of difference: 6850.523156605018\n",
      "Correlation between median and median_without_base: 0.9982469082137659, P-value: 5.336107571129258e-84\n",
      "Perc of exact the same vote: 62.32%\n",
      "Mean distance from median 2.57%\n"
     ]
    }
   ],
   "source": [
    "df['difference'] = df['median_without_base'] - df['median']\n",
    "print(f\"Mean difference: {df['difference'].mean()}\")\n",
    "print(f\"Standard deviation of difference: {df['difference'].std()}\")\n",
    "\n",
    "\n",
    "correlation, p_value_corr = pearsonr(df['median'], df['median_without_base'])\n",
    "print(f\"Correlation between median and median_without_base: {correlation}, P-value: {p_value_corr}\")\n",
    "\n",
    "print(f\"Perc of exact the same vote: {(df[\"difference\"]==0).sum()/len(df):.2%}\")\n",
    "print(f\"Mean distance from median {(df[\"difference\"]/df['median']).abs().mean():.2%}\")"
   ]
  },
  {
   "cell_type": "code",
   "execution_count": 8,
   "metadata": {},
   "outputs": [
    {
     "data": {
      "text/plain": [
       "43"
      ]
     },
     "execution_count": 8,
     "metadata": {},
     "output_type": "execute_result"
    }
   ],
   "source": [
    "(df[\"difference\"]==0).sum()"
   ]
  },
  {
   "cell_type": "code",
   "execution_count": 9,
   "metadata": {},
   "outputs": [
    {
     "data": {
      "application/vnd.plotly.v1+json": {
       "config": {
        "plotlyServerURL": "https://plot.ly"
       },
       "data": [
        {
         "marker": {
          "color": "#6d6df1"
         },
         "type": "bar",
         "x": [
          "Mirror",
          "Velocimeter",
          "Lore",
          "Moso",
          "Superscan",
          "Galxe",
          "Aerodrome Finance",
          "Token Terminal",
          "Alchemy",
          "Airstack",
          "Tokepad",
          "Equalizer",
          "Based Nouns",
          "ERC4337 Smart Accounts Dune Dashboard",
          "Moonwell",
          "Xofee",
          "Synthetix",
          "Tenderly",
          "Frame",
          "Surreal",
          "Gelato",
          "Guild.xyz",
          "Vectorized",
          "Gaslite",
          "Interface",
          "Hop DAO",
          "Eventcaster",
          "Flipside Crypto",
          "Ethereum Attestation Service",
          "Endaoment",
          "AW House/Komorebi's Hacker House",
          "Across Protocol",
          "Messari",
          "LearnWeb3",
          "Launchcaster",
          "Layer3",
          "Lattice (OPCraft & MUD)",
          "LandTorn - Lorak",
          "OpenZeppelin Contracts",
          "Otterscan",
          "Rainbow Wallet",
          "Ponder",
          "Revoke.cash",
          "RainbowKit",
          "Socket",
          "Archly",
          "Modular Crypto",
          "Odos",
          "Builder Protocol",
          "Baseswap",
          "Covalent",
          "Cielo",
          "Delegate",
          "WASD",
          "Wagmi / Viem",
          "ethers.js",
          "go-ethereum",
          "growthepie",
          "rhino.fi",
          "Rollup.codes",
          "Hardhat",
          "IPFS",
          "Erigon",
          "Splits",
          "Week in Ethereum News",
          "ETHGlobal",
          "OP Reth",
          "Test in Prod",
          "Solidity"
         ],
         "y": [
          -20000,
          -11000,
          -10000,
          -9000,
          -7500,
          -5500,
          -5000,
          -3500,
          -2500,
          -1500,
          -1500,
          -1500,
          -1500,
          -1000,
          -500,
          -500,
          0,
          0,
          0,
          0,
          0,
          0,
          0,
          0,
          0,
          0,
          0,
          0,
          0,
          0,
          0,
          0,
          0,
          0,
          0,
          0,
          0,
          0,
          0,
          0,
          0,
          0,
          0,
          0,
          0,
          0,
          0,
          0,
          0,
          0,
          0,
          0,
          0,
          0,
          0,
          0,
          0,
          0,
          0,
          3500,
          5000,
          5000,
          5000,
          7000,
          7500,
          10000,
          15000,
          25000,
          35000
         ]
        }
       ],
       "layout": {
        "height": 780,
        "margin": {
         "b": 10,
         "t": 80
        },
        "showlegend": false,
        "template": {
         "data": {
          "bar": [
           {
            "error_x": {
             "color": "#f2f5fa"
            },
            "error_y": {
             "color": "#f2f5fa"
            },
            "marker": {
             "line": {
              "color": "rgb(17,17,17)",
              "width": 0.5
             },
             "pattern": {
              "fillmode": "overlay",
              "size": 10,
              "solidity": 0.2
             }
            },
            "type": "bar"
           }
          ],
          "barpolar": [
           {
            "marker": {
             "line": {
              "color": "rgb(17,17,17)",
              "width": 0.5
             },
             "pattern": {
              "fillmode": "overlay",
              "size": 10,
              "solidity": 0.2
             }
            },
            "type": "barpolar"
           }
          ],
          "carpet": [
           {
            "aaxis": {
             "endlinecolor": "#A2B1C6",
             "gridcolor": "#506784",
             "linecolor": "#506784",
             "minorgridcolor": "#506784",
             "startlinecolor": "#A2B1C6"
            },
            "baxis": {
             "endlinecolor": "#A2B1C6",
             "gridcolor": "#506784",
             "linecolor": "#506784",
             "minorgridcolor": "#506784",
             "startlinecolor": "#A2B1C6"
            },
            "type": "carpet"
           }
          ],
          "choropleth": [
           {
            "colorbar": {
             "outlinewidth": 0,
             "ticks": ""
            },
            "type": "choropleth"
           }
          ],
          "contour": [
           {
            "colorbar": {
             "outlinewidth": 0,
             "ticks": ""
            },
            "colorscale": [
             [
              0,
              "#0d0887"
             ],
             [
              0.1111111111111111,
              "#46039f"
             ],
             [
              0.2222222222222222,
              "#7201a8"
             ],
             [
              0.3333333333333333,
              "#9c179e"
             ],
             [
              0.4444444444444444,
              "#bd3786"
             ],
             [
              0.5555555555555556,
              "#d8576b"
             ],
             [
              0.6666666666666666,
              "#ed7953"
             ],
             [
              0.7777777777777778,
              "#fb9f3a"
             ],
             [
              0.8888888888888888,
              "#fdca26"
             ],
             [
              1,
              "#f0f921"
             ]
            ],
            "type": "contour"
           }
          ],
          "contourcarpet": [
           {
            "colorbar": {
             "outlinewidth": 0,
             "ticks": ""
            },
            "type": "contourcarpet"
           }
          ],
          "heatmap": [
           {
            "colorbar": {
             "outlinewidth": 0,
             "ticks": ""
            },
            "colorscale": [
             [
              0,
              "#0d0887"
             ],
             [
              0.1111111111111111,
              "#46039f"
             ],
             [
              0.2222222222222222,
              "#7201a8"
             ],
             [
              0.3333333333333333,
              "#9c179e"
             ],
             [
              0.4444444444444444,
              "#bd3786"
             ],
             [
              0.5555555555555556,
              "#d8576b"
             ],
             [
              0.6666666666666666,
              "#ed7953"
             ],
             [
              0.7777777777777778,
              "#fb9f3a"
             ],
             [
              0.8888888888888888,
              "#fdca26"
             ],
             [
              1,
              "#f0f921"
             ]
            ],
            "type": "heatmap"
           }
          ],
          "heatmapgl": [
           {
            "colorbar": {
             "outlinewidth": 0,
             "ticks": ""
            },
            "colorscale": [
             [
              0,
              "#0d0887"
             ],
             [
              0.1111111111111111,
              "#46039f"
             ],
             [
              0.2222222222222222,
              "#7201a8"
             ],
             [
              0.3333333333333333,
              "#9c179e"
             ],
             [
              0.4444444444444444,
              "#bd3786"
             ],
             [
              0.5555555555555556,
              "#d8576b"
             ],
             [
              0.6666666666666666,
              "#ed7953"
             ],
             [
              0.7777777777777778,
              "#fb9f3a"
             ],
             [
              0.8888888888888888,
              "#fdca26"
             ],
             [
              1,
              "#f0f921"
             ]
            ],
            "type": "heatmapgl"
           }
          ],
          "histogram": [
           {
            "marker": {
             "pattern": {
              "fillmode": "overlay",
              "size": 10,
              "solidity": 0.2
             }
            },
            "type": "histogram"
           }
          ],
          "histogram2d": [
           {
            "colorbar": {
             "outlinewidth": 0,
             "ticks": ""
            },
            "colorscale": [
             [
              0,
              "#0d0887"
             ],
             [
              0.1111111111111111,
              "#46039f"
             ],
             [
              0.2222222222222222,
              "#7201a8"
             ],
             [
              0.3333333333333333,
              "#9c179e"
             ],
             [
              0.4444444444444444,
              "#bd3786"
             ],
             [
              0.5555555555555556,
              "#d8576b"
             ],
             [
              0.6666666666666666,
              "#ed7953"
             ],
             [
              0.7777777777777778,
              "#fb9f3a"
             ],
             [
              0.8888888888888888,
              "#fdca26"
             ],
             [
              1,
              "#f0f921"
             ]
            ],
            "type": "histogram2d"
           }
          ],
          "histogram2dcontour": [
           {
            "colorbar": {
             "outlinewidth": 0,
             "ticks": ""
            },
            "colorscale": [
             [
              0,
              "#0d0887"
             ],
             [
              0.1111111111111111,
              "#46039f"
             ],
             [
              0.2222222222222222,
              "#7201a8"
             ],
             [
              0.3333333333333333,
              "#9c179e"
             ],
             [
              0.4444444444444444,
              "#bd3786"
             ],
             [
              0.5555555555555556,
              "#d8576b"
             ],
             [
              0.6666666666666666,
              "#ed7953"
             ],
             [
              0.7777777777777778,
              "#fb9f3a"
             ],
             [
              0.8888888888888888,
              "#fdca26"
             ],
             [
              1,
              "#f0f921"
             ]
            ],
            "type": "histogram2dcontour"
           }
          ],
          "mesh3d": [
           {
            "colorbar": {
             "outlinewidth": 0,
             "ticks": ""
            },
            "type": "mesh3d"
           }
          ],
          "parcoords": [
           {
            "line": {
             "colorbar": {
              "outlinewidth": 0,
              "ticks": ""
             }
            },
            "type": "parcoords"
           }
          ],
          "pie": [
           {
            "automargin": true,
            "type": "pie"
           }
          ],
          "scatter": [
           {
            "marker": {
             "line": {
              "color": "#283442"
             }
            },
            "type": "scatter"
           }
          ],
          "scatter3d": [
           {
            "line": {
             "colorbar": {
              "outlinewidth": 0,
              "ticks": ""
             }
            },
            "marker": {
             "colorbar": {
              "outlinewidth": 0,
              "ticks": ""
             }
            },
            "type": "scatter3d"
           }
          ],
          "scattercarpet": [
           {
            "marker": {
             "colorbar": {
              "outlinewidth": 0,
              "ticks": ""
             }
            },
            "type": "scattercarpet"
           }
          ],
          "scattergeo": [
           {
            "marker": {
             "colorbar": {
              "outlinewidth": 0,
              "ticks": ""
             }
            },
            "type": "scattergeo"
           }
          ],
          "scattergl": [
           {
            "marker": {
             "line": {
              "color": "#283442"
             }
            },
            "type": "scattergl"
           }
          ],
          "scattermapbox": [
           {
            "marker": {
             "colorbar": {
              "outlinewidth": 0,
              "ticks": ""
             }
            },
            "type": "scattermapbox"
           }
          ],
          "scatterpolar": [
           {
            "marker": {
             "colorbar": {
              "outlinewidth": 0,
              "ticks": ""
             }
            },
            "type": "scatterpolar"
           }
          ],
          "scatterpolargl": [
           {
            "marker": {
             "colorbar": {
              "outlinewidth": 0,
              "ticks": ""
             }
            },
            "type": "scatterpolargl"
           }
          ],
          "scatterternary": [
           {
            "marker": {
             "colorbar": {
              "outlinewidth": 0,
              "ticks": ""
             }
            },
            "type": "scatterternary"
           }
          ],
          "surface": [
           {
            "colorbar": {
             "outlinewidth": 0,
             "ticks": ""
            },
            "colorscale": [
             [
              0,
              "#0d0887"
             ],
             [
              0.1111111111111111,
              "#46039f"
             ],
             [
              0.2222222222222222,
              "#7201a8"
             ],
             [
              0.3333333333333333,
              "#9c179e"
             ],
             [
              0.4444444444444444,
              "#bd3786"
             ],
             [
              0.5555555555555556,
              "#d8576b"
             ],
             [
              0.6666666666666666,
              "#ed7953"
             ],
             [
              0.7777777777777778,
              "#fb9f3a"
             ],
             [
              0.8888888888888888,
              "#fdca26"
             ],
             [
              1,
              "#f0f921"
             ]
            ],
            "type": "surface"
           }
          ],
          "table": [
           {
            "cells": {
             "fill": {
              "color": "#506784"
             },
             "line": {
              "color": "rgb(17,17,17)"
             }
            },
            "header": {
             "fill": {
              "color": "#2a3f5f"
             },
             "line": {
              "color": "rgb(17,17,17)"
             }
            },
            "type": "table"
           }
          ]
         },
         "layout": {
          "annotationdefaults": {
           "arrowcolor": "#f2f5fa",
           "arrowhead": 0,
           "arrowwidth": 1
          },
          "autotypenumbers": "strict",
          "coloraxis": {
           "colorbar": {
            "outlinewidth": 0,
            "ticks": ""
           }
          },
          "colorscale": {
           "diverging": [
            [
             0,
             "#8e0152"
            ],
            [
             0.1,
             "#c51b7d"
            ],
            [
             0.2,
             "#de77ae"
            ],
            [
             0.3,
             "#f1b6da"
            ],
            [
             0.4,
             "#fde0ef"
            ],
            [
             0.5,
             "#f7f7f7"
            ],
            [
             0.6,
             "#e6f5d0"
            ],
            [
             0.7,
             "#b8e186"
            ],
            [
             0.8,
             "#7fbc41"
            ],
            [
             0.9,
             "#4d9221"
            ],
            [
             1,
             "#276419"
            ]
           ],
           "sequential": [
            [
             0,
             "#0d0887"
            ],
            [
             0.1111111111111111,
             "#46039f"
            ],
            [
             0.2222222222222222,
             "#7201a8"
            ],
            [
             0.3333333333333333,
             "#9c179e"
            ],
            [
             0.4444444444444444,
             "#bd3786"
            ],
            [
             0.5555555555555556,
             "#d8576b"
            ],
            [
             0.6666666666666666,
             "#ed7953"
            ],
            [
             0.7777777777777778,
             "#fb9f3a"
            ],
            [
             0.8888888888888888,
             "#fdca26"
            ],
            [
             1,
             "#f0f921"
            ]
           ],
           "sequentialminus": [
            [
             0,
             "#0d0887"
            ],
            [
             0.1111111111111111,
             "#46039f"
            ],
            [
             0.2222222222222222,
             "#7201a8"
            ],
            [
             0.3333333333333333,
             "#9c179e"
            ],
            [
             0.4444444444444444,
             "#bd3786"
            ],
            [
             0.5555555555555556,
             "#d8576b"
            ],
            [
             0.6666666666666666,
             "#ed7953"
            ],
            [
             0.7777777777777778,
             "#fb9f3a"
            ],
            [
             0.8888888888888888,
             "#fdca26"
            ],
            [
             1,
             "#f0f921"
            ]
           ]
          },
          "colorway": [
           "#636efa",
           "#EF553B",
           "#00cc96",
           "#ab63fa",
           "#FFA15A",
           "#19d3f3",
           "#FF6692",
           "#B6E880",
           "#FF97FF",
           "#FECB52"
          ],
          "font": {
           "color": "#f2f5fa"
          },
          "geo": {
           "bgcolor": "rgb(17,17,17)",
           "lakecolor": "rgb(17,17,17)",
           "landcolor": "rgb(17,17,17)",
           "showlakes": true,
           "showland": true,
           "subunitcolor": "#506784"
          },
          "hoverlabel": {
           "align": "left"
          },
          "hovermode": "closest",
          "mapbox": {
           "style": "dark"
          },
          "paper_bgcolor": "rgb(17,17,17)",
          "plot_bgcolor": "rgb(17,17,17)",
          "polar": {
           "angularaxis": {
            "gridcolor": "#506784",
            "linecolor": "#506784",
            "ticks": ""
           },
           "bgcolor": "rgb(17,17,17)",
           "radialaxis": {
            "gridcolor": "#506784",
            "linecolor": "#506784",
            "ticks": ""
           }
          },
          "scene": {
           "xaxis": {
            "backgroundcolor": "rgb(17,17,17)",
            "gridcolor": "#506784",
            "gridwidth": 2,
            "linecolor": "#506784",
            "showbackground": true,
            "ticks": "",
            "zerolinecolor": "#C8D4E3"
           },
           "yaxis": {
            "backgroundcolor": "rgb(17,17,17)",
            "gridcolor": "#506784",
            "gridwidth": 2,
            "linecolor": "#506784",
            "showbackground": true,
            "ticks": "",
            "zerolinecolor": "#C8D4E3"
           },
           "zaxis": {
            "backgroundcolor": "rgb(17,17,17)",
            "gridcolor": "#506784",
            "gridwidth": 2,
            "linecolor": "#506784",
            "showbackground": true,
            "ticks": "",
            "zerolinecolor": "#C8D4E3"
           }
          },
          "shapedefaults": {
           "line": {
            "color": "#f2f5fa"
           }
          },
          "sliderdefaults": {
           "bgcolor": "#C8D4E3",
           "bordercolor": "rgb(17,17,17)",
           "borderwidth": 1,
           "tickwidth": 0
          },
          "ternary": {
           "aaxis": {
            "gridcolor": "#506784",
            "linecolor": "#506784",
            "ticks": ""
           },
           "baxis": {
            "gridcolor": "#506784",
            "linecolor": "#506784",
            "ticks": ""
           },
           "bgcolor": "rgb(17,17,17)",
           "caxis": {
            "gridcolor": "#506784",
            "linecolor": "#506784",
            "ticks": ""
           }
          },
          "title": {
           "x": 0.05
          },
          "updatemenudefaults": {
           "bgcolor": "#506784",
           "borderwidth": 0
          },
          "xaxis": {
           "automargin": true,
           "gridcolor": "#283442",
           "linecolor": "#506784",
           "ticks": "",
           "title": {
            "standoff": 15
           },
           "zerolinecolor": "#283442",
           "zerolinewidth": 2
          },
          "yaxis": {
           "automargin": true,
           "gridcolor": "#283442",
           "linecolor": "#506784",
           "ticks": "",
           "title": {
            "standoff": 15
           },
           "zerolinecolor": "#283442",
           "zerolinewidth": 2
          }
         }
        },
        "title": {
         "font": {
          "size": 32
         },
         "text": "Median vs Median without Pollak votes",
         "x": 0.5,
         "xanchor": "center",
         "y": 0.95,
         "yanchor": "top"
        },
        "width": 1020,
        "xaxis": {
         "tickfont": {
          "size": 20
         },
         "title": {
          "font": {
           "size": 20
          },
          "text": "Dapps"
         }
        },
        "yaxis": {
         "tickfont": {
          "size": 20
         },
         "title": {
          "font": {
           "size": 20
          },
          "text": "Median - Median Pollak votes"
         }
        }
       }
      }
     },
     "metadata": {},
     "output_type": "display_data"
    }
   ],
   "source": [
    "# fig = px.bar(\n",
    "#     df, x='project_name', y='difference',\n",
    "#     labels={'project_name': 'Project Name', 'difference': 'Difference in Median'},\n",
    "#     title='Difference in Median with and without Pollak Vote (higher mean Pollak voted higher)',\n",
    "#     height=600\n",
    "# )\n",
    "\n",
    "# fig.show()\n",
    "\n",
    "fig = go.Figure()\n",
    "\n",
    "fig.add_trace(go.Bar(\n",
    "    x=df.sort_values(\"difference\")['project_name'],\n",
    "    y=df.sort_values(\"difference\")['difference'],\n",
    "    # name='Difference in Median',\n",
    "    marker_color='#6d6df1'\n",
    "))\n",
    "\n",
    "# fig.add_hline(\n",
    "#     # x=df['project_name'],\n",
    "#     y=df['difference'].mean(),\n",
    "#     line_color='red'\n",
    "# )\n",
    "\n",
    "# fig.update_layout(\n",
    "#     title='Difference in Median with and without Pollak Vote',\n",
    "#     xaxis=dict(title='Project Name'),\n",
    "#     yaxis=dict(title='Difference in Median'),\n",
    "#     height=600,\n",
    "#     template='plotly_dark',\n",
    "#     margin={'t':0,'b':0,},\n",
    "# )\n",
    "fig.update_layout(\n",
    "    title={\n",
    "        'text': 'Median vs Median without Pollak votes',\n",
    "        'y': 0.95,\n",
    "        'x': 0.5,\n",
    "        'xanchor': 'center',\n",
    "        'yanchor': 'top',\n",
    "        'font': {'size': 32}\n",
    "    },\n",
    "    xaxis=dict(title='Dapps', title_font={'size': 20},\n",
    "        tickfont={'size': 20}),\n",
    "    yaxis=dict(title='Median - Median Pollak votes', title_font={'size': 20},\n",
    "        tickfont={'size': 20}),\n",
    "    height=780, width=1020,\n",
    "    template='plotly_dark',\n",
    "    margin={'t':80,'b':10},\n",
    "    showlegend=False,\n",
    ")\n",
    "\n",
    "fig.show()\n",
    "fig.write_image(\"data/median_pollak.png\", height=780, width=1020)"
   ]
  },
  {
   "cell_type": "code",
   "execution_count": 10,
   "metadata": {},
   "outputs": [
    {
     "name": "stdout",
     "output_type": "stream",
     "text": [
      "Mean difference: 1189.8013224580534\n",
      "Standard deviation of difference: 2098.9586459769384\n",
      "Correlation between median and median_without_base: 0.9999747151434192, P-value: 1.1679933525766535e-145\n",
      "Perc of exact the same vote: 0.00%\n"
     ]
    }
   ],
   "source": [
    "df['difference_mean'] = df['mean_without_base'] - df['mean']\n",
    "print(f\"Mean difference: {df['difference_mean'].mean()}\")\n",
    "print(f\"Standard deviation of difference: {df['difference_mean'].std()}\")\n",
    "\n",
    "\n",
    "correlation, p_value_corr = pearsonr(df['mean'], df['mean_without_base'])\n",
    "print(f\"Correlation between median and median_without_base: {correlation}, P-value: {p_value_corr}\")\n",
    "\n",
    "print(f\"Perc of exact the same vote: {(df[\"difference_mean\"]==0).sum()/len(df):.2%}\")"
   ]
  },
  {
   "cell_type": "code",
   "execution_count": 11,
   "metadata": {},
   "outputs": [
    {
     "data": {
      "application/vnd.plotly.v1+json": {
       "config": {
        "plotlyServerURL": "https://plot.ly"
       },
       "data": [
        {
         "marker": {
          "color": "#6d6df1"
         },
         "name": "Difference in Mean",
         "type": "bar",
         "x": [
          "Aerodrome Finance",
          "Moonwell",
          "Based Nouns",
          "Xofee",
          "Velocimeter",
          "Layer3",
          "Equalizer",
          "Airstack",
          "Moso",
          "Odos",
          "Ponder",
          "Messari",
          "Builder Protocol",
          "Galxe",
          "Gaslite",
          "Covalent",
          "Tokepad",
          "Baseswap",
          "Guild.xyz",
          "Archly",
          "Surreal",
          "LearnWeb3",
          "rhino.fi",
          "Lore",
          "Superscan",
          "Launchcaster",
          "Modular Crypto",
          "Eventcaster",
          "Cielo",
          "LandTorn - Lorak",
          "Interface",
          "ERC4337 Smart Accounts Dune Dashboard",
          "Flipside Crypto",
          "Alchemy",
          "Token Terminal",
          "Socket",
          "Rollup.codes",
          "Gelato",
          "growthepie",
          "Mirror",
          "Tenderly",
          "Delegate",
          "Vectorized",
          "Rainbow Wallet",
          "Across Protocol",
          "RainbowKit",
          "Revoke.cash",
          "Frame",
          "Week in Ethereum News",
          "Splits",
          "go-ethereum",
          "Endaoment",
          "Otterscan",
          "OP Reth",
          "Ethereum Attestation Service",
          "IPFS",
          "WASD",
          "OpenZeppelin Contracts",
          "AW House/Komorebi's Hacker House",
          "Hop DAO",
          "Wagmi / Viem",
          "Hardhat",
          "ethers.js",
          "Synthetix",
          "Erigon",
          "ETHGlobal",
          "Lattice (OPCraft & MUD)",
          "Solidity",
          "Test in Prod"
         ],
         "y": [
          -3827.4509803921683,
          -1389.946018893388,
          -1052.2580645161288,
          -960.215053763437,
          -958.9947089947091,
          -921.7647058823495,
          -919.5402298850604,
          -885.0267379679135,
          -851.7241379310362,
          -806,
          -777.2604588394024,
          -678.8792172739559,
          -618.4541062802018,
          -519.8427382053633,
          -493.29268292683264,
          -455.4655870445349,
          -454.36507936508133,
          -428.0158730158728,
          -395.5579058699077,
          -324.7311827957019,
          -301.4550264550271,
          -287.2621564482033,
          -206.43939393939218,
          -153.07692307692196,
          -114.1414141414134,
          9.24608819346031,
          48.77551020408282,
          99.09909909909766,
          102.74621212121565,
          240.92741935484082,
          333.96870554765337,
          368.5726950354583,
          380.6202590194298,
          435.4473991817649,
          631.6425120773056,
          806.0869565217436,
          845.7350272232288,
          919.0724206349114,
          965.0349650349526,
          1006.6590563165955,
          1534.561458718992,
          1553.1836734693934,
          1576.310641627526,
          1612.5532365396502,
          1625.261324041814,
          1632.5381369685056,
          1869.413233458181,
          1918.5491723466548,
          2064.16216216216,
          2079.2207792207773,
          2112.1881188119296,
          2223.6819727891125,
          2757.895279323857,
          2860.817307692312,
          3061.477325853193,
          3212.593984962441,
          3316.816816816805,
          3573.632538569451,
          3608.260869565216,
          3675.1428571428696,
          3815.1907001045183,
          4172.673267326725,
          4518.250749426894,
          4742.523060796608,
          5144.0635451504495,
          5231.473158551846,
          5561.698858647898,
          6100.076452599373,
          6529.606625258806
         ]
        }
       ],
       "layout": {
        "height": 780,
        "margin": {
         "b": 10,
         "t": 80
        },
        "showlegend": false,
        "template": {
         "data": {
          "bar": [
           {
            "error_x": {
             "color": "#f2f5fa"
            },
            "error_y": {
             "color": "#f2f5fa"
            },
            "marker": {
             "line": {
              "color": "rgb(17,17,17)",
              "width": 0.5
             },
             "pattern": {
              "fillmode": "overlay",
              "size": 10,
              "solidity": 0.2
             }
            },
            "type": "bar"
           }
          ],
          "barpolar": [
           {
            "marker": {
             "line": {
              "color": "rgb(17,17,17)",
              "width": 0.5
             },
             "pattern": {
              "fillmode": "overlay",
              "size": 10,
              "solidity": 0.2
             }
            },
            "type": "barpolar"
           }
          ],
          "carpet": [
           {
            "aaxis": {
             "endlinecolor": "#A2B1C6",
             "gridcolor": "#506784",
             "linecolor": "#506784",
             "minorgridcolor": "#506784",
             "startlinecolor": "#A2B1C6"
            },
            "baxis": {
             "endlinecolor": "#A2B1C6",
             "gridcolor": "#506784",
             "linecolor": "#506784",
             "minorgridcolor": "#506784",
             "startlinecolor": "#A2B1C6"
            },
            "type": "carpet"
           }
          ],
          "choropleth": [
           {
            "colorbar": {
             "outlinewidth": 0,
             "ticks": ""
            },
            "type": "choropleth"
           }
          ],
          "contour": [
           {
            "colorbar": {
             "outlinewidth": 0,
             "ticks": ""
            },
            "colorscale": [
             [
              0,
              "#0d0887"
             ],
             [
              0.1111111111111111,
              "#46039f"
             ],
             [
              0.2222222222222222,
              "#7201a8"
             ],
             [
              0.3333333333333333,
              "#9c179e"
             ],
             [
              0.4444444444444444,
              "#bd3786"
             ],
             [
              0.5555555555555556,
              "#d8576b"
             ],
             [
              0.6666666666666666,
              "#ed7953"
             ],
             [
              0.7777777777777778,
              "#fb9f3a"
             ],
             [
              0.8888888888888888,
              "#fdca26"
             ],
             [
              1,
              "#f0f921"
             ]
            ],
            "type": "contour"
           }
          ],
          "contourcarpet": [
           {
            "colorbar": {
             "outlinewidth": 0,
             "ticks": ""
            },
            "type": "contourcarpet"
           }
          ],
          "heatmap": [
           {
            "colorbar": {
             "outlinewidth": 0,
             "ticks": ""
            },
            "colorscale": [
             [
              0,
              "#0d0887"
             ],
             [
              0.1111111111111111,
              "#46039f"
             ],
             [
              0.2222222222222222,
              "#7201a8"
             ],
             [
              0.3333333333333333,
              "#9c179e"
             ],
             [
              0.4444444444444444,
              "#bd3786"
             ],
             [
              0.5555555555555556,
              "#d8576b"
             ],
             [
              0.6666666666666666,
              "#ed7953"
             ],
             [
              0.7777777777777778,
              "#fb9f3a"
             ],
             [
              0.8888888888888888,
              "#fdca26"
             ],
             [
              1,
              "#f0f921"
             ]
            ],
            "type": "heatmap"
           }
          ],
          "heatmapgl": [
           {
            "colorbar": {
             "outlinewidth": 0,
             "ticks": ""
            },
            "colorscale": [
             [
              0,
              "#0d0887"
             ],
             [
              0.1111111111111111,
              "#46039f"
             ],
             [
              0.2222222222222222,
              "#7201a8"
             ],
             [
              0.3333333333333333,
              "#9c179e"
             ],
             [
              0.4444444444444444,
              "#bd3786"
             ],
             [
              0.5555555555555556,
              "#d8576b"
             ],
             [
              0.6666666666666666,
              "#ed7953"
             ],
             [
              0.7777777777777778,
              "#fb9f3a"
             ],
             [
              0.8888888888888888,
              "#fdca26"
             ],
             [
              1,
              "#f0f921"
             ]
            ],
            "type": "heatmapgl"
           }
          ],
          "histogram": [
           {
            "marker": {
             "pattern": {
              "fillmode": "overlay",
              "size": 10,
              "solidity": 0.2
             }
            },
            "type": "histogram"
           }
          ],
          "histogram2d": [
           {
            "colorbar": {
             "outlinewidth": 0,
             "ticks": ""
            },
            "colorscale": [
             [
              0,
              "#0d0887"
             ],
             [
              0.1111111111111111,
              "#46039f"
             ],
             [
              0.2222222222222222,
              "#7201a8"
             ],
             [
              0.3333333333333333,
              "#9c179e"
             ],
             [
              0.4444444444444444,
              "#bd3786"
             ],
             [
              0.5555555555555556,
              "#d8576b"
             ],
             [
              0.6666666666666666,
              "#ed7953"
             ],
             [
              0.7777777777777778,
              "#fb9f3a"
             ],
             [
              0.8888888888888888,
              "#fdca26"
             ],
             [
              1,
              "#f0f921"
             ]
            ],
            "type": "histogram2d"
           }
          ],
          "histogram2dcontour": [
           {
            "colorbar": {
             "outlinewidth": 0,
             "ticks": ""
            },
            "colorscale": [
             [
              0,
              "#0d0887"
             ],
             [
              0.1111111111111111,
              "#46039f"
             ],
             [
              0.2222222222222222,
              "#7201a8"
             ],
             [
              0.3333333333333333,
              "#9c179e"
             ],
             [
              0.4444444444444444,
              "#bd3786"
             ],
             [
              0.5555555555555556,
              "#d8576b"
             ],
             [
              0.6666666666666666,
              "#ed7953"
             ],
             [
              0.7777777777777778,
              "#fb9f3a"
             ],
             [
              0.8888888888888888,
              "#fdca26"
             ],
             [
              1,
              "#f0f921"
             ]
            ],
            "type": "histogram2dcontour"
           }
          ],
          "mesh3d": [
           {
            "colorbar": {
             "outlinewidth": 0,
             "ticks": ""
            },
            "type": "mesh3d"
           }
          ],
          "parcoords": [
           {
            "line": {
             "colorbar": {
              "outlinewidth": 0,
              "ticks": ""
             }
            },
            "type": "parcoords"
           }
          ],
          "pie": [
           {
            "automargin": true,
            "type": "pie"
           }
          ],
          "scatter": [
           {
            "marker": {
             "line": {
              "color": "#283442"
             }
            },
            "type": "scatter"
           }
          ],
          "scatter3d": [
           {
            "line": {
             "colorbar": {
              "outlinewidth": 0,
              "ticks": ""
             }
            },
            "marker": {
             "colorbar": {
              "outlinewidth": 0,
              "ticks": ""
             }
            },
            "type": "scatter3d"
           }
          ],
          "scattercarpet": [
           {
            "marker": {
             "colorbar": {
              "outlinewidth": 0,
              "ticks": ""
             }
            },
            "type": "scattercarpet"
           }
          ],
          "scattergeo": [
           {
            "marker": {
             "colorbar": {
              "outlinewidth": 0,
              "ticks": ""
             }
            },
            "type": "scattergeo"
           }
          ],
          "scattergl": [
           {
            "marker": {
             "line": {
              "color": "#283442"
             }
            },
            "type": "scattergl"
           }
          ],
          "scattermapbox": [
           {
            "marker": {
             "colorbar": {
              "outlinewidth": 0,
              "ticks": ""
             }
            },
            "type": "scattermapbox"
           }
          ],
          "scatterpolar": [
           {
            "marker": {
             "colorbar": {
              "outlinewidth": 0,
              "ticks": ""
             }
            },
            "type": "scatterpolar"
           }
          ],
          "scatterpolargl": [
           {
            "marker": {
             "colorbar": {
              "outlinewidth": 0,
              "ticks": ""
             }
            },
            "type": "scatterpolargl"
           }
          ],
          "scatterternary": [
           {
            "marker": {
             "colorbar": {
              "outlinewidth": 0,
              "ticks": ""
             }
            },
            "type": "scatterternary"
           }
          ],
          "surface": [
           {
            "colorbar": {
             "outlinewidth": 0,
             "ticks": ""
            },
            "colorscale": [
             [
              0,
              "#0d0887"
             ],
             [
              0.1111111111111111,
              "#46039f"
             ],
             [
              0.2222222222222222,
              "#7201a8"
             ],
             [
              0.3333333333333333,
              "#9c179e"
             ],
             [
              0.4444444444444444,
              "#bd3786"
             ],
             [
              0.5555555555555556,
              "#d8576b"
             ],
             [
              0.6666666666666666,
              "#ed7953"
             ],
             [
              0.7777777777777778,
              "#fb9f3a"
             ],
             [
              0.8888888888888888,
              "#fdca26"
             ],
             [
              1,
              "#f0f921"
             ]
            ],
            "type": "surface"
           }
          ],
          "table": [
           {
            "cells": {
             "fill": {
              "color": "#506784"
             },
             "line": {
              "color": "rgb(17,17,17)"
             }
            },
            "header": {
             "fill": {
              "color": "#2a3f5f"
             },
             "line": {
              "color": "rgb(17,17,17)"
             }
            },
            "type": "table"
           }
          ]
         },
         "layout": {
          "annotationdefaults": {
           "arrowcolor": "#f2f5fa",
           "arrowhead": 0,
           "arrowwidth": 1
          },
          "autotypenumbers": "strict",
          "coloraxis": {
           "colorbar": {
            "outlinewidth": 0,
            "ticks": ""
           }
          },
          "colorscale": {
           "diverging": [
            [
             0,
             "#8e0152"
            ],
            [
             0.1,
             "#c51b7d"
            ],
            [
             0.2,
             "#de77ae"
            ],
            [
             0.3,
             "#f1b6da"
            ],
            [
             0.4,
             "#fde0ef"
            ],
            [
             0.5,
             "#f7f7f7"
            ],
            [
             0.6,
             "#e6f5d0"
            ],
            [
             0.7,
             "#b8e186"
            ],
            [
             0.8,
             "#7fbc41"
            ],
            [
             0.9,
             "#4d9221"
            ],
            [
             1,
             "#276419"
            ]
           ],
           "sequential": [
            [
             0,
             "#0d0887"
            ],
            [
             0.1111111111111111,
             "#46039f"
            ],
            [
             0.2222222222222222,
             "#7201a8"
            ],
            [
             0.3333333333333333,
             "#9c179e"
            ],
            [
             0.4444444444444444,
             "#bd3786"
            ],
            [
             0.5555555555555556,
             "#d8576b"
            ],
            [
             0.6666666666666666,
             "#ed7953"
            ],
            [
             0.7777777777777778,
             "#fb9f3a"
            ],
            [
             0.8888888888888888,
             "#fdca26"
            ],
            [
             1,
             "#f0f921"
            ]
           ],
           "sequentialminus": [
            [
             0,
             "#0d0887"
            ],
            [
             0.1111111111111111,
             "#46039f"
            ],
            [
             0.2222222222222222,
             "#7201a8"
            ],
            [
             0.3333333333333333,
             "#9c179e"
            ],
            [
             0.4444444444444444,
             "#bd3786"
            ],
            [
             0.5555555555555556,
             "#d8576b"
            ],
            [
             0.6666666666666666,
             "#ed7953"
            ],
            [
             0.7777777777777778,
             "#fb9f3a"
            ],
            [
             0.8888888888888888,
             "#fdca26"
            ],
            [
             1,
             "#f0f921"
            ]
           ]
          },
          "colorway": [
           "#636efa",
           "#EF553B",
           "#00cc96",
           "#ab63fa",
           "#FFA15A",
           "#19d3f3",
           "#FF6692",
           "#B6E880",
           "#FF97FF",
           "#FECB52"
          ],
          "font": {
           "color": "#f2f5fa"
          },
          "geo": {
           "bgcolor": "rgb(17,17,17)",
           "lakecolor": "rgb(17,17,17)",
           "landcolor": "rgb(17,17,17)",
           "showlakes": true,
           "showland": true,
           "subunitcolor": "#506784"
          },
          "hoverlabel": {
           "align": "left"
          },
          "hovermode": "closest",
          "mapbox": {
           "style": "dark"
          },
          "paper_bgcolor": "rgb(17,17,17)",
          "plot_bgcolor": "rgb(17,17,17)",
          "polar": {
           "angularaxis": {
            "gridcolor": "#506784",
            "linecolor": "#506784",
            "ticks": ""
           },
           "bgcolor": "rgb(17,17,17)",
           "radialaxis": {
            "gridcolor": "#506784",
            "linecolor": "#506784",
            "ticks": ""
           }
          },
          "scene": {
           "xaxis": {
            "backgroundcolor": "rgb(17,17,17)",
            "gridcolor": "#506784",
            "gridwidth": 2,
            "linecolor": "#506784",
            "showbackground": true,
            "ticks": "",
            "zerolinecolor": "#C8D4E3"
           },
           "yaxis": {
            "backgroundcolor": "rgb(17,17,17)",
            "gridcolor": "#506784",
            "gridwidth": 2,
            "linecolor": "#506784",
            "showbackground": true,
            "ticks": "",
            "zerolinecolor": "#C8D4E3"
           },
           "zaxis": {
            "backgroundcolor": "rgb(17,17,17)",
            "gridcolor": "#506784",
            "gridwidth": 2,
            "linecolor": "#506784",
            "showbackground": true,
            "ticks": "",
            "zerolinecolor": "#C8D4E3"
           }
          },
          "shapedefaults": {
           "line": {
            "color": "#f2f5fa"
           }
          },
          "sliderdefaults": {
           "bgcolor": "#C8D4E3",
           "bordercolor": "rgb(17,17,17)",
           "borderwidth": 1,
           "tickwidth": 0
          },
          "ternary": {
           "aaxis": {
            "gridcolor": "#506784",
            "linecolor": "#506784",
            "ticks": ""
           },
           "baxis": {
            "gridcolor": "#506784",
            "linecolor": "#506784",
            "ticks": ""
           },
           "bgcolor": "rgb(17,17,17)",
           "caxis": {
            "gridcolor": "#506784",
            "linecolor": "#506784",
            "ticks": ""
           }
          },
          "title": {
           "x": 0.05
          },
          "updatemenudefaults": {
           "bgcolor": "#506784",
           "borderwidth": 0
          },
          "xaxis": {
           "automargin": true,
           "gridcolor": "#283442",
           "linecolor": "#506784",
           "ticks": "",
           "title": {
            "standoff": 15
           },
           "zerolinecolor": "#283442",
           "zerolinewidth": 2
          },
          "yaxis": {
           "automargin": true,
           "gridcolor": "#283442",
           "linecolor": "#506784",
           "ticks": "",
           "title": {
            "standoff": 15
           },
           "zerolinecolor": "#283442",
           "zerolinewidth": 2
          }
         }
        },
        "title": {
         "font": {
          "size": 32
         },
         "text": "Mean vs Mean without Pollak votes",
         "x": 0.5,
         "xanchor": "center",
         "y": 0.95,
         "yanchor": "top"
        },
        "width": 1020,
        "xaxis": {
         "tickfont": {
          "size": 20
         },
         "title": {
          "font": {
           "size": 20
          },
          "text": "Dapps"
         }
        },
        "yaxis": {
         "tickfont": {
          "size": 20
         },
         "title": {
          "font": {
           "size": 20
          },
          "text": "Mean - Mean Pollak votes"
         }
        }
       }
      }
     },
     "metadata": {},
     "output_type": "display_data"
    }
   ],
   "source": [
    "# fig = px.bar(\n",
    "#     df, x='project_name', y='difference_mean',\n",
    "#     labels={'project_name': 'Project Name', 'difference': 'Difference in Median'},\n",
    "#     title='Difference in Mean with and without Pollak Vote (higher mean Pollak vote higher)',\n",
    "#     height=600\n",
    "# )\n",
    "\n",
    "fig = go.Figure()\n",
    "\n",
    "fig.add_trace(go.Bar(\n",
    "    x=df.sort_values(\"difference_mean\")['project_name'],\n",
    "    y=df.sort_values(\"difference_mean\")['difference_mean'],\n",
    "    name='Difference in Mean',\n",
    "    marker_color='#6d6df1'\n",
    "))\n",
    "\n",
    "# fig.add_hline(\n",
    "#     # x=df['project_name'],\n",
    "#     y=df['difference_mean'].mean(),\n",
    "#     line_color='red'\n",
    "# )\n",
    "\n",
    "fig.update_layout(\n",
    "    title={\n",
    "        'text': 'Mean vs Mean without Pollak votes',\n",
    "        'y': 0.95,\n",
    "        'x': 0.5,\n",
    "        'xanchor': 'center',\n",
    "        'yanchor': 'top',\n",
    "        'font': {'size': 32}\n",
    "    },\n",
    "    xaxis=dict(title='Dapps', title_font={'size': 20},\n",
    "        tickfont={'size': 20}),\n",
    "    yaxis=dict(title='Mean - Mean Pollak votes', title_font={'size': 20},\n",
    "        tickfont={'size': 20}),\n",
    "    height=780, width=1020,\n",
    "    template='plotly_dark',\n",
    "    margin={'t':80,'b':10},\n",
    "    showlegend=False,\n",
    ")\n",
    "\n",
    "fig.show()\n",
    "fig.write_image(\"data/mean_pollak.png\", height=780, width=1020)"
   ]
  },
  {
   "cell_type": "code",
   "execution_count": 8,
   "metadata": {},
   "outputs": [
    {
     "name": "stdout",
     "output_type": "stream",
     "text": [
      "Mean difference: 5717.391304347826\n",
      "Standard deviation of difference: 12835.58482702142\n"
     ]
    }
   ],
   "source": [
    "df['difference_median_0'] = [np.median(np.asarray(v)[np.nonzero(v)]) for v in df[\"votes\"]] - df['median']\n",
    "\n",
    "print(f\"Mean difference: {df['difference_median_0'].abs().mean()}\")\n",
    "print(f\"Standard deviation of difference: {df['difference_median_0'].std()}\")"
   ]
  },
  {
   "cell_type": "code",
   "execution_count": 23,
   "metadata": {},
   "outputs": [
    {
     "data": {
      "application/vnd.plotly.v1+json": {
       "config": {
        "plotlyServerURL": "https://plot.ly"
       },
       "data": [
        {
         "marker": {
          "color": "#6d6df1"
         },
         "name": "Difference in Median",
         "type": "bar",
         "x": [
          "AW House/Komorebi's Hacker House",
          "Across Protocol",
          "Aerodrome Finance",
          "Airstack",
          "Alchemy",
          "Archly",
          "Based Nouns",
          "Baseswap",
          "Builder Protocol",
          "Cielo",
          "Covalent",
          "Delegate",
          "ERC4337 Smart Accounts Dune Dashboard",
          "ETHGlobal",
          "Endaoment",
          "Equalizer",
          "Erigon",
          "Ethereum Attestation Service",
          "Eventcaster",
          "Flipside Crypto",
          "Frame",
          "Galxe",
          "Gaslite",
          "Gelato",
          "Guild.xyz",
          "Hardhat",
          "Hop DAO",
          "IPFS",
          "Interface",
          "LandTorn - Lorak",
          "Lattice (OPCraft & MUD)",
          "Launchcaster",
          "Layer3",
          "LearnWeb3",
          "Lore",
          "Messari",
          "Mirror",
          "Modular Crypto",
          "Moonwell",
          "Moso",
          "OP Reth",
          "Odos",
          "OpenZeppelin Contracts",
          "Otterscan",
          "Ponder",
          "Rainbow Wallet",
          "RainbowKit",
          "Revoke.cash",
          "Rollup.codes",
          "Socket",
          "Solidity",
          "Splits",
          "Superscan",
          "Surreal",
          "Synthetix",
          "Tenderly",
          "Test in Prod",
          "Token Terminal",
          "Tokepad",
          "Vectorized",
          "Velocimeter",
          "WASD",
          "Wagmi / Viem",
          "Week in Ethereum News",
          "Xofee",
          "ethers.js",
          "go-ethereum",
          "growthepie",
          "rhino.fi"
         ],
         "y": [
          0,
          5500,
          0,
          0,
          1000,
          0,
          -1500,
          0,
          0,
          0,
          0,
          0,
          -1000,
          40000,
          0,
          0,
          5000,
          0,
          0,
          10000,
          0,
          4000,
          0,
          0,
          0,
          10000,
          25000,
          20000,
          0,
          0,
          0,
          0,
          0,
          0,
          0,
          23500,
          0,
          0,
          0,
          -9000,
          15000,
          0,
          0,
          0,
          0,
          0,
          0,
          0,
          3500,
          0,
          70000,
          7000,
          -7500,
          0,
          50000,
          23000,
          25000,
          5000,
          1500,
          0,
          -11000,
          1000,
          0,
          15000,
          4500,
          0,
          0,
          0,
          0
         ]
        }
       ],
       "layout": {
        "height": 600,
        "margin": {
         "b": 0,
         "t": 0
        },
        "shapes": [
         {
          "line": {
           "color": "red"
          },
          "name": "Difference in Median",
          "type": "line",
          "x0": 0,
          "x1": 1,
          "xref": "x domain",
          "y0": 4847.826086956522,
          "y1": 4847.826086956522,
          "yref": "y"
         }
        ],
        "template": {
         "data": {
          "bar": [
           {
            "error_x": {
             "color": "#f2f5fa"
            },
            "error_y": {
             "color": "#f2f5fa"
            },
            "marker": {
             "line": {
              "color": "rgb(17,17,17)",
              "width": 0.5
             },
             "pattern": {
              "fillmode": "overlay",
              "size": 10,
              "solidity": 0.2
             }
            },
            "type": "bar"
           }
          ],
          "barpolar": [
           {
            "marker": {
             "line": {
              "color": "rgb(17,17,17)",
              "width": 0.5
             },
             "pattern": {
              "fillmode": "overlay",
              "size": 10,
              "solidity": 0.2
             }
            },
            "type": "barpolar"
           }
          ],
          "carpet": [
           {
            "aaxis": {
             "endlinecolor": "#A2B1C6",
             "gridcolor": "#506784",
             "linecolor": "#506784",
             "minorgridcolor": "#506784",
             "startlinecolor": "#A2B1C6"
            },
            "baxis": {
             "endlinecolor": "#A2B1C6",
             "gridcolor": "#506784",
             "linecolor": "#506784",
             "minorgridcolor": "#506784",
             "startlinecolor": "#A2B1C6"
            },
            "type": "carpet"
           }
          ],
          "choropleth": [
           {
            "colorbar": {
             "outlinewidth": 0,
             "ticks": ""
            },
            "type": "choropleth"
           }
          ],
          "contour": [
           {
            "colorbar": {
             "outlinewidth": 0,
             "ticks": ""
            },
            "colorscale": [
             [
              0,
              "#0d0887"
             ],
             [
              0.1111111111111111,
              "#46039f"
             ],
             [
              0.2222222222222222,
              "#7201a8"
             ],
             [
              0.3333333333333333,
              "#9c179e"
             ],
             [
              0.4444444444444444,
              "#bd3786"
             ],
             [
              0.5555555555555556,
              "#d8576b"
             ],
             [
              0.6666666666666666,
              "#ed7953"
             ],
             [
              0.7777777777777778,
              "#fb9f3a"
             ],
             [
              0.8888888888888888,
              "#fdca26"
             ],
             [
              1,
              "#f0f921"
             ]
            ],
            "type": "contour"
           }
          ],
          "contourcarpet": [
           {
            "colorbar": {
             "outlinewidth": 0,
             "ticks": ""
            },
            "type": "contourcarpet"
           }
          ],
          "heatmap": [
           {
            "colorbar": {
             "outlinewidth": 0,
             "ticks": ""
            },
            "colorscale": [
             [
              0,
              "#0d0887"
             ],
             [
              0.1111111111111111,
              "#46039f"
             ],
             [
              0.2222222222222222,
              "#7201a8"
             ],
             [
              0.3333333333333333,
              "#9c179e"
             ],
             [
              0.4444444444444444,
              "#bd3786"
             ],
             [
              0.5555555555555556,
              "#d8576b"
             ],
             [
              0.6666666666666666,
              "#ed7953"
             ],
             [
              0.7777777777777778,
              "#fb9f3a"
             ],
             [
              0.8888888888888888,
              "#fdca26"
             ],
             [
              1,
              "#f0f921"
             ]
            ],
            "type": "heatmap"
           }
          ],
          "heatmapgl": [
           {
            "colorbar": {
             "outlinewidth": 0,
             "ticks": ""
            },
            "colorscale": [
             [
              0,
              "#0d0887"
             ],
             [
              0.1111111111111111,
              "#46039f"
             ],
             [
              0.2222222222222222,
              "#7201a8"
             ],
             [
              0.3333333333333333,
              "#9c179e"
             ],
             [
              0.4444444444444444,
              "#bd3786"
             ],
             [
              0.5555555555555556,
              "#d8576b"
             ],
             [
              0.6666666666666666,
              "#ed7953"
             ],
             [
              0.7777777777777778,
              "#fb9f3a"
             ],
             [
              0.8888888888888888,
              "#fdca26"
             ],
             [
              1,
              "#f0f921"
             ]
            ],
            "type": "heatmapgl"
           }
          ],
          "histogram": [
           {
            "marker": {
             "pattern": {
              "fillmode": "overlay",
              "size": 10,
              "solidity": 0.2
             }
            },
            "type": "histogram"
           }
          ],
          "histogram2d": [
           {
            "colorbar": {
             "outlinewidth": 0,
             "ticks": ""
            },
            "colorscale": [
             [
              0,
              "#0d0887"
             ],
             [
              0.1111111111111111,
              "#46039f"
             ],
             [
              0.2222222222222222,
              "#7201a8"
             ],
             [
              0.3333333333333333,
              "#9c179e"
             ],
             [
              0.4444444444444444,
              "#bd3786"
             ],
             [
              0.5555555555555556,
              "#d8576b"
             ],
             [
              0.6666666666666666,
              "#ed7953"
             ],
             [
              0.7777777777777778,
              "#fb9f3a"
             ],
             [
              0.8888888888888888,
              "#fdca26"
             ],
             [
              1,
              "#f0f921"
             ]
            ],
            "type": "histogram2d"
           }
          ],
          "histogram2dcontour": [
           {
            "colorbar": {
             "outlinewidth": 0,
             "ticks": ""
            },
            "colorscale": [
             [
              0,
              "#0d0887"
             ],
             [
              0.1111111111111111,
              "#46039f"
             ],
             [
              0.2222222222222222,
              "#7201a8"
             ],
             [
              0.3333333333333333,
              "#9c179e"
             ],
             [
              0.4444444444444444,
              "#bd3786"
             ],
             [
              0.5555555555555556,
              "#d8576b"
             ],
             [
              0.6666666666666666,
              "#ed7953"
             ],
             [
              0.7777777777777778,
              "#fb9f3a"
             ],
             [
              0.8888888888888888,
              "#fdca26"
             ],
             [
              1,
              "#f0f921"
             ]
            ],
            "type": "histogram2dcontour"
           }
          ],
          "mesh3d": [
           {
            "colorbar": {
             "outlinewidth": 0,
             "ticks": ""
            },
            "type": "mesh3d"
           }
          ],
          "parcoords": [
           {
            "line": {
             "colorbar": {
              "outlinewidth": 0,
              "ticks": ""
             }
            },
            "type": "parcoords"
           }
          ],
          "pie": [
           {
            "automargin": true,
            "type": "pie"
           }
          ],
          "scatter": [
           {
            "marker": {
             "line": {
              "color": "#283442"
             }
            },
            "type": "scatter"
           }
          ],
          "scatter3d": [
           {
            "line": {
             "colorbar": {
              "outlinewidth": 0,
              "ticks": ""
             }
            },
            "marker": {
             "colorbar": {
              "outlinewidth": 0,
              "ticks": ""
             }
            },
            "type": "scatter3d"
           }
          ],
          "scattercarpet": [
           {
            "marker": {
             "colorbar": {
              "outlinewidth": 0,
              "ticks": ""
             }
            },
            "type": "scattercarpet"
           }
          ],
          "scattergeo": [
           {
            "marker": {
             "colorbar": {
              "outlinewidth": 0,
              "ticks": ""
             }
            },
            "type": "scattergeo"
           }
          ],
          "scattergl": [
           {
            "marker": {
             "line": {
              "color": "#283442"
             }
            },
            "type": "scattergl"
           }
          ],
          "scattermapbox": [
           {
            "marker": {
             "colorbar": {
              "outlinewidth": 0,
              "ticks": ""
             }
            },
            "type": "scattermapbox"
           }
          ],
          "scatterpolar": [
           {
            "marker": {
             "colorbar": {
              "outlinewidth": 0,
              "ticks": ""
             }
            },
            "type": "scatterpolar"
           }
          ],
          "scatterpolargl": [
           {
            "marker": {
             "colorbar": {
              "outlinewidth": 0,
              "ticks": ""
             }
            },
            "type": "scatterpolargl"
           }
          ],
          "scatterternary": [
           {
            "marker": {
             "colorbar": {
              "outlinewidth": 0,
              "ticks": ""
             }
            },
            "type": "scatterternary"
           }
          ],
          "surface": [
           {
            "colorbar": {
             "outlinewidth": 0,
             "ticks": ""
            },
            "colorscale": [
             [
              0,
              "#0d0887"
             ],
             [
              0.1111111111111111,
              "#46039f"
             ],
             [
              0.2222222222222222,
              "#7201a8"
             ],
             [
              0.3333333333333333,
              "#9c179e"
             ],
             [
              0.4444444444444444,
              "#bd3786"
             ],
             [
              0.5555555555555556,
              "#d8576b"
             ],
             [
              0.6666666666666666,
              "#ed7953"
             ],
             [
              0.7777777777777778,
              "#fb9f3a"
             ],
             [
              0.8888888888888888,
              "#fdca26"
             ],
             [
              1,
              "#f0f921"
             ]
            ],
            "type": "surface"
           }
          ],
          "table": [
           {
            "cells": {
             "fill": {
              "color": "#506784"
             },
             "line": {
              "color": "rgb(17,17,17)"
             }
            },
            "header": {
             "fill": {
              "color": "#2a3f5f"
             },
             "line": {
              "color": "rgb(17,17,17)"
             }
            },
            "type": "table"
           }
          ]
         },
         "layout": {
          "annotationdefaults": {
           "arrowcolor": "#f2f5fa",
           "arrowhead": 0,
           "arrowwidth": 1
          },
          "autotypenumbers": "strict",
          "coloraxis": {
           "colorbar": {
            "outlinewidth": 0,
            "ticks": ""
           }
          },
          "colorscale": {
           "diverging": [
            [
             0,
             "#8e0152"
            ],
            [
             0.1,
             "#c51b7d"
            ],
            [
             0.2,
             "#de77ae"
            ],
            [
             0.3,
             "#f1b6da"
            ],
            [
             0.4,
             "#fde0ef"
            ],
            [
             0.5,
             "#f7f7f7"
            ],
            [
             0.6,
             "#e6f5d0"
            ],
            [
             0.7,
             "#b8e186"
            ],
            [
             0.8,
             "#7fbc41"
            ],
            [
             0.9,
             "#4d9221"
            ],
            [
             1,
             "#276419"
            ]
           ],
           "sequential": [
            [
             0,
             "#0d0887"
            ],
            [
             0.1111111111111111,
             "#46039f"
            ],
            [
             0.2222222222222222,
             "#7201a8"
            ],
            [
             0.3333333333333333,
             "#9c179e"
            ],
            [
             0.4444444444444444,
             "#bd3786"
            ],
            [
             0.5555555555555556,
             "#d8576b"
            ],
            [
             0.6666666666666666,
             "#ed7953"
            ],
            [
             0.7777777777777778,
             "#fb9f3a"
            ],
            [
             0.8888888888888888,
             "#fdca26"
            ],
            [
             1,
             "#f0f921"
            ]
           ],
           "sequentialminus": [
            [
             0,
             "#0d0887"
            ],
            [
             0.1111111111111111,
             "#46039f"
            ],
            [
             0.2222222222222222,
             "#7201a8"
            ],
            [
             0.3333333333333333,
             "#9c179e"
            ],
            [
             0.4444444444444444,
             "#bd3786"
            ],
            [
             0.5555555555555556,
             "#d8576b"
            ],
            [
             0.6666666666666666,
             "#ed7953"
            ],
            [
             0.7777777777777778,
             "#fb9f3a"
            ],
            [
             0.8888888888888888,
             "#fdca26"
            ],
            [
             1,
             "#f0f921"
            ]
           ]
          },
          "colorway": [
           "#636efa",
           "#EF553B",
           "#00cc96",
           "#ab63fa",
           "#FFA15A",
           "#19d3f3",
           "#FF6692",
           "#B6E880",
           "#FF97FF",
           "#FECB52"
          ],
          "font": {
           "color": "#f2f5fa"
          },
          "geo": {
           "bgcolor": "rgb(17,17,17)",
           "lakecolor": "rgb(17,17,17)",
           "landcolor": "rgb(17,17,17)",
           "showlakes": true,
           "showland": true,
           "subunitcolor": "#506784"
          },
          "hoverlabel": {
           "align": "left"
          },
          "hovermode": "closest",
          "mapbox": {
           "style": "dark"
          },
          "paper_bgcolor": "rgb(17,17,17)",
          "plot_bgcolor": "rgb(17,17,17)",
          "polar": {
           "angularaxis": {
            "gridcolor": "#506784",
            "linecolor": "#506784",
            "ticks": ""
           },
           "bgcolor": "rgb(17,17,17)",
           "radialaxis": {
            "gridcolor": "#506784",
            "linecolor": "#506784",
            "ticks": ""
           }
          },
          "scene": {
           "xaxis": {
            "backgroundcolor": "rgb(17,17,17)",
            "gridcolor": "#506784",
            "gridwidth": 2,
            "linecolor": "#506784",
            "showbackground": true,
            "ticks": "",
            "zerolinecolor": "#C8D4E3"
           },
           "yaxis": {
            "backgroundcolor": "rgb(17,17,17)",
            "gridcolor": "#506784",
            "gridwidth": 2,
            "linecolor": "#506784",
            "showbackground": true,
            "ticks": "",
            "zerolinecolor": "#C8D4E3"
           },
           "zaxis": {
            "backgroundcolor": "rgb(17,17,17)",
            "gridcolor": "#506784",
            "gridwidth": 2,
            "linecolor": "#506784",
            "showbackground": true,
            "ticks": "",
            "zerolinecolor": "#C8D4E3"
           }
          },
          "shapedefaults": {
           "line": {
            "color": "#f2f5fa"
           }
          },
          "sliderdefaults": {
           "bgcolor": "#C8D4E3",
           "bordercolor": "rgb(17,17,17)",
           "borderwidth": 1,
           "tickwidth": 0
          },
          "ternary": {
           "aaxis": {
            "gridcolor": "#506784",
            "linecolor": "#506784",
            "ticks": ""
           },
           "baxis": {
            "gridcolor": "#506784",
            "linecolor": "#506784",
            "ticks": ""
           },
           "bgcolor": "rgb(17,17,17)",
           "caxis": {
            "gridcolor": "#506784",
            "linecolor": "#506784",
            "ticks": ""
           }
          },
          "title": {
           "x": 0.05
          },
          "updatemenudefaults": {
           "bgcolor": "#506784",
           "borderwidth": 0
          },
          "xaxis": {
           "automargin": true,
           "gridcolor": "#283442",
           "linecolor": "#506784",
           "ticks": "",
           "title": {
            "standoff": 15
           },
           "zerolinecolor": "#283442",
           "zerolinewidth": 2
          },
          "yaxis": {
           "automargin": true,
           "gridcolor": "#283442",
           "linecolor": "#506784",
           "ticks": "",
           "title": {
            "standoff": 15
           },
           "zerolinecolor": "#283442",
           "zerolinewidth": 2
          }
         }
        },
        "title": {
         "text": "Difference in Median with and without Base Vote"
        },
        "xaxis": {
         "title": {
          "text": "Project Name"
         }
        },
        "yaxis": {
         "title": {
          "text": "Difference in Median"
         }
        }
       }
      }
     },
     "metadata": {},
     "output_type": "display_data"
    }
   ],
   "source": [
    "# fig = px.bar(\n",
    "#     df, x='project_name', y='difference_median_0',\n",
    "#     labels={'project_name': 'Project Name', 'difference_median_0': 'Difference in Median'},\n",
    "#     title='Difference in Median with and without 0 Vote',\n",
    "#     height=600,\n",
    "#     template=\"plotly_dark\",\n",
    "    \n",
    "# )\n",
    "fig = go.Figure()\n",
    "\n",
    "fig.add_trace(go.Bar(\n",
    "    x=df['project_name'],\n",
    "    y=df['difference_median_0'],\n",
    "    name='Difference in Median',\n",
    "    marker_color='#6d6df1'\n",
    "))\n",
    "\n",
    "fig.add_hline(\n",
    "    # x=df['project_name'],\n",
    "    y=df['difference_median_0'].mean(),\n",
    "    line_color='red'\n",
    ")\n",
    "\n",
    "fig.update_layout(\n",
    "    title='Difference in Median with and without Base Vote',\n",
    "    xaxis=dict(title='Project Name'),\n",
    "    yaxis=dict(title='Difference in Median'),\n",
    "    height=600,\n",
    "    template='plotly_dark',\n",
    "    margin={'t':0,'b':0},\n",
    ")\n",
    "\n",
    "\n",
    "fig.show()\n",
    "fig.write_image(\"data/median_without_0.svg\")"
   ]
  },
  {
   "cell_type": "code",
   "execution_count": 10,
   "metadata": {},
   "outputs": [
    {
     "data": {
      "application/vnd.plotly.v1+json": {
       "config": {
        "plotlyServerURL": "https://plot.ly"
       },
       "data": [
        {
         "alignmentgroup": "True",
         "bingroup": "x",
         "hovertemplate": "Nome del Progetto=AW House/Komorebi's Hacker House<br>Voti=%{x}<br>count=%{y}<extra></extra>",
         "legendgroup": "AW House/Komorebi's Hacker House",
         "marker": {
          "color": "#636efa",
          "opacity": 0.5,
          "pattern": {
           "shape": ""
          }
         },
         "name": "AW House/Komorebi's Hacker House",
         "nbinsx": 50,
         "offsetgroup": "AW House/Komorebi's Hacker House",
         "orientation": "v",
         "showlegend": true,
         "type": "histogram",
         "x": [
          77000,
          50000,
          4000000,
          50000,
          70000,
          77000,
          150000,
          1200000,
          150000,
          37000,
          150000,
          100000,
          40000,
          77000,
          100000,
          77000,
          100000,
          75000,
          50000,
          77000,
          75000,
          100000,
          25000,
          73000,
          29000,
          77000,
          27000,
          250000,
          600000,
          25000,
          77000,
          1200000,
          47000,
          200000,
          100,
          27000,
          400000,
          150000,
          77000,
          77000,
          75000,
          77000,
          77000,
          380000,
          82000
         ],
         "xaxis": "x",
         "yaxis": "y"
        },
        {
         "alignmentgroup": "True",
         "bingroup": "x",
         "hovertemplate": "Nome del Progetto=Across Protocol<br>Voti=%{x}<br>count=%{y}<extra></extra>",
         "legendgroup": "Across Protocol",
         "marker": {
          "color": "#EF553B",
          "opacity": 0.5,
          "pattern": {
           "shape": ""
          }
         },
         "name": "Across Protocol",
         "nbinsx": 50,
         "offsetgroup": "Across Protocol",
         "orientation": "v",
         "showlegend": true,
         "type": "histogram",
         "x": [
          50000,
          25000,
          200000,
          32000,
          110000,
          80000,
          1000000,
          39000,
          39000,
          50000,
          39000,
          5700,
          25000,
          39000,
          100000,
          39000,
          140000,
          15000,
          10000,
          630000,
          300000,
          25000,
          70000,
          0,
          20000,
          30000,
          200000,
          100000,
          95000,
          10000,
          80000,
          150000,
          10000,
          39000,
          50000,
          100000,
          200000,
          25000,
          15000,
          200000,
          11000
         ],
         "xaxis": "x",
         "yaxis": "y"
        },
        {
         "alignmentgroup": "True",
         "bingroup": "x",
         "hovertemplate": "Nome del Progetto=Aerodrome Finance<br>Voti=%{x}<br>count=%{y}<extra></extra>",
         "legendgroup": "Aerodrome Finance",
         "marker": {
          "color": "#00cc96",
          "opacity": 0.5,
          "pattern": {
           "shape": ""
          }
         },
         "name": "Aerodrome Finance",
         "nbinsx": 50,
         "offsetgroup": "Aerodrome Finance",
         "orientation": "v",
         "showlegend": true,
         "type": "histogram",
         "x": [
          100000,
          100000,
          25000,
          25000,
          50000,
          10000,
          110000,
          340000,
          75000,
          50000,
          5000000,
          250000,
          300000,
          5000000,
          600000,
          200000,
          200000,
          100000,
          85000,
          300000,
          35000,
          1100000,
          0,
          100000,
          200000,
          75000,
          150000,
          100000,
          250000,
          1500000,
          100000,
          75000,
          50000,
          620000,
          75000,
          120000,
          380000,
          5000,
          1000000,
          620000,
          50000,
          130000,
          110000,
          500000,
          100000,
          50000,
          190000,
          0,
          15000,
          620000
         ],
         "xaxis": "x",
         "yaxis": "y"
        },
        {
         "alignmentgroup": "True",
         "bingroup": "x",
         "hovertemplate": "Nome del Progetto=Airstack<br>Voti=%{x}<br>count=%{y}<extra></extra>",
         "legendgroup": "Airstack",
         "marker": {
          "color": "#ab63fa",
          "opacity": 0.5,
          "pattern": {
           "shape": ""
          }
         },
         "name": "Airstack",
         "nbinsx": 50,
         "offsetgroup": "Airstack",
         "orientation": "v",
         "showlegend": true,
         "type": "histogram",
         "x": [
          150000,
          77000,
          25000,
          10000,
          77000,
          47000,
          50000,
          77000,
          77000,
          25000,
          77000,
          5000,
          14000,
          50000,
          77000,
          77000,
          77000,
          11000,
          0,
          20000,
          25000,
          25000,
          30000,
          54000,
          15000,
          77000,
          10000,
          46000,
          41000,
          50000,
          25000,
          77000,
          50000
         ],
         "xaxis": "x",
         "yaxis": "y"
        },
        {
         "alignmentgroup": "True",
         "bingroup": "x",
         "hovertemplate": "Nome del Progetto=Alchemy<br>Voti=%{x}<br>count=%{y}<extra></extra>",
         "legendgroup": "Alchemy",
         "marker": {
          "color": "#FFA15A",
          "opacity": 0.5,
          "pattern": {
           "shape": ""
          }
         },
         "name": "Alchemy",
         "nbinsx": 50,
         "offsetgroup": "Alchemy",
         "orientation": "v",
         "showlegend": true,
         "type": "histogram",
         "x": [
          100,
          1900,
          50000,
          75000,
          77000,
          45000,
          250000,
          77000,
          25000,
          75000,
          50000,
          400000,
          10000,
          500000,
          0,
          77000,
          50000,
          50000,
          0,
          0,
          110000,
          180000,
          400000,
          100,
          0,
          100000,
          0,
          0,
          0,
          580000,
          0,
          0,
          75000,
          1,
          75000,
          70000,
          18000,
          130000,
          500000,
          77000,
          77000,
          150000,
          220000,
          130000,
          75000,
          130000,
          19000,
          250000,
          77000,
          180000,
          0,
          350000,
          0,
          20000,
          75000,
          50000,
          0,
          25000
         ],
         "xaxis": "x",
         "yaxis": "y"
        },
        {
         "alignmentgroup": "True",
         "bingroup": "x",
         "hovertemplate": "Nome del Progetto=Archly<br>Voti=%{x}<br>count=%{y}<extra></extra>",
         "legendgroup": "Archly",
         "marker": {
          "color": "#19d3f3",
          "opacity": 0.5,
          "pattern": {
           "shape": ""
          }
         },
         "name": "Archly",
         "nbinsx": 50,
         "offsetgroup": "Archly",
         "orientation": "v",
         "showlegend": true,
         "type": "histogram",
         "x": [
          25000,
          20000,
          39000,
          10000,
          15000,
          24000,
          11000,
          39000,
          39000,
          39000,
          4000,
          50000,
          39000,
          20000,
          50000,
          12000,
          30000,
          39000,
          39000,
          39000,
          40000,
          39000,
          10000,
          25000,
          39000,
          39000,
          39000,
          10000,
          39000,
          5000
         ],
         "xaxis": "x",
         "yaxis": "y"
        },
        {
         "alignmentgroup": "True",
         "bingroup": "x",
         "hovertemplate": "Nome del Progetto=Based Nouns<br>Voti=%{x}<br>count=%{y}<extra></extra>",
         "legendgroup": "Based Nouns",
         "marker": {
          "color": "#FF6692",
          "opacity": 0.5,
          "pattern": {
           "shape": ""
          }
         },
         "name": "Based Nouns",
         "nbinsx": 50,
         "offsetgroup": "Based Nouns",
         "orientation": "v",
         "showlegend": true,
         "type": "histogram",
         "x": [
          5800,
          10000,
          24000,
          77000,
          5700,
          25000,
          77000,
          75000,
          20000,
          77000,
          50000,
          75000,
          56000,
          75000,
          77000,
          77000,
          25000,
          10000,
          25000,
          5400,
          47000,
          50000,
          77000,
          1500,
          30000,
          77000,
          25000,
          77000,
          50000,
          25000
         ],
         "xaxis": "x",
         "yaxis": "y"
        },
        {
         "alignmentgroup": "True",
         "bingroup": "x",
         "hovertemplate": "Nome del Progetto=Baseswap<br>Voti=%{x}<br>count=%{y}<extra></extra>",
         "legendgroup": "Baseswap",
         "marker": {
          "color": "#B6E880",
          "opacity": 0.5,
          "pattern": {
           "shape": ""
          }
         },
         "name": "Baseswap",
         "nbinsx": 50,
         "offsetgroup": "Baseswap",
         "orientation": "v",
         "showlegend": true,
         "type": "histogram",
         "x": [
          75000,
          5000,
          50000,
          15000,
          50000,
          1000000,
          25000,
          25000,
          47000,
          77000,
          10000,
          5000,
          77000,
          30000,
          77000,
          50000,
          25000,
          25000,
          15000,
          77000,
          5700,
          50000,
          5000,
          77000,
          15000,
          5000,
          5000,
          10000,
          5000,
          35000,
          24000,
          77000,
          5000,
          0,
          77000
         ],
         "xaxis": "x",
         "yaxis": "y"
        },
        {
         "alignmentgroup": "True",
         "bingroup": "x",
         "hovertemplate": "Nome del Progetto=Builder Protocol<br>Voti=%{x}<br>count=%{y}<extra></extra>",
         "legendgroup": "Builder Protocol",
         "marker": {
          "color": "#FF97FF",
          "opacity": 0.5,
          "pattern": {
           "shape": ""
          }
         },
         "name": "Builder Protocol",
         "nbinsx": 50,
         "offsetgroup": "Builder Protocol",
         "orientation": "v",
         "showlegend": true,
         "type": "histogram",
         "x": [
          130000,
          160000,
          100000,
          5000,
          40000,
          1000000,
          50000,
          190000,
          50000,
          160000,
          75000,
          25000,
          10000,
          75000,
          30000,
          35000,
          10000,
          30000,
          1800,
          30000,
          160000,
          180000,
          75000,
          50000,
          30000,
          160000,
          94000,
          30000,
          25000,
          75000,
          30000,
          34000,
          100000,
          50000,
          400000,
          75000,
          40000,
          620000,
          50000,
          50000,
          180000,
          50000,
          160000,
          45000,
          500000
         ],
         "xaxis": "x",
         "yaxis": "y"
        },
        {
         "alignmentgroup": "True",
         "bingroup": "x",
         "hovertemplate": "Nome del Progetto=Cielo<br>Voti=%{x}<br>count=%{y}<extra></extra>",
         "legendgroup": "Cielo",
         "marker": {
          "color": "#FECB52",
          "opacity": 0.5,
          "pattern": {
           "shape": ""
          }
         },
         "name": "Cielo",
         "nbinsx": 50,
         "offsetgroup": "Cielo",
         "orientation": "v",
         "showlegend": true,
         "type": "histogram",
         "x": [
          20000,
          100000,
          100000,
          40000,
          10000,
          39000,
          60000,
          10000,
          500,
          39000,
          39000,
          83000,
          25000,
          39000,
          39000,
          24000,
          20000,
          100000,
          39000,
          29000,
          39000,
          20000,
          10000,
          50000,
          25000,
          60000,
          39000,
          70000,
          100000,
          39000,
          10000,
          39000
         ],
         "xaxis": "x",
         "yaxis": "y"
        },
        {
         "alignmentgroup": "True",
         "bingroup": "x",
         "hovertemplate": "Nome del Progetto=Covalent<br>Voti=%{x}<br>count=%{y}<extra></extra>",
         "legendgroup": "Covalent",
         "marker": {
          "color": "#636efa",
          "opacity": 0.5,
          "pattern": {
           "shape": ""
          }
         },
         "name": "Covalent",
         "nbinsx": 50,
         "offsetgroup": "Covalent",
         "orientation": "v",
         "showlegend": true,
         "type": "histogram",
         "x": [
          220000,
          50000,
          50000,
          150000,
          50000,
          50000,
          0,
          75000,
          47000,
          50000,
          77000,
          5000,
          25000,
          0,
          25000,
          50000,
          150000,
          75000,
          150000,
          11000,
          50000,
          20000,
          50000,
          150000,
          11000,
          25000,
          77000,
          0,
          10000,
          110000,
          77000,
          120000,
          75000,
          77000,
          0,
          77000,
          12000,
          0
         ],
         "xaxis": "x",
         "yaxis": "y"
        },
        {
         "alignmentgroup": "True",
         "bingroup": "x",
         "hovertemplate": "Nome del Progetto=Delegate<br>Voti=%{x}<br>count=%{y}<extra></extra>",
         "legendgroup": "Delegate",
         "marker": {
          "color": "#EF553B",
          "opacity": 0.5,
          "pattern": {
           "shape": ""
          }
         },
         "name": "Delegate",
         "nbinsx": 50,
         "offsetgroup": "Delegate",
         "orientation": "v",
         "showlegend": true,
         "type": "histogram",
         "x": [
          250000,
          5000,
          98000,
          40000,
          1000,
          500000,
          450000,
          100000,
          75000,
          50000,
          120000,
          80000,
          50000,
          7200,
          50000,
          25000,
          39000,
          39000,
          50000,
          39000,
          25000,
          50000,
          300000,
          39000,
          100,
          20000,
          100000,
          100000,
          50000,
          50000,
          39000,
          5000,
          25000,
          100000,
          50000,
          39000,
          39000,
          200000,
          1200000,
          150000,
          39000,
          100000,
          150000,
          200000,
          50000,
          200000,
          39000,
          39000,
          250000
         ],
         "xaxis": "x",
         "yaxis": "y"
        },
        {
         "alignmentgroup": "True",
         "bingroup": "x",
         "hovertemplate": "Nome del Progetto=ERC4337 Smart Accounts Dune Dashboard<br>Voti=%{x}<br>count=%{y}<extra></extra>",
         "legendgroup": "ERC4337 Smart Accounts Dune Dashboard",
         "marker": {
          "color": "#00cc96",
          "opacity": 0.5,
          "pattern": {
           "shape": ""
          }
         },
         "name": "ERC4337 Smart Accounts Dune Dashboard",
         "nbinsx": 50,
         "offsetgroup": "ERC4337 Smart Accounts Dune Dashboard",
         "orientation": "v",
         "showlegend": true,
         "type": "histogram",
         "x": [
          350000,
          100000,
          140000,
          20000,
          10000,
          50000,
          11000,
          15000,
          2900,
          25000,
          39000,
          70000,
          77000,
          15000,
          77000,
          300000,
          25000,
          15000,
          180000,
          77000,
          150000,
          45000,
          500000,
          250000,
          77000,
          15000,
          100000,
          30000,
          300000,
          77000,
          25000,
          180000,
          77000,
          25000,
          77000,
          200000,
          10000,
          10000,
          110000,
          5000,
          77000,
          20000,
          75000,
          2600,
          34000,
          180000,
          200000
         ],
         "xaxis": "x",
         "yaxis": "y"
        },
        {
         "alignmentgroup": "True",
         "bingroup": "x",
         "hovertemplate": "Nome del Progetto=ETHGlobal<br>Voti=%{x}<br>count=%{y}<extra></extra>",
         "legendgroup": "ETHGlobal",
         "marker": {
          "color": "#ab63fa",
          "opacity": 0.5,
          "pattern": {
           "shape": ""
          }
         },
         "name": "ETHGlobal",
         "nbinsx": 50,
         "offsetgroup": "ETHGlobal",
         "orientation": "v",
         "showlegend": true,
         "type": "histogram",
         "x": [
          210000,
          250000,
          23000,
          1000000,
          250000,
          500000,
          500000,
          600000,
          100,
          2500000,
          850000,
          160000,
          1200000,
          1500000,
          300000,
          700000,
          100000,
          430000,
          2000000,
          1500000,
          400000,
          1000000,
          1100000,
          3000000,
          5000000,
          250000,
          550000,
          100000,
          50000,
          110000,
          50000,
          2500000,
          400000,
          100000,
          90000,
          1000000,
          500000,
          90000,
          210000,
          0,
          1200000,
          700000,
          75000,
          1000000,
          75000,
          5000000,
          250000,
          100000,
          550000,
          200000,
          1200000,
          550000,
          210000,
          200000,
          560000,
          0,
          500000,
          160000,
          130000,
          1000000,
          340000,
          190000,
          100000,
          300000,
          450000,
          250000,
          700000,
          50000,
          160000,
          340000,
          270000,
          160000,
          620000,
          1000,
          100000,
          200000,
          210000,
          160000,
          190000,
          500000,
          400000,
          160000,
          500000,
          2000000,
          210000,
          1500000,
          150000,
          210000,
          100000
         ],
         "xaxis": "x",
         "yaxis": "y"
        },
        {
         "alignmentgroup": "True",
         "bingroup": "x",
         "hovertemplate": "Nome del Progetto=Endaoment<br>Voti=%{x}<br>count=%{y}<extra></extra>",
         "legendgroup": "Endaoment",
         "marker": {
          "color": "#FFA15A",
          "opacity": 0.5,
          "pattern": {
           "shape": ""
          }
         },
         "name": "Endaoment",
         "nbinsx": 50,
         "offsetgroup": "Endaoment",
         "orientation": "v",
         "showlegend": true,
         "type": "histogram",
         "x": [
          150000,
          380000,
          200000,
          57000,
          150000,
          20000,
          50000,
          500000,
          85000,
          25000,
          50000,
          75000,
          50000,
          5000,
          280000,
          10000,
          75000,
          77000,
          77000,
          77000,
          320000,
          50000,
          77000,
          150000,
          180000,
          77000,
          75000,
          50000,
          20000,
          250000,
          100,
          200000,
          500000,
          50000,
          25000,
          100000,
          28000,
          100000,
          77000,
          50000,
          3500000,
          66000,
          77000,
          77000,
          77000,
          30000,
          77000,
          250000
         ],
         "xaxis": "x",
         "yaxis": "y"
        },
        {
         "alignmentgroup": "True",
         "bingroup": "x",
         "hovertemplate": "Nome del Progetto=Equalizer<br>Voti=%{x}<br>count=%{y}<extra></extra>",
         "legendgroup": "Equalizer",
         "marker": {
          "color": "#19d3f3",
          "opacity": 0.5,
          "pattern": {
           "shape": ""
          }
         },
         "name": "Equalizer",
         "nbinsx": 50,
         "offsetgroup": "Equalizer",
         "orientation": "v",
         "showlegend": true,
         "type": "histogram",
         "x": [
          47000,
          8000,
          28000,
          50000,
          25000,
          77000,
          25000,
          25000,
          77000,
          77000,
          77000,
          77000,
          10000,
          77000,
          77000,
          77000,
          20000,
          77000,
          50000,
          75000,
          77000,
          50000,
          28000,
          0,
          77000,
          10000,
          5000,
          53000,
          77000
         ],
         "xaxis": "x",
         "yaxis": "y"
        },
        {
         "alignmentgroup": "True",
         "bingroup": "x",
         "hovertemplate": "Nome del Progetto=Erigon<br>Voti=%{x}<br>count=%{y}<extra></extra>",
         "legendgroup": "Erigon",
         "marker": {
          "color": "#FF6692",
          "opacity": 0.5,
          "pattern": {
           "shape": ""
          }
         },
         "name": "Erigon",
         "nbinsx": 50,
         "offsetgroup": "Erigon",
         "orientation": "v",
         "showlegend": true,
         "type": "histogram",
         "x": [
          100000,
          590000,
          1300000,
          730000,
          1500000,
          800000,
          100000,
          1000000,
          75000,
          180000,
          400000,
          1300000,
          100000,
          100,
          800000,
          1000000,
          590000,
          250000,
          250000,
          380000,
          250000,
          430000,
          500000,
          1000000,
          400000,
          50000,
          500000,
          480000,
          100000,
          430000,
          77000,
          250000,
          2000000,
          60000,
          20000,
          200000,
          2900000,
          77000,
          2000000,
          77000,
          200000,
          500000,
          75000,
          260000,
          50000,
          350000,
          200000,
          500000,
          200000,
          1300000,
          200000,
          50000,
          4000000,
          200000,
          320000,
          75000,
          3500000,
          430000,
          150000,
          150000,
          150000,
          500000,
          250000,
          100000,
          520000,
          250000,
          100000,
          200000,
          77000,
          400000,
          260000,
          680000,
          430000,
          1300000,
          900000,
          250000,
          600000,
          960000,
          540000,
          540000,
          250000,
          340000,
          500000,
          500000,
          400000,
          1400000,
          120000,
          300000,
          300000,
          500000,
          500000
         ],
         "xaxis": "x",
         "yaxis": "y"
        },
        {
         "alignmentgroup": "True",
         "bingroup": "x",
         "hovertemplate": "Nome del Progetto=Ethereum Attestation Service<br>Voti=%{x}<br>count=%{y}<extra></extra>",
         "legendgroup": "Ethereum Attestation Service",
         "marker": {
          "color": "#B6E880",
          "opacity": 0.5,
          "pattern": {
           "shape": ""
          }
         },
         "name": "Ethereum Attestation Service",
         "nbinsx": 50,
         "offsetgroup": "Ethereum Attestation Service",
         "orientation": "v",
         "showlegend": true,
         "type": "histogram",
         "x": [
          130000,
          400000,
          100000,
          600000,
          1000000,
          90000,
          140000,
          3000000,
          100000,
          75000,
          850000,
          10000,
          170000,
          200000,
          75000,
          250000,
          280000,
          100000,
          230000,
          94000,
          1000000,
          200000,
          600000,
          380000,
          200000,
          160000,
          350000,
          160000,
          200000,
          100000,
          790000,
          150000,
          230000,
          240000,
          1200000,
          150000,
          230000,
          430000,
          200000,
          230000,
          250000,
          160000,
          150000,
          200000,
          350000,
          160000,
          1500000,
          1000000,
          100000,
          500000,
          200000,
          1000000,
          500000,
          1300000,
          130000,
          260000,
          1000000,
          80000,
          160000,
          160000,
          160000,
          5000000,
          500000,
          100000,
          250000,
          100000,
          130000,
          600000,
          250000,
          620000,
          250000,
          250000,
          2000000,
          300000,
          300000,
          250000,
          500000,
          1000000,
          500000,
          100000,
          50000,
          70000,
          1000000,
          10000,
          300000,
          350000,
          300000,
          200000,
          100000,
          150000,
          50000,
          0
         ],
         "xaxis": "x",
         "yaxis": "y"
        },
        {
         "alignmentgroup": "True",
         "bingroup": "x",
         "hovertemplate": "Nome del Progetto=Eventcaster<br>Voti=%{x}<br>count=%{y}<extra></extra>",
         "legendgroup": "Eventcaster",
         "marker": {
          "color": "#FF97FF",
          "opacity": 0.5,
          "pattern": {
           "shape": ""
          }
         },
         "name": "Eventcaster",
         "nbinsx": 50,
         "offsetgroup": "Eventcaster",
         "orientation": "v",
         "showlegend": true,
         "type": "histogram",
         "x": [
          24000,
          25000,
          50000,
          2500,
          39000,
          10000,
          25000,
          39000,
          39000,
          10000,
          25000,
          39000,
          15000,
          30000,
          39000,
          10000,
          39000,
          39000,
          20000,
          39000,
          25000,
          39000,
          10000,
          50000,
          10000,
          39000,
          10000,
          39000,
          39000,
          500000,
          150000,
          10000,
          14000,
          2500,
          20000,
          20000
         ],
         "xaxis": "x",
         "yaxis": "y"
        },
        {
         "alignmentgroup": "True",
         "bingroup": "x",
         "hovertemplate": "Nome del Progetto=Flipside Crypto<br>Voti=%{x}<br>count=%{y}<extra></extra>",
         "legendgroup": "Flipside Crypto",
         "marker": {
          "color": "#FECB52",
          "opacity": 0.5,
          "pattern": {
           "shape": ""
          }
         },
         "name": "Flipside Crypto",
         "nbinsx": 50,
         "offsetgroup": "Flipside Crypto",
         "orientation": "v",
         "showlegend": true,
         "type": "histogram",
         "x": [
          0,
          47000,
          60000,
          50000,
          50000,
          77000,
          200000,
          1500,
          77000,
          20000,
          77000,
          8000,
          50000,
          75000,
          50000,
          25000,
          1,
          180000,
          100000,
          300000,
          77000,
          5900,
          1500,
          77000,
          25000,
          1500000,
          180000,
          0,
          55000,
          140000,
          77000,
          100000,
          10000,
          200000,
          90000,
          75000,
          25000,
          64000,
          0,
          0,
          40000,
          40000,
          8000,
          77000,
          50000,
          0
         ],
         "xaxis": "x",
         "yaxis": "y"
        },
        {
         "alignmentgroup": "True",
         "bingroup": "x",
         "hovertemplate": "Nome del Progetto=Frame<br>Voti=%{x}<br>count=%{y}<extra></extra>",
         "legendgroup": "Frame",
         "marker": {
          "color": "#636efa",
          "opacity": 0.5,
          "pattern": {
           "shape": ""
          }
         },
         "name": "Frame",
         "nbinsx": 50,
         "offsetgroup": "Frame",
         "orientation": "v",
         "showlegend": true,
         "type": "histogram",
         "x": [
          7000,
          75000,
          100000,
          75000,
          300000,
          50000,
          300000,
          100,
          150000,
          50000,
          0,
          130000,
          200000,
          150000,
          25000,
          15000,
          250000,
          72000,
          150000,
          40000,
          150000,
          500000,
          180000,
          120000,
          250000,
          500000,
          120000,
          300000,
          2000000,
          130000,
          260000,
          85000,
          500000,
          500000,
          75000,
          180000,
          200000,
          1300000,
          100000,
          470000,
          75000,
          250000,
          77000,
          77000,
          70000,
          150000,
          77000,
          100000,
          100000,
          100000,
          50000,
          2000000,
          250000,
          140000,
          9000,
          200000,
          320000,
          30000,
          250000,
          100000,
          77000,
          1000,
          430000,
          77000,
          100000,
          130000,
          75000,
          150000,
          130000,
          680000,
          500000,
          100000,
          300000,
          77000,
          130000,
          77000,
          130000,
          180000
         ],
         "xaxis": "x",
         "yaxis": "y"
        },
        {
         "alignmentgroup": "True",
         "bingroup": "x",
         "hovertemplate": "Nome del Progetto=Galxe<br>Voti=%{x}<br>count=%{y}<extra></extra>",
         "legendgroup": "Galxe",
         "marker": {
          "color": "#EF553B",
          "opacity": 0.5,
          "pattern": {
           "shape": ""
          }
         },
         "name": "Galxe",
         "nbinsx": 50,
         "offsetgroup": "Galxe",
         "orientation": "v",
         "showlegend": true,
         "type": "histogram",
         "x": [
          160000,
          100000,
          5000,
          50000,
          100000,
          160000,
          26000,
          340000,
          100000,
          160000,
          100,
          75000,
          30000,
          25000,
          75000,
          160000,
          50000,
          160000,
          10000,
          160000,
          20000,
          10000,
          160000,
          100000,
          70000,
          50000,
          150000,
          0,
          120000,
          25000,
          160000,
          20000,
          150000,
          75000,
          86000,
          200000,
          65000,
          0,
          50000,
          300000,
          150000,
          94000,
          75000,
          170000,
          30000,
          1500000
         ],
         "xaxis": "x",
         "yaxis": "y"
        },
        {
         "alignmentgroup": "True",
         "bingroup": "x",
         "hovertemplate": "Nome del Progetto=Gaslite<br>Voti=%{x}<br>count=%{y}<extra></extra>",
         "legendgroup": "Gaslite",
         "marker": {
          "color": "#00cc96",
          "opacity": 0.5,
          "pattern": {
           "shape": ""
          }
         },
         "name": "Gaslite",
         "nbinsx": 50,
         "offsetgroup": "Gaslite",
         "orientation": "v",
         "showlegend": true,
         "type": "histogram",
         "x": [
          77000,
          10000,
          50000,
          10000,
          77000,
          47000,
          75000,
          77000,
          10000,
          77000,
          50000,
          20000,
          77000,
          20000,
          77000,
          100000,
          300000,
          77000,
          25000,
          50000,
          36000,
          57000,
          10000,
          77000,
          15000,
          25000,
          50000,
          50000,
          50000,
          50000,
          77000,
          77000,
          25000,
          77000,
          80000,
          7000,
          77000,
          50000,
          50000,
          25000
         ],
         "xaxis": "x",
         "yaxis": "y"
        },
        {
         "alignmentgroup": "True",
         "bingroup": "x",
         "hovertemplate": "Nome del Progetto=Gelato<br>Voti=%{x}<br>count=%{y}<extra></extra>",
         "legendgroup": "Gelato",
         "marker": {
          "color": "#ab63fa",
          "opacity": 0.5,
          "pattern": {
           "shape": ""
          }
         },
         "name": "Gelato",
         "nbinsx": 50,
         "offsetgroup": "Gelato",
         "orientation": "v",
         "showlegend": true,
         "type": "histogram",
         "x": [
          77000,
          50000,
          0,
          20000,
          8600,
          75000,
          100000,
          0,
          250000,
          1000000,
          50000,
          77000,
          100000,
          10000,
          200000,
          20000,
          50000,
          77000,
          80000,
          590000,
          10000,
          500000,
          100000,
          77000,
          400000,
          150000,
          35000,
          25000,
          100000,
          500000,
          0,
          100000,
          8000,
          77000,
          50000,
          77000,
          200000,
          50000,
          130000,
          50000,
          500000,
          150000,
          100000,
          100000,
          100,
          100000,
          50000,
          23000,
          25000,
          120000,
          77000,
          590000,
          280000,
          250000,
          0,
          77000,
          50000,
          11000,
          280000,
          10000,
          100000,
          50000,
          140000
         ],
         "xaxis": "x",
         "yaxis": "y"
        },
        {
         "alignmentgroup": "True",
         "bingroup": "x",
         "hovertemplate": "Nome del Progetto=Guild.xyz<br>Voti=%{x}<br>count=%{y}<extra></extra>",
         "legendgroup": "Guild.xyz",
         "marker": {
          "color": "#FFA15A",
          "opacity": 0.5,
          "pattern": {
           "shape": ""
          }
         },
         "name": "Guild.xyz",
         "nbinsx": 50,
         "offsetgroup": "Guild.xyz",
         "orientation": "v",
         "showlegend": true,
         "type": "histogram",
         "x": [
          160000,
          160000,
          25000,
          20000,
          10000,
          100000,
          72000,
          86000,
          1000,
          160000,
          10000,
          85000,
          80000,
          500000,
          160000,
          50000,
          50000,
          25000,
          67000,
          110000,
          100000,
          350000,
          50000,
          45000,
          50000,
          50000,
          130000,
          160000,
          50000,
          200000,
          100000,
          100000,
          50000,
          200000,
          25000,
          100000,
          160000,
          160000,
          100000,
          160000,
          500000,
          250000,
          200000,
          100000,
          250000,
          200000,
          250000,
          54000,
          75000,
          50000,
          90000,
          150000,
          50000,
          50000,
          60000,
          50000,
          160000,
          94000,
          50000,
          200000,
          500000
         ],
         "xaxis": "x",
         "yaxis": "y"
        },
        {
         "alignmentgroup": "True",
         "bingroup": "x",
         "hovertemplate": "Nome del Progetto=Hardhat<br>Voti=%{x}<br>count=%{y}<extra></extra>",
         "legendgroup": "Hardhat",
         "marker": {
          "color": "#19d3f3",
          "opacity": 0.5,
          "pattern": {
           "shape": ""
          }
         },
         "name": "Hardhat",
         "nbinsx": 50,
         "offsetgroup": "Hardhat",
         "orientation": "v",
         "showlegend": true,
         "type": "histogram",
         "x": [
          47000,
          470000,
          200000,
          2300000,
          700000,
          250000,
          400000,
          15000,
          250000,
          480000,
          150000,
          300000,
          100000,
          500000,
          1200000,
          0,
          100000,
          1000000,
          500000,
          320000,
          500000,
          500000,
          200000,
          1000000,
          100000,
          100000,
          77000,
          240000,
          480000,
          250000,
          570000,
          250000,
          2000000,
          180000,
          200000,
          290000,
          100000,
          500000,
          550000,
          40000,
          500000,
          2000000,
          480000,
          180000,
          350000,
          100000,
          200000,
          250000,
          250000,
          150000,
          300000,
          300000,
          470000,
          200000,
          250000,
          400000,
          77000,
          250000,
          300000,
          470000,
          500000,
          230000,
          100000,
          1400000,
          50000,
          77000,
          870000,
          500000,
          1500000,
          77000,
          300000,
          20000,
          600000,
          1000000,
          500000,
          150000,
          240000,
          2300000,
          77000,
          1500000,
          1000000,
          75000,
          300000,
          250000,
          1500000,
          100000,
          200000,
          25000,
          180000,
          5000000,
          500000,
          300000,
          180000,
          200000,
          1000000,
          1100000,
          400000,
          500000,
          77000,
          80000
         ],
         "xaxis": "x",
         "yaxis": "y"
        },
        {
         "alignmentgroup": "True",
         "bingroup": "x",
         "hovertemplate": "Nome del Progetto=Hop DAO<br>Voti=%{x}<br>count=%{y}<extra></extra>",
         "legendgroup": "Hop DAO",
         "marker": {
          "color": "#FF6692",
          "opacity": 0.5,
          "pattern": {
           "shape": ""
          }
         },
         "name": "Hop DAO",
         "nbinsx": 50,
         "offsetgroup": "Hop DAO",
         "orientation": "v",
         "showlegend": true,
         "type": "histogram",
         "x": [
          1000000,
          100,
          50000,
          25000,
          39000,
          100000,
          200000,
          150000,
          150000,
          75000,
          50000,
          200000,
          50000,
          250000,
          95000,
          500000,
          5000000,
          0,
          80000,
          100000,
          5900,
          25000,
          500000,
          10000,
          39000,
          80000,
          39000,
          100,
          12000,
          150000,
          30000,
          150000,
          150000,
          300000,
          39000,
          100000,
          39000,
          40000,
          25000,
          100000,
          39000,
          0,
          39000,
          50000,
          400000,
          39000,
          100000,
          50000,
          250000
         ],
         "xaxis": "x",
         "yaxis": "y"
        },
        {
         "alignmentgroup": "True",
         "bingroup": "x",
         "hovertemplate": "Nome del Progetto=IPFS<br>Voti=%{x}<br>count=%{y}<extra></extra>",
         "legendgroup": "IPFS",
         "marker": {
          "color": "#B6E880",
          "opacity": 0.5,
          "pattern": {
           "shape": ""
          }
         },
         "name": "IPFS",
         "nbinsx": 50,
         "offsetgroup": "IPFS",
         "orientation": "v",
         "showlegend": true,
         "type": "histogram",
         "x": [
          130000,
          500000,
          0,
          2000000,
          1100000,
          240000,
          200000,
          1000000,
          250000,
          590000,
          160000,
          1000000,
          260000,
          500000,
          160000,
          100000,
          100000,
          300000,
          1000000,
          590000,
          160000,
          300000,
          0,
          1000000,
          50000,
          130000,
          160000,
          300000,
          100000,
          100,
          1000,
          40000,
          0,
          350000,
          1000000,
          100000,
          160000,
          100000,
          1500000,
          160000,
          1400000,
          1000000,
          500000,
          30000,
          100000,
          0,
          1200000,
          11000,
          50000,
          250000,
          400000,
          210000,
          10000,
          460000,
          50000,
          360000,
          250000,
          1000000,
          230000,
          48000,
          160000,
          1300000,
          150000,
          500000,
          100000,
          50000,
          400000,
          200000,
          600000,
          400000,
          270000,
          160000,
          1000000,
          160000,
          900000,
          500000
         ],
         "xaxis": "x",
         "yaxis": "y"
        },
        {
         "alignmentgroup": "True",
         "bingroup": "x",
         "hovertemplate": "Nome del Progetto=Interface<br>Voti=%{x}<br>count=%{y}<extra></extra>",
         "legendgroup": "Interface",
         "marker": {
          "color": "#FF97FF",
          "opacity": 0.5,
          "pattern": {
           "shape": ""
          }
         },
         "name": "Interface",
         "nbinsx": 50,
         "offsetgroup": "Interface",
         "orientation": "v",
         "showlegend": true,
         "type": "histogram",
         "x": [
          25000,
          24000,
          50000,
          170000,
          32000,
          39000,
          50000,
          39000,
          10000,
          5900,
          350000,
          39000,
          39000,
          200000,
          39000,
          25000,
          5000,
          5000,
          39000,
          39000,
          10000,
          860,
          20000,
          11000,
          25000,
          39000,
          20000,
          300000,
          800,
          39000,
          39000,
          5000,
          39000,
          10000,
          39000,
          40000,
          50000
         ],
         "xaxis": "x",
         "yaxis": "y"
        },
        {
         "alignmentgroup": "True",
         "bingroup": "x",
         "hovertemplate": "Nome del Progetto=LandTorn - Lorak<br>Voti=%{x}<br>count=%{y}<extra></extra>",
         "legendgroup": "LandTorn - Lorak",
         "marker": {
          "color": "#FECB52",
          "opacity": 0.5,
          "pattern": {
           "shape": ""
          }
         },
         "name": "LandTorn - Lorak",
         "nbinsx": 50,
         "offsetgroup": "LandTorn - Lorak",
         "orientation": "v",
         "showlegend": true,
         "type": "histogram",
         "x": [
          40000,
          75000,
          30000,
          63000,
          39000,
          39000,
          35000,
          20000,
          14000,
          39000,
          25000,
          100000,
          15000,
          50000,
          39000,
          39000,
          100000,
          20000,
          39000,
          100000,
          100000,
          87000,
          39000,
          39000,
          24000,
          39000,
          39000,
          50000,
          50000,
          40000,
          20000
         ],
         "xaxis": "x",
         "yaxis": "y"
        },
        {
         "alignmentgroup": "True",
         "bingroup": "x",
         "hovertemplate": "Nome del Progetto=Lattice (OPCraft & MUD)<br>Voti=%{x}<br>count=%{y}<extra></extra>",
         "legendgroup": "Lattice (OPCraft & MUD)",
         "marker": {
          "color": "#636efa",
          "opacity": 0.5,
          "pattern": {
           "shape": ""
          }
         },
         "name": "Lattice (OPCraft & MUD)",
         "nbinsx": 50,
         "offsetgroup": "Lattice (OPCraft & MUD)",
         "orientation": "v",
         "showlegend": true,
         "type": "histogram",
         "x": [
          160000,
          94000,
          160000,
          2500000,
          200000,
          200000,
          160000,
          100000,
          1000000,
          350000,
          160000,
          46000,
          250000,
          1200000,
          150000,
          1400000,
          50000,
          15000,
          67000,
          500000,
          1500000,
          200000,
          100000,
          100000,
          100000,
          220000,
          250000,
          3000000,
          200000,
          5000000,
          260000,
          100000,
          100000,
          25000,
          40000,
          160000,
          100000,
          230000,
          1000000,
          72000,
          150000,
          250000,
          100,
          600000,
          200000,
          200000,
          1000000,
          250000,
          160000,
          85000,
          500000,
          1000000,
          2000000,
          60000,
          50000,
          75000,
          200000,
          250000,
          160000,
          160000,
          20000,
          200000,
          800000,
          200000,
          5000000,
          200000,
          100000
         ],
         "xaxis": "x",
         "yaxis": "y"
        },
        {
         "alignmentgroup": "True",
         "bingroup": "x",
         "hovertemplate": "Nome del Progetto=Launchcaster<br>Voti=%{x}<br>count=%{y}<extra></extra>",
         "legendgroup": "Launchcaster",
         "marker": {
          "color": "#EF553B",
          "opacity": 0.5,
          "pattern": {
           "shape": ""
          }
         },
         "name": "Launchcaster",
         "nbinsx": 50,
         "offsetgroup": "Launchcaster",
         "orientation": "v",
         "showlegend": true,
         "type": "histogram",
         "x": [
          15000,
          25000,
          50000,
          39000,
          5000,
          39000,
          24000,
          10000,
          54000,
          20000,
          10000,
          39000,
          51000,
          39000,
          20000,
          39000,
          100000,
          25000,
          15000,
          39000,
          39000,
          20000,
          39000,
          10000,
          89000,
          100000,
          25000,
          39000,
          39000,
          29000,
          50000,
          150000,
          39000,
          27000,
          25000,
          39000,
          39000
         ],
         "xaxis": "x",
         "yaxis": "y"
        },
        {
         "alignmentgroup": "True",
         "bingroup": "x",
         "hovertemplate": "Nome del Progetto=Layer3<br>Voti=%{x}<br>count=%{y}<extra></extra>",
         "legendgroup": "Layer3",
         "marker": {
          "color": "#00cc96",
          "opacity": 0.5,
          "pattern": {
           "shape": ""
          }
         },
         "name": "Layer3",
         "nbinsx": 50,
         "offsetgroup": "Layer3",
         "orientation": "v",
         "showlegend": true,
         "type": "histogram",
         "x": [
          50000,
          0,
          21000,
          160000,
          10000,
          25000,
          160000,
          160000,
          30000,
          300000,
          100000,
          160000,
          10000,
          160000,
          160000,
          100000,
          70000,
          100000,
          10000,
          25000,
          50000,
          100000,
          30000,
          25000,
          75000,
          50000,
          10000,
          47000,
          10000,
          10000,
          1500000,
          300000,
          160000,
          160000,
          100000,
          10000,
          160000,
          40000,
          120000,
          1500,
          60000,
          50000,
          10000,
          94000,
          50000,
          25000,
          1000,
          20000,
          50000,
          20000
         ],
         "xaxis": "x",
         "yaxis": "y"
        },
        {
         "alignmentgroup": "True",
         "bingroup": "x",
         "hovertemplate": "Nome del Progetto=LearnWeb3<br>Voti=%{x}<br>count=%{y}<extra></extra>",
         "legendgroup": "LearnWeb3",
         "marker": {
          "color": "#ab63fa",
          "opacity": 0.5,
          "pattern": {
           "shape": ""
          }
         },
         "name": "LearnWeb3",
         "nbinsx": 50,
         "offsetgroup": "LearnWeb3",
         "orientation": "v",
         "showlegend": true,
         "type": "histogram",
         "x": [
          25000,
          50000,
          50000,
          150000,
          5000,
          25000,
          20000,
          75000,
          25000,
          160000,
          100000,
          77000,
          100,
          77000,
          77000,
          77000,
          9400,
          10000,
          25000,
          250000,
          50000,
          77000,
          47000,
          75000,
          150000,
          100000,
          25000,
          25000,
          77000,
          30000,
          77000,
          300000,
          10000,
          100000,
          25000,
          25000,
          75000,
          5000,
          25000,
          20000,
          75000,
          77000,
          10000
         ],
         "xaxis": "x",
         "yaxis": "y"
        },
        {
         "alignmentgroup": "True",
         "bingroup": "x",
         "hovertemplate": "Nome del Progetto=Lore<br>Voti=%{x}<br>count=%{y}<extra></extra>",
         "legendgroup": "Lore",
         "marker": {
          "color": "#FFA15A",
          "opacity": 0.5,
          "pattern": {
           "shape": ""
          }
         },
         "name": "Lore",
         "nbinsx": 50,
         "offsetgroup": "Lore",
         "orientation": "v",
         "showlegend": true,
         "type": "histogram",
         "x": [
          75000,
          25000,
          5000,
          70000,
          300000,
          20000,
          29000,
          16000,
          77000,
          50000,
          77000,
          25000,
          77000,
          50000,
          85000,
          27000,
          100,
          0,
          77000,
          150000,
          77000,
          77000,
          75000,
          100,
          40000,
          130000,
          30000,
          77000,
          75000,
          150000,
          47000,
          77000,
          100000,
          18000,
          20000,
          500000,
          10000,
          6000,
          20000
         ],
         "xaxis": "x",
         "yaxis": "y"
        },
        {
         "alignmentgroup": "True",
         "bingroup": "x",
         "hovertemplate": "Nome del Progetto=Messari<br>Voti=%{x}<br>count=%{y}<extra></extra>",
         "legendgroup": "Messari",
         "marker": {
          "color": "#19d3f3",
          "opacity": 0.5,
          "pattern": {
           "shape": ""
          }
         },
         "name": "Messari",
         "nbinsx": 50,
         "offsetgroup": "Messari",
         "orientation": "v",
         "showlegend": true,
         "type": "histogram",
         "x": [
          500000,
          0,
          20000,
          77000,
          77000,
          77000,
          5900,
          25000,
          77000,
          0,
          4000,
          77000,
          77000,
          1,
          77000,
          25000,
          25000,
          25000,
          1700,
          47000,
          77000,
          0,
          5000,
          100000,
          0,
          50000,
          200000,
          0,
          32000,
          50000,
          0,
          75000,
          4300,
          0,
          44000,
          15000,
          50000,
          0
         ],
         "xaxis": "x",
         "yaxis": "y"
        },
        {
         "alignmentgroup": "True",
         "bingroup": "x",
         "hovertemplate": "Nome del Progetto=Mirror<br>Voti=%{x}<br>count=%{y}<extra></extra>",
         "legendgroup": "Mirror",
         "marker": {
          "color": "#FF6692",
          "opacity": 0.5,
          "pattern": {
           "shape": ""
          }
         },
         "name": "Mirror",
         "nbinsx": 50,
         "offsetgroup": "Mirror",
         "orientation": "v",
         "showlegend": true,
         "type": "histogram",
         "x": [
          500000,
          25000,
          500000,
          160000,
          45000,
          0,
          100000,
          15000,
          150000,
          50000,
          75000,
          150000,
          150000,
          11000,
          160000,
          250000,
          140000,
          50000,
          160000,
          140000,
          150000,
          250000,
          100000,
          57000,
          30000,
          140000,
          1000000,
          300000,
          0,
          20000,
          230000,
          200000,
          100000,
          160000,
          15000,
          250000,
          160000,
          10000,
          140000,
          1000000,
          140000,
          50000,
          40000,
          90000,
          50000,
          94000,
          200000,
          150000,
          100000,
          10000,
          100000,
          600000,
          12000,
          160000,
          50000,
          400000,
          100000,
          250000,
          4700000,
          100000,
          54000,
          0,
          140000,
          150000,
          100000,
          100000,
          23000,
          500000,
          100000,
          65000,
          160000,
          160000
         ],
         "xaxis": "x",
         "yaxis": "y"
        },
        {
         "alignmentgroup": "True",
         "bingroup": "x",
         "hovertemplate": "Nome del Progetto=Modular Crypto<br>Voti=%{x}<br>count=%{y}<extra></extra>",
         "legendgroup": "Modular Crypto",
         "marker": {
          "color": "#B6E880",
          "opacity": 0.5,
          "pattern": {
           "shape": ""
          }
         },
         "name": "Modular Crypto",
         "nbinsx": 50,
         "offsetgroup": "Modular Crypto",
         "orientation": "v",
         "showlegend": true,
         "type": "histogram",
         "x": [
          24000,
          15000,
          150000,
          25000,
          5000,
          10000,
          40000,
          10000,
          50000,
          5000,
          25000,
          32000,
          39000,
          15000,
          2000,
          10000,
          20000,
          25000,
          3500,
          10000,
          2500,
          10000,
          50000,
          10000,
          10000,
          39000,
          10000,
          21000,
          20000,
          1000000,
          22000,
          24000,
          10000,
          39000,
          2500,
          39000,
          2000,
          39000,
          39000,
          10000,
          5000,
          10000,
          10000,
          2000,
          5000,
          40000,
          39000,
          0,
          5000
         ],
         "xaxis": "x",
         "yaxis": "y"
        },
        {
         "alignmentgroup": "True",
         "bingroup": "x",
         "hovertemplate": "Nome del Progetto=Moonwell<br>Voti=%{x}<br>count=%{y}<extra></extra>",
         "legendgroup": "Moonwell",
         "marker": {
          "color": "#FF97FF",
          "opacity": 0.5,
          "pattern": {
           "shape": ""
          }
         },
         "name": "Moonwell",
         "nbinsx": 50,
         "offsetgroup": "Moonwell",
         "orientation": "v",
         "showlegend": true,
         "type": "histogram",
         "x": [
          130000,
          50000,
          75000,
          160000,
          54000,
          25000,
          160000,
          20000,
          11000,
          50000,
          75000,
          94000,
          35000,
          60000,
          100,
          50000,
          1000000,
          100000,
          50000,
          15000,
          160000,
          50000,
          57000,
          10000,
          55000,
          160000,
          50000,
          35000,
          160000,
          100000,
          160000,
          50000,
          160000,
          0,
          5000,
          75000,
          54000,
          85000
         ],
         "xaxis": "x",
         "yaxis": "y"
        },
        {
         "alignmentgroup": "True",
         "bingroup": "x",
         "hovertemplate": "Nome del Progetto=Moso<br>Voti=%{x}<br>count=%{y}<extra></extra>",
         "legendgroup": "Moso",
         "marker": {
          "color": "#FECB52",
          "opacity": 0.5,
          "pattern": {
           "shape": ""
          }
         },
         "name": "Moso",
         "nbinsx": 50,
         "offsetgroup": "Moso",
         "orientation": "v",
         "showlegend": true,
         "type": "histogram",
         "x": [
          10000,
          25000,
          50000,
          47000,
          5000,
          75000,
          77000,
          77000,
          77000,
          77000,
          25000,
          45000,
          50000,
          77000,
          10000,
          77000,
          25000,
          77000,
          77000,
          20000,
          20000,
          77000,
          77000,
          5000,
          57000,
          77000,
          22000,
          77000,
          77000
         ],
         "xaxis": "x",
         "yaxis": "y"
        },
        {
         "alignmentgroup": "True",
         "bingroup": "x",
         "hovertemplate": "Nome del Progetto=OP Reth<br>Voti=%{x}<br>count=%{y}<extra></extra>",
         "legendgroup": "OP Reth",
         "marker": {
          "color": "#636efa",
          "opacity": 0.5,
          "pattern": {
           "shape": ""
          }
         },
         "name": "OP Reth",
         "nbinsx": 50,
         "offsetgroup": "OP Reth",
         "orientation": "v",
         "showlegend": true,
         "type": "histogram",
         "x": [
          250000,
          1000000,
          25000,
          390000,
          90000,
          47000,
          230000,
          100000,
          77000,
          50000,
          150000,
          690000,
          130000,
          500000,
          510000,
          200000,
          1200000,
          300000,
          77000,
          500000,
          300000,
          150000,
          50000,
          200000,
          77000,
          150000,
          70000,
          1500000,
          380000,
          100000,
          100000,
          380000,
          75000,
          100000,
          500000,
          250000,
          500000,
          200000,
          320000,
          10000,
          50000,
          350000,
          380000,
          77000,
          20000,
          300000,
          250000,
          80000,
          77000,
          50000,
          750000,
          77000,
          60000,
          40000,
          380000,
          200000,
          320000,
          45000,
          90000,
          75000,
          500000,
          450000,
          180000,
          100000
         ],
         "xaxis": "x",
         "yaxis": "y"
        },
        {
         "alignmentgroup": "True",
         "bingroup": "x",
         "hovertemplate": "Nome del Progetto=Odos<br>Voti=%{x}<br>count=%{y}<extra></extra>",
         "legendgroup": "Odos",
         "marker": {
          "color": "#EF553B",
          "opacity": 0.5,
          "pattern": {
           "shape": ""
          }
         },
         "name": "Odos",
         "nbinsx": 50,
         "offsetgroup": "Odos",
         "orientation": "v",
         "showlegend": true,
         "type": "histogram",
         "x": [
          860,
          25000,
          10000,
          80000,
          10000,
          10000,
          78000,
          10000,
          77000,
          10000,
          10000,
          77000,
          10000,
          50000,
          15000,
          77000,
          25000,
          77000,
          20000,
          77000,
          50000,
          0,
          77000,
          50000,
          50000,
          77000,
          77000,
          42000,
          250000,
          77000,
          75000,
          10000,
          25000,
          50000
         ],
         "xaxis": "x",
         "yaxis": "y"
        },
        {
         "alignmentgroup": "True",
         "bingroup": "x",
         "hovertemplate": "Nome del Progetto=OpenZeppelin Contracts<br>Voti=%{x}<br>count=%{y}<extra></extra>",
         "legendgroup": "OpenZeppelin Contracts",
         "marker": {
          "color": "#00cc96",
          "opacity": 0.5,
          "pattern": {
           "shape": ""
          }
         },
         "name": "OpenZeppelin Contracts",
         "nbinsx": 50,
         "offsetgroup": "OpenZeppelin Contracts",
         "orientation": "v",
         "showlegend": true,
         "type": "histogram",
         "x": [
          200000,
          190000,
          250000,
          200000,
          380000,
          270000,
          1000000,
          600000,
          550000,
          250000,
          1000000,
          500000,
          750000,
          1500000,
          860000,
          180000,
          200000,
          320000,
          80000,
          60000,
          1000000,
          630000,
          500000,
          190000,
          370000,
          250000,
          100000,
          200000,
          360000,
          100000,
          300000,
          200000,
          200000,
          500000,
          500000,
          250000,
          920000,
          800000,
          400000,
          250000,
          2500000,
          200000,
          190000,
          590000,
          100000,
          200000,
          750000,
          100000,
          500000,
          77000,
          190000,
          300000,
          20000,
          200000,
          190000,
          100000,
          1000000,
          15000,
          77000,
          200000,
          100000,
          1200000,
          25000,
          25000,
          500000,
          1500000,
          600000,
          300000,
          500000,
          150000,
          200000,
          590000,
          450000,
          190000,
          590000,
          77000,
          150000,
          77000,
          300000,
          190000,
          400000,
          77000,
          75000,
          60000,
          620000,
          750000,
          1000000,
          200000,
          75000,
          200000,
          430000,
          1200000
         ],
         "xaxis": "x",
         "yaxis": "y"
        },
        {
         "alignmentgroup": "True",
         "bingroup": "x",
         "hovertemplate": "Nome del Progetto=Otterscan<br>Voti=%{x}<br>count=%{y}<extra></extra>",
         "legendgroup": "Otterscan",
         "marker": {
          "color": "#ab63fa",
          "opacity": 0.5,
          "pattern": {
           "shape": ""
          }
         },
         "name": "Otterscan",
         "nbinsx": 50,
         "offsetgroup": "Otterscan",
         "orientation": "v",
         "showlegend": true,
         "type": "histogram",
         "x": [
          130000,
          1000,
          100000,
          150000,
          500000,
          200000,
          50000,
          140000,
          180000,
          130000,
          10000,
          100000,
          380000,
          200000,
          39000,
          200000,
          200000,
          250000,
          500000,
          130000,
          420000,
          100000,
          1000000,
          500000,
          150000,
          100000,
          50000,
          500000,
          1000000,
          75000,
          39000,
          250000,
          100000,
          800000,
          430000,
          250000,
          50000,
          55000,
          500000,
          39000,
          250000,
          150000,
          400000,
          70000,
          1300000,
          1000000,
          1000000,
          75000,
          180000,
          500000,
          100000,
          1000000,
          75000,
          100000,
          670000,
          20000,
          100,
          39000,
          770000,
          230000,
          250000,
          1300000,
          30000,
          140000,
          1000000,
          100000,
          200000,
          250000,
          500000,
          600000,
          1000000,
          100000,
          39000,
          150000,
          500000,
          39000,
          100000,
          200000,
          30000,
          1500000,
          400000,
          50000,
          500000,
          20000,
          200000,
          900000,
          700000,
          60000,
          100000,
          230000,
          250000,
          150000,
          75000,
          500000,
          340000,
          10000,
          100000,
          39000
         ],
         "xaxis": "x",
         "yaxis": "y"
        },
        {
         "alignmentgroup": "True",
         "bingroup": "x",
         "hovertemplate": "Nome del Progetto=Ponder<br>Voti=%{x}<br>count=%{y}<extra></extra>",
         "legendgroup": "Ponder",
         "marker": {
          "color": "#FFA15A",
          "opacity": 0.5,
          "pattern": {
           "shape": ""
          }
         },
         "name": "Ponder",
         "nbinsx": 50,
         "offsetgroup": "Ponder",
         "orientation": "v",
         "showlegend": true,
         "type": "histogram",
         "x": [
          77000,
          25000,
          75000,
          54000,
          100000,
          50000,
          0,
          20000,
          77000,
          5000,
          75000,
          77000,
          77000,
          20000,
          77000,
          25000,
          24000,
          25000,
          25000,
          10000,
          77000,
          100,
          50000,
          76000,
          60000,
          50000,
          75000,
          25000,
          25000,
          77000,
          3000,
          77000,
          77000,
          20000,
          22000,
          47000,
          85000,
          10000
         ],
         "xaxis": "x",
         "yaxis": "y"
        },
        {
         "alignmentgroup": "True",
         "bingroup": "x",
         "hovertemplate": "Nome del Progetto=Rainbow Wallet<br>Voti=%{x}<br>count=%{y}<extra></extra>",
         "legendgroup": "Rainbow Wallet",
         "marker": {
          "color": "#19d3f3",
          "opacity": 0.5,
          "pattern": {
           "shape": ""
          }
         },
         "name": "Rainbow Wallet",
         "nbinsx": 50,
         "offsetgroup": "Rainbow Wallet",
         "orientation": "v",
         "showlegend": true,
         "type": "histogram",
         "x": [
          1,
          2000000,
          140000,
          500000,
          50000,
          200000,
          55000,
          0,
          100000,
          77000,
          20000,
          23000,
          100000,
          75000,
          50000,
          77000,
          20000,
          77000,
          47000,
          200000,
          11000,
          250000,
          10000,
          77000,
          25000,
          77000,
          3000000,
          20000,
          100000,
          0,
          6000,
          100000,
          3000,
          200000,
          77000,
          50000,
          78000,
          100000,
          0,
          100000,
          77000,
          150000,
          77000,
          120000,
          77000,
          200000,
          29000,
          120000,
          200000,
          50000,
          300000,
          100,
          0,
          100000,
          40000,
          10000,
          75000
         ],
         "xaxis": "x",
         "yaxis": "y"
        },
        {
         "alignmentgroup": "True",
         "bingroup": "x",
         "hovertemplate": "Nome del Progetto=RainbowKit<br>Voti=%{x}<br>count=%{y}<extra></extra>",
         "legendgroup": "RainbowKit",
         "marker": {
          "color": "#FF6692",
          "opacity": 0.5,
          "pattern": {
           "shape": ""
          }
         },
         "name": "RainbowKit",
         "nbinsx": 50,
         "offsetgroup": "RainbowKit",
         "orientation": "v",
         "showlegend": true,
         "type": "histogram",
         "x": [
          230000,
          50000,
          120000,
          480000,
          300000,
          200000,
          100000,
          100000,
          40000,
          50000,
          25000,
          77000,
          10000,
          180000,
          77000,
          11000,
          150000,
          75000,
          100000,
          250000,
          25000,
          200000,
          50000,
          200000,
          50000,
          200000,
          50000,
          100000,
          77000,
          150000,
          200000,
          200000,
          200000,
          500000,
          77000,
          25000,
          180000,
          77000,
          50000,
          100,
          2000000,
          75000,
          1000000,
          480000,
          230000,
          8600,
          180000,
          50000,
          140000,
          100000,
          300000,
          100000,
          180000,
          1000000,
          2000000,
          75000,
          50000,
          47000,
          180000,
          200000,
          150000,
          77000,
          500000,
          40000,
          77000,
          180000,
          77000,
          40000,
          100000,
          300000,
          300000,
          30000,
          15000,
          150000,
          200000,
          8000,
          100000,
          90000
         ],
         "xaxis": "x",
         "yaxis": "y"
        },
        {
         "alignmentgroup": "True",
         "bingroup": "x",
         "hovertemplate": "Nome del Progetto=Revoke.cash<br>Voti=%{x}<br>count=%{y}<extra></extra>",
         "legendgroup": "Revoke.cash",
         "marker": {
          "color": "#B6E880",
          "opacity": 0.5,
          "pattern": {
           "shape": ""
          }
         },
         "name": "Revoke.cash",
         "nbinsx": 50,
         "offsetgroup": "Revoke.cash",
         "orientation": "v",
         "showlegend": true,
         "type": "histogram",
         "x": [
          430000,
          210000,
          1300000,
          200000,
          50000,
          50000,
          50000,
          240000,
          200000,
          250000,
          20000,
          50000,
          1000,
          100000,
          50000,
          5000,
          77000,
          670000,
          50000,
          180000,
          470000,
          500000,
          150000,
          200000,
          100000,
          150000,
          250000,
          1000000,
          500000,
          77000,
          500000,
          35000,
          250000,
          100000,
          50000,
          200000,
          230000,
          100000,
          200000,
          77000,
          100000,
          500000,
          390000,
          100000,
          500000,
          500000,
          200000,
          250000,
          77000,
          500000,
          200000,
          250000,
          50000,
          20000,
          77000,
          50000,
          1000000,
          50000,
          1000000,
          140000,
          180000,
          180000,
          1300000,
          150000,
          420000,
          50000,
          500000,
          100000,
          30000,
          77000,
          200000,
          77000,
          600000,
          200000,
          20000,
          150000,
          80000,
          100000,
          100000,
          130000,
          400000,
          100000,
          250000,
          200000,
          77000,
          250000,
          500000,
          70000,
          60000
         ],
         "xaxis": "x",
         "yaxis": "y"
        },
        {
         "alignmentgroup": "True",
         "bingroup": "x",
         "hovertemplate": "Nome del Progetto=Rollup.codes<br>Voti=%{x}<br>count=%{y}<extra></extra>",
         "legendgroup": "Rollup.codes",
         "marker": {
          "color": "#FF97FF",
          "opacity": 0.5,
          "pattern": {
           "shape": ""
          }
         },
         "name": "Rollup.codes",
         "nbinsx": 50,
         "offsetgroup": "Rollup.codes",
         "orientation": "v",
         "showlegend": true,
         "type": "histogram",
         "x": [
          50000,
          100000,
          5000,
          1000,
          90000,
          39000,
          75000,
          20000,
          250000,
          100000,
          18000,
          50000,
          25000,
          130000,
          50000,
          100000,
          25000,
          85000,
          110000,
          25000,
          25000,
          15000,
          20000,
          43000,
          230000,
          61000,
          25000,
          39000,
          100000,
          75000,
          65000,
          24000,
          5000,
          75000,
          40000,
          400000,
          10000,
          100000,
          40000,
          200000,
          230000,
          39000,
          20000,
          39000,
          50000,
          39000,
          39000,
          39000,
          25000,
          100000,
          20000,
          100000,
          700000,
          500000,
          50000,
          50000,
          39000
         ],
         "xaxis": "x",
         "yaxis": "y"
        },
        {
         "alignmentgroup": "True",
         "bingroup": "x",
         "hovertemplate": "Nome del Progetto=Socket<br>Voti=%{x}<br>count=%{y}<extra></extra>",
         "legendgroup": "Socket",
         "marker": {
          "color": "#FECB52",
          "opacity": 0.5,
          "pattern": {
           "shape": ""
          }
         },
         "name": "Socket",
         "nbinsx": 50,
         "offsetgroup": "Socket",
         "orientation": "v",
         "showlegend": true,
         "type": "histogram",
         "x": [
          200000,
          130000,
          100000,
          10000,
          100000,
          250000,
          11000,
          100000,
          80000,
          77000,
          20000,
          25000,
          280000,
          62000,
          50000,
          100000,
          25000,
          100000,
          100000,
          77000,
          77000,
          50000,
          160000,
          25000,
          210000,
          280000,
          100000,
          50000,
          0,
          77000,
          8000,
          60000,
          100000,
          75000,
          8600,
          500000,
          100000,
          77000,
          77000,
          1000000,
          77000,
          20000,
          75000,
          0,
          30000
         ],
         "xaxis": "x",
         "yaxis": "y"
        },
        {
         "alignmentgroup": "True",
         "bingroup": "x",
         "hovertemplate": "Nome del Progetto=Solidity<br>Voti=%{x}<br>count=%{y}<extra></extra>",
         "legendgroup": "Solidity",
         "marker": {
          "color": "#636efa",
          "opacity": 0.5,
          "pattern": {
           "shape": ""
          }
         },
         "name": "Solidity",
         "nbinsx": 50,
         "offsetgroup": "Solidity",
         "orientation": "v",
         "showlegend": true,
         "type": "histogram",
         "x": [
          1000000,
          75000,
          100000,
          2000000,
          130000,
          1000000,
          1000000,
          3500000,
          160000,
          3000000,
          100,
          670000,
          1300000,
          1000000,
          1100000,
          150000,
          280000,
          160000,
          1100000,
          100000,
          600000,
          1300000,
          100000,
          430000,
          1200000,
          250000,
          280000,
          300000,
          500000,
          1000000,
          500000,
          250000,
          600000,
          1800000,
          0,
          420000,
          1200000,
          630000,
          2000000,
          100000,
          230000,
          250000,
          500000,
          200000,
          500000,
          800000,
          590000,
          500000,
          300000,
          270000,
          2500000,
          430000,
          200000,
          550000,
          250000,
          360000,
          130000,
          1200000,
          1500000,
          200000,
          300000,
          1300000,
          3300000,
          700000,
          3000000,
          250000,
          200000,
          100000,
          400000,
          1200000,
          10000,
          100000,
          200000,
          1000000,
          3000000,
          2500000,
          300000,
          1000000,
          600000,
          300000,
          1300000,
          500000,
          280000,
          1200000,
          5000000,
          100000,
          160000,
          2000000,
          50000,
          1500000,
          15000,
          200000,
          700000,
          50000,
          350000,
          100000,
          180000,
          200000,
          5000000,
          600000,
          200000,
          2100000,
          320000,
          1400000,
          1000000,
          100000,
          500000,
          400000
         ],
         "xaxis": "x",
         "yaxis": "y"
        },
        {
         "alignmentgroup": "True",
         "bingroup": "x",
         "hovertemplate": "Nome del Progetto=Splits<br>Voti=%{x}<br>count=%{y}<extra></extra>",
         "legendgroup": "Splits",
         "marker": {
          "color": "#EF553B",
          "opacity": 0.5,
          "pattern": {
           "shape": ""
          }
         },
         "name": "Splits",
         "nbinsx": 50,
         "offsetgroup": "Splits",
         "orientation": "v",
         "showlegend": true,
         "type": "histogram",
         "x": [
          25000,
          80000,
          80000,
          77000,
          50000,
          200000,
          77000,
          77000,
          230000,
          77000,
          15000,
          100000,
          200000,
          500000,
          190000,
          250000,
          300000,
          350000,
          250000,
          500000,
          70000,
          50000,
          50000,
          250000,
          250000,
          77000,
          77000,
          150000,
          25000,
          100000,
          77000,
          100000,
          500000,
          25000,
          300000,
          150000,
          50000,
          25000,
          20000,
          150000,
          130000,
          150000,
          50000,
          75000,
          150000,
          100000,
          50000,
          77000,
          77000,
          86000,
          300000,
          20000,
          250000,
          1000000,
          2000000
         ],
         "xaxis": "x",
         "yaxis": "y"
        },
        {
         "alignmentgroup": "True",
         "bingroup": "x",
         "hovertemplate": "Nome del Progetto=Superscan<br>Voti=%{x}<br>count=%{y}<extra></extra>",
         "legendgroup": "Superscan",
         "marker": {
          "color": "#00cc96",
          "opacity": 0.5,
          "pattern": {
           "shape": ""
          }
         },
         "name": "Superscan",
         "nbinsx": 50,
         "offsetgroup": "Superscan",
         "orientation": "v",
         "showlegend": true,
         "type": "histogram",
         "x": [
          77000,
          50000,
          75000,
          78000,
          12000,
          25000,
          10000,
          77000,
          25000,
          77000,
          15000,
          50000,
          30000,
          150000,
          20000,
          77000,
          320000,
          10000,
          16000,
          50000,
          25000,
          10000,
          77000,
          300000,
          65000,
          25000,
          50000,
          50000,
          18000,
          77000,
          47000,
          77000,
          40000,
          50000,
          77000,
          77000,
          77000,
          77000,
          75000,
          200000,
          77000,
          250000,
          20000,
          77000
         ],
         "xaxis": "x",
         "yaxis": "y"
        },
        {
         "alignmentgroup": "True",
         "bingroup": "x",
         "hovertemplate": "Nome del Progetto=Surreal<br>Voti=%{x}<br>count=%{y}<extra></extra>",
         "legendgroup": "Surreal",
         "marker": {
          "color": "#ab63fa",
          "opacity": 0.5,
          "pattern": {
           "shape": ""
          }
         },
         "name": "Surreal",
         "nbinsx": 50,
         "offsetgroup": "Surreal",
         "orientation": "v",
         "showlegend": true,
         "type": "histogram",
         "x": [
          25000,
          24000,
          32000,
          39000,
          40000,
          39000,
          39000,
          20000,
          10000,
          39000,
          39000,
          25000,
          39000,
          39000,
          5400,
          20000,
          25000,
          39000,
          39000,
          20000,
          50000,
          39000,
          50000,
          5700,
          39000,
          5000,
          39000
         ],
         "xaxis": "x",
         "yaxis": "y"
        },
        {
         "alignmentgroup": "True",
         "bingroup": "x",
         "hovertemplate": "Nome del Progetto=Synthetix<br>Voti=%{x}<br>count=%{y}<extra></extra>",
         "legendgroup": "Synthetix",
         "marker": {
          "color": "#FFA15A",
          "opacity": 0.5,
          "pattern": {
           "shape": ""
          }
         },
         "name": "Synthetix",
         "nbinsx": 50,
         "offsetgroup": "Synthetix",
         "orientation": "v",
         "showlegend": true,
         "type": "histogram",
         "x": [
          5000000,
          1,
          480000,
          290000,
          450000,
          1100000,
          500000,
          80000,
          75000,
          20000,
          280000,
          250000,
          50000,
          250000,
          0,
          25000,
          670000,
          280000,
          77000,
          150000,
          500000,
          100000,
          500000,
          600000,
          0,
          10000,
          0,
          0,
          480000,
          16000,
          77000,
          300000,
          100,
          75000,
          1000000,
          300000,
          77000,
          1000,
          150000,
          77000,
          100000,
          300000,
          77000,
          10000,
          500000,
          150000,
          100000,
          500000,
          500000,
          77000,
          1000000,
          50000,
          0
         ],
         "xaxis": "x",
         "yaxis": "y"
        },
        {
         "alignmentgroup": "True",
         "bingroup": "x",
         "hovertemplate": "Nome del Progetto=Tenderly<br>Voti=%{x}<br>count=%{y}<extra></extra>",
         "legendgroup": "Tenderly",
         "marker": {
          "color": "#19d3f3",
          "opacity": 0.5,
          "pattern": {
           "shape": ""
          }
         },
         "name": "Tenderly",
         "nbinsx": 50,
         "offsetgroup": "Tenderly",
         "orientation": "v",
         "showlegend": true,
         "type": "histogram",
         "x": [
          32000,
          250000,
          0,
          0,
          1000000,
          180000,
          0,
          47000,
          77000,
          250000,
          100000,
          74000,
          100000,
          0,
          200000,
          75000,
          1000000,
          20000,
          330000,
          190000,
          500000,
          10000,
          20000,
          77000,
          10000,
          190000,
          75000,
          500000,
          50000,
          100000,
          230000,
          40000,
          100000,
          77000,
          8600,
          100000,
          330000,
          77000,
          830000,
          16000,
          75000,
          200000,
          300000,
          300000,
          400000,
          77000,
          77000,
          330000,
          0,
          100000,
          500000,
          1,
          77000,
          50000,
          0,
          100,
          77000,
          500000,
          74000,
          0,
          200000,
          51000,
          50000,
          50000,
          500000,
          1500000,
          100000,
          130000,
          77000,
          200000,
          50000,
          300000,
          300000
         ],
         "xaxis": "x",
         "yaxis": "y"
        },
        {
         "alignmentgroup": "True",
         "bingroup": "x",
         "hovertemplate": "Nome del Progetto=Test in Prod<br>Voti=%{x}<br>count=%{y}<extra></extra>",
         "legendgroup": "Test in Prod",
         "marker": {
          "color": "#FF6692",
          "opacity": 0.5,
          "pattern": {
           "shape": ""
          }
         },
         "name": "Test in Prod",
         "nbinsx": 50,
         "offsetgroup": "Test in Prod",
         "orientation": "v",
         "showlegend": true,
         "type": "histogram",
         "x": [
          1000000,
          350000,
          380000,
          2000000,
          600000,
          130000,
          4000000,
          35000,
          990000,
          500000,
          32000,
          50000,
          75000,
          75000,
          39000,
          100000,
          5000000,
          50000,
          330000,
          300000,
          250000,
          39000,
          100000,
          5000,
          39000,
          200000,
          350000,
          750000,
          9000,
          240000,
          2000000,
          590000,
          1000000,
          300000,
          50000,
          500000,
          25000,
          400000,
          700000,
          400000,
          32000,
          1000000,
          39000,
          55000,
          39000,
          39000,
          1300000,
          39000,
          590000,
          500000,
          20000,
          43000,
          500000,
          430000,
          100000,
          100000,
          950000,
          50000,
          650000,
          30000,
          200000,
          400000,
          30000,
          550000,
          130000,
          320000,
          800000,
          810000,
          500000
         ],
         "xaxis": "x",
         "yaxis": "y"
        },
        {
         "alignmentgroup": "True",
         "bingroup": "x",
         "hovertemplate": "Nome del Progetto=Token Terminal<br>Voti=%{x}<br>count=%{y}<extra></extra>",
         "legendgroup": "Token Terminal",
         "marker": {
          "color": "#B6E880",
          "opacity": 0.5,
          "pattern": {
           "shape": ""
          }
         },
         "name": "Token Terminal",
         "nbinsx": 50,
         "offsetgroup": "Token Terminal",
         "orientation": "v",
         "showlegend": true,
         "type": "histogram",
         "x": [
          4900,
          15000,
          25000,
          77000,
          25000,
          77000,
          10000,
          500000,
          25000,
          15000,
          77000,
          0,
          70000,
          50000,
          0,
          77000,
          10000,
          47000,
          77000,
          40000,
          50000,
          0,
          1500000,
          100000,
          77000,
          15000,
          15000,
          20000,
          10000,
          600000,
          50000,
          4600,
          75000,
          4000,
          20000,
          50000,
          15000,
          12000,
          15000,
          77000,
          77000,
          77000,
          77000,
          580000,
          30000
         ],
         "xaxis": "x",
         "yaxis": "y"
        },
        {
         "alignmentgroup": "True",
         "bingroup": "x",
         "hovertemplate": "Nome del Progetto=Tokepad<br>Voti=%{x}<br>count=%{y}<extra></extra>",
         "legendgroup": "Tokepad",
         "marker": {
          "color": "#FF97FF",
          "opacity": 0.5,
          "pattern": {
           "shape": ""
          }
         },
         "name": "Tokepad",
         "nbinsx": 50,
         "offsetgroup": "Tokepad",
         "orientation": "v",
         "showlegend": true,
         "type": "histogram",
         "x": [
          10000,
          20000,
          27000,
          25000,
          39000,
          10000,
          39000,
          3500,
          15000,
          39000,
          0,
          39000,
          39000,
          39000,
          39000,
          20000,
          39000,
          0,
          40000,
          24000,
          20000,
          50000,
          5000,
          20000,
          30000,
          39000,
          39000
         ],
         "xaxis": "x",
         "yaxis": "y"
        },
        {
         "alignmentgroup": "True",
         "bingroup": "x",
         "hovertemplate": "Nome del Progetto=Vectorized<br>Voti=%{x}<br>count=%{y}<extra></extra>",
         "legendgroup": "Vectorized",
         "marker": {
          "color": "#FECB52",
          "opacity": 0.5,
          "pattern": {
           "shape": ""
          }
         },
         "name": "Vectorized",
         "nbinsx": 50,
         "offsetgroup": "Vectorized",
         "orientation": "v",
         "showlegend": true,
         "type": "histogram",
         "x": [
          75000,
          500000,
          430000,
          1000000,
          200000,
          150000,
          77000,
          100,
          27000,
          30000,
          20000,
          29000,
          10000,
          230000,
          100000,
          150000,
          60000,
          200000,
          35000,
          100000,
          50000,
          100000,
          50000,
          77000,
          47000,
          260000,
          400000,
          180000,
          25000,
          25000,
          3000000,
          150000,
          150000,
          75000,
          250000,
          75000,
          400000,
          200000,
          180000,
          300000,
          100000,
          7000,
          500000,
          75000,
          68000,
          500000,
          77000,
          100000,
          250000,
          250000,
          77000,
          100000,
          10000,
          77000,
          150000,
          75000,
          200000,
          50000,
          77000,
          77000,
          77000,
          150000,
          50000,
          77000,
          230000,
          77000,
          150000,
          100000,
          77000,
          200000,
          100000
         ],
         "xaxis": "x",
         "yaxis": "y"
        },
        {
         "alignmentgroup": "True",
         "bingroup": "x",
         "hovertemplate": "Nome del Progetto=Velocimeter<br>Voti=%{x}<br>count=%{y}<extra></extra>",
         "legendgroup": "Velocimeter",
         "marker": {
          "color": "#636efa",
          "opacity": 0.5,
          "pattern": {
           "shape": ""
          }
         },
         "name": "Velocimeter",
         "nbinsx": 50,
         "offsetgroup": "Velocimeter",
         "orientation": "v",
         "showlegend": true,
         "type": "histogram",
         "x": [
          20000,
          75000,
          23000,
          77000,
          77000,
          77000,
          28000,
          77000,
          47000,
          10000,
          77000,
          29000,
          77000,
          75000,
          77000,
          50000,
          77000,
          77000,
          25000,
          5000,
          77000,
          25000,
          7000,
          10000,
          77000,
          53000,
          25000
         ],
         "xaxis": "x",
         "yaxis": "y"
        },
        {
         "alignmentgroup": "True",
         "bingroup": "x",
         "hovertemplate": "Nome del Progetto=WASD<br>Voti=%{x}<br>count=%{y}<extra></extra>",
         "legendgroup": "WASD",
         "marker": {
          "color": "#EF553B",
          "opacity": 0.5,
          "pattern": {
           "shape": ""
          }
         },
         "name": "WASD",
         "nbinsx": 50,
         "offsetgroup": "WASD",
         "orientation": "v",
         "showlegend": true,
         "type": "histogram",
         "x": [
          25000,
          50000,
          3400000,
          200000,
          99000,
          25000,
          10000,
          10000,
          46000,
          0,
          77000,
          590000,
          77000,
          77000,
          77000,
          77000,
          18000,
          77000,
          77000,
          75000,
          75000,
          10000,
          20000,
          0,
          47000,
          590000,
          77000,
          50000,
          27000,
          20000,
          140000,
          700000,
          77000,
          75000,
          170000,
          25000
         ],
         "xaxis": "x",
         "yaxis": "y"
        },
        {
         "alignmentgroup": "True",
         "bingroup": "x",
         "hovertemplate": "Nome del Progetto=Wagmi / Viem<br>Voti=%{x}<br>count=%{y}<extra></extra>",
         "legendgroup": "Wagmi / Viem",
         "marker": {
          "color": "#00cc96",
          "opacity": 0.5,
          "pattern": {
           "shape": ""
          }
         },
         "name": "Wagmi / Viem",
         "nbinsx": 50,
         "offsetgroup": "Wagmi / Viem",
         "orientation": "v",
         "showlegend": true,
         "type": "histogram",
         "x": [
          80000,
          94000,
          600000,
          100000,
          600000,
          250000,
          600000,
          200000,
          2000000,
          400000,
          800000,
          250000,
          200000,
          1200000,
          300000,
          5000000,
          40000,
          100000,
          75000,
          130000,
          250000,
          50000,
          100000,
          150000,
          700000,
          160000,
          130000,
          230000,
          220000,
          75000,
          220000,
          1000000,
          220000,
          360000,
          50000,
          150000,
          180000,
          150000,
          750000,
          160000,
          50000,
          200000,
          100000,
          1200000,
          180000,
          220000,
          500000,
          120000,
          75000,
          250000,
          1500000,
          550000,
          160000,
          50000,
          250000,
          2000000,
          250000,
          50000,
          50000,
          200000,
          250000,
          160000,
          320000,
          200000,
          3400000,
          150000,
          10000,
          600000,
          1700000,
          1000000,
          50000,
          160000,
          1000000,
          100000,
          160000,
          100,
          180000,
          25000,
          840000,
          60000,
          220000,
          160000,
          160000,
          75000,
          1000000,
          3000000,
          1000000
         ],
         "xaxis": "x",
         "yaxis": "y"
        },
        {
         "alignmentgroup": "True",
         "bingroup": "x",
         "hovertemplate": "Nome del Progetto=Week in Ethereum News<br>Voti=%{x}<br>count=%{y}<extra></extra>",
         "legendgroup": "Week in Ethereum News",
         "marker": {
          "color": "#ab63fa",
          "opacity": 0.5,
          "pattern": {
           "shape": ""
          }
         },
         "name": "Week in Ethereum News",
         "nbinsx": 50,
         "offsetgroup": "Week in Ethereum News",
         "orientation": "v",
         "showlegend": true,
         "type": "histogram",
         "x": [
          50000,
          1000000,
          170000,
          140000,
          15000,
          100000,
          100000,
          55000,
          50000,
          140000,
          39000,
          50000,
          50000,
          100000,
          140000,
          0,
          340000,
          100000,
          400000,
          39000,
          350000,
          50000,
          5000,
          300000,
          75000,
          150000,
          200000,
          250000,
          100,
          400000,
          100000,
          50000,
          50000,
          1000000,
          50000,
          35000,
          110000,
          20000,
          60000,
          270000,
          200000,
          45000,
          50000,
          2000000,
          140000,
          40000,
          35000,
          30000,
          250000,
          25000,
          39000,
          50000,
          54000,
          25000,
          2500000,
          140000,
          250000,
          25000,
          100000,
          100000,
          39000,
          39000,
          150000,
          20000,
          25000,
          39000,
          400000,
          100000,
          20000,
          500000,
          10000,
          150000,
          75000,
          0
         ],
         "xaxis": "x",
         "yaxis": "y"
        },
        {
         "alignmentgroup": "True",
         "bingroup": "x",
         "hovertemplate": "Nome del Progetto=Xofee<br>Voti=%{x}<br>count=%{y}<extra></extra>",
         "legendgroup": "Xofee",
         "marker": {
          "color": "#FFA15A",
          "opacity": 0.5,
          "pattern": {
           "shape": ""
          }
         },
         "name": "Xofee",
         "nbinsx": 50,
         "offsetgroup": "Xofee",
         "orientation": "v",
         "showlegend": true,
         "type": "histogram",
         "x": [
          77000,
          10000,
          64000,
          77000,
          77000,
          25000,
          77000,
          77000,
          0,
          20000,
          25000,
          77000,
          75000,
          75000,
          77000,
          77000,
          10000,
          20000,
          10000,
          77000,
          60000,
          50000,
          51000,
          50000,
          47000,
          0,
          25000,
          25000,
          5000,
          77000
         ],
         "xaxis": "x",
         "yaxis": "y"
        },
        {
         "alignmentgroup": "True",
         "bingroup": "x",
         "hovertemplate": "Nome del Progetto=ethers.js<br>Voti=%{x}<br>count=%{y}<extra></extra>",
         "legendgroup": "ethers.js",
         "marker": {
          "color": "#19d3f3",
          "opacity": 0.5,
          "pattern": {
           "shape": ""
          }
         },
         "name": "ethers.js",
         "nbinsx": 50,
         "offsetgroup": "ethers.js",
         "orientation": "v",
         "showlegend": true,
         "type": "histogram",
         "x": [
          100000,
          270000,
          180000,
          450000,
          440000,
          250000,
          500000,
          200000,
          5000000,
          500000,
          500000,
          88000,
          240000,
          1000000,
          800000,
          500000,
          120000,
          150000,
          100000,
          5000000,
          500000,
          200000,
          230000,
          1300000,
          1000000,
          50000,
          300000,
          500000,
          150000,
          500000,
          1500000,
          590000,
          150000,
          300000,
          100000,
          5000000,
          200000,
          1000000,
          500000,
          500000,
          180000,
          320000,
          130000,
          75000,
          100000,
          430000,
          77000,
          1000000,
          1000000,
          270000,
          450000,
          300000,
          250000,
          590000,
          230000,
          77000,
          77000,
          100000,
          1200000,
          100000,
          400000,
          100000,
          180000,
          250000,
          400000,
          25000,
          600000,
          390000,
          200000,
          500000,
          700000,
          77000,
          1000000,
          0,
          100000,
          500000,
          100000,
          270000,
          430000,
          100000,
          270000,
          100000,
          15000,
          300000,
          77000,
          1300000,
          600000,
          50000,
          270000,
          250000,
          600000,
          2000000,
          500000,
          3000000,
          1000000,
          500000,
          260000,
          1300000,
          200000,
          500000,
          500000,
          300000,
          100000,
          500000,
          250000,
          430000
         ],
         "xaxis": "x",
         "yaxis": "y"
        },
        {
         "alignmentgroup": "True",
         "bingroup": "x",
         "hovertemplate": "Nome del Progetto=go-ethereum<br>Voti=%{x}<br>count=%{y}<extra></extra>",
         "legendgroup": "go-ethereum",
         "marker": {
          "color": "#FF6692",
          "opacity": 0.5,
          "pattern": {
           "shape": ""
          }
         },
         "name": "go-ethereum",
         "nbinsx": 50,
         "offsetgroup": "go-ethereum",
         "orientation": "v",
         "showlegend": true,
         "type": "histogram",
         "x": [
          300000,
          100000,
          50000,
          3500000,
          2000000,
          1700000,
          1200000,
          400000,
          1000000,
          500000,
          250000,
          5000000,
          1000000,
          270000,
          360000,
          2000000,
          500000,
          500000,
          200000,
          500000,
          1600000,
          2000000,
          2000000,
          450000,
          340000,
          600000,
          450000,
          5000000,
          670000,
          300000,
          3500000,
          420000,
          100000,
          540000,
          500000,
          200000,
          0,
          1000000,
          100000,
          200000,
          250000,
          620000,
          640000,
          200000,
          910000,
          3700000,
          200000,
          10000,
          750000,
          200000,
          500000,
          250000,
          1300000,
          500000,
          2500000,
          500000,
          590000,
          73000,
          650000,
          680000,
          200000,
          1300000,
          500000,
          250000,
          900000,
          200000,
          510000,
          200000,
          250000,
          1000000,
          400000,
          600000,
          250000,
          50000,
          250000,
          600000,
          1000000,
          100000,
          200000,
          100000,
          150000,
          450000,
          1300000,
          300000,
          620000,
          420000,
          700000,
          50000,
          450000,
          500000,
          1500000,
          200000,
          590000,
          100,
          620000,
          500000,
          1400000,
          1400000,
          5000000,
          2000000
         ],
         "xaxis": "x",
         "yaxis": "y"
        },
        {
         "alignmentgroup": "True",
         "bingroup": "x",
         "hovertemplate": "Nome del Progetto=growthepie<br>Voti=%{x}<br>count=%{y}<extra></extra>",
         "legendgroup": "growthepie",
         "marker": {
          "color": "#B6E880",
          "opacity": 0.5,
          "pattern": {
           "shape": ""
          }
         },
         "name": "growthepie",
         "nbinsx": 50,
         "offsetgroup": "growthepie",
         "orientation": "v",
         "showlegend": true,
         "type": "histogram",
         "x": [
          50000,
          250000,
          260000,
          1500000,
          75000,
          50000,
          250000,
          90000,
          150000,
          400000,
          100000,
          150000,
          130000,
          63000,
          150000,
          50000,
          150000,
          50000,
          77000,
          50000,
          75000,
          30000,
          80000,
          77000,
          10000,
          25000,
          25000,
          50000,
          50000,
          77000,
          40000,
          250000,
          500000,
          50000,
          280000,
          0,
          50000,
          50000,
          320000,
          300000,
          77000,
          77000,
          50000,
          10000,
          250000,
          75000,
          400000,
          300000,
          10000,
          100000,
          77000,
          280000,
          100000,
          58000,
          25000,
          34000,
          25000,
          77000,
          100000,
          100000,
          50000,
          59000,
          100000,
          250000,
          77000
         ],
         "xaxis": "x",
         "yaxis": "y"
        },
        {
         "alignmentgroup": "True",
         "bingroup": "x",
         "hovertemplate": "Nome del Progetto=rhino.fi<br>Voti=%{x}<br>count=%{y}<extra></extra>",
         "legendgroup": "rhino.fi",
         "marker": {
          "color": "#FF97FF",
          "opacity": 0.5,
          "pattern": {
           "shape": ""
          }
         },
         "name": "rhino.fi",
         "nbinsx": 50,
         "offsetgroup": "rhino.fi",
         "orientation": "v",
         "showlegend": true,
         "type": "histogram",
         "x": [
          10000,
          20000,
          40000,
          0,
          39000,
          39000,
          39000,
          40000,
          39000,
          80000,
          50000,
          45000,
          20000,
          39000,
          0,
          50000,
          25000,
          50000,
          10000,
          39000,
          39000,
          25000,
          20000,
          39000,
          39000,
          39000,
          10000,
          39000,
          39000,
          39000,
          10000,
          18000
         ],
         "xaxis": "x",
         "yaxis": "y"
        }
       ],
       "layout": {
        "barmode": "overlay",
        "legend": {
         "title": {
          "text": "Nome del Progetto"
         },
         "tracegroupgap": 0
        },
        "template": {
         "data": {
          "bar": [
           {
            "error_x": {
             "color": "#2a3f5f"
            },
            "error_y": {
             "color": "#2a3f5f"
            },
            "marker": {
             "line": {
              "color": "#E5ECF6",
              "width": 0.5
             },
             "pattern": {
              "fillmode": "overlay",
              "size": 10,
              "solidity": 0.2
             }
            },
            "type": "bar"
           }
          ],
          "barpolar": [
           {
            "marker": {
             "line": {
              "color": "#E5ECF6",
              "width": 0.5
             },
             "pattern": {
              "fillmode": "overlay",
              "size": 10,
              "solidity": 0.2
             }
            },
            "type": "barpolar"
           }
          ],
          "carpet": [
           {
            "aaxis": {
             "endlinecolor": "#2a3f5f",
             "gridcolor": "white",
             "linecolor": "white",
             "minorgridcolor": "white",
             "startlinecolor": "#2a3f5f"
            },
            "baxis": {
             "endlinecolor": "#2a3f5f",
             "gridcolor": "white",
             "linecolor": "white",
             "minorgridcolor": "white",
             "startlinecolor": "#2a3f5f"
            },
            "type": "carpet"
           }
          ],
          "choropleth": [
           {
            "colorbar": {
             "outlinewidth": 0,
             "ticks": ""
            },
            "type": "choropleth"
           }
          ],
          "contour": [
           {
            "colorbar": {
             "outlinewidth": 0,
             "ticks": ""
            },
            "colorscale": [
             [
              0,
              "#0d0887"
             ],
             [
              0.1111111111111111,
              "#46039f"
             ],
             [
              0.2222222222222222,
              "#7201a8"
             ],
             [
              0.3333333333333333,
              "#9c179e"
             ],
             [
              0.4444444444444444,
              "#bd3786"
             ],
             [
              0.5555555555555556,
              "#d8576b"
             ],
             [
              0.6666666666666666,
              "#ed7953"
             ],
             [
              0.7777777777777778,
              "#fb9f3a"
             ],
             [
              0.8888888888888888,
              "#fdca26"
             ],
             [
              1,
              "#f0f921"
             ]
            ],
            "type": "contour"
           }
          ],
          "contourcarpet": [
           {
            "colorbar": {
             "outlinewidth": 0,
             "ticks": ""
            },
            "type": "contourcarpet"
           }
          ],
          "heatmap": [
           {
            "colorbar": {
             "outlinewidth": 0,
             "ticks": ""
            },
            "colorscale": [
             [
              0,
              "#0d0887"
             ],
             [
              0.1111111111111111,
              "#46039f"
             ],
             [
              0.2222222222222222,
              "#7201a8"
             ],
             [
              0.3333333333333333,
              "#9c179e"
             ],
             [
              0.4444444444444444,
              "#bd3786"
             ],
             [
              0.5555555555555556,
              "#d8576b"
             ],
             [
              0.6666666666666666,
              "#ed7953"
             ],
             [
              0.7777777777777778,
              "#fb9f3a"
             ],
             [
              0.8888888888888888,
              "#fdca26"
             ],
             [
              1,
              "#f0f921"
             ]
            ],
            "type": "heatmap"
           }
          ],
          "heatmapgl": [
           {
            "colorbar": {
             "outlinewidth": 0,
             "ticks": ""
            },
            "colorscale": [
             [
              0,
              "#0d0887"
             ],
             [
              0.1111111111111111,
              "#46039f"
             ],
             [
              0.2222222222222222,
              "#7201a8"
             ],
             [
              0.3333333333333333,
              "#9c179e"
             ],
             [
              0.4444444444444444,
              "#bd3786"
             ],
             [
              0.5555555555555556,
              "#d8576b"
             ],
             [
              0.6666666666666666,
              "#ed7953"
             ],
             [
              0.7777777777777778,
              "#fb9f3a"
             ],
             [
              0.8888888888888888,
              "#fdca26"
             ],
             [
              1,
              "#f0f921"
             ]
            ],
            "type": "heatmapgl"
           }
          ],
          "histogram": [
           {
            "marker": {
             "pattern": {
              "fillmode": "overlay",
              "size": 10,
              "solidity": 0.2
             }
            },
            "type": "histogram"
           }
          ],
          "histogram2d": [
           {
            "colorbar": {
             "outlinewidth": 0,
             "ticks": ""
            },
            "colorscale": [
             [
              0,
              "#0d0887"
             ],
             [
              0.1111111111111111,
              "#46039f"
             ],
             [
              0.2222222222222222,
              "#7201a8"
             ],
             [
              0.3333333333333333,
              "#9c179e"
             ],
             [
              0.4444444444444444,
              "#bd3786"
             ],
             [
              0.5555555555555556,
              "#d8576b"
             ],
             [
              0.6666666666666666,
              "#ed7953"
             ],
             [
              0.7777777777777778,
              "#fb9f3a"
             ],
             [
              0.8888888888888888,
              "#fdca26"
             ],
             [
              1,
              "#f0f921"
             ]
            ],
            "type": "histogram2d"
           }
          ],
          "histogram2dcontour": [
           {
            "colorbar": {
             "outlinewidth": 0,
             "ticks": ""
            },
            "colorscale": [
             [
              0,
              "#0d0887"
             ],
             [
              0.1111111111111111,
              "#46039f"
             ],
             [
              0.2222222222222222,
              "#7201a8"
             ],
             [
              0.3333333333333333,
              "#9c179e"
             ],
             [
              0.4444444444444444,
              "#bd3786"
             ],
             [
              0.5555555555555556,
              "#d8576b"
             ],
             [
              0.6666666666666666,
              "#ed7953"
             ],
             [
              0.7777777777777778,
              "#fb9f3a"
             ],
             [
              0.8888888888888888,
              "#fdca26"
             ],
             [
              1,
              "#f0f921"
             ]
            ],
            "type": "histogram2dcontour"
           }
          ],
          "mesh3d": [
           {
            "colorbar": {
             "outlinewidth": 0,
             "ticks": ""
            },
            "type": "mesh3d"
           }
          ],
          "parcoords": [
           {
            "line": {
             "colorbar": {
              "outlinewidth": 0,
              "ticks": ""
             }
            },
            "type": "parcoords"
           }
          ],
          "pie": [
           {
            "automargin": true,
            "type": "pie"
           }
          ],
          "scatter": [
           {
            "fillpattern": {
             "fillmode": "overlay",
             "size": 10,
             "solidity": 0.2
            },
            "type": "scatter"
           }
          ],
          "scatter3d": [
           {
            "line": {
             "colorbar": {
              "outlinewidth": 0,
              "ticks": ""
             }
            },
            "marker": {
             "colorbar": {
              "outlinewidth": 0,
              "ticks": ""
             }
            },
            "type": "scatter3d"
           }
          ],
          "scattercarpet": [
           {
            "marker": {
             "colorbar": {
              "outlinewidth": 0,
              "ticks": ""
             }
            },
            "type": "scattercarpet"
           }
          ],
          "scattergeo": [
           {
            "marker": {
             "colorbar": {
              "outlinewidth": 0,
              "ticks": ""
             }
            },
            "type": "scattergeo"
           }
          ],
          "scattergl": [
           {
            "marker": {
             "colorbar": {
              "outlinewidth": 0,
              "ticks": ""
             }
            },
            "type": "scattergl"
           }
          ],
          "scattermapbox": [
           {
            "marker": {
             "colorbar": {
              "outlinewidth": 0,
              "ticks": ""
             }
            },
            "type": "scattermapbox"
           }
          ],
          "scatterpolar": [
           {
            "marker": {
             "colorbar": {
              "outlinewidth": 0,
              "ticks": ""
             }
            },
            "type": "scatterpolar"
           }
          ],
          "scatterpolargl": [
           {
            "marker": {
             "colorbar": {
              "outlinewidth": 0,
              "ticks": ""
             }
            },
            "type": "scatterpolargl"
           }
          ],
          "scatterternary": [
           {
            "marker": {
             "colorbar": {
              "outlinewidth": 0,
              "ticks": ""
             }
            },
            "type": "scatterternary"
           }
          ],
          "surface": [
           {
            "colorbar": {
             "outlinewidth": 0,
             "ticks": ""
            },
            "colorscale": [
             [
              0,
              "#0d0887"
             ],
             [
              0.1111111111111111,
              "#46039f"
             ],
             [
              0.2222222222222222,
              "#7201a8"
             ],
             [
              0.3333333333333333,
              "#9c179e"
             ],
             [
              0.4444444444444444,
              "#bd3786"
             ],
             [
              0.5555555555555556,
              "#d8576b"
             ],
             [
              0.6666666666666666,
              "#ed7953"
             ],
             [
              0.7777777777777778,
              "#fb9f3a"
             ],
             [
              0.8888888888888888,
              "#fdca26"
             ],
             [
              1,
              "#f0f921"
             ]
            ],
            "type": "surface"
           }
          ],
          "table": [
           {
            "cells": {
             "fill": {
              "color": "#EBF0F8"
             },
             "line": {
              "color": "white"
             }
            },
            "header": {
             "fill": {
              "color": "#C8D4E3"
             },
             "line": {
              "color": "white"
             }
            },
            "type": "table"
           }
          ]
         },
         "layout": {
          "annotationdefaults": {
           "arrowcolor": "#2a3f5f",
           "arrowhead": 0,
           "arrowwidth": 1
          },
          "autotypenumbers": "strict",
          "coloraxis": {
           "colorbar": {
            "outlinewidth": 0,
            "ticks": ""
           }
          },
          "colorscale": {
           "diverging": [
            [
             0,
             "#8e0152"
            ],
            [
             0.1,
             "#c51b7d"
            ],
            [
             0.2,
             "#de77ae"
            ],
            [
             0.3,
             "#f1b6da"
            ],
            [
             0.4,
             "#fde0ef"
            ],
            [
             0.5,
             "#f7f7f7"
            ],
            [
             0.6,
             "#e6f5d0"
            ],
            [
             0.7,
             "#b8e186"
            ],
            [
             0.8,
             "#7fbc41"
            ],
            [
             0.9,
             "#4d9221"
            ],
            [
             1,
             "#276419"
            ]
           ],
           "sequential": [
            [
             0,
             "#0d0887"
            ],
            [
             0.1111111111111111,
             "#46039f"
            ],
            [
             0.2222222222222222,
             "#7201a8"
            ],
            [
             0.3333333333333333,
             "#9c179e"
            ],
            [
             0.4444444444444444,
             "#bd3786"
            ],
            [
             0.5555555555555556,
             "#d8576b"
            ],
            [
             0.6666666666666666,
             "#ed7953"
            ],
            [
             0.7777777777777778,
             "#fb9f3a"
            ],
            [
             0.8888888888888888,
             "#fdca26"
            ],
            [
             1,
             "#f0f921"
            ]
           ],
           "sequentialminus": [
            [
             0,
             "#0d0887"
            ],
            [
             0.1111111111111111,
             "#46039f"
            ],
            [
             0.2222222222222222,
             "#7201a8"
            ],
            [
             0.3333333333333333,
             "#9c179e"
            ],
            [
             0.4444444444444444,
             "#bd3786"
            ],
            [
             0.5555555555555556,
             "#d8576b"
            ],
            [
             0.6666666666666666,
             "#ed7953"
            ],
            [
             0.7777777777777778,
             "#fb9f3a"
            ],
            [
             0.8888888888888888,
             "#fdca26"
            ],
            [
             1,
             "#f0f921"
            ]
           ]
          },
          "colorway": [
           "#636efa",
           "#EF553B",
           "#00cc96",
           "#ab63fa",
           "#FFA15A",
           "#19d3f3",
           "#FF6692",
           "#B6E880",
           "#FF97FF",
           "#FECB52"
          ],
          "font": {
           "color": "#2a3f5f"
          },
          "geo": {
           "bgcolor": "white",
           "lakecolor": "white",
           "landcolor": "#E5ECF6",
           "showlakes": true,
           "showland": true,
           "subunitcolor": "white"
          },
          "hoverlabel": {
           "align": "left"
          },
          "hovermode": "closest",
          "mapbox": {
           "style": "light"
          },
          "paper_bgcolor": "white",
          "plot_bgcolor": "#E5ECF6",
          "polar": {
           "angularaxis": {
            "gridcolor": "white",
            "linecolor": "white",
            "ticks": ""
           },
           "bgcolor": "#E5ECF6",
           "radialaxis": {
            "gridcolor": "white",
            "linecolor": "white",
            "ticks": ""
           }
          },
          "scene": {
           "xaxis": {
            "backgroundcolor": "#E5ECF6",
            "gridcolor": "white",
            "gridwidth": 2,
            "linecolor": "white",
            "showbackground": true,
            "ticks": "",
            "zerolinecolor": "white"
           },
           "yaxis": {
            "backgroundcolor": "#E5ECF6",
            "gridcolor": "white",
            "gridwidth": 2,
            "linecolor": "white",
            "showbackground": true,
            "ticks": "",
            "zerolinecolor": "white"
           },
           "zaxis": {
            "backgroundcolor": "#E5ECF6",
            "gridcolor": "white",
            "gridwidth": 2,
            "linecolor": "white",
            "showbackground": true,
            "ticks": "",
            "zerolinecolor": "white"
           }
          },
          "shapedefaults": {
           "line": {
            "color": "#2a3f5f"
           }
          },
          "ternary": {
           "aaxis": {
            "gridcolor": "white",
            "linecolor": "white",
            "ticks": ""
           },
           "baxis": {
            "gridcolor": "white",
            "linecolor": "white",
            "ticks": ""
           },
           "bgcolor": "#E5ECF6",
           "caxis": {
            "gridcolor": "white",
            "linecolor": "white",
            "ticks": ""
           }
          },
          "title": {
           "x": 0.05
          },
          "xaxis": {
           "automargin": true,
           "gridcolor": "white",
           "linecolor": "white",
           "ticks": "",
           "title": {
            "standoff": 15
           },
           "zerolinecolor": "white",
           "zerolinewidth": 2
          },
          "yaxis": {
           "automargin": true,
           "gridcolor": "white",
           "linecolor": "white",
           "ticks": "",
           "title": {
            "standoff": 15
           },
           "zerolinecolor": "white",
           "zerolinewidth": 2
          }
         }
        },
        "title": {
         "text": "Votes distribution per project"
        },
        "xaxis": {
         "anchor": "y",
         "domain": [
          0,
          1
         ],
         "title": {
          "text": "Voti"
         }
        },
        "yaxis": {
         "anchor": "x",
         "domain": [
          0,
          1
         ],
         "title": {
          "text": "count"
         }
        }
       }
      }
     },
     "metadata": {},
     "output_type": "display_data"
    }
   ],
   "source": [
    "df_expanded = df.explode('votes')\n",
    "\n",
    "# Grafico della distribuzione dei voti per ciascun progetto\n",
    "fig = px.histogram(df_expanded, x='votes', color='project_name', \n",
    "                   labels={'votes': 'Voti', 'project_name': 'Nome del Progetto'},\n",
    "                   title='Votes distribution per project', \n",
    "                   barmode='overlay', nbins=50)\n",
    "\n",
    "fig.show()"
   ]
  },
  {
   "cell_type": "code",
   "execution_count": 11,
   "metadata": {},
   "outputs": [
    {
     "data": {
      "application/vnd.plotly.v1+json": {
       "config": {
        "plotlyServerURL": "https://plot.ly"
       },
       "data": [
        {
         "alignmentgroup": "True",
         "hovertemplate": "Nome del Progetto=%{x}<br>Voti=%{y}<extra></extra>",
         "legendgroup": "",
         "marker": {
          "color": "#636efa"
         },
         "name": "",
         "notched": false,
         "offsetgroup": "",
         "orientation": "v",
         "showlegend": false,
         "type": "box",
         "x": [
          "AW House/Komorebi's Hacker House",
          "AW House/Komorebi's Hacker House",
          "AW House/Komorebi's Hacker House",
          "AW House/Komorebi's Hacker House",
          "AW House/Komorebi's Hacker House",
          "AW House/Komorebi's Hacker House",
          "AW House/Komorebi's Hacker House",
          "AW House/Komorebi's Hacker House",
          "AW House/Komorebi's Hacker House",
          "AW House/Komorebi's Hacker House",
          "AW House/Komorebi's Hacker House",
          "AW House/Komorebi's Hacker House",
          "AW House/Komorebi's Hacker House",
          "AW House/Komorebi's Hacker House",
          "AW House/Komorebi's Hacker House",
          "AW House/Komorebi's Hacker House",
          "AW House/Komorebi's Hacker House",
          "AW House/Komorebi's Hacker House",
          "AW House/Komorebi's Hacker House",
          "AW House/Komorebi's Hacker House",
          "AW House/Komorebi's Hacker House",
          "AW House/Komorebi's Hacker House",
          "AW House/Komorebi's Hacker House",
          "AW House/Komorebi's Hacker House",
          "AW House/Komorebi's Hacker House",
          "AW House/Komorebi's Hacker House",
          "AW House/Komorebi's Hacker House",
          "AW House/Komorebi's Hacker House",
          "AW House/Komorebi's Hacker House",
          "AW House/Komorebi's Hacker House",
          "AW House/Komorebi's Hacker House",
          "AW House/Komorebi's Hacker House",
          "AW House/Komorebi's Hacker House",
          "AW House/Komorebi's Hacker House",
          "AW House/Komorebi's Hacker House",
          "AW House/Komorebi's Hacker House",
          "AW House/Komorebi's Hacker House",
          "AW House/Komorebi's Hacker House",
          "AW House/Komorebi's Hacker House",
          "AW House/Komorebi's Hacker House",
          "AW House/Komorebi's Hacker House",
          "AW House/Komorebi's Hacker House",
          "AW House/Komorebi's Hacker House",
          "AW House/Komorebi's Hacker House",
          "AW House/Komorebi's Hacker House",
          "Across Protocol",
          "Across Protocol",
          "Across Protocol",
          "Across Protocol",
          "Across Protocol",
          "Across Protocol",
          "Across Protocol",
          "Across Protocol",
          "Across Protocol",
          "Across Protocol",
          "Across Protocol",
          "Across Protocol",
          "Across Protocol",
          "Across Protocol",
          "Across Protocol",
          "Across Protocol",
          "Across Protocol",
          "Across Protocol",
          "Across Protocol",
          "Across Protocol",
          "Across Protocol",
          "Across Protocol",
          "Across Protocol",
          "Across Protocol",
          "Across Protocol",
          "Across Protocol",
          "Across Protocol",
          "Across Protocol",
          "Across Protocol",
          "Across Protocol",
          "Across Protocol",
          "Across Protocol",
          "Across Protocol",
          "Across Protocol",
          "Across Protocol",
          "Across Protocol",
          "Across Protocol",
          "Across Protocol",
          "Across Protocol",
          "Across Protocol",
          "Across Protocol",
          "Aerodrome Finance",
          "Aerodrome Finance",
          "Aerodrome Finance",
          "Aerodrome Finance",
          "Aerodrome Finance",
          "Aerodrome Finance",
          "Aerodrome Finance",
          "Aerodrome Finance",
          "Aerodrome Finance",
          "Aerodrome Finance",
          "Aerodrome Finance",
          "Aerodrome Finance",
          "Aerodrome Finance",
          "Aerodrome Finance",
          "Aerodrome Finance",
          "Aerodrome Finance",
          "Aerodrome Finance",
          "Aerodrome Finance",
          "Aerodrome Finance",
          "Aerodrome Finance",
          "Aerodrome Finance",
          "Aerodrome Finance",
          "Aerodrome Finance",
          "Aerodrome Finance",
          "Aerodrome Finance",
          "Aerodrome Finance",
          "Aerodrome Finance",
          "Aerodrome Finance",
          "Aerodrome Finance",
          "Aerodrome Finance",
          "Aerodrome Finance",
          "Aerodrome Finance",
          "Aerodrome Finance",
          "Aerodrome Finance",
          "Aerodrome Finance",
          "Aerodrome Finance",
          "Aerodrome Finance",
          "Aerodrome Finance",
          "Aerodrome Finance",
          "Aerodrome Finance",
          "Aerodrome Finance",
          "Aerodrome Finance",
          "Aerodrome Finance",
          "Aerodrome Finance",
          "Aerodrome Finance",
          "Aerodrome Finance",
          "Aerodrome Finance",
          "Aerodrome Finance",
          "Aerodrome Finance",
          "Aerodrome Finance",
          "Airstack",
          "Airstack",
          "Airstack",
          "Airstack",
          "Airstack",
          "Airstack",
          "Airstack",
          "Airstack",
          "Airstack",
          "Airstack",
          "Airstack",
          "Airstack",
          "Airstack",
          "Airstack",
          "Airstack",
          "Airstack",
          "Airstack",
          "Airstack",
          "Airstack",
          "Airstack",
          "Airstack",
          "Airstack",
          "Airstack",
          "Airstack",
          "Airstack",
          "Airstack",
          "Airstack",
          "Airstack",
          "Airstack",
          "Airstack",
          "Airstack",
          "Airstack",
          "Airstack",
          "Alchemy",
          "Alchemy",
          "Alchemy",
          "Alchemy",
          "Alchemy",
          "Alchemy",
          "Alchemy",
          "Alchemy",
          "Alchemy",
          "Alchemy",
          "Alchemy",
          "Alchemy",
          "Alchemy",
          "Alchemy",
          "Alchemy",
          "Alchemy",
          "Alchemy",
          "Alchemy",
          "Alchemy",
          "Alchemy",
          "Alchemy",
          "Alchemy",
          "Alchemy",
          "Alchemy",
          "Alchemy",
          "Alchemy",
          "Alchemy",
          "Alchemy",
          "Alchemy",
          "Alchemy",
          "Alchemy",
          "Alchemy",
          "Alchemy",
          "Alchemy",
          "Alchemy",
          "Alchemy",
          "Alchemy",
          "Alchemy",
          "Alchemy",
          "Alchemy",
          "Alchemy",
          "Alchemy",
          "Alchemy",
          "Alchemy",
          "Alchemy",
          "Alchemy",
          "Alchemy",
          "Alchemy",
          "Alchemy",
          "Alchemy",
          "Alchemy",
          "Alchemy",
          "Alchemy",
          "Alchemy",
          "Alchemy",
          "Alchemy",
          "Alchemy",
          "Alchemy",
          "Archly",
          "Archly",
          "Archly",
          "Archly",
          "Archly",
          "Archly",
          "Archly",
          "Archly",
          "Archly",
          "Archly",
          "Archly",
          "Archly",
          "Archly",
          "Archly",
          "Archly",
          "Archly",
          "Archly",
          "Archly",
          "Archly",
          "Archly",
          "Archly",
          "Archly",
          "Archly",
          "Archly",
          "Archly",
          "Archly",
          "Archly",
          "Archly",
          "Archly",
          "Archly",
          "Based Nouns",
          "Based Nouns",
          "Based Nouns",
          "Based Nouns",
          "Based Nouns",
          "Based Nouns",
          "Based Nouns",
          "Based Nouns",
          "Based Nouns",
          "Based Nouns",
          "Based Nouns",
          "Based Nouns",
          "Based Nouns",
          "Based Nouns",
          "Based Nouns",
          "Based Nouns",
          "Based Nouns",
          "Based Nouns",
          "Based Nouns",
          "Based Nouns",
          "Based Nouns",
          "Based Nouns",
          "Based Nouns",
          "Based Nouns",
          "Based Nouns",
          "Based Nouns",
          "Based Nouns",
          "Based Nouns",
          "Based Nouns",
          "Based Nouns",
          "Baseswap",
          "Baseswap",
          "Baseswap",
          "Baseswap",
          "Baseswap",
          "Baseswap",
          "Baseswap",
          "Baseswap",
          "Baseswap",
          "Baseswap",
          "Baseswap",
          "Baseswap",
          "Baseswap",
          "Baseswap",
          "Baseswap",
          "Baseswap",
          "Baseswap",
          "Baseswap",
          "Baseswap",
          "Baseswap",
          "Baseswap",
          "Baseswap",
          "Baseswap",
          "Baseswap",
          "Baseswap",
          "Baseswap",
          "Baseswap",
          "Baseswap",
          "Baseswap",
          "Baseswap",
          "Baseswap",
          "Baseswap",
          "Baseswap",
          "Baseswap",
          "Baseswap",
          "Builder Protocol",
          "Builder Protocol",
          "Builder Protocol",
          "Builder Protocol",
          "Builder Protocol",
          "Builder Protocol",
          "Builder Protocol",
          "Builder Protocol",
          "Builder Protocol",
          "Builder Protocol",
          "Builder Protocol",
          "Builder Protocol",
          "Builder Protocol",
          "Builder Protocol",
          "Builder Protocol",
          "Builder Protocol",
          "Builder Protocol",
          "Builder Protocol",
          "Builder Protocol",
          "Builder Protocol",
          "Builder Protocol",
          "Builder Protocol",
          "Builder Protocol",
          "Builder Protocol",
          "Builder Protocol",
          "Builder Protocol",
          "Builder Protocol",
          "Builder Protocol",
          "Builder Protocol",
          "Builder Protocol",
          "Builder Protocol",
          "Builder Protocol",
          "Builder Protocol",
          "Builder Protocol",
          "Builder Protocol",
          "Builder Protocol",
          "Builder Protocol",
          "Builder Protocol",
          "Builder Protocol",
          "Builder Protocol",
          "Builder Protocol",
          "Builder Protocol",
          "Builder Protocol",
          "Builder Protocol",
          "Builder Protocol",
          "Cielo",
          "Cielo",
          "Cielo",
          "Cielo",
          "Cielo",
          "Cielo",
          "Cielo",
          "Cielo",
          "Cielo",
          "Cielo",
          "Cielo",
          "Cielo",
          "Cielo",
          "Cielo",
          "Cielo",
          "Cielo",
          "Cielo",
          "Cielo",
          "Cielo",
          "Cielo",
          "Cielo",
          "Cielo",
          "Cielo",
          "Cielo",
          "Cielo",
          "Cielo",
          "Cielo",
          "Cielo",
          "Cielo",
          "Cielo",
          "Cielo",
          "Cielo",
          "Covalent",
          "Covalent",
          "Covalent",
          "Covalent",
          "Covalent",
          "Covalent",
          "Covalent",
          "Covalent",
          "Covalent",
          "Covalent",
          "Covalent",
          "Covalent",
          "Covalent",
          "Covalent",
          "Covalent",
          "Covalent",
          "Covalent",
          "Covalent",
          "Covalent",
          "Covalent",
          "Covalent",
          "Covalent",
          "Covalent",
          "Covalent",
          "Covalent",
          "Covalent",
          "Covalent",
          "Covalent",
          "Covalent",
          "Covalent",
          "Covalent",
          "Covalent",
          "Covalent",
          "Covalent",
          "Covalent",
          "Covalent",
          "Covalent",
          "Covalent",
          "Delegate",
          "Delegate",
          "Delegate",
          "Delegate",
          "Delegate",
          "Delegate",
          "Delegate",
          "Delegate",
          "Delegate",
          "Delegate",
          "Delegate",
          "Delegate",
          "Delegate",
          "Delegate",
          "Delegate",
          "Delegate",
          "Delegate",
          "Delegate",
          "Delegate",
          "Delegate",
          "Delegate",
          "Delegate",
          "Delegate",
          "Delegate",
          "Delegate",
          "Delegate",
          "Delegate",
          "Delegate",
          "Delegate",
          "Delegate",
          "Delegate",
          "Delegate",
          "Delegate",
          "Delegate",
          "Delegate",
          "Delegate",
          "Delegate",
          "Delegate",
          "Delegate",
          "Delegate",
          "Delegate",
          "Delegate",
          "Delegate",
          "Delegate",
          "Delegate",
          "Delegate",
          "Delegate",
          "Delegate",
          "Delegate",
          "ERC4337 Smart Accounts Dune Dashboard",
          "ERC4337 Smart Accounts Dune Dashboard",
          "ERC4337 Smart Accounts Dune Dashboard",
          "ERC4337 Smart Accounts Dune Dashboard",
          "ERC4337 Smart Accounts Dune Dashboard",
          "ERC4337 Smart Accounts Dune Dashboard",
          "ERC4337 Smart Accounts Dune Dashboard",
          "ERC4337 Smart Accounts Dune Dashboard",
          "ERC4337 Smart Accounts Dune Dashboard",
          "ERC4337 Smart Accounts Dune Dashboard",
          "ERC4337 Smart Accounts Dune Dashboard",
          "ERC4337 Smart Accounts Dune Dashboard",
          "ERC4337 Smart Accounts Dune Dashboard",
          "ERC4337 Smart Accounts Dune Dashboard",
          "ERC4337 Smart Accounts Dune Dashboard",
          "ERC4337 Smart Accounts Dune Dashboard",
          "ERC4337 Smart Accounts Dune Dashboard",
          "ERC4337 Smart Accounts Dune Dashboard",
          "ERC4337 Smart Accounts Dune Dashboard",
          "ERC4337 Smart Accounts Dune Dashboard",
          "ERC4337 Smart Accounts Dune Dashboard",
          "ERC4337 Smart Accounts Dune Dashboard",
          "ERC4337 Smart Accounts Dune Dashboard",
          "ERC4337 Smart Accounts Dune Dashboard",
          "ERC4337 Smart Accounts Dune Dashboard",
          "ERC4337 Smart Accounts Dune Dashboard",
          "ERC4337 Smart Accounts Dune Dashboard",
          "ERC4337 Smart Accounts Dune Dashboard",
          "ERC4337 Smart Accounts Dune Dashboard",
          "ERC4337 Smart Accounts Dune Dashboard",
          "ERC4337 Smart Accounts Dune Dashboard",
          "ERC4337 Smart Accounts Dune Dashboard",
          "ERC4337 Smart Accounts Dune Dashboard",
          "ERC4337 Smart Accounts Dune Dashboard",
          "ERC4337 Smart Accounts Dune Dashboard",
          "ERC4337 Smart Accounts Dune Dashboard",
          "ERC4337 Smart Accounts Dune Dashboard",
          "ERC4337 Smart Accounts Dune Dashboard",
          "ERC4337 Smart Accounts Dune Dashboard",
          "ERC4337 Smart Accounts Dune Dashboard",
          "ERC4337 Smart Accounts Dune Dashboard",
          "ERC4337 Smart Accounts Dune Dashboard",
          "ERC4337 Smart Accounts Dune Dashboard",
          "ERC4337 Smart Accounts Dune Dashboard",
          "ERC4337 Smart Accounts Dune Dashboard",
          "ERC4337 Smart Accounts Dune Dashboard",
          "ERC4337 Smart Accounts Dune Dashboard",
          "ETHGlobal",
          "ETHGlobal",
          "ETHGlobal",
          "ETHGlobal",
          "ETHGlobal",
          "ETHGlobal",
          "ETHGlobal",
          "ETHGlobal",
          "ETHGlobal",
          "ETHGlobal",
          "ETHGlobal",
          "ETHGlobal",
          "ETHGlobal",
          "ETHGlobal",
          "ETHGlobal",
          "ETHGlobal",
          "ETHGlobal",
          "ETHGlobal",
          "ETHGlobal",
          "ETHGlobal",
          "ETHGlobal",
          "ETHGlobal",
          "ETHGlobal",
          "ETHGlobal",
          "ETHGlobal",
          "ETHGlobal",
          "ETHGlobal",
          "ETHGlobal",
          "ETHGlobal",
          "ETHGlobal",
          "ETHGlobal",
          "ETHGlobal",
          "ETHGlobal",
          "ETHGlobal",
          "ETHGlobal",
          "ETHGlobal",
          "ETHGlobal",
          "ETHGlobal",
          "ETHGlobal",
          "ETHGlobal",
          "ETHGlobal",
          "ETHGlobal",
          "ETHGlobal",
          "ETHGlobal",
          "ETHGlobal",
          "ETHGlobal",
          "ETHGlobal",
          "ETHGlobal",
          "ETHGlobal",
          "ETHGlobal",
          "ETHGlobal",
          "ETHGlobal",
          "ETHGlobal",
          "ETHGlobal",
          "ETHGlobal",
          "ETHGlobal",
          "ETHGlobal",
          "ETHGlobal",
          "ETHGlobal",
          "ETHGlobal",
          "ETHGlobal",
          "ETHGlobal",
          "ETHGlobal",
          "ETHGlobal",
          "ETHGlobal",
          "ETHGlobal",
          "ETHGlobal",
          "ETHGlobal",
          "ETHGlobal",
          "ETHGlobal",
          "ETHGlobal",
          "ETHGlobal",
          "ETHGlobal",
          "ETHGlobal",
          "ETHGlobal",
          "ETHGlobal",
          "ETHGlobal",
          "ETHGlobal",
          "ETHGlobal",
          "ETHGlobal",
          "ETHGlobal",
          "ETHGlobal",
          "ETHGlobal",
          "ETHGlobal",
          "ETHGlobal",
          "ETHGlobal",
          "ETHGlobal",
          "ETHGlobal",
          "ETHGlobal",
          "Endaoment",
          "Endaoment",
          "Endaoment",
          "Endaoment",
          "Endaoment",
          "Endaoment",
          "Endaoment",
          "Endaoment",
          "Endaoment",
          "Endaoment",
          "Endaoment",
          "Endaoment",
          "Endaoment",
          "Endaoment",
          "Endaoment",
          "Endaoment",
          "Endaoment",
          "Endaoment",
          "Endaoment",
          "Endaoment",
          "Endaoment",
          "Endaoment",
          "Endaoment",
          "Endaoment",
          "Endaoment",
          "Endaoment",
          "Endaoment",
          "Endaoment",
          "Endaoment",
          "Endaoment",
          "Endaoment",
          "Endaoment",
          "Endaoment",
          "Endaoment",
          "Endaoment",
          "Endaoment",
          "Endaoment",
          "Endaoment",
          "Endaoment",
          "Endaoment",
          "Endaoment",
          "Endaoment",
          "Endaoment",
          "Endaoment",
          "Endaoment",
          "Endaoment",
          "Endaoment",
          "Endaoment",
          "Equalizer",
          "Equalizer",
          "Equalizer",
          "Equalizer",
          "Equalizer",
          "Equalizer",
          "Equalizer",
          "Equalizer",
          "Equalizer",
          "Equalizer",
          "Equalizer",
          "Equalizer",
          "Equalizer",
          "Equalizer",
          "Equalizer",
          "Equalizer",
          "Equalizer",
          "Equalizer",
          "Equalizer",
          "Equalizer",
          "Equalizer",
          "Equalizer",
          "Equalizer",
          "Equalizer",
          "Equalizer",
          "Equalizer",
          "Equalizer",
          "Equalizer",
          "Equalizer",
          "Erigon",
          "Erigon",
          "Erigon",
          "Erigon",
          "Erigon",
          "Erigon",
          "Erigon",
          "Erigon",
          "Erigon",
          "Erigon",
          "Erigon",
          "Erigon",
          "Erigon",
          "Erigon",
          "Erigon",
          "Erigon",
          "Erigon",
          "Erigon",
          "Erigon",
          "Erigon",
          "Erigon",
          "Erigon",
          "Erigon",
          "Erigon",
          "Erigon",
          "Erigon",
          "Erigon",
          "Erigon",
          "Erigon",
          "Erigon",
          "Erigon",
          "Erigon",
          "Erigon",
          "Erigon",
          "Erigon",
          "Erigon",
          "Erigon",
          "Erigon",
          "Erigon",
          "Erigon",
          "Erigon",
          "Erigon",
          "Erigon",
          "Erigon",
          "Erigon",
          "Erigon",
          "Erigon",
          "Erigon",
          "Erigon",
          "Erigon",
          "Erigon",
          "Erigon",
          "Erigon",
          "Erigon",
          "Erigon",
          "Erigon",
          "Erigon",
          "Erigon",
          "Erigon",
          "Erigon",
          "Erigon",
          "Erigon",
          "Erigon",
          "Erigon",
          "Erigon",
          "Erigon",
          "Erigon",
          "Erigon",
          "Erigon",
          "Erigon",
          "Erigon",
          "Erigon",
          "Erigon",
          "Erigon",
          "Erigon",
          "Erigon",
          "Erigon",
          "Erigon",
          "Erigon",
          "Erigon",
          "Erigon",
          "Erigon",
          "Erigon",
          "Erigon",
          "Erigon",
          "Erigon",
          "Erigon",
          "Erigon",
          "Erigon",
          "Erigon",
          "Erigon",
          "Ethereum Attestation Service",
          "Ethereum Attestation Service",
          "Ethereum Attestation Service",
          "Ethereum Attestation Service",
          "Ethereum Attestation Service",
          "Ethereum Attestation Service",
          "Ethereum Attestation Service",
          "Ethereum Attestation Service",
          "Ethereum Attestation Service",
          "Ethereum Attestation Service",
          "Ethereum Attestation Service",
          "Ethereum Attestation Service",
          "Ethereum Attestation Service",
          "Ethereum Attestation Service",
          "Ethereum Attestation Service",
          "Ethereum Attestation Service",
          "Ethereum Attestation Service",
          "Ethereum Attestation Service",
          "Ethereum Attestation Service",
          "Ethereum Attestation Service",
          "Ethereum Attestation Service",
          "Ethereum Attestation Service",
          "Ethereum Attestation Service",
          "Ethereum Attestation Service",
          "Ethereum Attestation Service",
          "Ethereum Attestation Service",
          "Ethereum Attestation Service",
          "Ethereum Attestation Service",
          "Ethereum Attestation Service",
          "Ethereum Attestation Service",
          "Ethereum Attestation Service",
          "Ethereum Attestation Service",
          "Ethereum Attestation Service",
          "Ethereum Attestation Service",
          "Ethereum Attestation Service",
          "Ethereum Attestation Service",
          "Ethereum Attestation Service",
          "Ethereum Attestation Service",
          "Ethereum Attestation Service",
          "Ethereum Attestation Service",
          "Ethereum Attestation Service",
          "Ethereum Attestation Service",
          "Ethereum Attestation Service",
          "Ethereum Attestation Service",
          "Ethereum Attestation Service",
          "Ethereum Attestation Service",
          "Ethereum Attestation Service",
          "Ethereum Attestation Service",
          "Ethereum Attestation Service",
          "Ethereum Attestation Service",
          "Ethereum Attestation Service",
          "Ethereum Attestation Service",
          "Ethereum Attestation Service",
          "Ethereum Attestation Service",
          "Ethereum Attestation Service",
          "Ethereum Attestation Service",
          "Ethereum Attestation Service",
          "Ethereum Attestation Service",
          "Ethereum Attestation Service",
          "Ethereum Attestation Service",
          "Ethereum Attestation Service",
          "Ethereum Attestation Service",
          "Ethereum Attestation Service",
          "Ethereum Attestation Service",
          "Ethereum Attestation Service",
          "Ethereum Attestation Service",
          "Ethereum Attestation Service",
          "Ethereum Attestation Service",
          "Ethereum Attestation Service",
          "Ethereum Attestation Service",
          "Ethereum Attestation Service",
          "Ethereum Attestation Service",
          "Ethereum Attestation Service",
          "Ethereum Attestation Service",
          "Ethereum Attestation Service",
          "Ethereum Attestation Service",
          "Ethereum Attestation Service",
          "Ethereum Attestation Service",
          "Ethereum Attestation Service",
          "Ethereum Attestation Service",
          "Ethereum Attestation Service",
          "Ethereum Attestation Service",
          "Ethereum Attestation Service",
          "Ethereum Attestation Service",
          "Ethereum Attestation Service",
          "Ethereum Attestation Service",
          "Ethereum Attestation Service",
          "Ethereum Attestation Service",
          "Ethereum Attestation Service",
          "Ethereum Attestation Service",
          "Ethereum Attestation Service",
          "Ethereum Attestation Service",
          "Eventcaster",
          "Eventcaster",
          "Eventcaster",
          "Eventcaster",
          "Eventcaster",
          "Eventcaster",
          "Eventcaster",
          "Eventcaster",
          "Eventcaster",
          "Eventcaster",
          "Eventcaster",
          "Eventcaster",
          "Eventcaster",
          "Eventcaster",
          "Eventcaster",
          "Eventcaster",
          "Eventcaster",
          "Eventcaster",
          "Eventcaster",
          "Eventcaster",
          "Eventcaster",
          "Eventcaster",
          "Eventcaster",
          "Eventcaster",
          "Eventcaster",
          "Eventcaster",
          "Eventcaster",
          "Eventcaster",
          "Eventcaster",
          "Eventcaster",
          "Eventcaster",
          "Eventcaster",
          "Eventcaster",
          "Eventcaster",
          "Eventcaster",
          "Eventcaster",
          "Flipside Crypto",
          "Flipside Crypto",
          "Flipside Crypto",
          "Flipside Crypto",
          "Flipside Crypto",
          "Flipside Crypto",
          "Flipside Crypto",
          "Flipside Crypto",
          "Flipside Crypto",
          "Flipside Crypto",
          "Flipside Crypto",
          "Flipside Crypto",
          "Flipside Crypto",
          "Flipside Crypto",
          "Flipside Crypto",
          "Flipside Crypto",
          "Flipside Crypto",
          "Flipside Crypto",
          "Flipside Crypto",
          "Flipside Crypto",
          "Flipside Crypto",
          "Flipside Crypto",
          "Flipside Crypto",
          "Flipside Crypto",
          "Flipside Crypto",
          "Flipside Crypto",
          "Flipside Crypto",
          "Flipside Crypto",
          "Flipside Crypto",
          "Flipside Crypto",
          "Flipside Crypto",
          "Flipside Crypto",
          "Flipside Crypto",
          "Flipside Crypto",
          "Flipside Crypto",
          "Flipside Crypto",
          "Flipside Crypto",
          "Flipside Crypto",
          "Flipside Crypto",
          "Flipside Crypto",
          "Flipside Crypto",
          "Flipside Crypto",
          "Flipside Crypto",
          "Flipside Crypto",
          "Flipside Crypto",
          "Flipside Crypto",
          "Frame",
          "Frame",
          "Frame",
          "Frame",
          "Frame",
          "Frame",
          "Frame",
          "Frame",
          "Frame",
          "Frame",
          "Frame",
          "Frame",
          "Frame",
          "Frame",
          "Frame",
          "Frame",
          "Frame",
          "Frame",
          "Frame",
          "Frame",
          "Frame",
          "Frame",
          "Frame",
          "Frame",
          "Frame",
          "Frame",
          "Frame",
          "Frame",
          "Frame",
          "Frame",
          "Frame",
          "Frame",
          "Frame",
          "Frame",
          "Frame",
          "Frame",
          "Frame",
          "Frame",
          "Frame",
          "Frame",
          "Frame",
          "Frame",
          "Frame",
          "Frame",
          "Frame",
          "Frame",
          "Frame",
          "Frame",
          "Frame",
          "Frame",
          "Frame",
          "Frame",
          "Frame",
          "Frame",
          "Frame",
          "Frame",
          "Frame",
          "Frame",
          "Frame",
          "Frame",
          "Frame",
          "Frame",
          "Frame",
          "Frame",
          "Frame",
          "Frame",
          "Frame",
          "Frame",
          "Frame",
          "Frame",
          "Frame",
          "Frame",
          "Frame",
          "Frame",
          "Frame",
          "Frame",
          "Frame",
          "Frame",
          "Galxe",
          "Galxe",
          "Galxe",
          "Galxe",
          "Galxe",
          "Galxe",
          "Galxe",
          "Galxe",
          "Galxe",
          "Galxe",
          "Galxe",
          "Galxe",
          "Galxe",
          "Galxe",
          "Galxe",
          "Galxe",
          "Galxe",
          "Galxe",
          "Galxe",
          "Galxe",
          "Galxe",
          "Galxe",
          "Galxe",
          "Galxe",
          "Galxe",
          "Galxe",
          "Galxe",
          "Galxe",
          "Galxe",
          "Galxe",
          "Galxe",
          "Galxe",
          "Galxe",
          "Galxe",
          "Galxe",
          "Galxe",
          "Galxe",
          "Galxe",
          "Galxe",
          "Galxe",
          "Galxe",
          "Galxe",
          "Galxe",
          "Galxe",
          "Galxe",
          "Galxe",
          "Gaslite",
          "Gaslite",
          "Gaslite",
          "Gaslite",
          "Gaslite",
          "Gaslite",
          "Gaslite",
          "Gaslite",
          "Gaslite",
          "Gaslite",
          "Gaslite",
          "Gaslite",
          "Gaslite",
          "Gaslite",
          "Gaslite",
          "Gaslite",
          "Gaslite",
          "Gaslite",
          "Gaslite",
          "Gaslite",
          "Gaslite",
          "Gaslite",
          "Gaslite",
          "Gaslite",
          "Gaslite",
          "Gaslite",
          "Gaslite",
          "Gaslite",
          "Gaslite",
          "Gaslite",
          "Gaslite",
          "Gaslite",
          "Gaslite",
          "Gaslite",
          "Gaslite",
          "Gaslite",
          "Gaslite",
          "Gaslite",
          "Gaslite",
          "Gaslite",
          "Gelato",
          "Gelato",
          "Gelato",
          "Gelato",
          "Gelato",
          "Gelato",
          "Gelato",
          "Gelato",
          "Gelato",
          "Gelato",
          "Gelato",
          "Gelato",
          "Gelato",
          "Gelato",
          "Gelato",
          "Gelato",
          "Gelato",
          "Gelato",
          "Gelato",
          "Gelato",
          "Gelato",
          "Gelato",
          "Gelato",
          "Gelato",
          "Gelato",
          "Gelato",
          "Gelato",
          "Gelato",
          "Gelato",
          "Gelato",
          "Gelato",
          "Gelato",
          "Gelato",
          "Gelato",
          "Gelato",
          "Gelato",
          "Gelato",
          "Gelato",
          "Gelato",
          "Gelato",
          "Gelato",
          "Gelato",
          "Gelato",
          "Gelato",
          "Gelato",
          "Gelato",
          "Gelato",
          "Gelato",
          "Gelato",
          "Gelato",
          "Gelato",
          "Gelato",
          "Gelato",
          "Gelato",
          "Gelato",
          "Gelato",
          "Gelato",
          "Gelato",
          "Gelato",
          "Gelato",
          "Gelato",
          "Gelato",
          "Gelato",
          "Guild.xyz",
          "Guild.xyz",
          "Guild.xyz",
          "Guild.xyz",
          "Guild.xyz",
          "Guild.xyz",
          "Guild.xyz",
          "Guild.xyz",
          "Guild.xyz",
          "Guild.xyz",
          "Guild.xyz",
          "Guild.xyz",
          "Guild.xyz",
          "Guild.xyz",
          "Guild.xyz",
          "Guild.xyz",
          "Guild.xyz",
          "Guild.xyz",
          "Guild.xyz",
          "Guild.xyz",
          "Guild.xyz",
          "Guild.xyz",
          "Guild.xyz",
          "Guild.xyz",
          "Guild.xyz",
          "Guild.xyz",
          "Guild.xyz",
          "Guild.xyz",
          "Guild.xyz",
          "Guild.xyz",
          "Guild.xyz",
          "Guild.xyz",
          "Guild.xyz",
          "Guild.xyz",
          "Guild.xyz",
          "Guild.xyz",
          "Guild.xyz",
          "Guild.xyz",
          "Guild.xyz",
          "Guild.xyz",
          "Guild.xyz",
          "Guild.xyz",
          "Guild.xyz",
          "Guild.xyz",
          "Guild.xyz",
          "Guild.xyz",
          "Guild.xyz",
          "Guild.xyz",
          "Guild.xyz",
          "Guild.xyz",
          "Guild.xyz",
          "Guild.xyz",
          "Guild.xyz",
          "Guild.xyz",
          "Guild.xyz",
          "Guild.xyz",
          "Guild.xyz",
          "Guild.xyz",
          "Guild.xyz",
          "Guild.xyz",
          "Guild.xyz",
          "Hardhat",
          "Hardhat",
          "Hardhat",
          "Hardhat",
          "Hardhat",
          "Hardhat",
          "Hardhat",
          "Hardhat",
          "Hardhat",
          "Hardhat",
          "Hardhat",
          "Hardhat",
          "Hardhat",
          "Hardhat",
          "Hardhat",
          "Hardhat",
          "Hardhat",
          "Hardhat",
          "Hardhat",
          "Hardhat",
          "Hardhat",
          "Hardhat",
          "Hardhat",
          "Hardhat",
          "Hardhat",
          "Hardhat",
          "Hardhat",
          "Hardhat",
          "Hardhat",
          "Hardhat",
          "Hardhat",
          "Hardhat",
          "Hardhat",
          "Hardhat",
          "Hardhat",
          "Hardhat",
          "Hardhat",
          "Hardhat",
          "Hardhat",
          "Hardhat",
          "Hardhat",
          "Hardhat",
          "Hardhat",
          "Hardhat",
          "Hardhat",
          "Hardhat",
          "Hardhat",
          "Hardhat",
          "Hardhat",
          "Hardhat",
          "Hardhat",
          "Hardhat",
          "Hardhat",
          "Hardhat",
          "Hardhat",
          "Hardhat",
          "Hardhat",
          "Hardhat",
          "Hardhat",
          "Hardhat",
          "Hardhat",
          "Hardhat",
          "Hardhat",
          "Hardhat",
          "Hardhat",
          "Hardhat",
          "Hardhat",
          "Hardhat",
          "Hardhat",
          "Hardhat",
          "Hardhat",
          "Hardhat",
          "Hardhat",
          "Hardhat",
          "Hardhat",
          "Hardhat",
          "Hardhat",
          "Hardhat",
          "Hardhat",
          "Hardhat",
          "Hardhat",
          "Hardhat",
          "Hardhat",
          "Hardhat",
          "Hardhat",
          "Hardhat",
          "Hardhat",
          "Hardhat",
          "Hardhat",
          "Hardhat",
          "Hardhat",
          "Hardhat",
          "Hardhat",
          "Hardhat",
          "Hardhat",
          "Hardhat",
          "Hardhat",
          "Hardhat",
          "Hardhat",
          "Hardhat",
          "Hop DAO",
          "Hop DAO",
          "Hop DAO",
          "Hop DAO",
          "Hop DAO",
          "Hop DAO",
          "Hop DAO",
          "Hop DAO",
          "Hop DAO",
          "Hop DAO",
          "Hop DAO",
          "Hop DAO",
          "Hop DAO",
          "Hop DAO",
          "Hop DAO",
          "Hop DAO",
          "Hop DAO",
          "Hop DAO",
          "Hop DAO",
          "Hop DAO",
          "Hop DAO",
          "Hop DAO",
          "Hop DAO",
          "Hop DAO",
          "Hop DAO",
          "Hop DAO",
          "Hop DAO",
          "Hop DAO",
          "Hop DAO",
          "Hop DAO",
          "Hop DAO",
          "Hop DAO",
          "Hop DAO",
          "Hop DAO",
          "Hop DAO",
          "Hop DAO",
          "Hop DAO",
          "Hop DAO",
          "Hop DAO",
          "Hop DAO",
          "Hop DAO",
          "Hop DAO",
          "Hop DAO",
          "Hop DAO",
          "Hop DAO",
          "Hop DAO",
          "Hop DAO",
          "Hop DAO",
          "Hop DAO",
          "IPFS",
          "IPFS",
          "IPFS",
          "IPFS",
          "IPFS",
          "IPFS",
          "IPFS",
          "IPFS",
          "IPFS",
          "IPFS",
          "IPFS",
          "IPFS",
          "IPFS",
          "IPFS",
          "IPFS",
          "IPFS",
          "IPFS",
          "IPFS",
          "IPFS",
          "IPFS",
          "IPFS",
          "IPFS",
          "IPFS",
          "IPFS",
          "IPFS",
          "IPFS",
          "IPFS",
          "IPFS",
          "IPFS",
          "IPFS",
          "IPFS",
          "IPFS",
          "IPFS",
          "IPFS",
          "IPFS",
          "IPFS",
          "IPFS",
          "IPFS",
          "IPFS",
          "IPFS",
          "IPFS",
          "IPFS",
          "IPFS",
          "IPFS",
          "IPFS",
          "IPFS",
          "IPFS",
          "IPFS",
          "IPFS",
          "IPFS",
          "IPFS",
          "IPFS",
          "IPFS",
          "IPFS",
          "IPFS",
          "IPFS",
          "IPFS",
          "IPFS",
          "IPFS",
          "IPFS",
          "IPFS",
          "IPFS",
          "IPFS",
          "IPFS",
          "IPFS",
          "IPFS",
          "IPFS",
          "IPFS",
          "IPFS",
          "IPFS",
          "IPFS",
          "IPFS",
          "IPFS",
          "IPFS",
          "IPFS",
          "IPFS",
          "Interface",
          "Interface",
          "Interface",
          "Interface",
          "Interface",
          "Interface",
          "Interface",
          "Interface",
          "Interface",
          "Interface",
          "Interface",
          "Interface",
          "Interface",
          "Interface",
          "Interface",
          "Interface",
          "Interface",
          "Interface",
          "Interface",
          "Interface",
          "Interface",
          "Interface",
          "Interface",
          "Interface",
          "Interface",
          "Interface",
          "Interface",
          "Interface",
          "Interface",
          "Interface",
          "Interface",
          "Interface",
          "Interface",
          "Interface",
          "Interface",
          "Interface",
          "Interface",
          "LandTorn - Lorak",
          "LandTorn - Lorak",
          "LandTorn - Lorak",
          "LandTorn - Lorak",
          "LandTorn - Lorak",
          "LandTorn - Lorak",
          "LandTorn - Lorak",
          "LandTorn - Lorak",
          "LandTorn - Lorak",
          "LandTorn - Lorak",
          "LandTorn - Lorak",
          "LandTorn - Lorak",
          "LandTorn - Lorak",
          "LandTorn - Lorak",
          "LandTorn - Lorak",
          "LandTorn - Lorak",
          "LandTorn - Lorak",
          "LandTorn - Lorak",
          "LandTorn - Lorak",
          "LandTorn - Lorak",
          "LandTorn - Lorak",
          "LandTorn - Lorak",
          "LandTorn - Lorak",
          "LandTorn - Lorak",
          "LandTorn - Lorak",
          "LandTorn - Lorak",
          "LandTorn - Lorak",
          "LandTorn - Lorak",
          "LandTorn - Lorak",
          "LandTorn - Lorak",
          "LandTorn - Lorak",
          "Lattice (OPCraft & MUD)",
          "Lattice (OPCraft & MUD)",
          "Lattice (OPCraft & MUD)",
          "Lattice (OPCraft & MUD)",
          "Lattice (OPCraft & MUD)",
          "Lattice (OPCraft & MUD)",
          "Lattice (OPCraft & MUD)",
          "Lattice (OPCraft & MUD)",
          "Lattice (OPCraft & MUD)",
          "Lattice (OPCraft & MUD)",
          "Lattice (OPCraft & MUD)",
          "Lattice (OPCraft & MUD)",
          "Lattice (OPCraft & MUD)",
          "Lattice (OPCraft & MUD)",
          "Lattice (OPCraft & MUD)",
          "Lattice (OPCraft & MUD)",
          "Lattice (OPCraft & MUD)",
          "Lattice (OPCraft & MUD)",
          "Lattice (OPCraft & MUD)",
          "Lattice (OPCraft & MUD)",
          "Lattice (OPCraft & MUD)",
          "Lattice (OPCraft & MUD)",
          "Lattice (OPCraft & MUD)",
          "Lattice (OPCraft & MUD)",
          "Lattice (OPCraft & MUD)",
          "Lattice (OPCraft & MUD)",
          "Lattice (OPCraft & MUD)",
          "Lattice (OPCraft & MUD)",
          "Lattice (OPCraft & MUD)",
          "Lattice (OPCraft & MUD)",
          "Lattice (OPCraft & MUD)",
          "Lattice (OPCraft & MUD)",
          "Lattice (OPCraft & MUD)",
          "Lattice (OPCraft & MUD)",
          "Lattice (OPCraft & MUD)",
          "Lattice (OPCraft & MUD)",
          "Lattice (OPCraft & MUD)",
          "Lattice (OPCraft & MUD)",
          "Lattice (OPCraft & MUD)",
          "Lattice (OPCraft & MUD)",
          "Lattice (OPCraft & MUD)",
          "Lattice (OPCraft & MUD)",
          "Lattice (OPCraft & MUD)",
          "Lattice (OPCraft & MUD)",
          "Lattice (OPCraft & MUD)",
          "Lattice (OPCraft & MUD)",
          "Lattice (OPCraft & MUD)",
          "Lattice (OPCraft & MUD)",
          "Lattice (OPCraft & MUD)",
          "Lattice (OPCraft & MUD)",
          "Lattice (OPCraft & MUD)",
          "Lattice (OPCraft & MUD)",
          "Lattice (OPCraft & MUD)",
          "Lattice (OPCraft & MUD)",
          "Lattice (OPCraft & MUD)",
          "Lattice (OPCraft & MUD)",
          "Lattice (OPCraft & MUD)",
          "Lattice (OPCraft & MUD)",
          "Lattice (OPCraft & MUD)",
          "Lattice (OPCraft & MUD)",
          "Lattice (OPCraft & MUD)",
          "Lattice (OPCraft & MUD)",
          "Lattice (OPCraft & MUD)",
          "Lattice (OPCraft & MUD)",
          "Lattice (OPCraft & MUD)",
          "Lattice (OPCraft & MUD)",
          "Lattice (OPCraft & MUD)",
          "Launchcaster",
          "Launchcaster",
          "Launchcaster",
          "Launchcaster",
          "Launchcaster",
          "Launchcaster",
          "Launchcaster",
          "Launchcaster",
          "Launchcaster",
          "Launchcaster",
          "Launchcaster",
          "Launchcaster",
          "Launchcaster",
          "Launchcaster",
          "Launchcaster",
          "Launchcaster",
          "Launchcaster",
          "Launchcaster",
          "Launchcaster",
          "Launchcaster",
          "Launchcaster",
          "Launchcaster",
          "Launchcaster",
          "Launchcaster",
          "Launchcaster",
          "Launchcaster",
          "Launchcaster",
          "Launchcaster",
          "Launchcaster",
          "Launchcaster",
          "Launchcaster",
          "Launchcaster",
          "Launchcaster",
          "Launchcaster",
          "Launchcaster",
          "Launchcaster",
          "Launchcaster",
          "Layer3",
          "Layer3",
          "Layer3",
          "Layer3",
          "Layer3",
          "Layer3",
          "Layer3",
          "Layer3",
          "Layer3",
          "Layer3",
          "Layer3",
          "Layer3",
          "Layer3",
          "Layer3",
          "Layer3",
          "Layer3",
          "Layer3",
          "Layer3",
          "Layer3",
          "Layer3",
          "Layer3",
          "Layer3",
          "Layer3",
          "Layer3",
          "Layer3",
          "Layer3",
          "Layer3",
          "Layer3",
          "Layer3",
          "Layer3",
          "Layer3",
          "Layer3",
          "Layer3",
          "Layer3",
          "Layer3",
          "Layer3",
          "Layer3",
          "Layer3",
          "Layer3",
          "Layer3",
          "Layer3",
          "Layer3",
          "Layer3",
          "Layer3",
          "Layer3",
          "Layer3",
          "Layer3",
          "Layer3",
          "Layer3",
          "Layer3",
          "LearnWeb3",
          "LearnWeb3",
          "LearnWeb3",
          "LearnWeb3",
          "LearnWeb3",
          "LearnWeb3",
          "LearnWeb3",
          "LearnWeb3",
          "LearnWeb3",
          "LearnWeb3",
          "LearnWeb3",
          "LearnWeb3",
          "LearnWeb3",
          "LearnWeb3",
          "LearnWeb3",
          "LearnWeb3",
          "LearnWeb3",
          "LearnWeb3",
          "LearnWeb3",
          "LearnWeb3",
          "LearnWeb3",
          "LearnWeb3",
          "LearnWeb3",
          "LearnWeb3",
          "LearnWeb3",
          "LearnWeb3",
          "LearnWeb3",
          "LearnWeb3",
          "LearnWeb3",
          "LearnWeb3",
          "LearnWeb3",
          "LearnWeb3",
          "LearnWeb3",
          "LearnWeb3",
          "LearnWeb3",
          "LearnWeb3",
          "LearnWeb3",
          "LearnWeb3",
          "LearnWeb3",
          "LearnWeb3",
          "LearnWeb3",
          "LearnWeb3",
          "LearnWeb3",
          "Lore",
          "Lore",
          "Lore",
          "Lore",
          "Lore",
          "Lore",
          "Lore",
          "Lore",
          "Lore",
          "Lore",
          "Lore",
          "Lore",
          "Lore",
          "Lore",
          "Lore",
          "Lore",
          "Lore",
          "Lore",
          "Lore",
          "Lore",
          "Lore",
          "Lore",
          "Lore",
          "Lore",
          "Lore",
          "Lore",
          "Lore",
          "Lore",
          "Lore",
          "Lore",
          "Lore",
          "Lore",
          "Lore",
          "Lore",
          "Lore",
          "Lore",
          "Lore",
          "Lore",
          "Lore",
          "Messari",
          "Messari",
          "Messari",
          "Messari",
          "Messari",
          "Messari",
          "Messari",
          "Messari",
          "Messari",
          "Messari",
          "Messari",
          "Messari",
          "Messari",
          "Messari",
          "Messari",
          "Messari",
          "Messari",
          "Messari",
          "Messari",
          "Messari",
          "Messari",
          "Messari",
          "Messari",
          "Messari",
          "Messari",
          "Messari",
          "Messari",
          "Messari",
          "Messari",
          "Messari",
          "Messari",
          "Messari",
          "Messari",
          "Messari",
          "Messari",
          "Messari",
          "Messari",
          "Messari",
          "Mirror",
          "Mirror",
          "Mirror",
          "Mirror",
          "Mirror",
          "Mirror",
          "Mirror",
          "Mirror",
          "Mirror",
          "Mirror",
          "Mirror",
          "Mirror",
          "Mirror",
          "Mirror",
          "Mirror",
          "Mirror",
          "Mirror",
          "Mirror",
          "Mirror",
          "Mirror",
          "Mirror",
          "Mirror",
          "Mirror",
          "Mirror",
          "Mirror",
          "Mirror",
          "Mirror",
          "Mirror",
          "Mirror",
          "Mirror",
          "Mirror",
          "Mirror",
          "Mirror",
          "Mirror",
          "Mirror",
          "Mirror",
          "Mirror",
          "Mirror",
          "Mirror",
          "Mirror",
          "Mirror",
          "Mirror",
          "Mirror",
          "Mirror",
          "Mirror",
          "Mirror",
          "Mirror",
          "Mirror",
          "Mirror",
          "Mirror",
          "Mirror",
          "Mirror",
          "Mirror",
          "Mirror",
          "Mirror",
          "Mirror",
          "Mirror",
          "Mirror",
          "Mirror",
          "Mirror",
          "Mirror",
          "Mirror",
          "Mirror",
          "Mirror",
          "Mirror",
          "Mirror",
          "Mirror",
          "Mirror",
          "Mirror",
          "Mirror",
          "Mirror",
          "Mirror",
          "Modular Crypto",
          "Modular Crypto",
          "Modular Crypto",
          "Modular Crypto",
          "Modular Crypto",
          "Modular Crypto",
          "Modular Crypto",
          "Modular Crypto",
          "Modular Crypto",
          "Modular Crypto",
          "Modular Crypto",
          "Modular Crypto",
          "Modular Crypto",
          "Modular Crypto",
          "Modular Crypto",
          "Modular Crypto",
          "Modular Crypto",
          "Modular Crypto",
          "Modular Crypto",
          "Modular Crypto",
          "Modular Crypto",
          "Modular Crypto",
          "Modular Crypto",
          "Modular Crypto",
          "Modular Crypto",
          "Modular Crypto",
          "Modular Crypto",
          "Modular Crypto",
          "Modular Crypto",
          "Modular Crypto",
          "Modular Crypto",
          "Modular Crypto",
          "Modular Crypto",
          "Modular Crypto",
          "Modular Crypto",
          "Modular Crypto",
          "Modular Crypto",
          "Modular Crypto",
          "Modular Crypto",
          "Modular Crypto",
          "Modular Crypto",
          "Modular Crypto",
          "Modular Crypto",
          "Modular Crypto",
          "Modular Crypto",
          "Modular Crypto",
          "Modular Crypto",
          "Modular Crypto",
          "Modular Crypto",
          "Moonwell",
          "Moonwell",
          "Moonwell",
          "Moonwell",
          "Moonwell",
          "Moonwell",
          "Moonwell",
          "Moonwell",
          "Moonwell",
          "Moonwell",
          "Moonwell",
          "Moonwell",
          "Moonwell",
          "Moonwell",
          "Moonwell",
          "Moonwell",
          "Moonwell",
          "Moonwell",
          "Moonwell",
          "Moonwell",
          "Moonwell",
          "Moonwell",
          "Moonwell",
          "Moonwell",
          "Moonwell",
          "Moonwell",
          "Moonwell",
          "Moonwell",
          "Moonwell",
          "Moonwell",
          "Moonwell",
          "Moonwell",
          "Moonwell",
          "Moonwell",
          "Moonwell",
          "Moonwell",
          "Moonwell",
          "Moonwell",
          "Moso",
          "Moso",
          "Moso",
          "Moso",
          "Moso",
          "Moso",
          "Moso",
          "Moso",
          "Moso",
          "Moso",
          "Moso",
          "Moso",
          "Moso",
          "Moso",
          "Moso",
          "Moso",
          "Moso",
          "Moso",
          "Moso",
          "Moso",
          "Moso",
          "Moso",
          "Moso",
          "Moso",
          "Moso",
          "Moso",
          "Moso",
          "Moso",
          "Moso",
          "OP Reth",
          "OP Reth",
          "OP Reth",
          "OP Reth",
          "OP Reth",
          "OP Reth",
          "OP Reth",
          "OP Reth",
          "OP Reth",
          "OP Reth",
          "OP Reth",
          "OP Reth",
          "OP Reth",
          "OP Reth",
          "OP Reth",
          "OP Reth",
          "OP Reth",
          "OP Reth",
          "OP Reth",
          "OP Reth",
          "OP Reth",
          "OP Reth",
          "OP Reth",
          "OP Reth",
          "OP Reth",
          "OP Reth",
          "OP Reth",
          "OP Reth",
          "OP Reth",
          "OP Reth",
          "OP Reth",
          "OP Reth",
          "OP Reth",
          "OP Reth",
          "OP Reth",
          "OP Reth",
          "OP Reth",
          "OP Reth",
          "OP Reth",
          "OP Reth",
          "OP Reth",
          "OP Reth",
          "OP Reth",
          "OP Reth",
          "OP Reth",
          "OP Reth",
          "OP Reth",
          "OP Reth",
          "OP Reth",
          "OP Reth",
          "OP Reth",
          "OP Reth",
          "OP Reth",
          "OP Reth",
          "OP Reth",
          "OP Reth",
          "OP Reth",
          "OP Reth",
          "OP Reth",
          "OP Reth",
          "OP Reth",
          "OP Reth",
          "OP Reth",
          "OP Reth",
          "Odos",
          "Odos",
          "Odos",
          "Odos",
          "Odos",
          "Odos",
          "Odos",
          "Odos",
          "Odos",
          "Odos",
          "Odos",
          "Odos",
          "Odos",
          "Odos",
          "Odos",
          "Odos",
          "Odos",
          "Odos",
          "Odos",
          "Odos",
          "Odos",
          "Odos",
          "Odos",
          "Odos",
          "Odos",
          "Odos",
          "Odos",
          "Odos",
          "Odos",
          "Odos",
          "Odos",
          "Odos",
          "Odos",
          "Odos",
          "OpenZeppelin Contracts",
          "OpenZeppelin Contracts",
          "OpenZeppelin Contracts",
          "OpenZeppelin Contracts",
          "OpenZeppelin Contracts",
          "OpenZeppelin Contracts",
          "OpenZeppelin Contracts",
          "OpenZeppelin Contracts",
          "OpenZeppelin Contracts",
          "OpenZeppelin Contracts",
          "OpenZeppelin Contracts",
          "OpenZeppelin Contracts",
          "OpenZeppelin Contracts",
          "OpenZeppelin Contracts",
          "OpenZeppelin Contracts",
          "OpenZeppelin Contracts",
          "OpenZeppelin Contracts",
          "OpenZeppelin Contracts",
          "OpenZeppelin Contracts",
          "OpenZeppelin Contracts",
          "OpenZeppelin Contracts",
          "OpenZeppelin Contracts",
          "OpenZeppelin Contracts",
          "OpenZeppelin Contracts",
          "OpenZeppelin Contracts",
          "OpenZeppelin Contracts",
          "OpenZeppelin Contracts",
          "OpenZeppelin Contracts",
          "OpenZeppelin Contracts",
          "OpenZeppelin Contracts",
          "OpenZeppelin Contracts",
          "OpenZeppelin Contracts",
          "OpenZeppelin Contracts",
          "OpenZeppelin Contracts",
          "OpenZeppelin Contracts",
          "OpenZeppelin Contracts",
          "OpenZeppelin Contracts",
          "OpenZeppelin Contracts",
          "OpenZeppelin Contracts",
          "OpenZeppelin Contracts",
          "OpenZeppelin Contracts",
          "OpenZeppelin Contracts",
          "OpenZeppelin Contracts",
          "OpenZeppelin Contracts",
          "OpenZeppelin Contracts",
          "OpenZeppelin Contracts",
          "OpenZeppelin Contracts",
          "OpenZeppelin Contracts",
          "OpenZeppelin Contracts",
          "OpenZeppelin Contracts",
          "OpenZeppelin Contracts",
          "OpenZeppelin Contracts",
          "OpenZeppelin Contracts",
          "OpenZeppelin Contracts",
          "OpenZeppelin Contracts",
          "OpenZeppelin Contracts",
          "OpenZeppelin Contracts",
          "OpenZeppelin Contracts",
          "OpenZeppelin Contracts",
          "OpenZeppelin Contracts",
          "OpenZeppelin Contracts",
          "OpenZeppelin Contracts",
          "OpenZeppelin Contracts",
          "OpenZeppelin Contracts",
          "OpenZeppelin Contracts",
          "OpenZeppelin Contracts",
          "OpenZeppelin Contracts",
          "OpenZeppelin Contracts",
          "OpenZeppelin Contracts",
          "OpenZeppelin Contracts",
          "OpenZeppelin Contracts",
          "OpenZeppelin Contracts",
          "OpenZeppelin Contracts",
          "OpenZeppelin Contracts",
          "OpenZeppelin Contracts",
          "OpenZeppelin Contracts",
          "OpenZeppelin Contracts",
          "OpenZeppelin Contracts",
          "OpenZeppelin Contracts",
          "OpenZeppelin Contracts",
          "OpenZeppelin Contracts",
          "OpenZeppelin Contracts",
          "OpenZeppelin Contracts",
          "OpenZeppelin Contracts",
          "OpenZeppelin Contracts",
          "OpenZeppelin Contracts",
          "OpenZeppelin Contracts",
          "OpenZeppelin Contracts",
          "OpenZeppelin Contracts",
          "OpenZeppelin Contracts",
          "OpenZeppelin Contracts",
          "OpenZeppelin Contracts",
          "Otterscan",
          "Otterscan",
          "Otterscan",
          "Otterscan",
          "Otterscan",
          "Otterscan",
          "Otterscan",
          "Otterscan",
          "Otterscan",
          "Otterscan",
          "Otterscan",
          "Otterscan",
          "Otterscan",
          "Otterscan",
          "Otterscan",
          "Otterscan",
          "Otterscan",
          "Otterscan",
          "Otterscan",
          "Otterscan",
          "Otterscan",
          "Otterscan",
          "Otterscan",
          "Otterscan",
          "Otterscan",
          "Otterscan",
          "Otterscan",
          "Otterscan",
          "Otterscan",
          "Otterscan",
          "Otterscan",
          "Otterscan",
          "Otterscan",
          "Otterscan",
          "Otterscan",
          "Otterscan",
          "Otterscan",
          "Otterscan",
          "Otterscan",
          "Otterscan",
          "Otterscan",
          "Otterscan",
          "Otterscan",
          "Otterscan",
          "Otterscan",
          "Otterscan",
          "Otterscan",
          "Otterscan",
          "Otterscan",
          "Otterscan",
          "Otterscan",
          "Otterscan",
          "Otterscan",
          "Otterscan",
          "Otterscan",
          "Otterscan",
          "Otterscan",
          "Otterscan",
          "Otterscan",
          "Otterscan",
          "Otterscan",
          "Otterscan",
          "Otterscan",
          "Otterscan",
          "Otterscan",
          "Otterscan",
          "Otterscan",
          "Otterscan",
          "Otterscan",
          "Otterscan",
          "Otterscan",
          "Otterscan",
          "Otterscan",
          "Otterscan",
          "Otterscan",
          "Otterscan",
          "Otterscan",
          "Otterscan",
          "Otterscan",
          "Otterscan",
          "Otterscan",
          "Otterscan",
          "Otterscan",
          "Otterscan",
          "Otterscan",
          "Otterscan",
          "Otterscan",
          "Otterscan",
          "Otterscan",
          "Otterscan",
          "Otterscan",
          "Otterscan",
          "Otterscan",
          "Otterscan",
          "Otterscan",
          "Otterscan",
          "Otterscan",
          "Otterscan",
          "Ponder",
          "Ponder",
          "Ponder",
          "Ponder",
          "Ponder",
          "Ponder",
          "Ponder",
          "Ponder",
          "Ponder",
          "Ponder",
          "Ponder",
          "Ponder",
          "Ponder",
          "Ponder",
          "Ponder",
          "Ponder",
          "Ponder",
          "Ponder",
          "Ponder",
          "Ponder",
          "Ponder",
          "Ponder",
          "Ponder",
          "Ponder",
          "Ponder",
          "Ponder",
          "Ponder",
          "Ponder",
          "Ponder",
          "Ponder",
          "Ponder",
          "Ponder",
          "Ponder",
          "Ponder",
          "Ponder",
          "Ponder",
          "Ponder",
          "Ponder",
          "Rainbow Wallet",
          "Rainbow Wallet",
          "Rainbow Wallet",
          "Rainbow Wallet",
          "Rainbow Wallet",
          "Rainbow Wallet",
          "Rainbow Wallet",
          "Rainbow Wallet",
          "Rainbow Wallet",
          "Rainbow Wallet",
          "Rainbow Wallet",
          "Rainbow Wallet",
          "Rainbow Wallet",
          "Rainbow Wallet",
          "Rainbow Wallet",
          "Rainbow Wallet",
          "Rainbow Wallet",
          "Rainbow Wallet",
          "Rainbow Wallet",
          "Rainbow Wallet",
          "Rainbow Wallet",
          "Rainbow Wallet",
          "Rainbow Wallet",
          "Rainbow Wallet",
          "Rainbow Wallet",
          "Rainbow Wallet",
          "Rainbow Wallet",
          "Rainbow Wallet",
          "Rainbow Wallet",
          "Rainbow Wallet",
          "Rainbow Wallet",
          "Rainbow Wallet",
          "Rainbow Wallet",
          "Rainbow Wallet",
          "Rainbow Wallet",
          "Rainbow Wallet",
          "Rainbow Wallet",
          "Rainbow Wallet",
          "Rainbow Wallet",
          "Rainbow Wallet",
          "Rainbow Wallet",
          "Rainbow Wallet",
          "Rainbow Wallet",
          "Rainbow Wallet",
          "Rainbow Wallet",
          "Rainbow Wallet",
          "Rainbow Wallet",
          "Rainbow Wallet",
          "Rainbow Wallet",
          "Rainbow Wallet",
          "Rainbow Wallet",
          "Rainbow Wallet",
          "Rainbow Wallet",
          "Rainbow Wallet",
          "Rainbow Wallet",
          "Rainbow Wallet",
          "Rainbow Wallet",
          "RainbowKit",
          "RainbowKit",
          "RainbowKit",
          "RainbowKit",
          "RainbowKit",
          "RainbowKit",
          "RainbowKit",
          "RainbowKit",
          "RainbowKit",
          "RainbowKit",
          "RainbowKit",
          "RainbowKit",
          "RainbowKit",
          "RainbowKit",
          "RainbowKit",
          "RainbowKit",
          "RainbowKit",
          "RainbowKit",
          "RainbowKit",
          "RainbowKit",
          "RainbowKit",
          "RainbowKit",
          "RainbowKit",
          "RainbowKit",
          "RainbowKit",
          "RainbowKit",
          "RainbowKit",
          "RainbowKit",
          "RainbowKit",
          "RainbowKit",
          "RainbowKit",
          "RainbowKit",
          "RainbowKit",
          "RainbowKit",
          "RainbowKit",
          "RainbowKit",
          "RainbowKit",
          "RainbowKit",
          "RainbowKit",
          "RainbowKit",
          "RainbowKit",
          "RainbowKit",
          "RainbowKit",
          "RainbowKit",
          "RainbowKit",
          "RainbowKit",
          "RainbowKit",
          "RainbowKit",
          "RainbowKit",
          "RainbowKit",
          "RainbowKit",
          "RainbowKit",
          "RainbowKit",
          "RainbowKit",
          "RainbowKit",
          "RainbowKit",
          "RainbowKit",
          "RainbowKit",
          "RainbowKit",
          "RainbowKit",
          "RainbowKit",
          "RainbowKit",
          "RainbowKit",
          "RainbowKit",
          "RainbowKit",
          "RainbowKit",
          "RainbowKit",
          "RainbowKit",
          "RainbowKit",
          "RainbowKit",
          "RainbowKit",
          "RainbowKit",
          "RainbowKit",
          "RainbowKit",
          "RainbowKit",
          "RainbowKit",
          "RainbowKit",
          "RainbowKit",
          "Revoke.cash",
          "Revoke.cash",
          "Revoke.cash",
          "Revoke.cash",
          "Revoke.cash",
          "Revoke.cash",
          "Revoke.cash",
          "Revoke.cash",
          "Revoke.cash",
          "Revoke.cash",
          "Revoke.cash",
          "Revoke.cash",
          "Revoke.cash",
          "Revoke.cash",
          "Revoke.cash",
          "Revoke.cash",
          "Revoke.cash",
          "Revoke.cash",
          "Revoke.cash",
          "Revoke.cash",
          "Revoke.cash",
          "Revoke.cash",
          "Revoke.cash",
          "Revoke.cash",
          "Revoke.cash",
          "Revoke.cash",
          "Revoke.cash",
          "Revoke.cash",
          "Revoke.cash",
          "Revoke.cash",
          "Revoke.cash",
          "Revoke.cash",
          "Revoke.cash",
          "Revoke.cash",
          "Revoke.cash",
          "Revoke.cash",
          "Revoke.cash",
          "Revoke.cash",
          "Revoke.cash",
          "Revoke.cash",
          "Revoke.cash",
          "Revoke.cash",
          "Revoke.cash",
          "Revoke.cash",
          "Revoke.cash",
          "Revoke.cash",
          "Revoke.cash",
          "Revoke.cash",
          "Revoke.cash",
          "Revoke.cash",
          "Revoke.cash",
          "Revoke.cash",
          "Revoke.cash",
          "Revoke.cash",
          "Revoke.cash",
          "Revoke.cash",
          "Revoke.cash",
          "Revoke.cash",
          "Revoke.cash",
          "Revoke.cash",
          "Revoke.cash",
          "Revoke.cash",
          "Revoke.cash",
          "Revoke.cash",
          "Revoke.cash",
          "Revoke.cash",
          "Revoke.cash",
          "Revoke.cash",
          "Revoke.cash",
          "Revoke.cash",
          "Revoke.cash",
          "Revoke.cash",
          "Revoke.cash",
          "Revoke.cash",
          "Revoke.cash",
          "Revoke.cash",
          "Revoke.cash",
          "Revoke.cash",
          "Revoke.cash",
          "Revoke.cash",
          "Revoke.cash",
          "Revoke.cash",
          "Revoke.cash",
          "Revoke.cash",
          "Revoke.cash",
          "Revoke.cash",
          "Revoke.cash",
          "Revoke.cash",
          "Revoke.cash",
          "Rollup.codes",
          "Rollup.codes",
          "Rollup.codes",
          "Rollup.codes",
          "Rollup.codes",
          "Rollup.codes",
          "Rollup.codes",
          "Rollup.codes",
          "Rollup.codes",
          "Rollup.codes",
          "Rollup.codes",
          "Rollup.codes",
          "Rollup.codes",
          "Rollup.codes",
          "Rollup.codes",
          "Rollup.codes",
          "Rollup.codes",
          "Rollup.codes",
          "Rollup.codes",
          "Rollup.codes",
          "Rollup.codes",
          "Rollup.codes",
          "Rollup.codes",
          "Rollup.codes",
          "Rollup.codes",
          "Rollup.codes",
          "Rollup.codes",
          "Rollup.codes",
          "Rollup.codes",
          "Rollup.codes",
          "Rollup.codes",
          "Rollup.codes",
          "Rollup.codes",
          "Rollup.codes",
          "Rollup.codes",
          "Rollup.codes",
          "Rollup.codes",
          "Rollup.codes",
          "Rollup.codes",
          "Rollup.codes",
          "Rollup.codes",
          "Rollup.codes",
          "Rollup.codes",
          "Rollup.codes",
          "Rollup.codes",
          "Rollup.codes",
          "Rollup.codes",
          "Rollup.codes",
          "Rollup.codes",
          "Rollup.codes",
          "Rollup.codes",
          "Rollup.codes",
          "Rollup.codes",
          "Rollup.codes",
          "Rollup.codes",
          "Rollup.codes",
          "Rollup.codes",
          "Socket",
          "Socket",
          "Socket",
          "Socket",
          "Socket",
          "Socket",
          "Socket",
          "Socket",
          "Socket",
          "Socket",
          "Socket",
          "Socket",
          "Socket",
          "Socket",
          "Socket",
          "Socket",
          "Socket",
          "Socket",
          "Socket",
          "Socket",
          "Socket",
          "Socket",
          "Socket",
          "Socket",
          "Socket",
          "Socket",
          "Socket",
          "Socket",
          "Socket",
          "Socket",
          "Socket",
          "Socket",
          "Socket",
          "Socket",
          "Socket",
          "Socket",
          "Socket",
          "Socket",
          "Socket",
          "Socket",
          "Socket",
          "Socket",
          "Socket",
          "Socket",
          "Socket",
          "Solidity",
          "Solidity",
          "Solidity",
          "Solidity",
          "Solidity",
          "Solidity",
          "Solidity",
          "Solidity",
          "Solidity",
          "Solidity",
          "Solidity",
          "Solidity",
          "Solidity",
          "Solidity",
          "Solidity",
          "Solidity",
          "Solidity",
          "Solidity",
          "Solidity",
          "Solidity",
          "Solidity",
          "Solidity",
          "Solidity",
          "Solidity",
          "Solidity",
          "Solidity",
          "Solidity",
          "Solidity",
          "Solidity",
          "Solidity",
          "Solidity",
          "Solidity",
          "Solidity",
          "Solidity",
          "Solidity",
          "Solidity",
          "Solidity",
          "Solidity",
          "Solidity",
          "Solidity",
          "Solidity",
          "Solidity",
          "Solidity",
          "Solidity",
          "Solidity",
          "Solidity",
          "Solidity",
          "Solidity",
          "Solidity",
          "Solidity",
          "Solidity",
          "Solidity",
          "Solidity",
          "Solidity",
          "Solidity",
          "Solidity",
          "Solidity",
          "Solidity",
          "Solidity",
          "Solidity",
          "Solidity",
          "Solidity",
          "Solidity",
          "Solidity",
          "Solidity",
          "Solidity",
          "Solidity",
          "Solidity",
          "Solidity",
          "Solidity",
          "Solidity",
          "Solidity",
          "Solidity",
          "Solidity",
          "Solidity",
          "Solidity",
          "Solidity",
          "Solidity",
          "Solidity",
          "Solidity",
          "Solidity",
          "Solidity",
          "Solidity",
          "Solidity",
          "Solidity",
          "Solidity",
          "Solidity",
          "Solidity",
          "Solidity",
          "Solidity",
          "Solidity",
          "Solidity",
          "Solidity",
          "Solidity",
          "Solidity",
          "Solidity",
          "Solidity",
          "Solidity",
          "Solidity",
          "Solidity",
          "Solidity",
          "Solidity",
          "Solidity",
          "Solidity",
          "Solidity",
          "Solidity",
          "Solidity",
          "Solidity",
          "Splits",
          "Splits",
          "Splits",
          "Splits",
          "Splits",
          "Splits",
          "Splits",
          "Splits",
          "Splits",
          "Splits",
          "Splits",
          "Splits",
          "Splits",
          "Splits",
          "Splits",
          "Splits",
          "Splits",
          "Splits",
          "Splits",
          "Splits",
          "Splits",
          "Splits",
          "Splits",
          "Splits",
          "Splits",
          "Splits",
          "Splits",
          "Splits",
          "Splits",
          "Splits",
          "Splits",
          "Splits",
          "Splits",
          "Splits",
          "Splits",
          "Splits",
          "Splits",
          "Splits",
          "Splits",
          "Splits",
          "Splits",
          "Splits",
          "Splits",
          "Splits",
          "Splits",
          "Splits",
          "Splits",
          "Splits",
          "Splits",
          "Splits",
          "Splits",
          "Splits",
          "Splits",
          "Splits",
          "Splits",
          "Superscan",
          "Superscan",
          "Superscan",
          "Superscan",
          "Superscan",
          "Superscan",
          "Superscan",
          "Superscan",
          "Superscan",
          "Superscan",
          "Superscan",
          "Superscan",
          "Superscan",
          "Superscan",
          "Superscan",
          "Superscan",
          "Superscan",
          "Superscan",
          "Superscan",
          "Superscan",
          "Superscan",
          "Superscan",
          "Superscan",
          "Superscan",
          "Superscan",
          "Superscan",
          "Superscan",
          "Superscan",
          "Superscan",
          "Superscan",
          "Superscan",
          "Superscan",
          "Superscan",
          "Superscan",
          "Superscan",
          "Superscan",
          "Superscan",
          "Superscan",
          "Superscan",
          "Superscan",
          "Superscan",
          "Superscan",
          "Superscan",
          "Superscan",
          "Surreal",
          "Surreal",
          "Surreal",
          "Surreal",
          "Surreal",
          "Surreal",
          "Surreal",
          "Surreal",
          "Surreal",
          "Surreal",
          "Surreal",
          "Surreal",
          "Surreal",
          "Surreal",
          "Surreal",
          "Surreal",
          "Surreal",
          "Surreal",
          "Surreal",
          "Surreal",
          "Surreal",
          "Surreal",
          "Surreal",
          "Surreal",
          "Surreal",
          "Surreal",
          "Surreal",
          "Synthetix",
          "Synthetix",
          "Synthetix",
          "Synthetix",
          "Synthetix",
          "Synthetix",
          "Synthetix",
          "Synthetix",
          "Synthetix",
          "Synthetix",
          "Synthetix",
          "Synthetix",
          "Synthetix",
          "Synthetix",
          "Synthetix",
          "Synthetix",
          "Synthetix",
          "Synthetix",
          "Synthetix",
          "Synthetix",
          "Synthetix",
          "Synthetix",
          "Synthetix",
          "Synthetix",
          "Synthetix",
          "Synthetix",
          "Synthetix",
          "Synthetix",
          "Synthetix",
          "Synthetix",
          "Synthetix",
          "Synthetix",
          "Synthetix",
          "Synthetix",
          "Synthetix",
          "Synthetix",
          "Synthetix",
          "Synthetix",
          "Synthetix",
          "Synthetix",
          "Synthetix",
          "Synthetix",
          "Synthetix",
          "Synthetix",
          "Synthetix",
          "Synthetix",
          "Synthetix",
          "Synthetix",
          "Synthetix",
          "Synthetix",
          "Synthetix",
          "Synthetix",
          "Synthetix",
          "Tenderly",
          "Tenderly",
          "Tenderly",
          "Tenderly",
          "Tenderly",
          "Tenderly",
          "Tenderly",
          "Tenderly",
          "Tenderly",
          "Tenderly",
          "Tenderly",
          "Tenderly",
          "Tenderly",
          "Tenderly",
          "Tenderly",
          "Tenderly",
          "Tenderly",
          "Tenderly",
          "Tenderly",
          "Tenderly",
          "Tenderly",
          "Tenderly",
          "Tenderly",
          "Tenderly",
          "Tenderly",
          "Tenderly",
          "Tenderly",
          "Tenderly",
          "Tenderly",
          "Tenderly",
          "Tenderly",
          "Tenderly",
          "Tenderly",
          "Tenderly",
          "Tenderly",
          "Tenderly",
          "Tenderly",
          "Tenderly",
          "Tenderly",
          "Tenderly",
          "Tenderly",
          "Tenderly",
          "Tenderly",
          "Tenderly",
          "Tenderly",
          "Tenderly",
          "Tenderly",
          "Tenderly",
          "Tenderly",
          "Tenderly",
          "Tenderly",
          "Tenderly",
          "Tenderly",
          "Tenderly",
          "Tenderly",
          "Tenderly",
          "Tenderly",
          "Tenderly",
          "Tenderly",
          "Tenderly",
          "Tenderly",
          "Tenderly",
          "Tenderly",
          "Tenderly",
          "Tenderly",
          "Tenderly",
          "Tenderly",
          "Tenderly",
          "Tenderly",
          "Tenderly",
          "Tenderly",
          "Tenderly",
          "Tenderly",
          "Test in Prod",
          "Test in Prod",
          "Test in Prod",
          "Test in Prod",
          "Test in Prod",
          "Test in Prod",
          "Test in Prod",
          "Test in Prod",
          "Test in Prod",
          "Test in Prod",
          "Test in Prod",
          "Test in Prod",
          "Test in Prod",
          "Test in Prod",
          "Test in Prod",
          "Test in Prod",
          "Test in Prod",
          "Test in Prod",
          "Test in Prod",
          "Test in Prod",
          "Test in Prod",
          "Test in Prod",
          "Test in Prod",
          "Test in Prod",
          "Test in Prod",
          "Test in Prod",
          "Test in Prod",
          "Test in Prod",
          "Test in Prod",
          "Test in Prod",
          "Test in Prod",
          "Test in Prod",
          "Test in Prod",
          "Test in Prod",
          "Test in Prod",
          "Test in Prod",
          "Test in Prod",
          "Test in Prod",
          "Test in Prod",
          "Test in Prod",
          "Test in Prod",
          "Test in Prod",
          "Test in Prod",
          "Test in Prod",
          "Test in Prod",
          "Test in Prod",
          "Test in Prod",
          "Test in Prod",
          "Test in Prod",
          "Test in Prod",
          "Test in Prod",
          "Test in Prod",
          "Test in Prod",
          "Test in Prod",
          "Test in Prod",
          "Test in Prod",
          "Test in Prod",
          "Test in Prod",
          "Test in Prod",
          "Test in Prod",
          "Test in Prod",
          "Test in Prod",
          "Test in Prod",
          "Test in Prod",
          "Test in Prod",
          "Test in Prod",
          "Test in Prod",
          "Test in Prod",
          "Test in Prod",
          "Token Terminal",
          "Token Terminal",
          "Token Terminal",
          "Token Terminal",
          "Token Terminal",
          "Token Terminal",
          "Token Terminal",
          "Token Terminal",
          "Token Terminal",
          "Token Terminal",
          "Token Terminal",
          "Token Terminal",
          "Token Terminal",
          "Token Terminal",
          "Token Terminal",
          "Token Terminal",
          "Token Terminal",
          "Token Terminal",
          "Token Terminal",
          "Token Terminal",
          "Token Terminal",
          "Token Terminal",
          "Token Terminal",
          "Token Terminal",
          "Token Terminal",
          "Token Terminal",
          "Token Terminal",
          "Token Terminal",
          "Token Terminal",
          "Token Terminal",
          "Token Terminal",
          "Token Terminal",
          "Token Terminal",
          "Token Terminal",
          "Token Terminal",
          "Token Terminal",
          "Token Terminal",
          "Token Terminal",
          "Token Terminal",
          "Token Terminal",
          "Token Terminal",
          "Token Terminal",
          "Token Terminal",
          "Token Terminal",
          "Token Terminal",
          "Tokepad",
          "Tokepad",
          "Tokepad",
          "Tokepad",
          "Tokepad",
          "Tokepad",
          "Tokepad",
          "Tokepad",
          "Tokepad",
          "Tokepad",
          "Tokepad",
          "Tokepad",
          "Tokepad",
          "Tokepad",
          "Tokepad",
          "Tokepad",
          "Tokepad",
          "Tokepad",
          "Tokepad",
          "Tokepad",
          "Tokepad",
          "Tokepad",
          "Tokepad",
          "Tokepad",
          "Tokepad",
          "Tokepad",
          "Tokepad",
          "Vectorized",
          "Vectorized",
          "Vectorized",
          "Vectorized",
          "Vectorized",
          "Vectorized",
          "Vectorized",
          "Vectorized",
          "Vectorized",
          "Vectorized",
          "Vectorized",
          "Vectorized",
          "Vectorized",
          "Vectorized",
          "Vectorized",
          "Vectorized",
          "Vectorized",
          "Vectorized",
          "Vectorized",
          "Vectorized",
          "Vectorized",
          "Vectorized",
          "Vectorized",
          "Vectorized",
          "Vectorized",
          "Vectorized",
          "Vectorized",
          "Vectorized",
          "Vectorized",
          "Vectorized",
          "Vectorized",
          "Vectorized",
          "Vectorized",
          "Vectorized",
          "Vectorized",
          "Vectorized",
          "Vectorized",
          "Vectorized",
          "Vectorized",
          "Vectorized",
          "Vectorized",
          "Vectorized",
          "Vectorized",
          "Vectorized",
          "Vectorized",
          "Vectorized",
          "Vectorized",
          "Vectorized",
          "Vectorized",
          "Vectorized",
          "Vectorized",
          "Vectorized",
          "Vectorized",
          "Vectorized",
          "Vectorized",
          "Vectorized",
          "Vectorized",
          "Vectorized",
          "Vectorized",
          "Vectorized",
          "Vectorized",
          "Vectorized",
          "Vectorized",
          "Vectorized",
          "Vectorized",
          "Vectorized",
          "Vectorized",
          "Vectorized",
          "Vectorized",
          "Vectorized",
          "Vectorized",
          "Velocimeter",
          "Velocimeter",
          "Velocimeter",
          "Velocimeter",
          "Velocimeter",
          "Velocimeter",
          "Velocimeter",
          "Velocimeter",
          "Velocimeter",
          "Velocimeter",
          "Velocimeter",
          "Velocimeter",
          "Velocimeter",
          "Velocimeter",
          "Velocimeter",
          "Velocimeter",
          "Velocimeter",
          "Velocimeter",
          "Velocimeter",
          "Velocimeter",
          "Velocimeter",
          "Velocimeter",
          "Velocimeter",
          "Velocimeter",
          "Velocimeter",
          "Velocimeter",
          "Velocimeter",
          "WASD",
          "WASD",
          "WASD",
          "WASD",
          "WASD",
          "WASD",
          "WASD",
          "WASD",
          "WASD",
          "WASD",
          "WASD",
          "WASD",
          "WASD",
          "WASD",
          "WASD",
          "WASD",
          "WASD",
          "WASD",
          "WASD",
          "WASD",
          "WASD",
          "WASD",
          "WASD",
          "WASD",
          "WASD",
          "WASD",
          "WASD",
          "WASD",
          "WASD",
          "WASD",
          "WASD",
          "WASD",
          "WASD",
          "WASD",
          "WASD",
          "WASD",
          "Wagmi / Viem",
          "Wagmi / Viem",
          "Wagmi / Viem",
          "Wagmi / Viem",
          "Wagmi / Viem",
          "Wagmi / Viem",
          "Wagmi / Viem",
          "Wagmi / Viem",
          "Wagmi / Viem",
          "Wagmi / Viem",
          "Wagmi / Viem",
          "Wagmi / Viem",
          "Wagmi / Viem",
          "Wagmi / Viem",
          "Wagmi / Viem",
          "Wagmi / Viem",
          "Wagmi / Viem",
          "Wagmi / Viem",
          "Wagmi / Viem",
          "Wagmi / Viem",
          "Wagmi / Viem",
          "Wagmi / Viem",
          "Wagmi / Viem",
          "Wagmi / Viem",
          "Wagmi / Viem",
          "Wagmi / Viem",
          "Wagmi / Viem",
          "Wagmi / Viem",
          "Wagmi / Viem",
          "Wagmi / Viem",
          "Wagmi / Viem",
          "Wagmi / Viem",
          "Wagmi / Viem",
          "Wagmi / Viem",
          "Wagmi / Viem",
          "Wagmi / Viem",
          "Wagmi / Viem",
          "Wagmi / Viem",
          "Wagmi / Viem",
          "Wagmi / Viem",
          "Wagmi / Viem",
          "Wagmi / Viem",
          "Wagmi / Viem",
          "Wagmi / Viem",
          "Wagmi / Viem",
          "Wagmi / Viem",
          "Wagmi / Viem",
          "Wagmi / Viem",
          "Wagmi / Viem",
          "Wagmi / Viem",
          "Wagmi / Viem",
          "Wagmi / Viem",
          "Wagmi / Viem",
          "Wagmi / Viem",
          "Wagmi / Viem",
          "Wagmi / Viem",
          "Wagmi / Viem",
          "Wagmi / Viem",
          "Wagmi / Viem",
          "Wagmi / Viem",
          "Wagmi / Viem",
          "Wagmi / Viem",
          "Wagmi / Viem",
          "Wagmi / Viem",
          "Wagmi / Viem",
          "Wagmi / Viem",
          "Wagmi / Viem",
          "Wagmi / Viem",
          "Wagmi / Viem",
          "Wagmi / Viem",
          "Wagmi / Viem",
          "Wagmi / Viem",
          "Wagmi / Viem",
          "Wagmi / Viem",
          "Wagmi / Viem",
          "Wagmi / Viem",
          "Wagmi / Viem",
          "Wagmi / Viem",
          "Wagmi / Viem",
          "Wagmi / Viem",
          "Wagmi / Viem",
          "Wagmi / Viem",
          "Wagmi / Viem",
          "Wagmi / Viem",
          "Wagmi / Viem",
          "Wagmi / Viem",
          "Wagmi / Viem",
          "Week in Ethereum News",
          "Week in Ethereum News",
          "Week in Ethereum News",
          "Week in Ethereum News",
          "Week in Ethereum News",
          "Week in Ethereum News",
          "Week in Ethereum News",
          "Week in Ethereum News",
          "Week in Ethereum News",
          "Week in Ethereum News",
          "Week in Ethereum News",
          "Week in Ethereum News",
          "Week in Ethereum News",
          "Week in Ethereum News",
          "Week in Ethereum News",
          "Week in Ethereum News",
          "Week in Ethereum News",
          "Week in Ethereum News",
          "Week in Ethereum News",
          "Week in Ethereum News",
          "Week in Ethereum News",
          "Week in Ethereum News",
          "Week in Ethereum News",
          "Week in Ethereum News",
          "Week in Ethereum News",
          "Week in Ethereum News",
          "Week in Ethereum News",
          "Week in Ethereum News",
          "Week in Ethereum News",
          "Week in Ethereum News",
          "Week in Ethereum News",
          "Week in Ethereum News",
          "Week in Ethereum News",
          "Week in Ethereum News",
          "Week in Ethereum News",
          "Week in Ethereum News",
          "Week in Ethereum News",
          "Week in Ethereum News",
          "Week in Ethereum News",
          "Week in Ethereum News",
          "Week in Ethereum News",
          "Week in Ethereum News",
          "Week in Ethereum News",
          "Week in Ethereum News",
          "Week in Ethereum News",
          "Week in Ethereum News",
          "Week in Ethereum News",
          "Week in Ethereum News",
          "Week in Ethereum News",
          "Week in Ethereum News",
          "Week in Ethereum News",
          "Week in Ethereum News",
          "Week in Ethereum News",
          "Week in Ethereum News",
          "Week in Ethereum News",
          "Week in Ethereum News",
          "Week in Ethereum News",
          "Week in Ethereum News",
          "Week in Ethereum News",
          "Week in Ethereum News",
          "Week in Ethereum News",
          "Week in Ethereum News",
          "Week in Ethereum News",
          "Week in Ethereum News",
          "Week in Ethereum News",
          "Week in Ethereum News",
          "Week in Ethereum News",
          "Week in Ethereum News",
          "Week in Ethereum News",
          "Week in Ethereum News",
          "Week in Ethereum News",
          "Week in Ethereum News",
          "Week in Ethereum News",
          "Week in Ethereum News",
          "Xofee",
          "Xofee",
          "Xofee",
          "Xofee",
          "Xofee",
          "Xofee",
          "Xofee",
          "Xofee",
          "Xofee",
          "Xofee",
          "Xofee",
          "Xofee",
          "Xofee",
          "Xofee",
          "Xofee",
          "Xofee",
          "Xofee",
          "Xofee",
          "Xofee",
          "Xofee",
          "Xofee",
          "Xofee",
          "Xofee",
          "Xofee",
          "Xofee",
          "Xofee",
          "Xofee",
          "Xofee",
          "Xofee",
          "Xofee",
          "ethers.js",
          "ethers.js",
          "ethers.js",
          "ethers.js",
          "ethers.js",
          "ethers.js",
          "ethers.js",
          "ethers.js",
          "ethers.js",
          "ethers.js",
          "ethers.js",
          "ethers.js",
          "ethers.js",
          "ethers.js",
          "ethers.js",
          "ethers.js",
          "ethers.js",
          "ethers.js",
          "ethers.js",
          "ethers.js",
          "ethers.js",
          "ethers.js",
          "ethers.js",
          "ethers.js",
          "ethers.js",
          "ethers.js",
          "ethers.js",
          "ethers.js",
          "ethers.js",
          "ethers.js",
          "ethers.js",
          "ethers.js",
          "ethers.js",
          "ethers.js",
          "ethers.js",
          "ethers.js",
          "ethers.js",
          "ethers.js",
          "ethers.js",
          "ethers.js",
          "ethers.js",
          "ethers.js",
          "ethers.js",
          "ethers.js",
          "ethers.js",
          "ethers.js",
          "ethers.js",
          "ethers.js",
          "ethers.js",
          "ethers.js",
          "ethers.js",
          "ethers.js",
          "ethers.js",
          "ethers.js",
          "ethers.js",
          "ethers.js",
          "ethers.js",
          "ethers.js",
          "ethers.js",
          "ethers.js",
          "ethers.js",
          "ethers.js",
          "ethers.js",
          "ethers.js",
          "ethers.js",
          "ethers.js",
          "ethers.js",
          "ethers.js",
          "ethers.js",
          "ethers.js",
          "ethers.js",
          "ethers.js",
          "ethers.js",
          "ethers.js",
          "ethers.js",
          "ethers.js",
          "ethers.js",
          "ethers.js",
          "ethers.js",
          "ethers.js",
          "ethers.js",
          "ethers.js",
          "ethers.js",
          "ethers.js",
          "ethers.js",
          "ethers.js",
          "ethers.js",
          "ethers.js",
          "ethers.js",
          "ethers.js",
          "ethers.js",
          "ethers.js",
          "ethers.js",
          "ethers.js",
          "ethers.js",
          "ethers.js",
          "ethers.js",
          "ethers.js",
          "ethers.js",
          "ethers.js",
          "ethers.js",
          "ethers.js",
          "ethers.js",
          "ethers.js",
          "ethers.js",
          "ethers.js",
          "go-ethereum",
          "go-ethereum",
          "go-ethereum",
          "go-ethereum",
          "go-ethereum",
          "go-ethereum",
          "go-ethereum",
          "go-ethereum",
          "go-ethereum",
          "go-ethereum",
          "go-ethereum",
          "go-ethereum",
          "go-ethereum",
          "go-ethereum",
          "go-ethereum",
          "go-ethereum",
          "go-ethereum",
          "go-ethereum",
          "go-ethereum",
          "go-ethereum",
          "go-ethereum",
          "go-ethereum",
          "go-ethereum",
          "go-ethereum",
          "go-ethereum",
          "go-ethereum",
          "go-ethereum",
          "go-ethereum",
          "go-ethereum",
          "go-ethereum",
          "go-ethereum",
          "go-ethereum",
          "go-ethereum",
          "go-ethereum",
          "go-ethereum",
          "go-ethereum",
          "go-ethereum",
          "go-ethereum",
          "go-ethereum",
          "go-ethereum",
          "go-ethereum",
          "go-ethereum",
          "go-ethereum",
          "go-ethereum",
          "go-ethereum",
          "go-ethereum",
          "go-ethereum",
          "go-ethereum",
          "go-ethereum",
          "go-ethereum",
          "go-ethereum",
          "go-ethereum",
          "go-ethereum",
          "go-ethereum",
          "go-ethereum",
          "go-ethereum",
          "go-ethereum",
          "go-ethereum",
          "go-ethereum",
          "go-ethereum",
          "go-ethereum",
          "go-ethereum",
          "go-ethereum",
          "go-ethereum",
          "go-ethereum",
          "go-ethereum",
          "go-ethereum",
          "go-ethereum",
          "go-ethereum",
          "go-ethereum",
          "go-ethereum",
          "go-ethereum",
          "go-ethereum",
          "go-ethereum",
          "go-ethereum",
          "go-ethereum",
          "go-ethereum",
          "go-ethereum",
          "go-ethereum",
          "go-ethereum",
          "go-ethereum",
          "go-ethereum",
          "go-ethereum",
          "go-ethereum",
          "go-ethereum",
          "go-ethereum",
          "go-ethereum",
          "go-ethereum",
          "go-ethereum",
          "go-ethereum",
          "go-ethereum",
          "go-ethereum",
          "go-ethereum",
          "go-ethereum",
          "go-ethereum",
          "go-ethereum",
          "go-ethereum",
          "go-ethereum",
          "go-ethereum",
          "go-ethereum",
          "growthepie",
          "growthepie",
          "growthepie",
          "growthepie",
          "growthepie",
          "growthepie",
          "growthepie",
          "growthepie",
          "growthepie",
          "growthepie",
          "growthepie",
          "growthepie",
          "growthepie",
          "growthepie",
          "growthepie",
          "growthepie",
          "growthepie",
          "growthepie",
          "growthepie",
          "growthepie",
          "growthepie",
          "growthepie",
          "growthepie",
          "growthepie",
          "growthepie",
          "growthepie",
          "growthepie",
          "growthepie",
          "growthepie",
          "growthepie",
          "growthepie",
          "growthepie",
          "growthepie",
          "growthepie",
          "growthepie",
          "growthepie",
          "growthepie",
          "growthepie",
          "growthepie",
          "growthepie",
          "growthepie",
          "growthepie",
          "growthepie",
          "growthepie",
          "growthepie",
          "growthepie",
          "growthepie",
          "growthepie",
          "growthepie",
          "growthepie",
          "growthepie",
          "growthepie",
          "growthepie",
          "growthepie",
          "growthepie",
          "growthepie",
          "growthepie",
          "growthepie",
          "growthepie",
          "growthepie",
          "growthepie",
          "growthepie",
          "growthepie",
          "growthepie",
          "growthepie",
          "rhino.fi",
          "rhino.fi",
          "rhino.fi",
          "rhino.fi",
          "rhino.fi",
          "rhino.fi",
          "rhino.fi",
          "rhino.fi",
          "rhino.fi",
          "rhino.fi",
          "rhino.fi",
          "rhino.fi",
          "rhino.fi",
          "rhino.fi",
          "rhino.fi",
          "rhino.fi",
          "rhino.fi",
          "rhino.fi",
          "rhino.fi",
          "rhino.fi",
          "rhino.fi",
          "rhino.fi",
          "rhino.fi",
          "rhino.fi",
          "rhino.fi",
          "rhino.fi",
          "rhino.fi",
          "rhino.fi",
          "rhino.fi",
          "rhino.fi",
          "rhino.fi",
          "rhino.fi"
         ],
         "x0": " ",
         "xaxis": "x",
         "y": [
          77000,
          50000,
          4000000,
          50000,
          70000,
          77000,
          150000,
          1200000,
          150000,
          37000,
          150000,
          100000,
          40000,
          77000,
          100000,
          77000,
          100000,
          75000,
          50000,
          77000,
          75000,
          100000,
          25000,
          73000,
          29000,
          77000,
          27000,
          250000,
          600000,
          25000,
          77000,
          1200000,
          47000,
          200000,
          100,
          27000,
          400000,
          150000,
          77000,
          77000,
          75000,
          77000,
          77000,
          380000,
          82000,
          50000,
          25000,
          200000,
          32000,
          110000,
          80000,
          1000000,
          39000,
          39000,
          50000,
          39000,
          5700,
          25000,
          39000,
          100000,
          39000,
          140000,
          15000,
          10000,
          630000,
          300000,
          25000,
          70000,
          0,
          20000,
          30000,
          200000,
          100000,
          95000,
          10000,
          80000,
          150000,
          10000,
          39000,
          50000,
          100000,
          200000,
          25000,
          15000,
          200000,
          11000,
          100000,
          100000,
          25000,
          25000,
          50000,
          10000,
          110000,
          340000,
          75000,
          50000,
          5000000,
          250000,
          300000,
          5000000,
          600000,
          200000,
          200000,
          100000,
          85000,
          300000,
          35000,
          1100000,
          0,
          100000,
          200000,
          75000,
          150000,
          100000,
          250000,
          1500000,
          100000,
          75000,
          50000,
          620000,
          75000,
          120000,
          380000,
          5000,
          1000000,
          620000,
          50000,
          130000,
          110000,
          500000,
          100000,
          50000,
          190000,
          0,
          15000,
          620000,
          150000,
          77000,
          25000,
          10000,
          77000,
          47000,
          50000,
          77000,
          77000,
          25000,
          77000,
          5000,
          14000,
          50000,
          77000,
          77000,
          77000,
          11000,
          0,
          20000,
          25000,
          25000,
          30000,
          54000,
          15000,
          77000,
          10000,
          46000,
          41000,
          50000,
          25000,
          77000,
          50000,
          100,
          1900,
          50000,
          75000,
          77000,
          45000,
          250000,
          77000,
          25000,
          75000,
          50000,
          400000,
          10000,
          500000,
          0,
          77000,
          50000,
          50000,
          0,
          0,
          110000,
          180000,
          400000,
          100,
          0,
          100000,
          0,
          0,
          0,
          580000,
          0,
          0,
          75000,
          1,
          75000,
          70000,
          18000,
          130000,
          500000,
          77000,
          77000,
          150000,
          220000,
          130000,
          75000,
          130000,
          19000,
          250000,
          77000,
          180000,
          0,
          350000,
          0,
          20000,
          75000,
          50000,
          0,
          25000,
          25000,
          20000,
          39000,
          10000,
          15000,
          24000,
          11000,
          39000,
          39000,
          39000,
          4000,
          50000,
          39000,
          20000,
          50000,
          12000,
          30000,
          39000,
          39000,
          39000,
          40000,
          39000,
          10000,
          25000,
          39000,
          39000,
          39000,
          10000,
          39000,
          5000,
          5800,
          10000,
          24000,
          77000,
          5700,
          25000,
          77000,
          75000,
          20000,
          77000,
          50000,
          75000,
          56000,
          75000,
          77000,
          77000,
          25000,
          10000,
          25000,
          5400,
          47000,
          50000,
          77000,
          1500,
          30000,
          77000,
          25000,
          77000,
          50000,
          25000,
          75000,
          5000,
          50000,
          15000,
          50000,
          1000000,
          25000,
          25000,
          47000,
          77000,
          10000,
          5000,
          77000,
          30000,
          77000,
          50000,
          25000,
          25000,
          15000,
          77000,
          5700,
          50000,
          5000,
          77000,
          15000,
          5000,
          5000,
          10000,
          5000,
          35000,
          24000,
          77000,
          5000,
          0,
          77000,
          130000,
          160000,
          100000,
          5000,
          40000,
          1000000,
          50000,
          190000,
          50000,
          160000,
          75000,
          25000,
          10000,
          75000,
          30000,
          35000,
          10000,
          30000,
          1800,
          30000,
          160000,
          180000,
          75000,
          50000,
          30000,
          160000,
          94000,
          30000,
          25000,
          75000,
          30000,
          34000,
          100000,
          50000,
          400000,
          75000,
          40000,
          620000,
          50000,
          50000,
          180000,
          50000,
          160000,
          45000,
          500000,
          20000,
          100000,
          100000,
          40000,
          10000,
          39000,
          60000,
          10000,
          500,
          39000,
          39000,
          83000,
          25000,
          39000,
          39000,
          24000,
          20000,
          100000,
          39000,
          29000,
          39000,
          20000,
          10000,
          50000,
          25000,
          60000,
          39000,
          70000,
          100000,
          39000,
          10000,
          39000,
          220000,
          50000,
          50000,
          150000,
          50000,
          50000,
          0,
          75000,
          47000,
          50000,
          77000,
          5000,
          25000,
          0,
          25000,
          50000,
          150000,
          75000,
          150000,
          11000,
          50000,
          20000,
          50000,
          150000,
          11000,
          25000,
          77000,
          0,
          10000,
          110000,
          77000,
          120000,
          75000,
          77000,
          0,
          77000,
          12000,
          0,
          250000,
          5000,
          98000,
          40000,
          1000,
          500000,
          450000,
          100000,
          75000,
          50000,
          120000,
          80000,
          50000,
          7200,
          50000,
          25000,
          39000,
          39000,
          50000,
          39000,
          25000,
          50000,
          300000,
          39000,
          100,
          20000,
          100000,
          100000,
          50000,
          50000,
          39000,
          5000,
          25000,
          100000,
          50000,
          39000,
          39000,
          200000,
          1200000,
          150000,
          39000,
          100000,
          150000,
          200000,
          50000,
          200000,
          39000,
          39000,
          250000,
          350000,
          100000,
          140000,
          20000,
          10000,
          50000,
          11000,
          15000,
          2900,
          25000,
          39000,
          70000,
          77000,
          15000,
          77000,
          300000,
          25000,
          15000,
          180000,
          77000,
          150000,
          45000,
          500000,
          250000,
          77000,
          15000,
          100000,
          30000,
          300000,
          77000,
          25000,
          180000,
          77000,
          25000,
          77000,
          200000,
          10000,
          10000,
          110000,
          5000,
          77000,
          20000,
          75000,
          2600,
          34000,
          180000,
          200000,
          210000,
          250000,
          23000,
          1000000,
          250000,
          500000,
          500000,
          600000,
          100,
          2500000,
          850000,
          160000,
          1200000,
          1500000,
          300000,
          700000,
          100000,
          430000,
          2000000,
          1500000,
          400000,
          1000000,
          1100000,
          3000000,
          5000000,
          250000,
          550000,
          100000,
          50000,
          110000,
          50000,
          2500000,
          400000,
          100000,
          90000,
          1000000,
          500000,
          90000,
          210000,
          0,
          1200000,
          700000,
          75000,
          1000000,
          75000,
          5000000,
          250000,
          100000,
          550000,
          200000,
          1200000,
          550000,
          210000,
          200000,
          560000,
          0,
          500000,
          160000,
          130000,
          1000000,
          340000,
          190000,
          100000,
          300000,
          450000,
          250000,
          700000,
          50000,
          160000,
          340000,
          270000,
          160000,
          620000,
          1000,
          100000,
          200000,
          210000,
          160000,
          190000,
          500000,
          400000,
          160000,
          500000,
          2000000,
          210000,
          1500000,
          150000,
          210000,
          100000,
          150000,
          380000,
          200000,
          57000,
          150000,
          20000,
          50000,
          500000,
          85000,
          25000,
          50000,
          75000,
          50000,
          5000,
          280000,
          10000,
          75000,
          77000,
          77000,
          77000,
          320000,
          50000,
          77000,
          150000,
          180000,
          77000,
          75000,
          50000,
          20000,
          250000,
          100,
          200000,
          500000,
          50000,
          25000,
          100000,
          28000,
          100000,
          77000,
          50000,
          3500000,
          66000,
          77000,
          77000,
          77000,
          30000,
          77000,
          250000,
          47000,
          8000,
          28000,
          50000,
          25000,
          77000,
          25000,
          25000,
          77000,
          77000,
          77000,
          77000,
          10000,
          77000,
          77000,
          77000,
          20000,
          77000,
          50000,
          75000,
          77000,
          50000,
          28000,
          0,
          77000,
          10000,
          5000,
          53000,
          77000,
          100000,
          590000,
          1300000,
          730000,
          1500000,
          800000,
          100000,
          1000000,
          75000,
          180000,
          400000,
          1300000,
          100000,
          100,
          800000,
          1000000,
          590000,
          250000,
          250000,
          380000,
          250000,
          430000,
          500000,
          1000000,
          400000,
          50000,
          500000,
          480000,
          100000,
          430000,
          77000,
          250000,
          2000000,
          60000,
          20000,
          200000,
          2900000,
          77000,
          2000000,
          77000,
          200000,
          500000,
          75000,
          260000,
          50000,
          350000,
          200000,
          500000,
          200000,
          1300000,
          200000,
          50000,
          4000000,
          200000,
          320000,
          75000,
          3500000,
          430000,
          150000,
          150000,
          150000,
          500000,
          250000,
          100000,
          520000,
          250000,
          100000,
          200000,
          77000,
          400000,
          260000,
          680000,
          430000,
          1300000,
          900000,
          250000,
          600000,
          960000,
          540000,
          540000,
          250000,
          340000,
          500000,
          500000,
          400000,
          1400000,
          120000,
          300000,
          300000,
          500000,
          500000,
          130000,
          400000,
          100000,
          600000,
          1000000,
          90000,
          140000,
          3000000,
          100000,
          75000,
          850000,
          10000,
          170000,
          200000,
          75000,
          250000,
          280000,
          100000,
          230000,
          94000,
          1000000,
          200000,
          600000,
          380000,
          200000,
          160000,
          350000,
          160000,
          200000,
          100000,
          790000,
          150000,
          230000,
          240000,
          1200000,
          150000,
          230000,
          430000,
          200000,
          230000,
          250000,
          160000,
          150000,
          200000,
          350000,
          160000,
          1500000,
          1000000,
          100000,
          500000,
          200000,
          1000000,
          500000,
          1300000,
          130000,
          260000,
          1000000,
          80000,
          160000,
          160000,
          160000,
          5000000,
          500000,
          100000,
          250000,
          100000,
          130000,
          600000,
          250000,
          620000,
          250000,
          250000,
          2000000,
          300000,
          300000,
          250000,
          500000,
          1000000,
          500000,
          100000,
          50000,
          70000,
          1000000,
          10000,
          300000,
          350000,
          300000,
          200000,
          100000,
          150000,
          50000,
          0,
          24000,
          25000,
          50000,
          2500,
          39000,
          10000,
          25000,
          39000,
          39000,
          10000,
          25000,
          39000,
          15000,
          30000,
          39000,
          10000,
          39000,
          39000,
          20000,
          39000,
          25000,
          39000,
          10000,
          50000,
          10000,
          39000,
          10000,
          39000,
          39000,
          500000,
          150000,
          10000,
          14000,
          2500,
          20000,
          20000,
          0,
          47000,
          60000,
          50000,
          50000,
          77000,
          200000,
          1500,
          77000,
          20000,
          77000,
          8000,
          50000,
          75000,
          50000,
          25000,
          1,
          180000,
          100000,
          300000,
          77000,
          5900,
          1500,
          77000,
          25000,
          1500000,
          180000,
          0,
          55000,
          140000,
          77000,
          100000,
          10000,
          200000,
          90000,
          75000,
          25000,
          64000,
          0,
          0,
          40000,
          40000,
          8000,
          77000,
          50000,
          0,
          7000,
          75000,
          100000,
          75000,
          300000,
          50000,
          300000,
          100,
          150000,
          50000,
          0,
          130000,
          200000,
          150000,
          25000,
          15000,
          250000,
          72000,
          150000,
          40000,
          150000,
          500000,
          180000,
          120000,
          250000,
          500000,
          120000,
          300000,
          2000000,
          130000,
          260000,
          85000,
          500000,
          500000,
          75000,
          180000,
          200000,
          1300000,
          100000,
          470000,
          75000,
          250000,
          77000,
          77000,
          70000,
          150000,
          77000,
          100000,
          100000,
          100000,
          50000,
          2000000,
          250000,
          140000,
          9000,
          200000,
          320000,
          30000,
          250000,
          100000,
          77000,
          1000,
          430000,
          77000,
          100000,
          130000,
          75000,
          150000,
          130000,
          680000,
          500000,
          100000,
          300000,
          77000,
          130000,
          77000,
          130000,
          180000,
          160000,
          100000,
          5000,
          50000,
          100000,
          160000,
          26000,
          340000,
          100000,
          160000,
          100,
          75000,
          30000,
          25000,
          75000,
          160000,
          50000,
          160000,
          10000,
          160000,
          20000,
          10000,
          160000,
          100000,
          70000,
          50000,
          150000,
          0,
          120000,
          25000,
          160000,
          20000,
          150000,
          75000,
          86000,
          200000,
          65000,
          0,
          50000,
          300000,
          150000,
          94000,
          75000,
          170000,
          30000,
          1500000,
          77000,
          10000,
          50000,
          10000,
          77000,
          47000,
          75000,
          77000,
          10000,
          77000,
          50000,
          20000,
          77000,
          20000,
          77000,
          100000,
          300000,
          77000,
          25000,
          50000,
          36000,
          57000,
          10000,
          77000,
          15000,
          25000,
          50000,
          50000,
          50000,
          50000,
          77000,
          77000,
          25000,
          77000,
          80000,
          7000,
          77000,
          50000,
          50000,
          25000,
          77000,
          50000,
          0,
          20000,
          8600,
          75000,
          100000,
          0,
          250000,
          1000000,
          50000,
          77000,
          100000,
          10000,
          200000,
          20000,
          50000,
          77000,
          80000,
          590000,
          10000,
          500000,
          100000,
          77000,
          400000,
          150000,
          35000,
          25000,
          100000,
          500000,
          0,
          100000,
          8000,
          77000,
          50000,
          77000,
          200000,
          50000,
          130000,
          50000,
          500000,
          150000,
          100000,
          100000,
          100,
          100000,
          50000,
          23000,
          25000,
          120000,
          77000,
          590000,
          280000,
          250000,
          0,
          77000,
          50000,
          11000,
          280000,
          10000,
          100000,
          50000,
          140000,
          160000,
          160000,
          25000,
          20000,
          10000,
          100000,
          72000,
          86000,
          1000,
          160000,
          10000,
          85000,
          80000,
          500000,
          160000,
          50000,
          50000,
          25000,
          67000,
          110000,
          100000,
          350000,
          50000,
          45000,
          50000,
          50000,
          130000,
          160000,
          50000,
          200000,
          100000,
          100000,
          50000,
          200000,
          25000,
          100000,
          160000,
          160000,
          100000,
          160000,
          500000,
          250000,
          200000,
          100000,
          250000,
          200000,
          250000,
          54000,
          75000,
          50000,
          90000,
          150000,
          50000,
          50000,
          60000,
          50000,
          160000,
          94000,
          50000,
          200000,
          500000,
          47000,
          470000,
          200000,
          2300000,
          700000,
          250000,
          400000,
          15000,
          250000,
          480000,
          150000,
          300000,
          100000,
          500000,
          1200000,
          0,
          100000,
          1000000,
          500000,
          320000,
          500000,
          500000,
          200000,
          1000000,
          100000,
          100000,
          77000,
          240000,
          480000,
          250000,
          570000,
          250000,
          2000000,
          180000,
          200000,
          290000,
          100000,
          500000,
          550000,
          40000,
          500000,
          2000000,
          480000,
          180000,
          350000,
          100000,
          200000,
          250000,
          250000,
          150000,
          300000,
          300000,
          470000,
          200000,
          250000,
          400000,
          77000,
          250000,
          300000,
          470000,
          500000,
          230000,
          100000,
          1400000,
          50000,
          77000,
          870000,
          500000,
          1500000,
          77000,
          300000,
          20000,
          600000,
          1000000,
          500000,
          150000,
          240000,
          2300000,
          77000,
          1500000,
          1000000,
          75000,
          300000,
          250000,
          1500000,
          100000,
          200000,
          25000,
          180000,
          5000000,
          500000,
          300000,
          180000,
          200000,
          1000000,
          1100000,
          400000,
          500000,
          77000,
          80000,
          1000000,
          100,
          50000,
          25000,
          39000,
          100000,
          200000,
          150000,
          150000,
          75000,
          50000,
          200000,
          50000,
          250000,
          95000,
          500000,
          5000000,
          0,
          80000,
          100000,
          5900,
          25000,
          500000,
          10000,
          39000,
          80000,
          39000,
          100,
          12000,
          150000,
          30000,
          150000,
          150000,
          300000,
          39000,
          100000,
          39000,
          40000,
          25000,
          100000,
          39000,
          0,
          39000,
          50000,
          400000,
          39000,
          100000,
          50000,
          250000,
          130000,
          500000,
          0,
          2000000,
          1100000,
          240000,
          200000,
          1000000,
          250000,
          590000,
          160000,
          1000000,
          260000,
          500000,
          160000,
          100000,
          100000,
          300000,
          1000000,
          590000,
          160000,
          300000,
          0,
          1000000,
          50000,
          130000,
          160000,
          300000,
          100000,
          100,
          1000,
          40000,
          0,
          350000,
          1000000,
          100000,
          160000,
          100000,
          1500000,
          160000,
          1400000,
          1000000,
          500000,
          30000,
          100000,
          0,
          1200000,
          11000,
          50000,
          250000,
          400000,
          210000,
          10000,
          460000,
          50000,
          360000,
          250000,
          1000000,
          230000,
          48000,
          160000,
          1300000,
          150000,
          500000,
          100000,
          50000,
          400000,
          200000,
          600000,
          400000,
          270000,
          160000,
          1000000,
          160000,
          900000,
          500000,
          25000,
          24000,
          50000,
          170000,
          32000,
          39000,
          50000,
          39000,
          10000,
          5900,
          350000,
          39000,
          39000,
          200000,
          39000,
          25000,
          5000,
          5000,
          39000,
          39000,
          10000,
          860,
          20000,
          11000,
          25000,
          39000,
          20000,
          300000,
          800,
          39000,
          39000,
          5000,
          39000,
          10000,
          39000,
          40000,
          50000,
          40000,
          75000,
          30000,
          63000,
          39000,
          39000,
          35000,
          20000,
          14000,
          39000,
          25000,
          100000,
          15000,
          50000,
          39000,
          39000,
          100000,
          20000,
          39000,
          100000,
          100000,
          87000,
          39000,
          39000,
          24000,
          39000,
          39000,
          50000,
          50000,
          40000,
          20000,
          160000,
          94000,
          160000,
          2500000,
          200000,
          200000,
          160000,
          100000,
          1000000,
          350000,
          160000,
          46000,
          250000,
          1200000,
          150000,
          1400000,
          50000,
          15000,
          67000,
          500000,
          1500000,
          200000,
          100000,
          100000,
          100000,
          220000,
          250000,
          3000000,
          200000,
          5000000,
          260000,
          100000,
          100000,
          25000,
          40000,
          160000,
          100000,
          230000,
          1000000,
          72000,
          150000,
          250000,
          100,
          600000,
          200000,
          200000,
          1000000,
          250000,
          160000,
          85000,
          500000,
          1000000,
          2000000,
          60000,
          50000,
          75000,
          200000,
          250000,
          160000,
          160000,
          20000,
          200000,
          800000,
          200000,
          5000000,
          200000,
          100000,
          15000,
          25000,
          50000,
          39000,
          5000,
          39000,
          24000,
          10000,
          54000,
          20000,
          10000,
          39000,
          51000,
          39000,
          20000,
          39000,
          100000,
          25000,
          15000,
          39000,
          39000,
          20000,
          39000,
          10000,
          89000,
          100000,
          25000,
          39000,
          39000,
          29000,
          50000,
          150000,
          39000,
          27000,
          25000,
          39000,
          39000,
          50000,
          0,
          21000,
          160000,
          10000,
          25000,
          160000,
          160000,
          30000,
          300000,
          100000,
          160000,
          10000,
          160000,
          160000,
          100000,
          70000,
          100000,
          10000,
          25000,
          50000,
          100000,
          30000,
          25000,
          75000,
          50000,
          10000,
          47000,
          10000,
          10000,
          1500000,
          300000,
          160000,
          160000,
          100000,
          10000,
          160000,
          40000,
          120000,
          1500,
          60000,
          50000,
          10000,
          94000,
          50000,
          25000,
          1000,
          20000,
          50000,
          20000,
          25000,
          50000,
          50000,
          150000,
          5000,
          25000,
          20000,
          75000,
          25000,
          160000,
          100000,
          77000,
          100,
          77000,
          77000,
          77000,
          9400,
          10000,
          25000,
          250000,
          50000,
          77000,
          47000,
          75000,
          150000,
          100000,
          25000,
          25000,
          77000,
          30000,
          77000,
          300000,
          10000,
          100000,
          25000,
          25000,
          75000,
          5000,
          25000,
          20000,
          75000,
          77000,
          10000,
          75000,
          25000,
          5000,
          70000,
          300000,
          20000,
          29000,
          16000,
          77000,
          50000,
          77000,
          25000,
          77000,
          50000,
          85000,
          27000,
          100,
          0,
          77000,
          150000,
          77000,
          77000,
          75000,
          100,
          40000,
          130000,
          30000,
          77000,
          75000,
          150000,
          47000,
          77000,
          100000,
          18000,
          20000,
          500000,
          10000,
          6000,
          20000,
          500000,
          0,
          20000,
          77000,
          77000,
          77000,
          5900,
          25000,
          77000,
          0,
          4000,
          77000,
          77000,
          1,
          77000,
          25000,
          25000,
          25000,
          1700,
          47000,
          77000,
          0,
          5000,
          100000,
          0,
          50000,
          200000,
          0,
          32000,
          50000,
          0,
          75000,
          4300,
          0,
          44000,
          15000,
          50000,
          0,
          500000,
          25000,
          500000,
          160000,
          45000,
          0,
          100000,
          15000,
          150000,
          50000,
          75000,
          150000,
          150000,
          11000,
          160000,
          250000,
          140000,
          50000,
          160000,
          140000,
          150000,
          250000,
          100000,
          57000,
          30000,
          140000,
          1000000,
          300000,
          0,
          20000,
          230000,
          200000,
          100000,
          160000,
          15000,
          250000,
          160000,
          10000,
          140000,
          1000000,
          140000,
          50000,
          40000,
          90000,
          50000,
          94000,
          200000,
          150000,
          100000,
          10000,
          100000,
          600000,
          12000,
          160000,
          50000,
          400000,
          100000,
          250000,
          4700000,
          100000,
          54000,
          0,
          140000,
          150000,
          100000,
          100000,
          23000,
          500000,
          100000,
          65000,
          160000,
          160000,
          24000,
          15000,
          150000,
          25000,
          5000,
          10000,
          40000,
          10000,
          50000,
          5000,
          25000,
          32000,
          39000,
          15000,
          2000,
          10000,
          20000,
          25000,
          3500,
          10000,
          2500,
          10000,
          50000,
          10000,
          10000,
          39000,
          10000,
          21000,
          20000,
          1000000,
          22000,
          24000,
          10000,
          39000,
          2500,
          39000,
          2000,
          39000,
          39000,
          10000,
          5000,
          10000,
          10000,
          2000,
          5000,
          40000,
          39000,
          0,
          5000,
          130000,
          50000,
          75000,
          160000,
          54000,
          25000,
          160000,
          20000,
          11000,
          50000,
          75000,
          94000,
          35000,
          60000,
          100,
          50000,
          1000000,
          100000,
          50000,
          15000,
          160000,
          50000,
          57000,
          10000,
          55000,
          160000,
          50000,
          35000,
          160000,
          100000,
          160000,
          50000,
          160000,
          0,
          5000,
          75000,
          54000,
          85000,
          10000,
          25000,
          50000,
          47000,
          5000,
          75000,
          77000,
          77000,
          77000,
          77000,
          25000,
          45000,
          50000,
          77000,
          10000,
          77000,
          25000,
          77000,
          77000,
          20000,
          20000,
          77000,
          77000,
          5000,
          57000,
          77000,
          22000,
          77000,
          77000,
          250000,
          1000000,
          25000,
          390000,
          90000,
          47000,
          230000,
          100000,
          77000,
          50000,
          150000,
          690000,
          130000,
          500000,
          510000,
          200000,
          1200000,
          300000,
          77000,
          500000,
          300000,
          150000,
          50000,
          200000,
          77000,
          150000,
          70000,
          1500000,
          380000,
          100000,
          100000,
          380000,
          75000,
          100000,
          500000,
          250000,
          500000,
          200000,
          320000,
          10000,
          50000,
          350000,
          380000,
          77000,
          20000,
          300000,
          250000,
          80000,
          77000,
          50000,
          750000,
          77000,
          60000,
          40000,
          380000,
          200000,
          320000,
          45000,
          90000,
          75000,
          500000,
          450000,
          180000,
          100000,
          860,
          25000,
          10000,
          80000,
          10000,
          10000,
          78000,
          10000,
          77000,
          10000,
          10000,
          77000,
          10000,
          50000,
          15000,
          77000,
          25000,
          77000,
          20000,
          77000,
          50000,
          0,
          77000,
          50000,
          50000,
          77000,
          77000,
          42000,
          250000,
          77000,
          75000,
          10000,
          25000,
          50000,
          200000,
          190000,
          250000,
          200000,
          380000,
          270000,
          1000000,
          600000,
          550000,
          250000,
          1000000,
          500000,
          750000,
          1500000,
          860000,
          180000,
          200000,
          320000,
          80000,
          60000,
          1000000,
          630000,
          500000,
          190000,
          370000,
          250000,
          100000,
          200000,
          360000,
          100000,
          300000,
          200000,
          200000,
          500000,
          500000,
          250000,
          920000,
          800000,
          400000,
          250000,
          2500000,
          200000,
          190000,
          590000,
          100000,
          200000,
          750000,
          100000,
          500000,
          77000,
          190000,
          300000,
          20000,
          200000,
          190000,
          100000,
          1000000,
          15000,
          77000,
          200000,
          100000,
          1200000,
          25000,
          25000,
          500000,
          1500000,
          600000,
          300000,
          500000,
          150000,
          200000,
          590000,
          450000,
          190000,
          590000,
          77000,
          150000,
          77000,
          300000,
          190000,
          400000,
          77000,
          75000,
          60000,
          620000,
          750000,
          1000000,
          200000,
          75000,
          200000,
          430000,
          1200000,
          130000,
          1000,
          100000,
          150000,
          500000,
          200000,
          50000,
          140000,
          180000,
          130000,
          10000,
          100000,
          380000,
          200000,
          39000,
          200000,
          200000,
          250000,
          500000,
          130000,
          420000,
          100000,
          1000000,
          500000,
          150000,
          100000,
          50000,
          500000,
          1000000,
          75000,
          39000,
          250000,
          100000,
          800000,
          430000,
          250000,
          50000,
          55000,
          500000,
          39000,
          250000,
          150000,
          400000,
          70000,
          1300000,
          1000000,
          1000000,
          75000,
          180000,
          500000,
          100000,
          1000000,
          75000,
          100000,
          670000,
          20000,
          100,
          39000,
          770000,
          230000,
          250000,
          1300000,
          30000,
          140000,
          1000000,
          100000,
          200000,
          250000,
          500000,
          600000,
          1000000,
          100000,
          39000,
          150000,
          500000,
          39000,
          100000,
          200000,
          30000,
          1500000,
          400000,
          50000,
          500000,
          20000,
          200000,
          900000,
          700000,
          60000,
          100000,
          230000,
          250000,
          150000,
          75000,
          500000,
          340000,
          10000,
          100000,
          39000,
          77000,
          25000,
          75000,
          54000,
          100000,
          50000,
          0,
          20000,
          77000,
          5000,
          75000,
          77000,
          77000,
          20000,
          77000,
          25000,
          24000,
          25000,
          25000,
          10000,
          77000,
          100,
          50000,
          76000,
          60000,
          50000,
          75000,
          25000,
          25000,
          77000,
          3000,
          77000,
          77000,
          20000,
          22000,
          47000,
          85000,
          10000,
          1,
          2000000,
          140000,
          500000,
          50000,
          200000,
          55000,
          0,
          100000,
          77000,
          20000,
          23000,
          100000,
          75000,
          50000,
          77000,
          20000,
          77000,
          47000,
          200000,
          11000,
          250000,
          10000,
          77000,
          25000,
          77000,
          3000000,
          20000,
          100000,
          0,
          6000,
          100000,
          3000,
          200000,
          77000,
          50000,
          78000,
          100000,
          0,
          100000,
          77000,
          150000,
          77000,
          120000,
          77000,
          200000,
          29000,
          120000,
          200000,
          50000,
          300000,
          100,
          0,
          100000,
          40000,
          10000,
          75000,
          230000,
          50000,
          120000,
          480000,
          300000,
          200000,
          100000,
          100000,
          40000,
          50000,
          25000,
          77000,
          10000,
          180000,
          77000,
          11000,
          150000,
          75000,
          100000,
          250000,
          25000,
          200000,
          50000,
          200000,
          50000,
          200000,
          50000,
          100000,
          77000,
          150000,
          200000,
          200000,
          200000,
          500000,
          77000,
          25000,
          180000,
          77000,
          50000,
          100,
          2000000,
          75000,
          1000000,
          480000,
          230000,
          8600,
          180000,
          50000,
          140000,
          100000,
          300000,
          100000,
          180000,
          1000000,
          2000000,
          75000,
          50000,
          47000,
          180000,
          200000,
          150000,
          77000,
          500000,
          40000,
          77000,
          180000,
          77000,
          40000,
          100000,
          300000,
          300000,
          30000,
          15000,
          150000,
          200000,
          8000,
          100000,
          90000,
          430000,
          210000,
          1300000,
          200000,
          50000,
          50000,
          50000,
          240000,
          200000,
          250000,
          20000,
          50000,
          1000,
          100000,
          50000,
          5000,
          77000,
          670000,
          50000,
          180000,
          470000,
          500000,
          150000,
          200000,
          100000,
          150000,
          250000,
          1000000,
          500000,
          77000,
          500000,
          35000,
          250000,
          100000,
          50000,
          200000,
          230000,
          100000,
          200000,
          77000,
          100000,
          500000,
          390000,
          100000,
          500000,
          500000,
          200000,
          250000,
          77000,
          500000,
          200000,
          250000,
          50000,
          20000,
          77000,
          50000,
          1000000,
          50000,
          1000000,
          140000,
          180000,
          180000,
          1300000,
          150000,
          420000,
          50000,
          500000,
          100000,
          30000,
          77000,
          200000,
          77000,
          600000,
          200000,
          20000,
          150000,
          80000,
          100000,
          100000,
          130000,
          400000,
          100000,
          250000,
          200000,
          77000,
          250000,
          500000,
          70000,
          60000,
          50000,
          100000,
          5000,
          1000,
          90000,
          39000,
          75000,
          20000,
          250000,
          100000,
          18000,
          50000,
          25000,
          130000,
          50000,
          100000,
          25000,
          85000,
          110000,
          25000,
          25000,
          15000,
          20000,
          43000,
          230000,
          61000,
          25000,
          39000,
          100000,
          75000,
          65000,
          24000,
          5000,
          75000,
          40000,
          400000,
          10000,
          100000,
          40000,
          200000,
          230000,
          39000,
          20000,
          39000,
          50000,
          39000,
          39000,
          39000,
          25000,
          100000,
          20000,
          100000,
          700000,
          500000,
          50000,
          50000,
          39000,
          200000,
          130000,
          100000,
          10000,
          100000,
          250000,
          11000,
          100000,
          80000,
          77000,
          20000,
          25000,
          280000,
          62000,
          50000,
          100000,
          25000,
          100000,
          100000,
          77000,
          77000,
          50000,
          160000,
          25000,
          210000,
          280000,
          100000,
          50000,
          0,
          77000,
          8000,
          60000,
          100000,
          75000,
          8600,
          500000,
          100000,
          77000,
          77000,
          1000000,
          77000,
          20000,
          75000,
          0,
          30000,
          1000000,
          75000,
          100000,
          2000000,
          130000,
          1000000,
          1000000,
          3500000,
          160000,
          3000000,
          100,
          670000,
          1300000,
          1000000,
          1100000,
          150000,
          280000,
          160000,
          1100000,
          100000,
          600000,
          1300000,
          100000,
          430000,
          1200000,
          250000,
          280000,
          300000,
          500000,
          1000000,
          500000,
          250000,
          600000,
          1800000,
          0,
          420000,
          1200000,
          630000,
          2000000,
          100000,
          230000,
          250000,
          500000,
          200000,
          500000,
          800000,
          590000,
          500000,
          300000,
          270000,
          2500000,
          430000,
          200000,
          550000,
          250000,
          360000,
          130000,
          1200000,
          1500000,
          200000,
          300000,
          1300000,
          3300000,
          700000,
          3000000,
          250000,
          200000,
          100000,
          400000,
          1200000,
          10000,
          100000,
          200000,
          1000000,
          3000000,
          2500000,
          300000,
          1000000,
          600000,
          300000,
          1300000,
          500000,
          280000,
          1200000,
          5000000,
          100000,
          160000,
          2000000,
          50000,
          1500000,
          15000,
          200000,
          700000,
          50000,
          350000,
          100000,
          180000,
          200000,
          5000000,
          600000,
          200000,
          2100000,
          320000,
          1400000,
          1000000,
          100000,
          500000,
          400000,
          25000,
          80000,
          80000,
          77000,
          50000,
          200000,
          77000,
          77000,
          230000,
          77000,
          15000,
          100000,
          200000,
          500000,
          190000,
          250000,
          300000,
          350000,
          250000,
          500000,
          70000,
          50000,
          50000,
          250000,
          250000,
          77000,
          77000,
          150000,
          25000,
          100000,
          77000,
          100000,
          500000,
          25000,
          300000,
          150000,
          50000,
          25000,
          20000,
          150000,
          130000,
          150000,
          50000,
          75000,
          150000,
          100000,
          50000,
          77000,
          77000,
          86000,
          300000,
          20000,
          250000,
          1000000,
          2000000,
          77000,
          50000,
          75000,
          78000,
          12000,
          25000,
          10000,
          77000,
          25000,
          77000,
          15000,
          50000,
          30000,
          150000,
          20000,
          77000,
          320000,
          10000,
          16000,
          50000,
          25000,
          10000,
          77000,
          300000,
          65000,
          25000,
          50000,
          50000,
          18000,
          77000,
          47000,
          77000,
          40000,
          50000,
          77000,
          77000,
          77000,
          77000,
          75000,
          200000,
          77000,
          250000,
          20000,
          77000,
          25000,
          24000,
          32000,
          39000,
          40000,
          39000,
          39000,
          20000,
          10000,
          39000,
          39000,
          25000,
          39000,
          39000,
          5400,
          20000,
          25000,
          39000,
          39000,
          20000,
          50000,
          39000,
          50000,
          5700,
          39000,
          5000,
          39000,
          5000000,
          1,
          480000,
          290000,
          450000,
          1100000,
          500000,
          80000,
          75000,
          20000,
          280000,
          250000,
          50000,
          250000,
          0,
          25000,
          670000,
          280000,
          77000,
          150000,
          500000,
          100000,
          500000,
          600000,
          0,
          10000,
          0,
          0,
          480000,
          16000,
          77000,
          300000,
          100,
          75000,
          1000000,
          300000,
          77000,
          1000,
          150000,
          77000,
          100000,
          300000,
          77000,
          10000,
          500000,
          150000,
          100000,
          500000,
          500000,
          77000,
          1000000,
          50000,
          0,
          32000,
          250000,
          0,
          0,
          1000000,
          180000,
          0,
          47000,
          77000,
          250000,
          100000,
          74000,
          100000,
          0,
          200000,
          75000,
          1000000,
          20000,
          330000,
          190000,
          500000,
          10000,
          20000,
          77000,
          10000,
          190000,
          75000,
          500000,
          50000,
          100000,
          230000,
          40000,
          100000,
          77000,
          8600,
          100000,
          330000,
          77000,
          830000,
          16000,
          75000,
          200000,
          300000,
          300000,
          400000,
          77000,
          77000,
          330000,
          0,
          100000,
          500000,
          1,
          77000,
          50000,
          0,
          100,
          77000,
          500000,
          74000,
          0,
          200000,
          51000,
          50000,
          50000,
          500000,
          1500000,
          100000,
          130000,
          77000,
          200000,
          50000,
          300000,
          300000,
          1000000,
          350000,
          380000,
          2000000,
          600000,
          130000,
          4000000,
          35000,
          990000,
          500000,
          32000,
          50000,
          75000,
          75000,
          39000,
          100000,
          5000000,
          50000,
          330000,
          300000,
          250000,
          39000,
          100000,
          5000,
          39000,
          200000,
          350000,
          750000,
          9000,
          240000,
          2000000,
          590000,
          1000000,
          300000,
          50000,
          500000,
          25000,
          400000,
          700000,
          400000,
          32000,
          1000000,
          39000,
          55000,
          39000,
          39000,
          1300000,
          39000,
          590000,
          500000,
          20000,
          43000,
          500000,
          430000,
          100000,
          100000,
          950000,
          50000,
          650000,
          30000,
          200000,
          400000,
          30000,
          550000,
          130000,
          320000,
          800000,
          810000,
          500000,
          4900,
          15000,
          25000,
          77000,
          25000,
          77000,
          10000,
          500000,
          25000,
          15000,
          77000,
          0,
          70000,
          50000,
          0,
          77000,
          10000,
          47000,
          77000,
          40000,
          50000,
          0,
          1500000,
          100000,
          77000,
          15000,
          15000,
          20000,
          10000,
          600000,
          50000,
          4600,
          75000,
          4000,
          20000,
          50000,
          15000,
          12000,
          15000,
          77000,
          77000,
          77000,
          77000,
          580000,
          30000,
          10000,
          20000,
          27000,
          25000,
          39000,
          10000,
          39000,
          3500,
          15000,
          39000,
          0,
          39000,
          39000,
          39000,
          39000,
          20000,
          39000,
          0,
          40000,
          24000,
          20000,
          50000,
          5000,
          20000,
          30000,
          39000,
          39000,
          75000,
          500000,
          430000,
          1000000,
          200000,
          150000,
          77000,
          100,
          27000,
          30000,
          20000,
          29000,
          10000,
          230000,
          100000,
          150000,
          60000,
          200000,
          35000,
          100000,
          50000,
          100000,
          50000,
          77000,
          47000,
          260000,
          400000,
          180000,
          25000,
          25000,
          3000000,
          150000,
          150000,
          75000,
          250000,
          75000,
          400000,
          200000,
          180000,
          300000,
          100000,
          7000,
          500000,
          75000,
          68000,
          500000,
          77000,
          100000,
          250000,
          250000,
          77000,
          100000,
          10000,
          77000,
          150000,
          75000,
          200000,
          50000,
          77000,
          77000,
          77000,
          150000,
          50000,
          77000,
          230000,
          77000,
          150000,
          100000,
          77000,
          200000,
          100000,
          20000,
          75000,
          23000,
          77000,
          77000,
          77000,
          28000,
          77000,
          47000,
          10000,
          77000,
          29000,
          77000,
          75000,
          77000,
          50000,
          77000,
          77000,
          25000,
          5000,
          77000,
          25000,
          7000,
          10000,
          77000,
          53000,
          25000,
          25000,
          50000,
          3400000,
          200000,
          99000,
          25000,
          10000,
          10000,
          46000,
          0,
          77000,
          590000,
          77000,
          77000,
          77000,
          77000,
          18000,
          77000,
          77000,
          75000,
          75000,
          10000,
          20000,
          0,
          47000,
          590000,
          77000,
          50000,
          27000,
          20000,
          140000,
          700000,
          77000,
          75000,
          170000,
          25000,
          80000,
          94000,
          600000,
          100000,
          600000,
          250000,
          600000,
          200000,
          2000000,
          400000,
          800000,
          250000,
          200000,
          1200000,
          300000,
          5000000,
          40000,
          100000,
          75000,
          130000,
          250000,
          50000,
          100000,
          150000,
          700000,
          160000,
          130000,
          230000,
          220000,
          75000,
          220000,
          1000000,
          220000,
          360000,
          50000,
          150000,
          180000,
          150000,
          750000,
          160000,
          50000,
          200000,
          100000,
          1200000,
          180000,
          220000,
          500000,
          120000,
          75000,
          250000,
          1500000,
          550000,
          160000,
          50000,
          250000,
          2000000,
          250000,
          50000,
          50000,
          200000,
          250000,
          160000,
          320000,
          200000,
          3400000,
          150000,
          10000,
          600000,
          1700000,
          1000000,
          50000,
          160000,
          1000000,
          100000,
          160000,
          100,
          180000,
          25000,
          840000,
          60000,
          220000,
          160000,
          160000,
          75000,
          1000000,
          3000000,
          1000000,
          50000,
          1000000,
          170000,
          140000,
          15000,
          100000,
          100000,
          55000,
          50000,
          140000,
          39000,
          50000,
          50000,
          100000,
          140000,
          0,
          340000,
          100000,
          400000,
          39000,
          350000,
          50000,
          5000,
          300000,
          75000,
          150000,
          200000,
          250000,
          100,
          400000,
          100000,
          50000,
          50000,
          1000000,
          50000,
          35000,
          110000,
          20000,
          60000,
          270000,
          200000,
          45000,
          50000,
          2000000,
          140000,
          40000,
          35000,
          30000,
          250000,
          25000,
          39000,
          50000,
          54000,
          25000,
          2500000,
          140000,
          250000,
          25000,
          100000,
          100000,
          39000,
          39000,
          150000,
          20000,
          25000,
          39000,
          400000,
          100000,
          20000,
          500000,
          10000,
          150000,
          75000,
          0,
          77000,
          10000,
          64000,
          77000,
          77000,
          25000,
          77000,
          77000,
          0,
          20000,
          25000,
          77000,
          75000,
          75000,
          77000,
          77000,
          10000,
          20000,
          10000,
          77000,
          60000,
          50000,
          51000,
          50000,
          47000,
          0,
          25000,
          25000,
          5000,
          77000,
          100000,
          270000,
          180000,
          450000,
          440000,
          250000,
          500000,
          200000,
          5000000,
          500000,
          500000,
          88000,
          240000,
          1000000,
          800000,
          500000,
          120000,
          150000,
          100000,
          5000000,
          500000,
          200000,
          230000,
          1300000,
          1000000,
          50000,
          300000,
          500000,
          150000,
          500000,
          1500000,
          590000,
          150000,
          300000,
          100000,
          5000000,
          200000,
          1000000,
          500000,
          500000,
          180000,
          320000,
          130000,
          75000,
          100000,
          430000,
          77000,
          1000000,
          1000000,
          270000,
          450000,
          300000,
          250000,
          590000,
          230000,
          77000,
          77000,
          100000,
          1200000,
          100000,
          400000,
          100000,
          180000,
          250000,
          400000,
          25000,
          600000,
          390000,
          200000,
          500000,
          700000,
          77000,
          1000000,
          0,
          100000,
          500000,
          100000,
          270000,
          430000,
          100000,
          270000,
          100000,
          15000,
          300000,
          77000,
          1300000,
          600000,
          50000,
          270000,
          250000,
          600000,
          2000000,
          500000,
          3000000,
          1000000,
          500000,
          260000,
          1300000,
          200000,
          500000,
          500000,
          300000,
          100000,
          500000,
          250000,
          430000,
          300000,
          100000,
          50000,
          3500000,
          2000000,
          1700000,
          1200000,
          400000,
          1000000,
          500000,
          250000,
          5000000,
          1000000,
          270000,
          360000,
          2000000,
          500000,
          500000,
          200000,
          500000,
          1600000,
          2000000,
          2000000,
          450000,
          340000,
          600000,
          450000,
          5000000,
          670000,
          300000,
          3500000,
          420000,
          100000,
          540000,
          500000,
          200000,
          0,
          1000000,
          100000,
          200000,
          250000,
          620000,
          640000,
          200000,
          910000,
          3700000,
          200000,
          10000,
          750000,
          200000,
          500000,
          250000,
          1300000,
          500000,
          2500000,
          500000,
          590000,
          73000,
          650000,
          680000,
          200000,
          1300000,
          500000,
          250000,
          900000,
          200000,
          510000,
          200000,
          250000,
          1000000,
          400000,
          600000,
          250000,
          50000,
          250000,
          600000,
          1000000,
          100000,
          200000,
          100000,
          150000,
          450000,
          1300000,
          300000,
          620000,
          420000,
          700000,
          50000,
          450000,
          500000,
          1500000,
          200000,
          590000,
          100,
          620000,
          500000,
          1400000,
          1400000,
          5000000,
          2000000,
          50000,
          250000,
          260000,
          1500000,
          75000,
          50000,
          250000,
          90000,
          150000,
          400000,
          100000,
          150000,
          130000,
          63000,
          150000,
          50000,
          150000,
          50000,
          77000,
          50000,
          75000,
          30000,
          80000,
          77000,
          10000,
          25000,
          25000,
          50000,
          50000,
          77000,
          40000,
          250000,
          500000,
          50000,
          280000,
          0,
          50000,
          50000,
          320000,
          300000,
          77000,
          77000,
          50000,
          10000,
          250000,
          75000,
          400000,
          300000,
          10000,
          100000,
          77000,
          280000,
          100000,
          58000,
          25000,
          34000,
          25000,
          77000,
          100000,
          100000,
          50000,
          59000,
          100000,
          250000,
          77000,
          10000,
          20000,
          40000,
          0,
          39000,
          39000,
          39000,
          40000,
          39000,
          80000,
          50000,
          45000,
          20000,
          39000,
          0,
          50000,
          25000,
          50000,
          10000,
          39000,
          39000,
          25000,
          20000,
          39000,
          39000,
          39000,
          10000,
          39000,
          39000,
          39000,
          10000,
          18000
         ],
         "y0": " ",
         "yaxis": "y"
        }
       ],
       "layout": {
        "boxmode": "group",
        "height": 800,
        "legend": {
         "tracegroupgap": 0
        },
        "template": {
         "data": {
          "bar": [
           {
            "error_x": {
             "color": "#2a3f5f"
            },
            "error_y": {
             "color": "#2a3f5f"
            },
            "marker": {
             "line": {
              "color": "#E5ECF6",
              "width": 0.5
             },
             "pattern": {
              "fillmode": "overlay",
              "size": 10,
              "solidity": 0.2
             }
            },
            "type": "bar"
           }
          ],
          "barpolar": [
           {
            "marker": {
             "line": {
              "color": "#E5ECF6",
              "width": 0.5
             },
             "pattern": {
              "fillmode": "overlay",
              "size": 10,
              "solidity": 0.2
             }
            },
            "type": "barpolar"
           }
          ],
          "carpet": [
           {
            "aaxis": {
             "endlinecolor": "#2a3f5f",
             "gridcolor": "white",
             "linecolor": "white",
             "minorgridcolor": "white",
             "startlinecolor": "#2a3f5f"
            },
            "baxis": {
             "endlinecolor": "#2a3f5f",
             "gridcolor": "white",
             "linecolor": "white",
             "minorgridcolor": "white",
             "startlinecolor": "#2a3f5f"
            },
            "type": "carpet"
           }
          ],
          "choropleth": [
           {
            "colorbar": {
             "outlinewidth": 0,
             "ticks": ""
            },
            "type": "choropleth"
           }
          ],
          "contour": [
           {
            "colorbar": {
             "outlinewidth": 0,
             "ticks": ""
            },
            "colorscale": [
             [
              0,
              "#0d0887"
             ],
             [
              0.1111111111111111,
              "#46039f"
             ],
             [
              0.2222222222222222,
              "#7201a8"
             ],
             [
              0.3333333333333333,
              "#9c179e"
             ],
             [
              0.4444444444444444,
              "#bd3786"
             ],
             [
              0.5555555555555556,
              "#d8576b"
             ],
             [
              0.6666666666666666,
              "#ed7953"
             ],
             [
              0.7777777777777778,
              "#fb9f3a"
             ],
             [
              0.8888888888888888,
              "#fdca26"
             ],
             [
              1,
              "#f0f921"
             ]
            ],
            "type": "contour"
           }
          ],
          "contourcarpet": [
           {
            "colorbar": {
             "outlinewidth": 0,
             "ticks": ""
            },
            "type": "contourcarpet"
           }
          ],
          "heatmap": [
           {
            "colorbar": {
             "outlinewidth": 0,
             "ticks": ""
            },
            "colorscale": [
             [
              0,
              "#0d0887"
             ],
             [
              0.1111111111111111,
              "#46039f"
             ],
             [
              0.2222222222222222,
              "#7201a8"
             ],
             [
              0.3333333333333333,
              "#9c179e"
             ],
             [
              0.4444444444444444,
              "#bd3786"
             ],
             [
              0.5555555555555556,
              "#d8576b"
             ],
             [
              0.6666666666666666,
              "#ed7953"
             ],
             [
              0.7777777777777778,
              "#fb9f3a"
             ],
             [
              0.8888888888888888,
              "#fdca26"
             ],
             [
              1,
              "#f0f921"
             ]
            ],
            "type": "heatmap"
           }
          ],
          "heatmapgl": [
           {
            "colorbar": {
             "outlinewidth": 0,
             "ticks": ""
            },
            "colorscale": [
             [
              0,
              "#0d0887"
             ],
             [
              0.1111111111111111,
              "#46039f"
             ],
             [
              0.2222222222222222,
              "#7201a8"
             ],
             [
              0.3333333333333333,
              "#9c179e"
             ],
             [
              0.4444444444444444,
              "#bd3786"
             ],
             [
              0.5555555555555556,
              "#d8576b"
             ],
             [
              0.6666666666666666,
              "#ed7953"
             ],
             [
              0.7777777777777778,
              "#fb9f3a"
             ],
             [
              0.8888888888888888,
              "#fdca26"
             ],
             [
              1,
              "#f0f921"
             ]
            ],
            "type": "heatmapgl"
           }
          ],
          "histogram": [
           {
            "marker": {
             "pattern": {
              "fillmode": "overlay",
              "size": 10,
              "solidity": 0.2
             }
            },
            "type": "histogram"
           }
          ],
          "histogram2d": [
           {
            "colorbar": {
             "outlinewidth": 0,
             "ticks": ""
            },
            "colorscale": [
             [
              0,
              "#0d0887"
             ],
             [
              0.1111111111111111,
              "#46039f"
             ],
             [
              0.2222222222222222,
              "#7201a8"
             ],
             [
              0.3333333333333333,
              "#9c179e"
             ],
             [
              0.4444444444444444,
              "#bd3786"
             ],
             [
              0.5555555555555556,
              "#d8576b"
             ],
             [
              0.6666666666666666,
              "#ed7953"
             ],
             [
              0.7777777777777778,
              "#fb9f3a"
             ],
             [
              0.8888888888888888,
              "#fdca26"
             ],
             [
              1,
              "#f0f921"
             ]
            ],
            "type": "histogram2d"
           }
          ],
          "histogram2dcontour": [
           {
            "colorbar": {
             "outlinewidth": 0,
             "ticks": ""
            },
            "colorscale": [
             [
              0,
              "#0d0887"
             ],
             [
              0.1111111111111111,
              "#46039f"
             ],
             [
              0.2222222222222222,
              "#7201a8"
             ],
             [
              0.3333333333333333,
              "#9c179e"
             ],
             [
              0.4444444444444444,
              "#bd3786"
             ],
             [
              0.5555555555555556,
              "#d8576b"
             ],
             [
              0.6666666666666666,
              "#ed7953"
             ],
             [
              0.7777777777777778,
              "#fb9f3a"
             ],
             [
              0.8888888888888888,
              "#fdca26"
             ],
             [
              1,
              "#f0f921"
             ]
            ],
            "type": "histogram2dcontour"
           }
          ],
          "mesh3d": [
           {
            "colorbar": {
             "outlinewidth": 0,
             "ticks": ""
            },
            "type": "mesh3d"
           }
          ],
          "parcoords": [
           {
            "line": {
             "colorbar": {
              "outlinewidth": 0,
              "ticks": ""
             }
            },
            "type": "parcoords"
           }
          ],
          "pie": [
           {
            "automargin": true,
            "type": "pie"
           }
          ],
          "scatter": [
           {
            "fillpattern": {
             "fillmode": "overlay",
             "size": 10,
             "solidity": 0.2
            },
            "type": "scatter"
           }
          ],
          "scatter3d": [
           {
            "line": {
             "colorbar": {
              "outlinewidth": 0,
              "ticks": ""
             }
            },
            "marker": {
             "colorbar": {
              "outlinewidth": 0,
              "ticks": ""
             }
            },
            "type": "scatter3d"
           }
          ],
          "scattercarpet": [
           {
            "marker": {
             "colorbar": {
              "outlinewidth": 0,
              "ticks": ""
             }
            },
            "type": "scattercarpet"
           }
          ],
          "scattergeo": [
           {
            "marker": {
             "colorbar": {
              "outlinewidth": 0,
              "ticks": ""
             }
            },
            "type": "scattergeo"
           }
          ],
          "scattergl": [
           {
            "marker": {
             "colorbar": {
              "outlinewidth": 0,
              "ticks": ""
             }
            },
            "type": "scattergl"
           }
          ],
          "scattermapbox": [
           {
            "marker": {
             "colorbar": {
              "outlinewidth": 0,
              "ticks": ""
             }
            },
            "type": "scattermapbox"
           }
          ],
          "scatterpolar": [
           {
            "marker": {
             "colorbar": {
              "outlinewidth": 0,
              "ticks": ""
             }
            },
            "type": "scatterpolar"
           }
          ],
          "scatterpolargl": [
           {
            "marker": {
             "colorbar": {
              "outlinewidth": 0,
              "ticks": ""
             }
            },
            "type": "scatterpolargl"
           }
          ],
          "scatterternary": [
           {
            "marker": {
             "colorbar": {
              "outlinewidth": 0,
              "ticks": ""
             }
            },
            "type": "scatterternary"
           }
          ],
          "surface": [
           {
            "colorbar": {
             "outlinewidth": 0,
             "ticks": ""
            },
            "colorscale": [
             [
              0,
              "#0d0887"
             ],
             [
              0.1111111111111111,
              "#46039f"
             ],
             [
              0.2222222222222222,
              "#7201a8"
             ],
             [
              0.3333333333333333,
              "#9c179e"
             ],
             [
              0.4444444444444444,
              "#bd3786"
             ],
             [
              0.5555555555555556,
              "#d8576b"
             ],
             [
              0.6666666666666666,
              "#ed7953"
             ],
             [
              0.7777777777777778,
              "#fb9f3a"
             ],
             [
              0.8888888888888888,
              "#fdca26"
             ],
             [
              1,
              "#f0f921"
             ]
            ],
            "type": "surface"
           }
          ],
          "table": [
           {
            "cells": {
             "fill": {
              "color": "#EBF0F8"
             },
             "line": {
              "color": "white"
             }
            },
            "header": {
             "fill": {
              "color": "#C8D4E3"
             },
             "line": {
              "color": "white"
             }
            },
            "type": "table"
           }
          ]
         },
         "layout": {
          "annotationdefaults": {
           "arrowcolor": "#2a3f5f",
           "arrowhead": 0,
           "arrowwidth": 1
          },
          "autotypenumbers": "strict",
          "coloraxis": {
           "colorbar": {
            "outlinewidth": 0,
            "ticks": ""
           }
          },
          "colorscale": {
           "diverging": [
            [
             0,
             "#8e0152"
            ],
            [
             0.1,
             "#c51b7d"
            ],
            [
             0.2,
             "#de77ae"
            ],
            [
             0.3,
             "#f1b6da"
            ],
            [
             0.4,
             "#fde0ef"
            ],
            [
             0.5,
             "#f7f7f7"
            ],
            [
             0.6,
             "#e6f5d0"
            ],
            [
             0.7,
             "#b8e186"
            ],
            [
             0.8,
             "#7fbc41"
            ],
            [
             0.9,
             "#4d9221"
            ],
            [
             1,
             "#276419"
            ]
           ],
           "sequential": [
            [
             0,
             "#0d0887"
            ],
            [
             0.1111111111111111,
             "#46039f"
            ],
            [
             0.2222222222222222,
             "#7201a8"
            ],
            [
             0.3333333333333333,
             "#9c179e"
            ],
            [
             0.4444444444444444,
             "#bd3786"
            ],
            [
             0.5555555555555556,
             "#d8576b"
            ],
            [
             0.6666666666666666,
             "#ed7953"
            ],
            [
             0.7777777777777778,
             "#fb9f3a"
            ],
            [
             0.8888888888888888,
             "#fdca26"
            ],
            [
             1,
             "#f0f921"
            ]
           ],
           "sequentialminus": [
            [
             0,
             "#0d0887"
            ],
            [
             0.1111111111111111,
             "#46039f"
            ],
            [
             0.2222222222222222,
             "#7201a8"
            ],
            [
             0.3333333333333333,
             "#9c179e"
            ],
            [
             0.4444444444444444,
             "#bd3786"
            ],
            [
             0.5555555555555556,
             "#d8576b"
            ],
            [
             0.6666666666666666,
             "#ed7953"
            ],
            [
             0.7777777777777778,
             "#fb9f3a"
            ],
            [
             0.8888888888888888,
             "#fdca26"
            ],
            [
             1,
             "#f0f921"
            ]
           ]
          },
          "colorway": [
           "#636efa",
           "#EF553B",
           "#00cc96",
           "#ab63fa",
           "#FFA15A",
           "#19d3f3",
           "#FF6692",
           "#B6E880",
           "#FF97FF",
           "#FECB52"
          ],
          "font": {
           "color": "#2a3f5f"
          },
          "geo": {
           "bgcolor": "white",
           "lakecolor": "white",
           "landcolor": "#E5ECF6",
           "showlakes": true,
           "showland": true,
           "subunitcolor": "white"
          },
          "hoverlabel": {
           "align": "left"
          },
          "hovermode": "closest",
          "mapbox": {
           "style": "light"
          },
          "paper_bgcolor": "white",
          "plot_bgcolor": "#E5ECF6",
          "polar": {
           "angularaxis": {
            "gridcolor": "white",
            "linecolor": "white",
            "ticks": ""
           },
           "bgcolor": "#E5ECF6",
           "radialaxis": {
            "gridcolor": "white",
            "linecolor": "white",
            "ticks": ""
           }
          },
          "scene": {
           "xaxis": {
            "backgroundcolor": "#E5ECF6",
            "gridcolor": "white",
            "gridwidth": 2,
            "linecolor": "white",
            "showbackground": true,
            "ticks": "",
            "zerolinecolor": "white"
           },
           "yaxis": {
            "backgroundcolor": "#E5ECF6",
            "gridcolor": "white",
            "gridwidth": 2,
            "linecolor": "white",
            "showbackground": true,
            "ticks": "",
            "zerolinecolor": "white"
           },
           "zaxis": {
            "backgroundcolor": "#E5ECF6",
            "gridcolor": "white",
            "gridwidth": 2,
            "linecolor": "white",
            "showbackground": true,
            "ticks": "",
            "zerolinecolor": "white"
           }
          },
          "shapedefaults": {
           "line": {
            "color": "#2a3f5f"
           }
          },
          "ternary": {
           "aaxis": {
            "gridcolor": "white",
            "linecolor": "white",
            "ticks": ""
           },
           "baxis": {
            "gridcolor": "white",
            "linecolor": "white",
            "ticks": ""
           },
           "bgcolor": "#E5ECF6",
           "caxis": {
            "gridcolor": "white",
            "linecolor": "white",
            "ticks": ""
           }
          },
          "title": {
           "x": 0.05
          },
          "xaxis": {
           "automargin": true,
           "gridcolor": "white",
           "linecolor": "white",
           "ticks": "",
           "title": {
            "standoff": 15
           },
           "zerolinecolor": "white",
           "zerolinewidth": 2
          },
          "yaxis": {
           "automargin": true,
           "gridcolor": "white",
           "linecolor": "white",
           "ticks": "",
           "title": {
            "standoff": 15
           },
           "zerolinecolor": "white",
           "zerolinewidth": 2
          }
         }
        },
        "title": {
         "text": "Distribuzione dei Voti per Progetto"
        },
        "xaxis": {
         "anchor": "y",
         "domain": [
          0,
          1
         ],
         "title": {
          "text": "Nome del Progetto"
         }
        },
        "yaxis": {
         "anchor": "x",
         "domain": [
          0,
          1
         ],
         "title": {
          "text": "Voti"
         }
        }
       }
      }
     },
     "metadata": {},
     "output_type": "display_data"
    }
   ],
   "source": [
    "fig = px.box(df_expanded, x='project_name', y='votes',\n",
    "             labels={'project_name': 'Nome del Progetto', 'votes': 'Voti'},\n",
    "             title='Distribuzione dei Voti per Progetto',\n",
    "             height=800)\n",
    "\n",
    "fig.show()\n"
   ]
  },
  {
   "cell_type": "code",
   "execution_count": 12,
   "metadata": {},
   "outputs": [
    {
     "data": {
      "application/vnd.plotly.v1+json": {
       "config": {
        "plotlyServerURL": "https://plot.ly"
       },
       "data": [
        {
         "hovertemplate": "Nome del Progetto=AW House/Komorebi's Hacker House<br>Media dei Voti=%{x}<br>Mediana dei Voti=%{y}<extra></extra>",
         "legendgroup": "AW House/Komorebi's Hacker House",
         "marker": {
          "color": "#636efa",
          "symbol": "circle"
         },
         "mode": "markers",
         "name": "AW House/Komorebi's Hacker House",
         "orientation": "v",
         "showlegend": true,
         "type": "scatter",
         "x": [
          242980
         ],
         "xaxis": "x",
         "y": [
          77000
         ],
         "yaxis": "y"
        },
        {
         "hovertemplate": "Nome del Progetto=Across Protocol<br>Media dei Voti=%{x}<br>Mediana dei Voti=%{y}<extra></extra>",
         "legendgroup": "Across Protocol",
         "marker": {
          "color": "#EF553B",
          "symbol": "circle"
         },
         "mode": "markers",
         "name": "Across Protocol",
         "orientation": "v",
         "showlegend": true,
         "type": "scatter",
         "x": [
          107260.9756097561
         ],
         "xaxis": "x",
         "y": [
          39000
         ],
         "yaxis": "y"
        },
        {
         "hovertemplate": "Nome del Progetto=Aerodrome Finance<br>Media dei Voti=%{x}<br>Mediana dei Voti=%{y}<extra></extra>",
         "legendgroup": "Aerodrome Finance",
         "marker": {
          "color": "#00cc96",
          "symbol": "circle"
         },
         "mode": "markers",
         "name": "Aerodrome Finance",
         "orientation": "v",
         "showlegend": true,
         "type": "scatter",
         "x": [
          424800
         ],
         "xaxis": "x",
         "y": [
          105000
         ],
         "yaxis": "y"
        },
        {
         "hovertemplate": "Nome del Progetto=Airstack<br>Media dei Voti=%{x}<br>Mediana dei Voti=%{y}<extra></extra>",
         "legendgroup": "Airstack",
         "marker": {
          "color": "#ab63fa",
          "symbol": "circle"
         },
         "mode": "markers",
         "name": "Airstack",
         "orientation": "v",
         "showlegend": true,
         "type": "scatter",
         "x": [
          46909.09090909091
         ],
         "xaxis": "x",
         "y": [
          47000
         ],
         "yaxis": "y"
        },
        {
         "hovertemplate": "Nome del Progetto=Alchemy<br>Media dei Voti=%{x}<br>Mediana dei Voti=%{y}<extra></extra>",
         "legendgroup": "Alchemy",
         "marker": {
          "color": "#FFA15A",
          "symbol": "circle"
         },
         "mode": "markers",
         "name": "Alchemy",
         "orientation": "v",
         "showlegend": true,
         "type": "scatter",
         "x": [
          102691.39655172414
         ],
         "xaxis": "x",
         "y": [
          72500
         ],
         "yaxis": "y"
        },
        {
         "hovertemplate": "Nome del Progetto=Archly<br>Media dei Voti=%{x}<br>Mediana dei Voti=%{y}<extra></extra>",
         "legendgroup": "Archly",
         "marker": {
          "color": "#19d3f3",
          "symbol": "circle"
         },
         "mode": "markers",
         "name": "Archly",
         "orientation": "v",
         "showlegend": true,
         "type": "scatter",
         "x": [
          28933.333333333332
         ],
         "xaxis": "x",
         "y": [
          39000
         ],
         "yaxis": "y"
        },
        {
         "hovertemplate": "Nome del Progetto=Based Nouns<br>Media dei Voti=%{x}<br>Mediana dei Voti=%{y}<extra></extra>",
         "legendgroup": "Based Nouns",
         "marker": {
          "color": "#FF6692",
          "symbol": "circle"
         },
         "mode": "markers",
         "name": "Based Nouns",
         "orientation": "v",
         "showlegend": true,
         "type": "scatter",
         "x": [
          44380
         ],
         "xaxis": "x",
         "y": [
          48500
         ],
         "yaxis": "y"
        },
        {
         "hovertemplate": "Nome del Progetto=Baseswap<br>Media dei Voti=%{x}<br>Mediana dei Voti=%{y}<extra></extra>",
         "legendgroup": "Baseswap",
         "marker": {
          "color": "#B6E880",
          "symbol": "circle"
         },
         "mode": "markers",
         "name": "Baseswap",
         "orientation": "v",
         "showlegend": true,
         "type": "scatter",
         "x": [
          61591.42857142857
         ],
         "xaxis": "x",
         "y": [
          25000
         ],
         "yaxis": "y"
        },
        {
         "hovertemplate": "Nome del Progetto=Builder Protocol<br>Media dei Voti=%{x}<br>Mediana dei Voti=%{y}<extra></extra>",
         "legendgroup": "Builder Protocol",
         "marker": {
          "color": "#FF97FF",
          "symbol": "circle"
         },
         "mode": "markers",
         "name": "Builder Protocol",
         "orientation": "v",
         "showlegend": true,
         "type": "scatter",
         "x": [
          121551.11111111111
         ],
         "xaxis": "x",
         "y": [
          50000
         ],
         "yaxis": "y"
        },
        {
         "hovertemplate": "Nome del Progetto=Cielo<br>Media dei Voti=%{x}<br>Mediana dei Voti=%{y}<extra></extra>",
         "legendgroup": "Cielo",
         "marker": {
          "color": "#FECB52",
          "symbol": "circle"
         },
         "mode": "markers",
         "name": "Cielo",
         "orientation": "v",
         "showlegend": true,
         "type": "scatter",
         "x": [
          42390.625
         ],
         "xaxis": "x",
         "y": [
          39000
         ],
         "yaxis": "y"
        },
        {
         "hovertemplate": "Nome del Progetto=Covalent<br>Media dei Voti=%{x}<br>Mediana dei Voti=%{y}<extra></extra>",
         "legendgroup": "Covalent",
         "marker": {
          "color": "#636efa",
          "symbol": "circle"
         },
         "mode": "markers",
         "name": "Covalent",
         "orientation": "v",
         "showlegend": true,
         "type": "scatter",
         "x": [
          59236.84210526316
         ],
         "xaxis": "x",
         "y": [
          50000
         ],
         "yaxis": "y"
        },
        {
         "hovertemplate": "Nome del Progetto=Delegate<br>Media dei Voti=%{x}<br>Mediana dei Voti=%{y}<extra></extra>",
         "legendgroup": "Delegate",
         "marker": {
          "color": "#EF553B",
          "symbol": "circle"
         },
         "mode": "markers",
         "name": "Delegate",
         "orientation": "v",
         "showlegend": true,
         "type": "scatter",
         "x": [
          116659.1836734694
         ],
         "xaxis": "x",
         "y": [
          50000
         ],
         "yaxis": "y"
        },
        {
         "hovertemplate": "Nome del Progetto=ERC4337 Smart Accounts Dune Dashboard<br>Media dei Voti=%{x}<br>Mediana dei Voti=%{y}<extra></extra>",
         "legendgroup": "ERC4337 Smart Accounts Dune Dashboard",
         "marker": {
          "color": "#00cc96",
          "symbol": "circle"
         },
         "mode": "markers",
         "name": "ERC4337 Smart Accounts Dune Dashboard",
         "orientation": "v",
         "showlegend": true,
         "type": "scatter",
         "x": [
          94691.48936170213
         ],
         "xaxis": "x",
         "y": [
          75000
         ],
         "yaxis": "y"
        },
        {
         "hovertemplate": "Nome del Progetto=ETHGlobal<br>Media dei Voti=%{x}<br>Mediana dei Voti=%{y}<extra></extra>",
         "legendgroup": "ETHGlobal",
         "marker": {
          "color": "#ab63fa",
          "symbol": "circle"
         },
         "mode": "markers",
         "name": "ETHGlobal",
         "orientation": "v",
         "showlegend": true,
         "type": "scatter",
         "x": [
          620832.584269663
         ],
         "xaxis": "x",
         "y": [
          270000
         ],
         "yaxis": "y"
        },
        {
         "hovertemplate": "Nome del Progetto=Endaoment<br>Media dei Voti=%{x}<br>Mediana dei Voti=%{y}<extra></extra>",
         "legendgroup": "Endaoment",
         "marker": {
          "color": "#FFA15A",
          "symbol": "circle"
         },
         "mode": "markers",
         "name": "Endaoment",
         "orientation": "v",
         "showlegend": true,
         "type": "scatter",
         "x": [
          185960.41666666666
         ],
         "xaxis": "x",
         "y": [
          77000
         ],
         "yaxis": "y"
        },
        {
         "hovertemplate": "Nome del Progetto=Equalizer<br>Media dei Voti=%{x}<br>Mediana dei Voti=%{y}<extra></extra>",
         "legendgroup": "Equalizer",
         "marker": {
          "color": "#19d3f3",
          "symbol": "circle"
         },
         "mode": "markers",
         "name": "Equalizer",
         "orientation": "v",
         "showlegend": true,
         "type": "scatter",
         "x": [
          49413.793103448275
         ],
         "xaxis": "x",
         "y": [
          50000
         ],
         "yaxis": "y"
        },
        {
         "hovertemplate": "Nome del Progetto=Erigon<br>Media dei Voti=%{x}<br>Mediana dei Voti=%{y}<extra></extra>",
         "legendgroup": "Erigon",
         "marker": {
          "color": "#FF6692",
          "symbol": "circle"
         },
         "mode": "markers",
         "name": "Erigon",
         "orientation": "v",
         "showlegend": true,
         "type": "scatter",
         "x": [
          550253.8461538461
         ],
         "xaxis": "x",
         "y": [
          350000
         ],
         "yaxis": "y"
        },
        {
         "hovertemplate": "Nome del Progetto=Ethereum Attestation Service<br>Media dei Voti=%{x}<br>Mediana dei Voti=%{y}<extra></extra>",
         "legendgroup": "Ethereum Attestation Service",
         "marker": {
          "color": "#B6E880",
          "symbol": "circle"
         },
         "mode": "markers",
         "name": "Ethereum Attestation Service",
         "orientation": "v",
         "showlegend": true,
         "type": "scatter",
         "x": [
          434717.39130434784
         ],
         "xaxis": "x",
         "y": [
          230000
         ],
         "yaxis": "y"
        },
        {
         "hovertemplate": "Nome del Progetto=Eventcaster<br>Media dei Voti=%{x}<br>Mediana dei Voti=%{y}<extra></extra>",
         "legendgroup": "Eventcaster",
         "marker": {
          "color": "#FF97FF",
          "symbol": "circle"
         },
         "mode": "markers",
         "name": "Eventcaster",
         "orientation": "v",
         "showlegend": true,
         "type": "scatter",
         "x": [
          42666.666666666664
         ],
         "xaxis": "x",
         "y": [
          25000
         ],
         "yaxis": "y"
        },
        {
         "hovertemplate": "Nome del Progetto=Flipside Crypto<br>Media dei Voti=%{x}<br>Mediana dei Voti=%{y}<extra></extra>",
         "legendgroup": "Flipside Crypto",
         "marker": {
          "color": "#FECB52",
          "symbol": "circle"
         },
         "mode": "markers",
         "name": "Flipside Crypto",
         "orientation": "v",
         "showlegend": true,
         "type": "scatter",
         "x": [
          94889.15217391304
         ],
         "xaxis": "x",
         "y": [
          50000
         ],
         "yaxis": "y"
        },
        {
         "hovertemplate": "Nome del Progetto=Frame<br>Media dei Voti=%{x}<br>Mediana dei Voti=%{y}<extra></extra>",
         "legendgroup": "Frame",
         "marker": {
          "color": "#636efa",
          "symbol": "circle"
         },
         "mode": "markers",
         "name": "Frame",
         "orientation": "v",
         "showlegend": true,
         "type": "scatter",
         "x": [
          228565.38461538462
         ],
         "xaxis": "x",
         "y": [
          130000
         ],
         "yaxis": "y"
        },
        {
         "hovertemplate": "Nome del Progetto=Galxe<br>Media dei Voti=%{x}<br>Mediana dei Voti=%{y}<extra></extra>",
         "legendgroup": "Galxe",
         "marker": {
          "color": "#EF553B",
          "symbol": "circle"
         },
         "mode": "markers",
         "name": "Galxe",
         "orientation": "v",
         "showlegend": true,
         "type": "scatter",
         "x": [
          125567.39130434782
         ],
         "xaxis": "x",
         "y": [
          80500
         ],
         "yaxis": "y"
        },
        {
         "hovertemplate": "Nome del Progetto=Gaslite<br>Media dei Voti=%{x}<br>Mediana dei Voti=%{y}<extra></extra>",
         "legendgroup": "Gaslite",
         "marker": {
          "color": "#00cc96",
          "symbol": "circle"
         },
         "mode": "markers",
         "name": "Gaslite",
         "orientation": "v",
         "showlegend": true,
         "type": "scatter",
         "x": [
          56775
         ],
         "xaxis": "x",
         "y": [
          50000
         ],
         "yaxis": "y"
        },
        {
         "hovertemplate": "Nome del Progetto=Gelato<br>Media dei Voti=%{x}<br>Mediana dei Voti=%{y}<extra></extra>",
         "legendgroup": "Gelato",
         "marker": {
          "color": "#ab63fa",
          "symbol": "circle"
         },
         "mode": "markers",
         "name": "Gelato",
         "orientation": "v",
         "showlegend": true,
         "type": "scatter",
         "x": [
          135820.6349206349
         ],
         "xaxis": "x",
         "y": [
          77000
         ],
         "yaxis": "y"
        },
        {
         "hovertemplate": "Nome del Progetto=Guild.xyz<br>Media dei Voti=%{x}<br>Mediana dei Voti=%{y}<extra></extra>",
         "legendgroup": "Guild.xyz",
         "marker": {
          "color": "#FFA15A",
          "symbol": "circle"
         },
         "mode": "markers",
         "name": "Guild.xyz",
         "orientation": "v",
         "showlegend": true,
         "type": "scatter",
         "x": [
          125475.40983606558
         ],
         "xaxis": "x",
         "y": [
          100000
         ],
         "yaxis": "y"
        },
        {
         "hovertemplate": "Nome del Progetto=Hardhat<br>Media dei Voti=%{x}<br>Mediana dei Voti=%{y}<extra></extra>",
         "legendgroup": "Hardhat",
         "marker": {
          "color": "#19d3f3",
          "symbol": "circle"
         },
         "mode": "markers",
         "name": "Hardhat",
         "orientation": "v",
         "showlegend": true,
         "type": "scatter",
         "x": [
          498440
         ],
         "xaxis": "x",
         "y": [
          295000
         ],
         "yaxis": "y"
        },
        {
         "hovertemplate": "Nome del Progetto=Hop DAO<br>Media dei Voti=%{x}<br>Mediana dei Voti=%{y}<extra></extra>",
         "legendgroup": "Hop DAO",
         "marker": {
          "color": "#FF6692",
          "symbol": "circle"
         },
         "mode": "markers",
         "name": "Hop DAO",
         "orientation": "v",
         "showlegend": true,
         "type": "scatter",
         "x": [
          222757.14285714287
         ],
         "xaxis": "x",
         "y": [
          50000
         ],
         "yaxis": "y"
        },
        {
         "hovertemplate": "Nome del Progetto=IPFS<br>Media dei Voti=%{x}<br>Mediana dei Voti=%{y}<extra></extra>",
         "legendgroup": "IPFS",
         "marker": {
          "color": "#B6E880",
          "symbol": "circle"
         },
         "mode": "markers",
         "name": "IPFS",
         "orientation": "v",
         "showlegend": true,
         "type": "scatter",
         "x": [
          397369.7368421053
         ],
         "xaxis": "x",
         "y": [
          235000
         ],
         "yaxis": "y"
        },
        {
         "hovertemplate": "Nome del Progetto=Interface<br>Media dei Voti=%{x}<br>Mediana dei Voti=%{y}<extra></extra>",
         "legendgroup": "Interface",
         "marker": {
          "color": "#FF97FF",
          "symbol": "circle"
         },
         "mode": "markers",
         "name": "Interface",
         "orientation": "v",
         "showlegend": true,
         "type": "scatter",
         "x": [
          51690.81081081081
         ],
         "xaxis": "x",
         "y": [
          39000
         ],
         "yaxis": "y"
        },
        {
         "hovertemplate": "Nome del Progetto=LandTorn - Lorak<br>Media dei Voti=%{x}<br>Mediana dei Voti=%{y}<extra></extra>",
         "legendgroup": "LandTorn - Lorak",
         "marker": {
          "color": "#FECB52",
          "symbol": "circle"
         },
         "mode": "markers",
         "name": "LandTorn - Lorak",
         "orientation": "v",
         "showlegend": true,
         "type": "scatter",
         "x": [
          46709.67741935484
         ],
         "xaxis": "x",
         "y": [
          39000
         ],
         "yaxis": "y"
        },
        {
         "hovertemplate": "Nome del Progetto=Lattice (OPCraft & MUD)<br>Media dei Voti=%{x}<br>Mediana dei Voti=%{y}<extra></extra>",
         "legendgroup": "Lattice (OPCraft & MUD)",
         "marker": {
          "color": "#636efa",
          "symbol": "circle"
         },
         "mode": "markers",
         "name": "Lattice (OPCraft & MUD)",
         "orientation": "v",
         "showlegend": true,
         "type": "scatter",
         "x": [
          528195.5223880596
         ],
         "xaxis": "x",
         "y": [
          200000
         ],
         "yaxis": "y"
        },
        {
         "hovertemplate": "Nome del Progetto=Launchcaster<br>Media dei Voti=%{x}<br>Mediana dei Voti=%{y}<extra></extra>",
         "legendgroup": "Launchcaster",
         "marker": {
          "color": "#EF553B",
          "symbol": "circle"
         },
         "mode": "markers",
         "name": "Launchcaster",
         "orientation": "v",
         "showlegend": true,
         "type": "scatter",
         "x": [
          39351.35135135135
         ],
         "xaxis": "x",
         "y": [
          39000
         ],
         "yaxis": "y"
        },
        {
         "hovertemplate": "Nome del Progetto=Layer3<br>Media dei Voti=%{x}<br>Mediana dei Voti=%{y}<extra></extra>",
         "legendgroup": "Layer3",
         "marker": {
          "color": "#00cc96",
          "symbol": "circle"
         },
         "mode": "markers",
         "name": "Layer3",
         "orientation": "v",
         "showlegend": true,
         "type": "scatter",
         "x": [
          102990
         ],
         "xaxis": "x",
         "y": [
          50000
         ],
         "yaxis": "y"
        },
        {
         "hovertemplate": "Nome del Progetto=LearnWeb3<br>Media dei Voti=%{x}<br>Mediana dei Voti=%{y}<extra></extra>",
         "legendgroup": "LearnWeb3",
         "marker": {
          "color": "#ab63fa",
          "symbol": "circle"
         },
         "mode": "markers",
         "name": "LearnWeb3",
         "orientation": "v",
         "showlegend": true,
         "type": "scatter",
         "x": [
          64360.46511627907
         ],
         "xaxis": "x",
         "y": [
          50000
         ],
         "yaxis": "y"
        },
        {
         "hovertemplate": "Nome del Progetto=Lore<br>Media dei Voti=%{x}<br>Mediana dei Voti=%{y}<extra></extra>",
         "legendgroup": "Lore",
         "marker": {
          "color": "#FFA15A",
          "symbol": "circle"
         },
         "mode": "markers",
         "name": "Lore",
         "orientation": "v",
         "showlegend": true,
         "type": "scatter",
         "x": [
          70876.92307692308
         ],
         "xaxis": "x",
         "y": [
          50000
         ],
         "yaxis": "y"
        },
        {
         "hovertemplate": "Nome del Progetto=Messari<br>Media dei Voti=%{x}<br>Mediana dei Voti=%{y}<extra></extra>",
         "legendgroup": "Messari",
         "marker": {
          "color": "#19d3f3",
          "symbol": "circle"
         },
         "mode": "markers",
         "name": "Messari",
         "orientation": "v",
         "showlegend": true,
         "type": "scatter",
         "x": [
          50523.71052631579
         ],
         "xaxis": "x",
         "y": [
          25000
         ],
         "yaxis": "y"
        },
        {
         "hovertemplate": "Nome del Progetto=Mirror<br>Media dei Voti=%{x}<br>Mediana dei Voti=%{y}<extra></extra>",
         "legendgroup": "Mirror",
         "marker": {
          "color": "#FF6692",
          "symbol": "circle"
         },
         "mode": "markers",
         "name": "Mirror",
         "orientation": "v",
         "showlegend": true,
         "type": "scatter",
         "x": [
          223486.11111111112
         ],
         "xaxis": "x",
         "y": [
          120000
         ],
         "yaxis": "y"
        },
        {
         "hovertemplate": "Nome del Progetto=Modular Crypto<br>Media dei Voti=%{x}<br>Mediana dei Voti=%{y}<extra></extra>",
         "legendgroup": "Modular Crypto",
         "marker": {
          "color": "#B6E880",
          "symbol": "circle"
         },
         "mode": "markers",
         "name": "Modular Crypto",
         "orientation": "v",
         "showlegend": true,
         "type": "scatter",
         "x": [
          41438.77551020408
         ],
         "xaxis": "x",
         "y": [
          15000
         ],
         "yaxis": "y"
        },
        {
         "hovertemplate": "Nome del Progetto=Moonwell<br>Media dei Voti=%{x}<br>Mediana dei Voti=%{y}<extra></extra>",
         "legendgroup": "Moonwell",
         "marker": {
          "color": "#FF97FF",
          "symbol": "circle"
         },
         "mode": "markers",
         "name": "Moonwell",
         "orientation": "v",
         "showlegend": true,
         "type": "scatter",
         "x": [
          95792.1052631579
         ],
         "xaxis": "x",
         "y": [
          54500
         ],
         "yaxis": "y"
        },
        {
         "hovertemplate": "Nome del Progetto=Moso<br>Media dei Voti=%{x}<br>Mediana dei Voti=%{y}<extra></extra>",
         "legendgroup": "Moso",
         "marker": {
          "color": "#FECB52",
          "symbol": "circle"
         },
         "mode": "markers",
         "name": "Moso",
         "orientation": "v",
         "showlegend": true,
         "type": "scatter",
         "x": [
          51448.275862068964
         ],
         "xaxis": "x",
         "y": [
          57000
         ],
         "yaxis": "y"
        },
        {
         "hovertemplate": "Nome del Progetto=OP Reth<br>Media dei Voti=%{x}<br>Mediana dei Voti=%{y}<extra></extra>",
         "legendgroup": "OP Reth",
         "marker": {
          "color": "#636efa",
          "symbol": "circle"
         },
         "mode": "markers",
         "name": "OP Reth",
         "orientation": "v",
         "showlegend": true,
         "type": "scatter",
         "x": [
          262953.125
         ],
         "xaxis": "x",
         "y": [
          165000
         ],
         "yaxis": "y"
        },
        {
         "hovertemplate": "Nome del Progetto=Odos<br>Media dei Voti=%{x}<br>Mediana dei Voti=%{y}<extra></extra>",
         "legendgroup": "Odos",
         "marker": {
          "color": "#EF553B",
          "symbol": "circle"
         },
         "mode": "markers",
         "name": "Odos",
         "orientation": "v",
         "showlegend": true,
         "type": "scatter",
         "x": [
          48790
         ],
         "xaxis": "x",
         "y": [
          50000
         ],
         "yaxis": "y"
        },
        {
         "hovertemplate": "Nome del Progetto=OpenZeppelin Contracts<br>Media dei Voti=%{x}<br>Mediana dei Voti=%{y}<extra></extra>",
         "legendgroup": "OpenZeppelin Contracts",
         "marker": {
          "color": "#00cc96",
          "symbol": "circle"
         },
         "mode": "markers",
         "name": "OpenZeppelin Contracts",
         "orientation": "v",
         "showlegend": true,
         "type": "scatter",
         "x": [
          409347.82608695654
         ],
         "xaxis": "x",
         "y": [
          250000
         ],
         "yaxis": "y"
        },
        {
         "hovertemplate": "Nome del Progetto=Otterscan<br>Media dei Voti=%{x}<br>Mediana dei Voti=%{y}<extra></extra>",
         "legendgroup": "Otterscan",
         "marker": {
          "color": "#ab63fa",
          "symbol": "circle"
         },
         "mode": "markers",
         "name": "Otterscan",
         "orientation": "v",
         "showlegend": true,
         "type": "scatter",
         "x": [
          312031.63265306124
         ],
         "xaxis": "x",
         "y": [
          180000
         ],
         "yaxis": "y"
        },
        {
         "hovertemplate": "Nome del Progetto=Ponder<br>Media dei Voti=%{x}<br>Mediana dei Voti=%{y}<extra></extra>",
         "legendgroup": "Ponder",
         "marker": {
          "color": "#FFA15A",
          "symbol": "circle"
         },
         "mode": "markers",
         "name": "Ponder",
         "orientation": "v",
         "showlegend": true,
         "type": "scatter",
         "x": [
          46686.84210526316
         ],
         "xaxis": "x",
         "y": [
          50000
         ],
         "yaxis": "y"
        },
        {
         "hovertemplate": "Nome del Progetto=Rainbow Wallet<br>Media dei Voti=%{x}<br>Mediana dei Voti=%{y}<extra></extra>",
         "legendgroup": "Rainbow Wallet",
         "marker": {
          "color": "#19d3f3",
          "symbol": "circle"
         },
         "mode": "markers",
         "name": "Rainbow Wallet",
         "orientation": "v",
         "showlegend": true,
         "type": "scatter",
         "x": [
          170528.08771929826
         ],
         "xaxis": "x",
         "y": [
          77000
         ],
         "yaxis": "y"
        },
        {
         "hovertemplate": "Nome del Progetto=RainbowKit<br>Media dei Voti=%{x}<br>Mediana dei Voti=%{y}<extra></extra>",
         "legendgroup": "RainbowKit",
         "marker": {
          "color": "#FF6692",
          "symbol": "circle"
         },
         "mode": "markers",
         "name": "RainbowKit",
         "orientation": "v",
         "showlegend": true,
         "type": "scatter",
         "x": [
          205970.5128205128
         ],
         "xaxis": "x",
         "y": [
          100000
         ],
         "yaxis": "y"
        },
        {
         "hovertemplate": "Nome del Progetto=Revoke.cash<br>Media dei Voti=%{x}<br>Mediana dei Voti=%{y}<extra></extra>",
         "legendgroup": "Revoke.cash",
         "marker": {
          "color": "#B6E880",
          "symbol": "circle"
         },
         "mode": "markers",
         "name": "Revoke.cash",
         "orientation": "v",
         "showlegend": true,
         "type": "scatter",
         "x": [
          245247.19101123596
         ],
         "xaxis": "x",
         "y": [
          150000
         ],
         "yaxis": "y"
        },
        {
         "hovertemplate": "Nome del Progetto=Rollup.codes<br>Media dei Voti=%{x}<br>Mediana dei Voti=%{y}<extra></extra>",
         "legendgroup": "Rollup.codes",
         "marker": {
          "color": "#FF97FF",
          "symbol": "circle"
         },
         "mode": "markers",
         "name": "Rollup.codes",
         "orientation": "v",
         "showlegend": true,
         "type": "scatter",
         "x": [
          88052.63157894737
         ],
         "xaxis": "x",
         "y": [
          50000
         ],
         "yaxis": "y"
        },
        {
         "hovertemplate": "Nome del Progetto=Socket<br>Media dei Voti=%{x}<br>Mediana dei Voti=%{y}<extra></extra>",
         "legendgroup": "Socket",
         "marker": {
          "color": "#FECB52",
          "symbol": "circle"
         },
         "mode": "markers",
         "name": "Socket",
         "orientation": "v",
         "showlegend": true,
         "type": "scatter",
         "x": [
          114080
         ],
         "xaxis": "x",
         "y": [
          77000
         ],
         "yaxis": "y"
        },
        {
         "hovertemplate": "Nome del Progetto=Solidity<br>Media dei Voti=%{x}<br>Mediana dei Voti=%{y}<extra></extra>",
         "legendgroup": "Solidity",
         "marker": {
          "color": "#636efa",
          "symbol": "circle"
         },
         "mode": "markers",
         "name": "Solidity",
         "orientation": "v",
         "showlegend": true,
         "type": "scatter",
         "x": [
          814908.3333333334
         ],
         "xaxis": "x",
         "y": [
          465000
         ],
         "yaxis": "y"
        },
        {
         "hovertemplate": "Nome del Progetto=Splits<br>Media dei Voti=%{x}<br>Mediana dei Voti=%{y}<extra></extra>",
         "legendgroup": "Splits",
         "marker": {
          "color": "#EF553B",
          "symbol": "circle"
         },
         "mode": "markers",
         "name": "Splits",
         "orientation": "v",
         "showlegend": true,
         "type": "scatter",
         "x": [
          193436.36363636365
         ],
         "xaxis": "x",
         "y": [
          100000
         ],
         "yaxis": "y"
        },
        {
         "hovertemplate": "Nome del Progetto=Superscan<br>Media dei Voti=%{x}<br>Mediana dei Voti=%{y}<extra></extra>",
         "legendgroup": "Superscan",
         "marker": {
          "color": "#00cc96",
          "symbol": "circle"
         },
         "mode": "markers",
         "name": "Superscan",
         "orientation": "v",
         "showlegend": true,
         "type": "scatter",
         "x": [
          71863.63636363637
         ],
         "xaxis": "x",
         "y": [
          57500
         ],
         "yaxis": "y"
        },
        {
         "hovertemplate": "Nome del Progetto=Surreal<br>Media dei Voti=%{x}<br>Mediana dei Voti=%{y}<extra></extra>",
         "legendgroup": "Surreal",
         "marker": {
          "color": "#ab63fa",
          "symbol": "circle"
         },
         "mode": "markers",
         "name": "Surreal",
         "orientation": "v",
         "showlegend": true,
         "type": "scatter",
         "x": [
          30559.25925925926
         ],
         "xaxis": "x",
         "y": [
          39000
         ],
         "yaxis": "y"
        },
        {
         "hovertemplate": "Nome del Progetto=Synthetix<br>Media dei Voti=%{x}<br>Mediana dei Voti=%{y}<extra></extra>",
         "legendgroup": "Synthetix",
         "marker": {
          "color": "#FFA15A",
          "symbol": "circle"
         },
         "mode": "markers",
         "name": "Synthetix",
         "orientation": "v",
         "showlegend": true,
         "type": "scatter",
         "x": [
          333096.24528301886
         ],
         "xaxis": "x",
         "y": [
          100000
         ],
         "yaxis": "y"
        },
        {
         "hovertemplate": "Nome del Progetto=Tenderly<br>Media dei Voti=%{x}<br>Mediana dei Voti=%{y}<extra></extra>",
         "legendgroup": "Tenderly",
         "marker": {
          "color": "#19d3f3",
          "symbol": "circle"
         },
         "mode": "markers",
         "name": "Tenderly",
         "orientation": "v",
         "showlegend": true,
         "type": "scatter",
         "x": [
          190557.54794520547
         ],
         "xaxis": "x",
         "y": [
          77000
         ],
         "yaxis": "y"
        },
        {
         "hovertemplate": "Nome del Progetto=Test in Prod<br>Media dei Voti=%{x}<br>Mediana dei Voti=%{y}<extra></extra>",
         "legendgroup": "Test in Prod",
         "marker": {
          "color": "#FF6692",
          "symbol": "circle"
         },
         "mode": "markers",
         "name": "Test in Prod",
         "orientation": "v",
         "showlegend": true,
         "type": "scatter",
         "x": [
          496072.46376811597
         ],
         "xaxis": "x",
         "y": [
          300000
         ],
         "yaxis": "y"
        },
        {
         "hovertemplate": "Nome del Progetto=Token Terminal<br>Media dei Voti=%{x}<br>Mediana dei Voti=%{y}<extra></extra>",
         "legendgroup": "Token Terminal",
         "marker": {
          "color": "#B6E880",
          "symbol": "circle"
         },
         "mode": "markers",
         "name": "Token Terminal",
         "orientation": "v",
         "showlegend": true,
         "type": "scatter",
         "x": [
          106055.55555555556
         ],
         "xaxis": "x",
         "y": [
          40000
         ],
         "yaxis": "y"
        },
        {
         "hovertemplate": "Nome del Progetto=Tokepad<br>Media dei Voti=%{x}<br>Mediana dei Voti=%{y}<extra></extra>",
         "legendgroup": "Tokepad",
         "marker": {
          "color": "#FF97FF",
          "symbol": "circle"
         },
         "mode": "markers",
         "name": "Tokepad",
         "orientation": "v",
         "showlegend": true,
         "type": "scatter",
         "x": [
          26277.777777777777
         ],
         "xaxis": "x",
         "y": [
          27000
         ],
         "yaxis": "y"
        },
        {
         "hovertemplate": "Nome del Progetto=Vectorized<br>Media dei Voti=%{x}<br>Mediana dei Voti=%{y}<extra></extra>",
         "legendgroup": "Vectorized",
         "marker": {
          "color": "#FECB52",
          "symbol": "circle"
         },
         "mode": "markers",
         "name": "Vectorized",
         "orientation": "v",
         "showlegend": true,
         "type": "scatter",
         "x": [
          190494.3661971831
         ],
         "xaxis": "x",
         "y": [
          100000
         ],
         "yaxis": "y"
        },
        {
         "hovertemplate": "Nome del Progetto=Velocimeter<br>Media dei Voti=%{x}<br>Mediana dei Voti=%{y}<extra></extra>",
         "legendgroup": "Velocimeter",
         "marker": {
          "color": "#636efa",
          "symbol": "circle"
         },
         "mode": "markers",
         "name": "Velocimeter",
         "orientation": "v",
         "showlegend": true,
         "type": "scatter",
         "x": [
          50148.148148148146
         ],
         "xaxis": "x",
         "y": [
          53000
         ],
         "yaxis": "y"
        },
        {
         "hovertemplate": "Nome del Progetto=WASD<br>Media dei Voti=%{x}<br>Mediana dei Voti=%{y}<extra></extra>",
         "legendgroup": "WASD",
         "marker": {
          "color": "#EF553B",
          "symbol": "circle"
         },
         "mode": "markers",
         "name": "WASD",
         "orientation": "v",
         "showlegend": true,
         "type": "scatter",
         "x": [
          199722.22222222222
         ],
         "xaxis": "x",
         "y": [
          75000
         ],
         "yaxis": "y"
        },
        {
         "hovertemplate": "Nome del Progetto=Wagmi / Viem<br>Media dei Voti=%{x}<br>Mediana dei Voti=%{y}<extra></extra>",
         "legendgroup": "Wagmi / Viem",
         "marker": {
          "color": "#00cc96",
          "symbol": "circle"
         },
         "mode": "markers",
         "name": "Wagmi / Viem",
         "orientation": "v",
         "showlegend": true,
         "type": "scatter",
         "x": [
          485736.7816091954
         ],
         "xaxis": "x",
         "y": [
          200000
         ],
         "yaxis": "y"
        },
        {
         "hovertemplate": "Nome del Progetto=Week in Ethereum News<br>Media dei Voti=%{x}<br>Mediana dei Voti=%{y}<extra></extra>",
         "legendgroup": "Week in Ethereum News",
         "marker": {
          "color": "#ab63fa",
          "symbol": "circle"
         },
         "mode": "markers",
         "name": "Week in Ethereum News",
         "orientation": "v",
         "showlegend": true,
         "type": "scatter",
         "x": [
          192812.16216216216
         ],
         "xaxis": "x",
         "y": [
          67500
         ],
         "yaxis": "y"
        },
        {
         "hovertemplate": "Nome del Progetto=Xofee<br>Media dei Voti=%{x}<br>Mediana dei Voti=%{y}<extra></extra>",
         "legendgroup": "Xofee",
         "marker": {
          "color": "#FFA15A",
          "symbol": "circle"
         },
         "mode": "markers",
         "name": "Xofee",
         "orientation": "v",
         "showlegend": true,
         "type": "scatter",
         "x": [
          47233.333333333336
         ],
         "xaxis": "x",
         "y": [
          50500
         ],
         "yaxis": "y"
        },
        {
         "hovertemplate": "Nome del Progetto=ethers.js<br>Media dei Voti=%{x}<br>Mediana dei Voti=%{y}<extra></extra>",
         "legendgroup": "ethers.js",
         "marker": {
          "color": "#19d3f3",
          "symbol": "circle"
         },
         "mode": "markers",
         "name": "ethers.js",
         "orientation": "v",
         "showlegend": true,
         "type": "scatter",
         "x": [
          560452.8301886793
         ],
         "xaxis": "x",
         "y": [
          300000
         ],
         "yaxis": "y"
        },
        {
         "hovertemplate": "Nome del Progetto=go-ethereum<br>Media dei Voti=%{x}<br>Mediana dei Voti=%{y}<extra></extra>",
         "legendgroup": "go-ethereum",
         "marker": {
          "color": "#FF6692",
          "symbol": "circle"
         },
         "mode": "markers",
         "name": "go-ethereum",
         "orientation": "v",
         "showlegend": true,
         "type": "scatter",
         "x": [
          833331
         ],
         "xaxis": "x",
         "y": [
          500000
         ],
         "yaxis": "y"
        },
        {
         "hovertemplate": "Nome del Progetto=growthepie<br>Media dei Voti=%{x}<br>Mediana dei Voti=%{y}<extra></extra>",
         "legendgroup": "growthepie",
         "marker": {
          "color": "#B6E880",
          "symbol": "circle"
         },
         "mode": "markers",
         "name": "growthepie",
         "orientation": "v",
         "showlegend": true,
         "type": "scatter",
         "x": [
          140692.3076923077
         ],
         "xaxis": "x",
         "y": [
          77000
         ],
         "yaxis": "y"
        },
        {
         "hovertemplate": "Nome del Progetto=rhino.fi<br>Media dei Voti=%{x}<br>Mediana dei Voti=%{y}<extra></extra>",
         "legendgroup": "rhino.fi",
         "marker": {
          "color": "#FF97FF",
          "symbol": "circle"
         },
         "mode": "markers",
         "name": "rhino.fi",
         "orientation": "v",
         "showlegend": true,
         "type": "scatter",
         "x": [
          32187.5
         ],
         "xaxis": "x",
         "y": [
          39000
         ],
         "yaxis": "y"
        }
       ],
       "layout": {
        "legend": {
         "title": {
          "text": "Nome del Progetto"
         },
         "tracegroupgap": 0
        },
        "template": {
         "data": {
          "bar": [
           {
            "error_x": {
             "color": "#2a3f5f"
            },
            "error_y": {
             "color": "#2a3f5f"
            },
            "marker": {
             "line": {
              "color": "#E5ECF6",
              "width": 0.5
             },
             "pattern": {
              "fillmode": "overlay",
              "size": 10,
              "solidity": 0.2
             }
            },
            "type": "bar"
           }
          ],
          "barpolar": [
           {
            "marker": {
             "line": {
              "color": "#E5ECF6",
              "width": 0.5
             },
             "pattern": {
              "fillmode": "overlay",
              "size": 10,
              "solidity": 0.2
             }
            },
            "type": "barpolar"
           }
          ],
          "carpet": [
           {
            "aaxis": {
             "endlinecolor": "#2a3f5f",
             "gridcolor": "white",
             "linecolor": "white",
             "minorgridcolor": "white",
             "startlinecolor": "#2a3f5f"
            },
            "baxis": {
             "endlinecolor": "#2a3f5f",
             "gridcolor": "white",
             "linecolor": "white",
             "minorgridcolor": "white",
             "startlinecolor": "#2a3f5f"
            },
            "type": "carpet"
           }
          ],
          "choropleth": [
           {
            "colorbar": {
             "outlinewidth": 0,
             "ticks": ""
            },
            "type": "choropleth"
           }
          ],
          "contour": [
           {
            "colorbar": {
             "outlinewidth": 0,
             "ticks": ""
            },
            "colorscale": [
             [
              0,
              "#0d0887"
             ],
             [
              0.1111111111111111,
              "#46039f"
             ],
             [
              0.2222222222222222,
              "#7201a8"
             ],
             [
              0.3333333333333333,
              "#9c179e"
             ],
             [
              0.4444444444444444,
              "#bd3786"
             ],
             [
              0.5555555555555556,
              "#d8576b"
             ],
             [
              0.6666666666666666,
              "#ed7953"
             ],
             [
              0.7777777777777778,
              "#fb9f3a"
             ],
             [
              0.8888888888888888,
              "#fdca26"
             ],
             [
              1,
              "#f0f921"
             ]
            ],
            "type": "contour"
           }
          ],
          "contourcarpet": [
           {
            "colorbar": {
             "outlinewidth": 0,
             "ticks": ""
            },
            "type": "contourcarpet"
           }
          ],
          "heatmap": [
           {
            "colorbar": {
             "outlinewidth": 0,
             "ticks": ""
            },
            "colorscale": [
             [
              0,
              "#0d0887"
             ],
             [
              0.1111111111111111,
              "#46039f"
             ],
             [
              0.2222222222222222,
              "#7201a8"
             ],
             [
              0.3333333333333333,
              "#9c179e"
             ],
             [
              0.4444444444444444,
              "#bd3786"
             ],
             [
              0.5555555555555556,
              "#d8576b"
             ],
             [
              0.6666666666666666,
              "#ed7953"
             ],
             [
              0.7777777777777778,
              "#fb9f3a"
             ],
             [
              0.8888888888888888,
              "#fdca26"
             ],
             [
              1,
              "#f0f921"
             ]
            ],
            "type": "heatmap"
           }
          ],
          "heatmapgl": [
           {
            "colorbar": {
             "outlinewidth": 0,
             "ticks": ""
            },
            "colorscale": [
             [
              0,
              "#0d0887"
             ],
             [
              0.1111111111111111,
              "#46039f"
             ],
             [
              0.2222222222222222,
              "#7201a8"
             ],
             [
              0.3333333333333333,
              "#9c179e"
             ],
             [
              0.4444444444444444,
              "#bd3786"
             ],
             [
              0.5555555555555556,
              "#d8576b"
             ],
             [
              0.6666666666666666,
              "#ed7953"
             ],
             [
              0.7777777777777778,
              "#fb9f3a"
             ],
             [
              0.8888888888888888,
              "#fdca26"
             ],
             [
              1,
              "#f0f921"
             ]
            ],
            "type": "heatmapgl"
           }
          ],
          "histogram": [
           {
            "marker": {
             "pattern": {
              "fillmode": "overlay",
              "size": 10,
              "solidity": 0.2
             }
            },
            "type": "histogram"
           }
          ],
          "histogram2d": [
           {
            "colorbar": {
             "outlinewidth": 0,
             "ticks": ""
            },
            "colorscale": [
             [
              0,
              "#0d0887"
             ],
             [
              0.1111111111111111,
              "#46039f"
             ],
             [
              0.2222222222222222,
              "#7201a8"
             ],
             [
              0.3333333333333333,
              "#9c179e"
             ],
             [
              0.4444444444444444,
              "#bd3786"
             ],
             [
              0.5555555555555556,
              "#d8576b"
             ],
             [
              0.6666666666666666,
              "#ed7953"
             ],
             [
              0.7777777777777778,
              "#fb9f3a"
             ],
             [
              0.8888888888888888,
              "#fdca26"
             ],
             [
              1,
              "#f0f921"
             ]
            ],
            "type": "histogram2d"
           }
          ],
          "histogram2dcontour": [
           {
            "colorbar": {
             "outlinewidth": 0,
             "ticks": ""
            },
            "colorscale": [
             [
              0,
              "#0d0887"
             ],
             [
              0.1111111111111111,
              "#46039f"
             ],
             [
              0.2222222222222222,
              "#7201a8"
             ],
             [
              0.3333333333333333,
              "#9c179e"
             ],
             [
              0.4444444444444444,
              "#bd3786"
             ],
             [
              0.5555555555555556,
              "#d8576b"
             ],
             [
              0.6666666666666666,
              "#ed7953"
             ],
             [
              0.7777777777777778,
              "#fb9f3a"
             ],
             [
              0.8888888888888888,
              "#fdca26"
             ],
             [
              1,
              "#f0f921"
             ]
            ],
            "type": "histogram2dcontour"
           }
          ],
          "mesh3d": [
           {
            "colorbar": {
             "outlinewidth": 0,
             "ticks": ""
            },
            "type": "mesh3d"
           }
          ],
          "parcoords": [
           {
            "line": {
             "colorbar": {
              "outlinewidth": 0,
              "ticks": ""
             }
            },
            "type": "parcoords"
           }
          ],
          "pie": [
           {
            "automargin": true,
            "type": "pie"
           }
          ],
          "scatter": [
           {
            "fillpattern": {
             "fillmode": "overlay",
             "size": 10,
             "solidity": 0.2
            },
            "type": "scatter"
           }
          ],
          "scatter3d": [
           {
            "line": {
             "colorbar": {
              "outlinewidth": 0,
              "ticks": ""
             }
            },
            "marker": {
             "colorbar": {
              "outlinewidth": 0,
              "ticks": ""
             }
            },
            "type": "scatter3d"
           }
          ],
          "scattercarpet": [
           {
            "marker": {
             "colorbar": {
              "outlinewidth": 0,
              "ticks": ""
             }
            },
            "type": "scattercarpet"
           }
          ],
          "scattergeo": [
           {
            "marker": {
             "colorbar": {
              "outlinewidth": 0,
              "ticks": ""
             }
            },
            "type": "scattergeo"
           }
          ],
          "scattergl": [
           {
            "marker": {
             "colorbar": {
              "outlinewidth": 0,
              "ticks": ""
             }
            },
            "type": "scattergl"
           }
          ],
          "scattermapbox": [
           {
            "marker": {
             "colorbar": {
              "outlinewidth": 0,
              "ticks": ""
             }
            },
            "type": "scattermapbox"
           }
          ],
          "scatterpolar": [
           {
            "marker": {
             "colorbar": {
              "outlinewidth": 0,
              "ticks": ""
             }
            },
            "type": "scatterpolar"
           }
          ],
          "scatterpolargl": [
           {
            "marker": {
             "colorbar": {
              "outlinewidth": 0,
              "ticks": ""
             }
            },
            "type": "scatterpolargl"
           }
          ],
          "scatterternary": [
           {
            "marker": {
             "colorbar": {
              "outlinewidth": 0,
              "ticks": ""
             }
            },
            "type": "scatterternary"
           }
          ],
          "surface": [
           {
            "colorbar": {
             "outlinewidth": 0,
             "ticks": ""
            },
            "colorscale": [
             [
              0,
              "#0d0887"
             ],
             [
              0.1111111111111111,
              "#46039f"
             ],
             [
              0.2222222222222222,
              "#7201a8"
             ],
             [
              0.3333333333333333,
              "#9c179e"
             ],
             [
              0.4444444444444444,
              "#bd3786"
             ],
             [
              0.5555555555555556,
              "#d8576b"
             ],
             [
              0.6666666666666666,
              "#ed7953"
             ],
             [
              0.7777777777777778,
              "#fb9f3a"
             ],
             [
              0.8888888888888888,
              "#fdca26"
             ],
             [
              1,
              "#f0f921"
             ]
            ],
            "type": "surface"
           }
          ],
          "table": [
           {
            "cells": {
             "fill": {
              "color": "#EBF0F8"
             },
             "line": {
              "color": "white"
             }
            },
            "header": {
             "fill": {
              "color": "#C8D4E3"
             },
             "line": {
              "color": "white"
             }
            },
            "type": "table"
           }
          ]
         },
         "layout": {
          "annotationdefaults": {
           "arrowcolor": "#2a3f5f",
           "arrowhead": 0,
           "arrowwidth": 1
          },
          "autotypenumbers": "strict",
          "coloraxis": {
           "colorbar": {
            "outlinewidth": 0,
            "ticks": ""
           }
          },
          "colorscale": {
           "diverging": [
            [
             0,
             "#8e0152"
            ],
            [
             0.1,
             "#c51b7d"
            ],
            [
             0.2,
             "#de77ae"
            ],
            [
             0.3,
             "#f1b6da"
            ],
            [
             0.4,
             "#fde0ef"
            ],
            [
             0.5,
             "#f7f7f7"
            ],
            [
             0.6,
             "#e6f5d0"
            ],
            [
             0.7,
             "#b8e186"
            ],
            [
             0.8,
             "#7fbc41"
            ],
            [
             0.9,
             "#4d9221"
            ],
            [
             1,
             "#276419"
            ]
           ],
           "sequential": [
            [
             0,
             "#0d0887"
            ],
            [
             0.1111111111111111,
             "#46039f"
            ],
            [
             0.2222222222222222,
             "#7201a8"
            ],
            [
             0.3333333333333333,
             "#9c179e"
            ],
            [
             0.4444444444444444,
             "#bd3786"
            ],
            [
             0.5555555555555556,
             "#d8576b"
            ],
            [
             0.6666666666666666,
             "#ed7953"
            ],
            [
             0.7777777777777778,
             "#fb9f3a"
            ],
            [
             0.8888888888888888,
             "#fdca26"
            ],
            [
             1,
             "#f0f921"
            ]
           ],
           "sequentialminus": [
            [
             0,
             "#0d0887"
            ],
            [
             0.1111111111111111,
             "#46039f"
            ],
            [
             0.2222222222222222,
             "#7201a8"
            ],
            [
             0.3333333333333333,
             "#9c179e"
            ],
            [
             0.4444444444444444,
             "#bd3786"
            ],
            [
             0.5555555555555556,
             "#d8576b"
            ],
            [
             0.6666666666666666,
             "#ed7953"
            ],
            [
             0.7777777777777778,
             "#fb9f3a"
            ],
            [
             0.8888888888888888,
             "#fdca26"
            ],
            [
             1,
             "#f0f921"
            ]
           ]
          },
          "colorway": [
           "#636efa",
           "#EF553B",
           "#00cc96",
           "#ab63fa",
           "#FFA15A",
           "#19d3f3",
           "#FF6692",
           "#B6E880",
           "#FF97FF",
           "#FECB52"
          ],
          "font": {
           "color": "#2a3f5f"
          },
          "geo": {
           "bgcolor": "white",
           "lakecolor": "white",
           "landcolor": "#E5ECF6",
           "showlakes": true,
           "showland": true,
           "subunitcolor": "white"
          },
          "hoverlabel": {
           "align": "left"
          },
          "hovermode": "closest",
          "mapbox": {
           "style": "light"
          },
          "paper_bgcolor": "white",
          "plot_bgcolor": "#E5ECF6",
          "polar": {
           "angularaxis": {
            "gridcolor": "white",
            "linecolor": "white",
            "ticks": ""
           },
           "bgcolor": "#E5ECF6",
           "radialaxis": {
            "gridcolor": "white",
            "linecolor": "white",
            "ticks": ""
           }
          },
          "scene": {
           "xaxis": {
            "backgroundcolor": "#E5ECF6",
            "gridcolor": "white",
            "gridwidth": 2,
            "linecolor": "white",
            "showbackground": true,
            "ticks": "",
            "zerolinecolor": "white"
           },
           "yaxis": {
            "backgroundcolor": "#E5ECF6",
            "gridcolor": "white",
            "gridwidth": 2,
            "linecolor": "white",
            "showbackground": true,
            "ticks": "",
            "zerolinecolor": "white"
           },
           "zaxis": {
            "backgroundcolor": "#E5ECF6",
            "gridcolor": "white",
            "gridwidth": 2,
            "linecolor": "white",
            "showbackground": true,
            "ticks": "",
            "zerolinecolor": "white"
           }
          },
          "shapedefaults": {
           "line": {
            "color": "#2a3f5f"
           }
          },
          "ternary": {
           "aaxis": {
            "gridcolor": "white",
            "linecolor": "white",
            "ticks": ""
           },
           "baxis": {
            "gridcolor": "white",
            "linecolor": "white",
            "ticks": ""
           },
           "bgcolor": "#E5ECF6",
           "caxis": {
            "gridcolor": "white",
            "linecolor": "white",
            "ticks": ""
           }
          },
          "title": {
           "x": 0.05
          },
          "xaxis": {
           "automargin": true,
           "gridcolor": "white",
           "linecolor": "white",
           "ticks": "",
           "title": {
            "standoff": 15
           },
           "zerolinecolor": "white",
           "zerolinewidth": 2
          },
          "yaxis": {
           "automargin": true,
           "gridcolor": "white",
           "linecolor": "white",
           "ticks": "",
           "title": {
            "standoff": 15
           },
           "zerolinecolor": "white",
           "zerolinewidth": 2
          }
         }
        },
        "title": {
         "text": "Confronto tra Progetti"
        },
        "xaxis": {
         "anchor": "y",
         "domain": [
          0,
          1
         ],
         "title": {
          "text": "Media dei Voti"
         }
        },
        "yaxis": {
         "anchor": "x",
         "domain": [
          0,
          1
         ],
         "title": {
          "text": "Mediana dei Voti"
         }
        }
       }
      }
     },
     "metadata": {},
     "output_type": "display_data"
    }
   ],
   "source": [
    "df['mean_vote'] = df['votes'].apply(np.mean)\n",
    "df['median_vote'] = df['votes'].apply(np.median)\n",
    "\n",
    "fig = px.scatter(df, x='mean_vote', y='median_vote', color='project_name',\n",
    "                 labels={'mean_vote': 'Media dei Voti', 'median_vote': 'Mediana dei Voti', 'project_name': 'Nome del Progetto'},\n",
    "                 title='Confronto tra Progetti')\n",
    "\n",
    "fig.show()\n"
   ]
  },
  {
   "cell_type": "code",
   "execution_count": 13,
   "metadata": {},
   "outputs": [
    {
     "data": {
      "text/html": [
       "<div>\n",
       "<style scoped>\n",
       "    .dataframe tbody tr th:only-of-type {\n",
       "        vertical-align: middle;\n",
       "    }\n",
       "\n",
       "    .dataframe tbody tr th {\n",
       "        vertical-align: top;\n",
       "    }\n",
       "\n",
       "    .dataframe thead th {\n",
       "        text-align: right;\n",
       "    }\n",
       "</style>\n",
       "<table border=\"1\" class=\"dataframe\">\n",
       "  <thead>\n",
       "    <tr style=\"text-align: right;\">\n",
       "      <th></th>\n",
       "      <th>index</th>\n",
       "      <th>project_name</th>\n",
       "      <th>votes</th>\n",
       "      <th>number_of_votes</th>\n",
       "      <th>base_vote</th>\n",
       "      <th>base_vote_round</th>\n",
       "      <th>median</th>\n",
       "      <th>mean</th>\n",
       "      <th>median_without_base</th>\n",
       "      <th>mean_without_base</th>\n",
       "      <th>difference</th>\n",
       "      <th>difference_mean</th>\n",
       "      <th>difference_median_0</th>\n",
       "      <th>mean_vote</th>\n",
       "      <th>median_vote</th>\n",
       "    </tr>\n",
       "  </thead>\n",
       "  <tbody>\n",
       "    <tr>\n",
       "      <th>52</th>\n",
       "      <td>480</td>\n",
       "      <td>Superscan</td>\n",
       "      <td>[77000.0, 50000.0, 75000.0, 78000.0, 12000.0, ...</td>\n",
       "      <td>45</td>\n",
       "      <td>76923.0</td>\n",
       "      <td>77000.0</td>\n",
       "      <td>65000.0</td>\n",
       "      <td>71977.777778</td>\n",
       "      <td>57500.0</td>\n",
       "      <td>71863.636364</td>\n",
       "      <td>-7500.0</td>\n",
       "      <td>-114.141414</td>\n",
       "      <td>-7500.0</td>\n",
       "      <td>71863.636364</td>\n",
       "      <td>57500.0</td>\n",
       "    </tr>\n",
       "  </tbody>\n",
       "</table>\n",
       "</div>"
      ],
      "text/plain": [
       "    index project_name                                              votes  \\\n",
       "52    480    Superscan  [77000.0, 50000.0, 75000.0, 78000.0, 12000.0, ...   \n",
       "\n",
       "    number_of_votes  base_vote  base_vote_round   median          mean  \\\n",
       "52               45    76923.0          77000.0  65000.0  71977.777778   \n",
       "\n",
       "    median_without_base  mean_without_base  difference  difference_mean  \\\n",
       "52              57500.0       71863.636364     -7500.0      -114.141414   \n",
       "\n",
       "    difference_median_0     mean_vote  median_vote  \n",
       "52              -7500.0  71863.636364      57500.0  "
      ]
     },
     "execution_count": 13,
     "metadata": {},
     "output_type": "execute_result"
    }
   ],
   "source": [
    "df[df[\"project_name\"]==\"Superscan\"]"
   ]
  },
  {
   "cell_type": "code",
   "execution_count": 14,
   "metadata": {},
   "outputs": [
    {
     "data": {
      "text/plain": [
       "69"
      ]
     },
     "execution_count": 14,
     "metadata": {},
     "output_type": "execute_result"
    }
   ],
   "source": [
    "len(df)"
   ]
  }
 ],
 "metadata": {
  "kernelspec": {
   "display_name": "ava",
   "language": "python",
   "name": "python3"
  },
  "language_info": {
   "codemirror_mode": {
    "name": "ipython",
    "version": 3
   },
   "file_extension": ".py",
   "mimetype": "text/x-python",
   "name": "python",
   "nbconvert_exporter": "python",
   "pygments_lexer": "ipython3",
   "version": "3.12.3"
  }
 },
 "nbformat": 4,
 "nbformat_minor": 2
}
